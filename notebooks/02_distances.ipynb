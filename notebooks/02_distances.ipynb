{
 "cells": [
  {
   "cell_type": "code",
   "execution_count": 1,
   "id": "714de22f-af36-4894-bbe5-fd1f9cd87b64",
   "metadata": {},
   "outputs": [],
   "source": [
    "import pandas as pd\n",
    "import numpy as np\n",
    "from sklearn import datasets\n",
    "from sklearn.preprocessing import StandardScaler\n",
    "from sklearn.datasets import fetch_openml\n",
    "from sklearn.model_selection import train_test_split\n",
    "from scipy.stats import norm\n",
    "import matplotlib.pyplot as plt\n",
    "from ipywidgets import interact, widgets"
   ]
  },
  {
   "cell_type": "markdown",
   "id": "75afa2f9-55fb-43e3-82d6-7da55ec05ce1",
   "metadata": {},
   "source": [
    "# Distances & Similarities\n",
    "\n",
    "Distances and similarities are fundamental concepts used to quantify how alike or different objects are, whether they are numbers, vectors, images, texts, or more abstract entities. In mathematics, computer science, and data analysis, distance measures capture dissimilarity by assigning a numerical value that grows larger as objects diverge, while similarity measures do the opposite, reflecting closeness or resemblance with higher values. These notions are central to tasks like clustering, classification, recommendation systems, and information retrieval, since they provide the basis for comparing data points and identifying meaningful patterns."
   ]
  },
  {
   "cell_type": "markdown",
   "id": "07f57b55-d322-4c32-870b-6297ac3a2491",
   "metadata": {},
   "source": [
    "Most of the distances (if not all of them) are already implemented in specialized libraries. In real life application rely on those implementations due to it being well optimized, unless you have a highly special usecase. List of implementation resources: \n",
    "- [Scipy Distance computations](https://docs.scipy.org/doc/scipy/reference/spatial.distance.html)\n",
    "- [Scipy Statistical distances](https://docs.scipy.org/doc/scipy/reference/stats.html#statistical-distances)\n",
    "- [Distances Library](https://github.com/LucaCappelletti94/dictances)"
   ]
  },
  {
   "cell_type": "markdown",
   "id": "293b67c3-fff9-4c32-bc5e-8d18b7de03e0",
   "metadata": {},
   "source": [
    "# Distances in Euclidian Space\n",
    "\n",
    "These distances apply when data poins are represented as vectors in $\\mathbb{R}^n$. They measure geometric relationships between points."
   ]
  },
  {
   "cell_type": "code",
   "execution_count": 2,
   "id": "0f5a7404-2fc2-4ccc-b3c4-b11c2170b3cd",
   "metadata": {},
   "outputs": [
    {
     "name": "stdout",
     "output_type": "stream",
     "text": [
      "Iris shape: (150, 4)\n",
      "Classes: {np.int64(0), np.int64(1), np.int64(2)}\n"
     ]
    }
   ],
   "source": [
    "# Load Iris\n",
    "iris = datasets.load_iris()\n",
    "X_iris = iris.data\n",
    "y_iris = iris.target\n",
    "\n",
    "# Standardize features (important for distances)\n",
    "scaler = StandardScaler()\n",
    "X_iris_scaled = scaler.fit_transform(X_iris)\n",
    "\n",
    "print(\"Iris shape:\", X_iris_scaled.shape)\n",
    "print(\"Classes:\", set(y_iris))"
   ]
  },
  {
   "cell_type": "code",
   "execution_count": 3,
   "id": "52011071-eba6-4aae-80a6-8419eb2b7ae4",
   "metadata": {},
   "outputs": [
    {
     "data": {
      "text/plain": [
       "array([[5.1, 3.5, 1.4, 0.2],\n",
       "       [4.9, 3. , 1.4, 0.2],\n",
       "       [4.7, 3.2, 1.3, 0.2],\n",
       "       [4.6, 3.1, 1.5, 0.2],\n",
       "       [5. , 3.6, 1.4, 0.2]])"
      ]
     },
     "execution_count": 3,
     "metadata": {},
     "output_type": "execute_result"
    }
   ],
   "source": [
    "X_iris[:5]"
   ]
  },
  {
   "cell_type": "markdown",
   "id": "8f93b9f4-a2a7-46d3-874d-566abb81c399",
   "metadata": {},
   "source": [
    "## Minkowski Distance\n",
    "The Minkowski distance generalizes several norms.\n",
    "\n",
    "$$D_p(x,y) = \\left( \\sum_{i=1}^n |x_i - y_i|^p \\right)^{\\frac{1}{p}}$$\n",
    "\n",
    "- $p=2$ → Euclidean distance\n",
    "- $p=1$ → Manhattan distance"
   ]
  },
  {
   "cell_type": "code",
   "execution_count": null,
   "id": "ffae76b6-c317-469a-8a1f-35cdfb207155",
   "metadata": {},
   "outputs": [],
   "source": []
  },
  {
   "cell_type": "markdown",
   "id": "97283b41-52f4-4b6c-ab9a-599dcbcf7ee9",
   "metadata": {},
   "source": [
    "## Mahalanobis Distance\n",
    "\n",
    "Mahalanobis distance accounts for correlations in the data, thus measuring \n",
    "\n",
    "$$D_M(x,y) = \\sqrt{ (x-y)^T \\, \\Sigma^{-1} \\, (x-y) }$$"
   ]
  },
  {
   "cell_type": "code",
   "execution_count": null,
   "id": "bdef7d37-2803-47db-a6d3-c3d39adf3dfd",
   "metadata": {},
   "outputs": [],
   "source": [
    "import numpy as np\n",
    "import matplotlib.pyplot as plt\n",
    "from scipy.spatial import distance\n",
    "from matplotlib.patches import Ellipse\n",
    "\n",
    "@interact(\n",
    "    loc_x=widgets.FloatSlider(min=-5, max=5, step=0.1, value=3),\n",
    "    loc_y=widgets.FloatSlider(min=-5, max=5, step=0.1, value=2),\n",
    "    cov_x=widgets.FloatSlider(min=1, max=5, step=0.1, value=3),\n",
    "    cov_y=widgets.FloatSlider(min=1, max=5, step=0.1, value=2),\n",
    ")\n",
    "def maha_demosntration_plot(loc_x, loc_y, cov_x, cov_y):\n",
    "    fix, axs = plt.subplots(1, 2, figsize=(11,6))\n",
    "    \n",
    "    ax = axs[0]\n",
    "    # Mean and covariance\n",
    "    mean = np.array([0, 0])\n",
    "    cov = np.array([[cov_x, 1], [1, cov_y]])\n",
    "    cov_inv = np.linalg.inv(cov)\n",
    "    \n",
    "    # Point to measure distance from mean\n",
    "    x = np.array([loc_x, loc_y])\n",
    "    \n",
    "    # Euclidean distance\n",
    "    euclidean_d = np.linalg.norm(x - mean)\n",
    "    \n",
    "    # Mahalanobis distance\n",
    "    mahal_d = distance.mahalanobis(x, mean, cov_inv)\n",
    "    \n",
    "    # Covariance ellipse (1 std dev)\n",
    "    eigvals, eigvecs = np.linalg.eigh(cov)\n",
    "    order = eigvals.argsort()[::-1]\n",
    "    eigvals, eigvecs = eigvals[order], eigvecs[:, order]\n",
    "    theta = np.degrees(np.arctan2(*eigvecs[:,0][::-1]))\n",
    "    ellipse = Ellipse(xy=mean, width=2*np.sqrt(eigvals[0]), height=2*np.sqrt(eigvals[1]),\n",
    "                      angle=theta, edgecolor='red', fc='None', lw=2, ls='--', label=\"Covariance ellipse\")\n",
    "    \n",
    "    # Plot\n",
    "    ax.scatter(*mean, c='black', marker='x', s=100, label=\"Mean\")\n",
    "    ax.scatter(*x, c='blue', s=100, label=\"Point\")\n",
    "    \n",
    "    # Euclidean distance (straight line)\n",
    "    ax.plot([mean[0], x[0]], [mean[1], x[1]], 'g--', label=f\"Euclidean = {euclidean_d:.2f}\")\n",
    "    \n",
    "    # Mahalanobis \"unit circle\" contour\n",
    "    # Scale ellipse by Mahalanobis distance to show where x lies\n",
    "    ellipse_scaled = Ellipse(xy=mean,\n",
    "                             width=2*mahal_d*np.sqrt(eigvals[0]),\n",
    "                             height=2*mahal_d*np.sqrt(eigvals[1]),\n",
    "                             angle=theta,\n",
    "                             edgecolor='blue', fc='None', lw=2, ls=':', label=f\"Mahalanobis = {mahal_d:.2f}\")\n",
    "    ax.add_patch(ellipse_scaled)\n",
    "    \n",
    "    ax.add_patch(ellipse)\n",
    "    ax.legend()\n",
    "    ax.set_title(\"Euclidean vs Mahalanobis Distance\")\n",
    "    ax.set_xlim(-5, 5)\n",
    "    ax.set_ylim(-5, 5)\n",
    "    ax.set_aspect('equal')\n",
    "\n",
    "    ax = axs[1]\n",
    "    # Grid for visualization\n",
    "    xv, yv = np.meshgrid(np.linspace(-5, 5, 200), np.linspace(-5, 5, 200))\n",
    "    grid_points = np.column_stack([xv.ravel(), yv.ravel()])\n",
    "    \n",
    "    # Mahalanobis distance for each grid point\n",
    "    distances = [distance.mahalanobis(p, mean, cov_inv) for p in grid_points]\n",
    "    distances = np.array(distances).reshape(xv.shape)\n",
    "    \n",
    "    # Covariance ellipse (1 std dev)\n",
    "    eigvals, eigvecs = np.linalg.eigh(cov)\n",
    "    order = eigvals.argsort()[::-1]\n",
    "    eigvals, eigvecs = eigvals[order], eigvecs[:, order]\n",
    "    theta = np.degrees(np.arctan2(*eigvecs[:,0][::-1]))\n",
    "    ellipse = Ellipse(xy=mean, width=2*np.sqrt(eigvals[0]), height=2*np.sqrt(eigvals[1]),\n",
    "                      angle=theta, edgecolor='red', fc='None', lw=2, ls='--', label=\"Covariance ellipse\")\n",
    "    \n",
    "    # Plot heatmap\n",
    "    contour = ax.contourf(xv, yv, distances, levels=30, cmap=\"viridis\")\n",
    "    cbar = plt.colorbar(contour, ax=ax)\n",
    "    cbar.set_label(\"Mahalanobis distance\")\n",
    "    \n",
    "    # Overlay ellipse and mean\n",
    "    ax.add_patch(ellipse)\n",
    "    ax.scatter(*mean, c=\"black\", marker=\"x\", s=100, label=\"Mean\")\n",
    "    \n",
    "    ax.set_title(\"Mahalanobis Distance Heatmap\")\n",
    "    ax.set_xlim(-5, 5)\n",
    "    ax.set_ylim(-5, 5)\n",
    "    ax.set_aspect(\"equal\")\n",
    "    ax.legend()\n",
    "    fig.tight_layout()\n",
    "    fig.set_size_inches(16, 16)"
   ]
  },
  {
   "cell_type": "code",
   "execution_count": null,
   "id": "2434ae54-f168-4dcf-93fb-db64cf01ab77",
   "metadata": {},
   "outputs": [],
   "source": []
  },
  {
   "cell_type": "markdown",
   "id": "7cf7c2e7-a355-47b8-b2c5-fb0170a4c9ea",
   "metadata": {},
   "source": [
    "## Cosine Distance\n",
    "\n",
    "Cosine distance measures angular difference between vectors, ignoring magnitude.\n",
    "\n",
    "$$D_{\\cos}(x,y) = 1 - \\frac{x \\cdot y}{\\|x\\|\\|y\\|}$$"
   ]
  },
  {
   "cell_type": "code",
   "execution_count": null,
   "id": "98c39b19-0f37-427e-9337-46ffb12334c6",
   "metadata": {},
   "outputs": [],
   "source": []
  },
  {
   "cell_type": "markdown",
   "id": "5080079b-26b2-4646-b207-7f0e815f9265",
   "metadata": {},
   "source": [
    "# Distances Between Objects\n",
    "\n",
    "When working with sets or strings (or any object in general), different definitions of distance are more appropriate."
   ]
  },
  {
   "cell_type": "markdown",
   "id": "bb34a8fb-476e-45c6-9b0e-15c9b250725e",
   "metadata": {},
   "source": [
    "[MovieLens](https://grouplens.org/datasets/movielens/)"
   ]
  },
  {
   "cell_type": "code",
   "execution_count": 4,
   "id": "a208c808-f149-470f-b552-1c037357b181",
   "metadata": {},
   "outputs": [
    {
     "data": {
      "text/plain": [
       "userId\n",
       "1      {1024, 1, 1025, 3, 2048, 1029, 6, 1030, 1031, ...\n",
       "2      {115713, 122882, 48516, 91529, 80906, 91658, 1...\n",
       "3      {5764, 647, 3210, 527, 914, 1302, 31, 2080, 59...\n",
       "4      {1025, 3079, 3591, 2571, 3083, 21, 1046, 2583,...\n",
       "5      {1, 515, 261, 265, 266, 527, 531, 21, 150, 534...\n",
       "                             ...                        \n",
       "606    {1, 8195, 6148, 7, 11, 69644, 4109, 15, 17, 18...\n",
       "607    {1, 517, 2053, 2054, 1544, 3081, 11, 1036, 257...\n",
       "608    {1, 2, 3, 2052, 2054, 4104, 4105, 10, 2060, 61...\n",
       "609    {1, 137, 10, 650, 1161, 786, 150, 288, 161, 10...\n",
       "610    {1, 122882, 122884, 6, 122886, 81932, 73741, 1...\n",
       "Name: movieId, Length: 610, dtype: object"
      ]
     },
     "execution_count": 4,
     "metadata": {},
     "output_type": "execute_result"
    }
   ],
   "source": [
    "# Load MovieLens 100k (userId, movieId, rating, timestamp)\n",
    "ml = pd.read_csv(\"https://raw.githubusercontent.com/ficstamas/data-mining/ef35c46e65be57364023dd0eca3e6cebee97ec65/data/movielens/ratings.csv\")\n",
    "# movies.csv -> movieId, title, genres\n",
    "# links.csv -> movieId, imdbId, tmdbId\n",
    "# tags.csv -> userId, movieId, tag, timestamp\n",
    "\n",
    "# Build \"set of movies watched\" for each user\n",
    "user_movies = ml.groupby(\"userId\")[\"movieId\"].apply(set)\n",
    "\n",
    "A = user_movies.loc[1]\n",
    "B = user_movies.loc[2]\n",
    "user_movies"
   ]
  },
  {
   "cell_type": "markdown",
   "id": "27f500a3-4e45-45d6-b8ba-d975c1a79598",
   "metadata": {},
   "source": [
    "## Jaccard Similarity\n",
    "\n",
    "For sets $A$ and $B$, the Jaccard similarity measures overlap:\n",
    "\n",
    "$$J(A,B) = \\frac{|A \\cap B|}{|A \\cup B|}$$"
   ]
  },
  {
   "cell_type": "code",
   "execution_count": null,
   "id": "7195320d-b12b-4c28-8eea-b2c700821e17",
   "metadata": {},
   "outputs": [],
   "source": []
  },
  {
   "cell_type": "markdown",
   "id": "c34dc724-b16c-4a92-9945-3492c318f768",
   "metadata": {},
   "source": [
    "## Edit (Levenshtein) Distance\n",
    "\n",
    "Measures how many operations (insertions, deletions, substitutions) are needed to transform one string into another.\n",
    "\n",
    "$$\n",
    "D_L(i,j) = \n",
    "\\begin{cases} \n",
    "    \\max(i,j) & \\text{if } \\min(i,j) = 0, \\\\[6pt]\n",
    "    \\min \\begin{cases} \n",
    "        D_L(i-1, j) + 1, \\\\ \n",
    "        D_L(i, j-1) + 1, \\\\ \n",
    "        D_L(i-1, j-1) + \\mathbf{1}_{[a_i \\neq b_j]}\n",
    "    \\end{cases} & \\text{otherwise,}\n",
    "\\end{cases}\n",
    "$$\n",
    "where $a$ and $b$ are the input strings, $\\mathbf{1}_{[a_i \\neq b_j]}$ is an indicator function that is equal to 1 if $a_i \\neq b_j$ 0 otherwise."
   ]
  },
  {
   "cell_type": "code",
   "execution_count": null,
   "id": "e9b90830-cdac-45c1-afd1-3d0634fe5ad7",
   "metadata": {},
   "outputs": [],
   "source": []
  },
  {
   "cell_type": "markdown",
   "id": "f6e992d8-c7b1-409e-9caf-742ebb3abeaf",
   "metadata": {},
   "source": [
    "# Distances Between Distributions\n",
    "\n",
    "When comparing probability distributions, distances capture how different two distributions are.\n",
    "\n",
    "We’ll illustrate using two Gaussian distributions $p = \\mathcal{N}(0,1)$ and $q = \\mathcal{N}(1,1)$."
   ]
  },
  {
   "cell_type": "code",
   "execution_count": 5,
   "id": "d29c77d6-27d2-494a-ad60-8996a20de2f8",
   "metadata": {},
   "outputs": [],
   "source": [
    "def generate_dummy_points(p_mu=0, p_std=1, q_mu=1, q_std=1):\n",
    "    # Two Gaussian distributions\n",
    "    p = norm(p_mu, p_std)\n",
    "    q = norm(q_mu, q_std)\n",
    "    \n",
    "    x = np.linspace(-4, 5, 1000)\n",
    "    p_pdf = p.pdf(x)\n",
    "    q_pdf = q.pdf(x)\n",
    "    return p_pdf, q_pdf, x"
   ]
  },
  {
   "cell_type": "code",
   "execution_count": 6,
   "id": "1d3861b2-0cb6-41c7-bdd1-6eef741c3ef9",
   "metadata": {},
   "outputs": [
    {
     "data": {
      "application/vnd.jupyter.widget-view+json": {
       "model_id": "485392d1bd4849799f4cb972bf76824e",
       "version_major": 2,
       "version_minor": 0
      },
      "text/plain": [
       "interactive(children=(FloatSlider(value=0.0, description='p_mu', max=3.0, min=-3.0), FloatSlider(value=1.0, de…"
      ]
     },
     "metadata": {},
     "output_type": "display_data"
    }
   ],
   "source": [
    "@interact(\n",
    "    p_mu=widgets.FloatSlider(min=-3, max=3, step=0.1, value=0),\n",
    "    p_std=widgets.FloatSlider(min=0, max=3, step=0.1, value=1),\n",
    "    q_mu=widgets.FloatSlider(min=-3, max=3, step=0.1, value=1),\n",
    "    q_std=widgets.FloatSlider(min=0, max=3, step=0.1, value=1),\n",
    ")\n",
    "def plot_dist_overlap(p_mu=0, p_std=1, q_mu=1, q_std=1):\n",
    "    p_pdf, q_pdf, x = generate_dummy_points(p_mu, p_std, q_mu, q_std)\n",
    "    plt.plot(x, p_pdf, label=\"p ~ N(0,1)\", lw=2)\n",
    "    plt.plot(x, q_pdf, label=\"q ~ N(1,1)\", lw=2)\n",
    "    plt.fill_between(x, np.minimum(p_pdf, q_pdf), alpha=0.3, color=\"gray\", label=\"Overlap\")\n",
    "    plt.title(\"Two Gaussian Distributions\")\n",
    "    plt.legend()\n",
    "    plt.show()"
   ]
  },
  {
   "cell_type": "code",
   "execution_count": 12,
   "id": "45bd48df-5e46-4bcb-90b5-f7c3c6039539",
   "metadata": {},
   "outputs": [
    {
     "name": "stdout",
     "output_type": "stream",
     "text": [
      "MNIST shape: (70000, 784)\n"
     ]
    }
   ],
   "source": [
    "# Load MNIST (70k samples, 28x28 images [flattened])\n",
    "mnist = fetch_openml(\"mnist_784\", version=1, as_frame=False)\n",
    "X_mnist = mnist[\"data\"]\n",
    "y_mnist = mnist[\"target\"].astype(int)\n",
    "\n",
    "X_train, X_test, y_train, y_test = train_test_split(\n",
    "    X_mnist, y_mnist, test_size=0.4, random_state=42, stratify=y_mnist\n",
    ")\n",
    "\n",
    "print(\"MNIST shape:\", X_mnist.shape)\n",
    "\n",
    "# Select digit 0 and digit 1\n",
    "digits = {}\n",
    "bins = None\n",
    "for i in range(10):\n",
    "    digit = X_train[y_train == i]\n",
    "    \n",
    "    # Compute pixel intensity histograms\n",
    "    P, bins = np.histogram(digit.flatten(), bins=bins if bins is not None else 50, density=True)\n",
    "    digits[i] = (P, bins)"
   ]
  },
  {
   "cell_type": "code",
   "execution_count": 26,
   "id": "592a77f4-4686-4a67-831b-b85b30def6d9",
   "metadata": {},
   "outputs": [
    {
     "data": {
      "image/png": "[encoded data removed]",
      "text/plain": [
       "<Figure size 1000x200 with 5 Axes>"
      ]
     },
     "metadata": {},
     "output_type": "display_data"
    }
   ],
   "source": [
    "# Select first 2 images\n",
    "\n",
    "n_images = 5\n",
    "\n",
    "# Plot\n",
    "plt.figure(figsize=(2*n_images,2))\n",
    "\n",
    "for i in range(n_images):\n",
    "    img1 = X_test[i].reshape(28,28)\n",
    "    \n",
    "    \n",
    "    plt.subplot(1,n_images,i+1)\n",
    "    plt.imshow(img1, cmap='gray')\n",
    "    plt.title(f\"Label: {y_test[i]}\")\n",
    "    plt.axis('off')\n",
    "\n",
    "plt.show()"
   ]
  },
  {
   "cell_type": "markdown",
   "id": "97ca42f9-042e-45d6-9ffa-df9c3de20088",
   "metadata": {},
   "source": [
    "## Bhattacharyya Distance\n",
    "\n",
    "The Bhattacharyya coefficient measures overlap:\n",
    "$$BC(p,q) = \\int \\sqrt{p(x) q(x)} \\, dx,$$\n",
    "and the distance is:\n",
    "$$D_B(p,q) = -\\ln(BC(p,q)),$$\n",
    "or in closed form:\n",
    "$$\n",
    "D_B(P,Q)=\\frac{1}{4}\\ln{\\left(\\frac{1}{4}\\left(\\frac{\\sigma^2_p}{\\sigma^2_q}+\\frac{\\sigma^2_q}{\\sigma^2_p}+2\\right)\\right)}\n",
    "+\n",
    "\\frac{1}{4}\\left(\\frac{\\left(\\mu_p-\\mu_q\\right)^2}{\\sigma^2_p+\\sigma^2_q}\\right)\n",
    "$$\n",
    "where we assume that $P_{ij}\\sim\\mathcal{N}(\\mu_{p},\\sigma_{p})$ and $Q\\sim\\mathcal{N}(\\mu_{q},\\sigma_{q})$, i.e. they are samples from normal distributions with expected value $\\mu$ and standard deviation $\\sigma$."
   ]
  },
  {
   "cell_type": "code",
   "execution_count": 9,
   "id": "97e2f911-1e3d-4788-800c-2a9b38e0f86e",
   "metadata": {},
   "outputs": [
    {
     "data": {
      "application/vnd.jupyter.widget-view+json": {
       "model_id": "6caf8d9f6fad48ad9fca61394f5b9fc8",
       "version_major": 2,
       "version_minor": 0
      },
      "text/plain": [
       "interactive(children=(FloatSlider(value=0.0, description='p_mu', max=3.0, min=-3.0), FloatSlider(value=1.0, de…"
      ]
     },
     "metadata": {},
     "output_type": "display_data"
    }
   ],
   "source": [
    "@interact(\n",
    "    p_mu=widgets.FloatSlider(min=-3, max=3, step=0.1, value=0),\n",
    "    p_std=widgets.FloatSlider(min=0, max=3, step=0.1, value=1),\n",
    "    q_mu=widgets.FloatSlider(min=-3, max=3, step=0.1, value=1),\n",
    "    q_std=widgets.FloatSlider(min=0, max=3, step=0.1, value=1),\n",
    ")\n",
    "def plot_bc(p_mu=0, p_std=1, q_mu=1, q_std=1):\n",
    "    p_pdf, q_pdf, x = generate_dummy_points(p_mu, p_std, q_mu, q_std)\n",
    "    plt.plot(x, p_pdf, label=\"p ~ N(0,1)\", lw=2)\n",
    "    plt.plot(x, q_pdf, label=\"q ~ N(1,1)\", lw=2)\n",
    "    plt.fill_between(x, np.minimum(p_pdf, q_pdf), alpha=0.3, color=\"gray\", label=\"Overlap\")\n",
    "    \n",
    "    plt.plot(x, np.sqrt(p_pdf * q_pdf), color=\"purple\", lw=2, label=\"√(p(x)q(x))\")\n",
    "    plt.fill_between(x, np.sqrt(p_pdf * q_pdf), alpha=0.3, color=\"purple\")\n",
    "    plt.title(\"Bhattacharyya Coefficient Visualization\")\n",
    "    plt.legend()\n",
    "    plt.show()"
   ]
  },
  {
   "cell_type": "code",
   "execution_count": null,
   "id": "c977fad2-531e-41c1-9109-72bfc5b33174",
   "metadata": {},
   "outputs": [],
   "source": []
  },
  {
   "cell_type": "markdown",
   "id": "6b4d8878-1402-4e60-b94c-feb5409946f3",
   "metadata": {},
   "source": [
    "## Hellinger Distance\n",
    "\n",
    "$$D_H(p,q) = \\sqrt{1 - BC(p,q)},$$\n",
    "\n",
    "or in closed form:\n",
    "\n",
    "$$\n",
    "D_H(p,q) = \\sqrt{1-\\sqrt{\\frac{2{\\sigma}_{p}{\\sigma}_{q}}{{\\sigma}_{p}^2 + {\\sigma}_{q}^2}}\n",
    "e^{-\\frac{1}{4}\\cdot\\frac{(\\mu_{p}-\\mu_{q})^2}{{\\sigma}_{p}^2 + {\\sigma}_{q}^2}}},\n",
    "$$\n",
    "where we assume that $P_{ij}\\sim\\mathcal{N}(\\mu_{p},\\sigma_{p})$ and $Q\\sim\\mathcal{N}(\\mu_{q},\\sigma_{q})$, i.e. they are samples from normal distributions with expected value $\\mu$ and standard deviation $\\sigma$."
   ]
  },
  {
   "cell_type": "code",
   "execution_count": null,
   "id": "9f99eff2-68ec-445b-8613-c3048cdde5a5",
   "metadata": {},
   "outputs": [],
   "source": []
  },
  {
   "cell_type": "markdown",
   "id": "69d8137e-0497-42d9-b69d-c63215854454",
   "metadata": {},
   "source": [
    "## Kullback-Leibler Divergence\n",
    "\n",
    "Measures the information loss when $q$ is used to approximate $p$.\n",
    "\n",
    "$$D_{KL}(p||q) = \\int p(x) \\, \\log \\frac{p(x)}{q(x)} \\, dx$$"
   ]
  },
  {
   "cell_type": "code",
   "execution_count": 10,
   "id": "51f622c3-7cd2-4ed9-80e1-dfbd35759068",
   "metadata": {},
   "outputs": [
    {
     "data": {
      "application/vnd.jupyter.widget-view+json": {
       "model_id": "635a6d7298e84999b845effa0df40cd9",
       "version_major": 2,
       "version_minor": 0
      },
      "text/plain": [
       "interactive(children=(FloatSlider(value=0.0, description='p_mu', max=3.0, min=-3.0), FloatSlider(value=1.0, de…"
      ]
     },
     "metadata": {},
     "output_type": "display_data"
    }
   ],
   "source": [
    "@interact(\n",
    "    p_mu=widgets.FloatSlider(min=-3, max=3, step=0.1, value=0),\n",
    "    p_std=widgets.FloatSlider(min=0, max=3, step=0.1, value=1),\n",
    "    q_mu=widgets.FloatSlider(min=-3, max=3, step=0.1, value=1),\n",
    "    q_std=widgets.FloatSlider(min=0, max=3, step=0.1, value=1),\n",
    ")\n",
    "def plot_kl(p_mu=0, p_std=1, q_mu=1, q_std=1):\n",
    "    p_pdf, q_pdf, x = generate_dummy_points(p_mu, p_std, q_mu, q_std)\n",
    "    plt.plot(x, p_pdf, label=\"p ~ N(0,1)\", lw=2)\n",
    "    plt.plot(x, q_pdf, label=\"q ~ N(1,1)\", lw=2)\n",
    "    \n",
    "    kl_integrand = p_pdf * np.log(p_pdf / q_pdf)\n",
    "    plt.plot(x, kl_integrand, color=\"red\", lw=2, label=\"KL(p||q)\")\n",
    "    plt.fill_between(x, kl_integrand, alpha=0.3, color=\"purple\")\n",
    "    plt.axhline(0, color=\"black\", lw=1)\n",
    "    plt.title(\"KL Divergence Integrand\")\n",
    "    plt.legend()\n",
    "    plt.show()"
   ]
  },
  {
   "cell_type": "code",
   "execution_count": null,
   "id": "df5e0e36-144a-463f-bfad-a5d8414dbd75",
   "metadata": {},
   "outputs": [],
   "source": []
  }
 ],
 "metadata": {
  "kernelspec": {
   "display_name": "Python 3 (ipykernel)",
   "language": "python",
   "name": "python3"
  },
  "language_info": {
   "codemirror_mode": {
    "name": "ipython",
    "version": 3
   },
   "file_extension": ".py",
   "mimetype": "text/x-python",
   "name": "python",
   "nbconvert_exporter": "python",
   "pygments_lexer": "ipython3",
   "version": "3.10.11"
  }
 },
 "nbformat": 4,
 "nbformat_minor": 5
}
