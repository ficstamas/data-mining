{
 "cells": [
  {
   "cell_type": "markdown",
   "id": "a13e6dbc-2ae2-4057-9abf-69f82790deb9",
   "metadata": {},
   "source": [
    "# Python Basics"
   ]
  },
  {
   "cell_type": "code",
   "execution_count": 1,
   "id": "d61179d0-1037-4aa9-a46e-4fae4526fbb0",
   "metadata": {},
   "outputs": [
    {
     "data": {
      "text/plain": [
       "5"
      ]
     },
     "execution_count": 1,
     "metadata": {},
     "output_type": "execute_result"
    }
   ],
   "source": [
    "# Variable assignment\n",
    "x = 5\n",
    "x  # the last line of a cell will always be printed, unless it is a variable assignment"
   ]
  },
  {
   "cell_type": "code",
   "execution_count": 2,
   "id": "e854aac6-dd46-4060-903a-56dd06abb82c",
   "metadata": {},
   "outputs": [
    {
     "name": "stdout",
     "output_type": "stream",
     "text": [
      "x=5\n",
      "I can print the value of x here: 5 and again if I want to here: 5, or I can make any expression within the curly brackets 6\n",
      "Text 5 Another Text\n",
      "Addition: x+2= 7\n",
      "Subtraction: x-2= 3\n",
      "Multiplication: x*2= 10\n",
      "Division: x/2= 2.5\n",
      "Floor division: x//2= 2\n",
      "Modulus: x%2= 1\n",
      "Exponentiation: x^2= 25\n"
     ]
    }
   ],
   "source": [
    "# example for format string \n",
    "# the 'f' before the string indicates that it is a format string\n",
    "# withing the string {variable_name} will substitute the variable\n",
    "print(f\"x={x}\")\n",
    "print(f\"I can print the value of x here: {x} and again if I want to here: {x}, or I can make any expression within the curly brackets {x+1}\")\n",
    "\n",
    "# we can print sequence of values if we just list everything withing the print\n",
    "print(\"Text\", x, \"Another Text\")\n",
    "\n",
    "# Basic arithmetics within Python\n",
    "print(\"Addition: x+2=\", x + 2)\n",
    "print(\"Subtraction: x-2=\", x - 2)\n",
    "print(\"Multiplication: x*2=\", x * 2)\n",
    "print(\"Division: x/2=\", x / 2)\n",
    "print(\"Floor division: x//2=\", x // 2)\n",
    "print(\"Modulus: x%2=\", x % 2)\n",
    "print(\"Exponentiation: x^2=\", x ** 2)"
   ]
  },
  {
   "cell_type": "code",
   "execution_count": 3,
   "id": "f56525be-2b35-49a5-aef2-1a82e3fa0ad1",
   "metadata": {},
   "outputs": [
    {
     "data": {
      "text/plain": [
       "False"
      ]
     },
     "execution_count": 3,
     "metadata": {},
     "output_type": "execute_result"
    }
   ],
   "source": [
    "x > 5  # Python Logical Operators: <, <=, >, >=, ==, !=, and, or, not"
   ]
  },
  {
   "cell_type": "code",
   "execution_count": 4,
   "id": "568783b1-880a-4d25-a308-1bf99654736d",
   "metadata": {},
   "outputs": [
    {
     "data": {
      "text/plain": [
       "True"
      ]
     },
     "execution_count": 4,
     "metadata": {},
     "output_type": "execute_result"
    }
   ],
   "source": [
    "True | False  # bitwise operators: & (and), | (or), ^ (xor)"
   ]
  },
  {
   "cell_type": "markdown",
   "id": "596f307b-5930-4509-81ef-6ad9617953f0",
   "metadata": {},
   "source": [
    "## Data Structures"
   ]
  },
  {
   "cell_type": "code",
   "execution_count": 5,
   "id": "5ac7653c-5e5d-46da-9ba8-2e178ba6def5",
   "metadata": {},
   "outputs": [],
   "source": [
    "# the name of the variable can be anything, I used an underscore (_) after each nameto differentiate them from built-in functions such as list, tuple, dict, set\n",
    "list_ = [12, 4, 5, 8, 9]  # list, mutable (which means that it can be modified)\n",
    "tuple_ = (12, 4, 6, 8, 9)  # tuple, immutable (which means it can not be modified)\n",
    "dict_ = {'first': 12, 'second': 5, 'third': -66}  # dictionary or map\n",
    "set_ = {3, 0, 1, 0, 3, 2, -3}  # set"
   ]
  },
  {
   "cell_type": "code",
   "execution_count": 6,
   "id": "7a5efd49-6529-407e-bcc6-4c7007dcb889",
   "metadata": {},
   "outputs": [
    {
     "data": {
      "text/plain": [
       "{-3, 0, 1, 2, 3}"
      ]
     },
     "execution_count": 6,
     "metadata": {},
     "output_type": "execute_result"
    }
   ],
   "source": [
    "# we can print any of them\n",
    "set_"
   ]
  },
  {
   "cell_type": "code",
   "execution_count": 7,
   "id": "ac4a0efa-7feb-464e-b484-674033dbe323",
   "metadata": {},
   "outputs": [
    {
     "data": {
      "text/plain": [
       "4"
      ]
     },
     "execution_count": 7,
     "metadata": {},
     "output_type": "execute_result"
    }
   ],
   "source": [
    "# we can access an element of a list or tuple as\n",
    "list_[1]"
   ]
  },
  {
   "cell_type": "code",
   "execution_count": 8,
   "id": "97f02b9b-7ad1-4b1c-a9c0-383e2bd073df",
   "metadata": {},
   "outputs": [
    {
     "data": {
      "text/plain": [
       "[12, 4]"
      ]
     },
     "execution_count": 8,
     "metadata": {},
     "output_type": "execute_result"
    }
   ],
   "source": [
    "# we can use a so called sliching which selects multiple elements\n",
    "# it is in the format of \"start:stop:step_size\"\n",
    "list_[:2]  #first 2 elements"
   ]
  },
  {
   "cell_type": "code",
   "execution_count": 9,
   "id": "d009859d-6b9b-4617-8505-f2faad5091cc",
   "metadata": {},
   "outputs": [
    {
     "data": {
      "text/plain": [
       "[5, 8, 9]"
      ]
     },
     "execution_count": 9,
     "metadata": {},
     "output_type": "execute_result"
    }
   ],
   "source": [
    "list_[2:5]  # from index 2 to 5 (not included)"
   ]
  },
  {
   "cell_type": "code",
   "execution_count": 10,
   "id": "918fc567-3017-4511-a835-32be6ead309b",
   "metadata": {},
   "outputs": [
    {
     "data": {
      "text/plain": [
       "[4, 8]"
      ]
     },
     "execution_count": 10,
     "metadata": {},
     "output_type": "execute_result"
    }
   ],
   "source": [
    "list_[1:6:2]  # from index 1 to 6 (not included) with the step size of 2"
   ]
  },
  {
   "cell_type": "code",
   "execution_count": 11,
   "id": "f983fc1f-8cfe-43b7-81fe-553eb184c3ab",
   "metadata": {},
   "outputs": [
    {
     "data": {
      "text/plain": [
       "9"
      ]
     },
     "execution_count": 11,
     "metadata": {},
     "output_type": "execute_result"
    }
   ],
   "source": [
    "# we can use negative indices as well which starts the indexing from the end of the array\n",
    "list_[-1]  # last element of the array"
   ]
  },
  {
   "cell_type": "code",
   "execution_count": 12,
   "id": "013dd9b4-0092-498b-ac3b-027ce14e6cbb",
   "metadata": {},
   "outputs": [
    {
     "data": {
      "text/plain": [
       "[8, 9]"
      ]
     },
     "execution_count": 12,
     "metadata": {},
     "output_type": "execute_result"
    }
   ],
   "source": [
    "list_[-2:]  # last to element of the array"
   ]
  },
  {
   "cell_type": "code",
   "execution_count": 13,
   "id": "22c6061f-45af-44ca-b326-5848552c29ac",
   "metadata": {},
   "outputs": [
    {
     "data": {
      "text/plain": [
       "[4, 5, 8]"
      ]
     },
     "execution_count": 13,
     "metadata": {},
     "output_type": "execute_result"
    }
   ],
   "source": [
    "list_[1:-1]  # every element except the first and the last"
   ]
  },
  {
   "cell_type": "code",
   "execution_count": 14,
   "id": "17e03f6d-5e69-4182-b054-740a3d05e8fb",
   "metadata": {},
   "outputs": [
    {
     "data": {
      "text/plain": [
       "[12, 5, 9]"
      ]
     },
     "execution_count": 14,
     "metadata": {},
     "output_type": "execute_result"
    }
   ],
   "source": [
    "# by not providing value, the defaults are: start=0, stop=len(array), step_size=1\n",
    "# so if we just wish to select every second element from the array we can just provide the step size as:\n",
    "list_[::2]"
   ]
  },
  {
   "cell_type": "code",
   "execution_count": 15,
   "id": "6f9e7efa-71d6-4a30-9cb5-1f85d3cbb7c1",
   "metadata": {},
   "outputs": [
    {
     "data": {
      "text/plain": [
       "5"
      ]
     },
     "execution_count": 15,
     "metadata": {},
     "output_type": "execute_result"
    }
   ],
   "source": [
    "# we can access the elements of a dictionary with its keys\n",
    "dict_[\"second\"]"
   ]
  },
  {
   "cell_type": "markdown",
   "id": "8aa873d8-3eda-484e-8fe1-42b527208a94",
   "metadata": {},
   "source": [
    "## Loops and List Comprehension"
   ]
  },
  {
   "cell_type": "code",
   "execution_count": 16,
   "id": "4bfc3069-0faf-4358-8016-36b0dee07e23",
   "metadata": {},
   "outputs": [
    {
     "name": "stdout",
     "output_type": "stream",
     "text": [
      "12\n",
      "4\n",
      "5\n",
      "8\n",
      "9\n"
     ]
    }
   ],
   "source": [
    "# we can define a for loop within python as \"for element_variable in structure\"\n",
    "for x in list_:\n",
    "    print(x)"
   ]
  },
  {
   "cell_type": "code",
   "execution_count": 17,
   "id": "08673d20-4463-45ba-872f-6db3da7167c9",
   "metadata": {},
   "outputs": [
    {
     "name": "stdout",
     "output_type": "stream",
     "text": [
      "0\n",
      "1\n",
      "2\n",
      "3\n",
      "4\n"
     ]
    }
   ],
   "source": [
    "# we can define ranges\n",
    "for i in range(5):\n",
    "    print(i)"
   ]
  },
  {
   "cell_type": "code",
   "execution_count": 18,
   "id": "e8ac930b-d50c-4e28-ad40-a040c0f9dd77",
   "metadata": {},
   "outputs": [
    {
     "name": "stdout",
     "output_type": "stream",
     "text": [
      "12\n",
      "4\n",
      "5\n",
      "8\n",
      "9\n"
     ]
    }
   ],
   "source": [
    "# we can iterate structures with indices\n",
    "for i in range(len(list_)):\n",
    "    print(list_[i])  # list_[i] accesses the ith element of list_"
   ]
  },
  {
   "cell_type": "code",
   "execution_count": 19,
   "id": "42a25ab3-2f24-4168-b234-06134fc1ddc9",
   "metadata": {},
   "outputs": [
    {
     "name": "stdout",
     "output_type": "stream",
     "text": [
      "0 12\n",
      "1 4\n",
      "2 5\n",
      "3 8\n",
      "4 9\n"
     ]
    }
   ],
   "source": [
    "# or if we need the value and index at once\n",
    "for i, value in enumerate(list_):\n",
    "    print(i, value)"
   ]
  },
  {
   "cell_type": "code",
   "execution_count": 20,
   "id": "e01a4ea6-dec9-406e-a021-20588bf9a2e0",
   "metadata": {},
   "outputs": [
    {
     "name": "stdout",
     "output_type": "stream",
     "text": [
      "first\n",
      "second\n",
      "third\n"
     ]
    }
   ],
   "source": [
    "# iterating dictionaries if a little bit different\n",
    "# accessing keys only\n",
    "for key in dict_.keys():\n",
    "    print(key)  # we can access the value as dict_[key] if we want to "
   ]
  },
  {
   "cell_type": "code",
   "execution_count": 21,
   "id": "0695b653-88e1-4e69-a8f0-9d17dfc5ab7c",
   "metadata": {},
   "outputs": [
    {
     "name": "stdout",
     "output_type": "stream",
     "text": [
      "12\n",
      "5\n",
      "-66\n"
     ]
    }
   ],
   "source": [
    "# accessing values only\n",
    "for value in dict_.values():\n",
    "    print(value)"
   ]
  },
  {
   "cell_type": "code",
   "execution_count": 22,
   "id": "ac6cd036-30ce-4549-bfe8-f55da964b425",
   "metadata": {},
   "outputs": [
    {
     "name": "stdout",
     "output_type": "stream",
     "text": [
      "first 12\n",
      "second 5\n",
      "third -66\n"
     ]
    }
   ],
   "source": [
    "# accessing both keys and values\n",
    "for key, value in dict_.items():\n",
    "    print(key, value)"
   ]
  },
  {
   "cell_type": "code",
   "execution_count": 23,
   "id": "43e6a8dd-54a6-486f-82de-9612e72ecfb4",
   "metadata": {},
   "outputs": [
    {
     "data": {
      "text/plain": [
       "[3, 2, 5, 1, 4, 1]"
      ]
     },
     "execution_count": 23,
     "metadata": {},
     "output_type": "execute_result"
    }
   ],
   "source": [
    "# list comprehension is a compact way of accessing elements\n",
    "# for example lets say we want to filter values from a list, lets say we want to keep the positive values only\n",
    "numbers = [-1, 3, 2, -4, 5, 1, 4, -3, 1]\n",
    "\n",
    "# we can do this normally as\n",
    "positives = []  # empty list that will contain the positives\n",
    "\n",
    "for x in numbers:\n",
    "    if x >= 0:                # if x is positive\n",
    "        positives.append(x)   # then append the value to the list of positives\n",
    "positives"
   ]
  },
  {
   "cell_type": "code",
   "execution_count": 24,
   "id": "3cb8412a-0243-44de-b7c0-dc70fcea6115",
   "metadata": {},
   "outputs": [
    {
     "data": {
      "text/plain": [
       "[3, 2, 5, 1, 4, 1]"
      ]
     },
     "execution_count": 24,
     "metadata": {},
     "output_type": "execute_result"
    }
   ],
   "source": [
    "# the same thing can be written faster and more efficiently as list comprehension\n",
    "# which is compact and runs faster (why it runs faster doesnt matter) than the previous version \n",
    "positives = [x for x in numbers if x >= 0]  # the final solution\n",
    "positives"
   ]
  },
  {
   "cell_type": "code",
   "execution_count": 25,
   "id": "c18eeba9-db0c-4099-8c58-c43184af6af5",
   "metadata": {},
   "outputs": [],
   "source": [
    "# a list comprehension is a little bit more complicated than a simple for loop\n",
    "# the overall syntax can be summarized as\n",
    "# newlist = [expression for item in iterable <if condition == True, optional>]\n",
    "# if the condition on the right side is True than it will put the value of the expression in the list, otherwise continues with the next element\n",
    "# the important bit is that the expression can be anything and it can make it look complicated\n",
    "# lets say we want to do the following:\n",
    "# 1. keep positive elements only\n",
    "# 2. add 1 to the element if it is even, and raise the number to the power of 2 if it is odd"
   ]
  },
  {
   "cell_type": "code",
   "execution_count": 26,
   "id": "8eca26b4-8720-4b64-9046-d3475020ac42",
   "metadata": {},
   "outputs": [
    {
     "data": {
      "text/plain": [
       "[9, 3, 25, 1, 5, 1]"
      ]
     },
     "execution_count": 26,
     "metadata": {},
     "output_type": "execute_result"
    }
   ],
   "source": [
    "result = [x+1 if x % 2 == 0 else x**2 for x in numbers if x >= 0]\n",
    "# the left side of the for is an expression \"x+1 if x % 2 == 0 else x**2\" and the right side of the for is a filter condition \"if x >= 0\"\n",
    "# first python check \"if x >= 0\" if it is True then the expression (left side) gets evaluated\n",
    "# \"x+1 if x % 2 == 0 else x**2\" = write x+1 in to the list if x % 2 == 0, otherwise write x**2 into the list\n",
    "result"
   ]
  },
  {
   "cell_type": "code",
   "execution_count": 27,
   "id": "e940395b-3c59-4c41-a0dc-7a5cdd067914",
   "metadata": {},
   "outputs": [
    {
     "data": {
      "text/plain": [
       "[9, 3, 25, 1, 5, 1]"
      ]
     },
     "execution_count": 27,
     "metadata": {},
     "output_type": "execute_result"
    }
   ],
   "source": [
    "# the list comprehension above is equal to the following:\n",
    "\n",
    "result = []\n",
    "for x in numbers:\n",
    "    if x >=0:  # is positive\n",
    "        if x % 2 == 0:  # is even\n",
    "            result.append(x + 1)\n",
    "        else:\n",
    "            result.append(x**2)\n",
    "\n",
    "result"
   ]
  },
  {
   "cell_type": "code",
   "execution_count": 28,
   "id": "eef9f21d-32bb-4bba-9ef0-1a69511e068f",
   "metadata": {},
   "outputs": [
    {
     "data": {
      "text/plain": [
       "{'first': 12, 'second': 5}"
      ]
     },
     "execution_count": 28,
     "metadata": {},
     "output_type": "execute_result"
    }
   ],
   "source": [
    "# similar list comprehension can be constructed for dictionaries as well, but it is a little bit different\n",
    "# {key: expression for key, value in dictionary.items() if condition == True}\n",
    "# for example, lets filter for the key-values pairs which has a positive value\n",
    "{key: value for key, value in dict_.items() if value >=0}"
   ]
  },
  {
   "cell_type": "code",
   "execution_count": 29,
   "id": "37bfd20f-2553-4947-8ec5-3f93122f0b91",
   "metadata": {},
   "outputs": [
    {
     "data": {
      "text/plain": [
       "{'first': 13, 'second': 25}"
      ]
     },
     "execution_count": 29,
     "metadata": {},
     "output_type": "execute_result"
    }
   ],
   "source": [
    "# In a similar manner as earlier, lets do the following:\n",
    "# 1. keep positive key-value pairs only\n",
    "# 2. add 1 to the value if it is even, and raise the number to the power of 2 if it is odd\n",
    "{key: value+1 if value % 2 == 0 else value**2 for key, value in dict_.items() if value >=0}"
   ]
  },
  {
   "cell_type": "markdown",
   "id": "66d17033-5ee8-410a-8434-773aa02c9d5b",
   "metadata": {},
   "source": [
    "### Exercise"
   ]
  },
  {
   "cell_type": "code",
   "execution_count": 30,
   "id": "5cab4005-a9cf-4e0a-9ed1-b8245587cc6d",
   "metadata": {},
   "outputs": [],
   "source": [
    "# Find all of the numbers from 1-1000 that are divisible by 7\n"
   ]
  },
  {
   "cell_type": "code",
   "execution_count": 31,
   "id": "6a4692f2-fb8f-4a28-8ac6-abc403f422da",
   "metadata": {},
   "outputs": [],
   "source": [
    "# Find all of the numbers from 1-1000 that have a 3 in them \n"
   ]
  },
  {
   "cell_type": "code",
   "execution_count": 32,
   "id": "d758f38f-7cdd-4ef5-9370-ded20c063132",
   "metadata": {},
   "outputs": [],
   "source": [
    "# Find all of the strings that has an \"d\" in them\n",
    "words = [\"middle\", \"catalogue\", \"exceed\", \"board\", \"familiar\", \"reward\", \"satellite\", \"grace\", \"respectable\"]\n"
   ]
  },
  {
   "cell_type": "markdown",
   "id": "fc54d3dc-3d3d-43bd-81e3-fff6664e3b04",
   "metadata": {},
   "source": [
    "## Functions and Lambdas"
   ]
  },
  {
   "cell_type": "code",
   "execution_count": 33,
   "id": "a62ac139-84ce-476f-8ee9-e3c7a14eac39",
   "metadata": {},
   "outputs": [
    {
     "data": {
      "text/plain": [
       "5"
      ]
     },
     "execution_count": 33,
     "metadata": {},
     "output_type": "execute_result"
    }
   ],
   "source": [
    "def add(a, b):\n",
    "    return a + b\n",
    "\n",
    "add(2, 3)"
   ]
  },
  {
   "cell_type": "code",
   "execution_count": 34,
   "id": "77915c2d-da47-4e9b-b2c9-2ab880f106cd",
   "metadata": {},
   "outputs": [
    {
     "data": {
      "text/plain": [
       "5"
      ]
     },
     "execution_count": 34,
     "metadata": {},
     "output_type": "execute_result"
    }
   ],
   "source": [
    "# a lambda function is an inline anonymous function\n",
    "# signiture:\n",
    "# lambda parameter_list: expression\n",
    "add = lambda a, b: a + b\n",
    "\n",
    "add(2, 3)"
   ]
  },
  {
   "cell_type": "markdown",
   "id": "985cc446-420b-439b-8414-4e2b37cbbcd7",
   "metadata": {},
   "source": [
    "### Exercise"
   ]
  },
  {
   "cell_type": "code",
   "execution_count": 35,
   "id": "a00df7c1-c437-40f2-98d4-a6e6d06bc8a6",
   "metadata": {},
   "outputs": [],
   "source": [
    "# make a lambda function the calculates the sum of positive values within a list\n",
    "# use the earlier list \"numbers\" as input\n",
    "# use the \"sum\" built-in function\n"
   ]
  },
  {
   "cell_type": "markdown",
   "id": "0f12c24b-a407-477f-9d65-432bab869cf4",
   "metadata": {},
   "source": [
    "# Numpy\n",
    "\n",
    "- What is NumPy?\n",
    "  - Python library for numerical computing.\n",
    "  - Provides the `ndarray` ($N$ Dimensional Array) object for fast, vectorized operations.\n",
    "- Why NumPy vs. plain Python lists?\n",
    "  - Speed, memory efficiency, mathematical operations, broadcasting."
   ]
  },
  {
   "cell_type": "code",
   "execution_count": 36,
   "id": "06113398-7c24-4406-9496-58192b4c1768",
   "metadata": {},
   "outputs": [],
   "source": [
    "import numpy as np"
   ]
  },
  {
   "cell_type": "markdown",
   "id": "b85db6a4-955f-4772-958e-5e0e6e4882a4",
   "metadata": {},
   "source": [
    "## Matrix Creation"
   ]
  },
  {
   "cell_type": "code",
   "execution_count": 37,
   "id": "6e386fb9-ca54-4512-97a9-6f37ed1deee6",
   "metadata": {},
   "outputs": [
    {
     "data": {
      "text/plain": [
       "array([ 1,  5, -1])"
      ]
     },
     "execution_count": 37,
     "metadata": {},
     "output_type": "execute_result"
    }
   ],
   "source": [
    "# creation from Python list\n",
    "np.array([1, 5, -1])"
   ]
  },
  {
   "cell_type": "code",
   "execution_count": 38,
   "id": "24bebc8a-5019-4ca6-9167-20a60a743ada",
   "metadata": {},
   "outputs": [
    {
     "data": {
      "text/plain": [
       "array([[ 1,  5, -1],\n",
       "       [ 2, -6,  3]])"
      ]
     },
     "execution_count": 38,
     "metadata": {},
     "output_type": "execute_result"
    }
   ],
   "source": [
    "# 2D array\n",
    "np.array([[1, 5, -1], [2, -6, 3]])"
   ]
  },
  {
   "cell_type": "code",
   "execution_count": 39,
   "id": "2e66a83f-d6de-4d5b-9f9f-b13f6eebd7a8",
   "metadata": {},
   "outputs": [
    {
     "data": {
      "text/plain": [
       "array([[0., 0., 0.],\n",
       "       [0., 0., 0.]])"
      ]
     },
     "execution_count": 39,
     "metadata": {},
     "output_type": "execute_result"
    }
   ],
   "source": [
    "# allocate array (values can be random numbers)\n",
    "# it will allocate memory for the array but if something was in the memory at that address earlier then it will be part of the array\n",
    "# the only parameter is the shape which is a tuple in this case\n",
    "np.empty((2, 3))  # empty array with 2 rows and 3 column"
   ]
  },
  {
   "cell_type": "code",
   "execution_count": 40,
   "id": "b307c7f8-acab-4f83-bcc9-00d3a3ab58e6",
   "metadata": {},
   "outputs": [
    {
     "data": {
      "text/plain": [
       "array([[0., 0., 0.],\n",
       "       [0., 0., 0.]])"
      ]
     },
     "execution_count": 40,
     "metadata": {},
     "output_type": "execute_result"
    }
   ],
   "source": [
    "# array filled with zeros\n",
    "np.zeros((2, 3))"
   ]
  },
  {
   "cell_type": "code",
   "execution_count": 41,
   "id": "1b6df98a-d4d2-4a38-ab6e-14def3dd4811",
   "metadata": {},
   "outputs": [
    {
     "data": {
      "text/plain": [
       "array([[1., 1., 1.],\n",
       "       [1., 1., 1.]])"
      ]
     },
     "execution_count": 41,
     "metadata": {},
     "output_type": "execute_result"
    }
   ],
   "source": [
    "# array filled with ones\n",
    "np.ones((2, 3))"
   ]
  },
  {
   "cell_type": "code",
   "execution_count": 42,
   "id": "00ad0e6f-4458-40ba-ab24-c1d95b9d4c12",
   "metadata": {},
   "outputs": [
    {
     "data": {
      "text/plain": [
       "array([[7, 7, 7],\n",
       "       [7, 7, 7]])"
      ]
     },
     "execution_count": 42,
     "metadata": {},
     "output_type": "execute_result"
    }
   ],
   "source": [
    "# array filled with any contant value\n",
    "np.full((2, 3), fill_value=7)"
   ]
  },
  {
   "cell_type": "code",
   "execution_count": 43,
   "id": "f9eb6df0-a0d8-4f79-85f5-001aa65d5f61",
   "metadata": {},
   "outputs": [
    {
     "data": {
      "text/plain": [
       "array([0, 2, 4, 6, 8])"
      ]
     },
     "execution_count": 43,
     "metadata": {},
     "output_type": "execute_result"
    }
   ],
   "source": [
    "# creating a sequence of numbers\n",
    "# np.arange(from, to, step_size)\n",
    "np.arange(0, 10, 2)"
   ]
  },
  {
   "cell_type": "code",
   "execution_count": 44,
   "id": "e09302c5-eb84-4d69-9bde-9b2847c6d755",
   "metadata": {},
   "outputs": [
    {
     "data": {
      "text/plain": [
       "array([ 0.,  5., 10.])"
      ]
     },
     "execution_count": 44,
     "metadata": {},
     "output_type": "execute_result"
    }
   ],
   "source": [
    "# return evenly spaced numbers over a specified interval\n",
    "# np.arange(from, to, number_of_intervals)\n",
    "np.linspace(0, 10, 3)"
   ]
  },
  {
   "cell_type": "code",
   "execution_count": 45,
   "id": "5182ae4c-6a30-421c-88f0-a6db96eb7132",
   "metadata": {},
   "outputs": [],
   "source": [
    "np.random.seed(0)   # sets the seed, this will guranatee that everyone will generate the random numbers, by default it will use the current timestamp as seed"
   ]
  },
  {
   "cell_type": "code",
   "execution_count": 46,
   "id": "15f42536-139d-4c46-b54b-ddc26fa26e84",
   "metadata": {},
   "outputs": [
    {
     "data": {
      "text/plain": [
       "array([0.5488135 , 0.71518937, 0.60276338, 0.54488318, 0.4236548 ])"
      ]
     },
     "execution_count": 46,
     "metadata": {},
     "output_type": "execute_result"
    }
   ],
   "source": [
    "np.random.rand(5)   # generates 5 random number from uniform distribution"
   ]
  },
  {
   "cell_type": "code",
   "execution_count": 47,
   "id": "24f5ccaf-498a-404d-8b7c-73a46b5ac31f",
   "metadata": {},
   "outputs": [
    {
     "data": {
      "text/plain": [
       "array([-0.84272405,  1.96992445,  1.26611853, -0.50587654,  2.54520078])"
      ]
     },
     "execution_count": 47,
     "metadata": {},
     "output_type": "execute_result"
    }
   ],
   "source": [
    "np.random.randn(5)  # generates 5 random numbers from normal distribution"
   ]
  },
  {
   "cell_type": "code",
   "execution_count": 48,
   "id": "52331464-274e-466d-813b-678f1c8749a5",
   "metadata": {},
   "outputs": [
    {
     "data": {
      "text/plain": [
       "array([[ 1.08081191,  0.48431215,  0.57914048, -0.18158257,  1.41020463],\n",
       "       [-0.37447169,  0.27519832, -0.96075461,  0.37692697,  0.03343893]])"
      ]
     },
     "execution_count": 48,
     "metadata": {},
     "output_type": "execute_result"
    }
   ],
   "source": [
    "np.random.randn(2, 5)  # generates random numbers from normal distribution with shape (2=rows, 5=columns)"
   ]
  },
  {
   "cell_type": "code",
   "execution_count": 49,
   "id": "6ee03eec-0482-42a0-8fae-02b7122dbb58",
   "metadata": {},
   "outputs": [
    {
     "data": {
      "text/plain": [
       "array([[-1.50423714, -0.98811025, -0.5029329 ],\n",
       "       [ 1.53141428,  0.21533174,  0.48396581],\n",
       "       [ 0.90580116,  0.71829499,  1.36554954],\n",
       "       [ 0.20466754, -0.94503822,  0.11772901],\n",
       "       [ 1.24807438, -1.34321751,  1.79932714],\n",
       "       [-0.20210781, -0.64725475, -0.50587925],\n",
       "       [-0.37907779, -0.93381374,  0.00514848],\n",
       "       [-2.15681569, -0.97032769, -0.15470106],\n",
       "       [-0.06549545, -0.06250764, -0.1670241 ],\n",
       "       [-0.9948253 , -0.58715758, -0.25731277]])"
      ]
     },
     "execution_count": 49,
     "metadata": {},
     "output_type": "execute_result"
    }
   ],
   "source": [
    "# generates a natrix by multivariate normal distribution\n",
    "# first parameter is the expected value for each column: [0, 0, 0]\n",
    "# second parameter is the covariance matrix for each column: [[1, 0.3, 0.1], [0.3, 1, -0.5], [0.1, -0.5, 1]]\n",
    "# third parameters is the nmber of vectors: 10\n",
    "np.random.multivariate_normal([0, 0, 0], [[1, 0.3, 0.1], [0.3, 1, -0.5], [0.1, -0.5, 1]], 10)"
   ]
  },
  {
   "cell_type": "code",
   "execution_count": 50,
   "id": "f7cf618a-38d2-4d81-82cc-ff16955c7b9a",
   "metadata": {},
   "outputs": [
    {
     "data": {
      "text/plain": [
       "(2, 5)"
      ]
     },
     "execution_count": 50,
     "metadata": {},
     "output_type": "execute_result"
    }
   ],
   "source": [
    "# Checking the dimensionality of a matrix/vector\n",
    "# everey ndarray defines the shape attribute which returns the size of each dimension\n",
    "np.random.randn(2, 5).shape"
   ]
  },
  {
   "cell_type": "markdown",
   "id": "c1fcde62-0468-4ca5-8674-f6f3a476fada",
   "metadata": {},
   "source": [
    "### Exercise"
   ]
  },
  {
   "cell_type": "code",
   "execution_count": 51,
   "id": "a7005a1d-7bf9-4352-bcaa-fc1db5d63daf",
   "metadata": {},
   "outputs": [],
   "source": [
    "# create a vector with numbers going from 1 to 100\n"
   ]
  },
  {
   "cell_type": "code",
   "execution_count": 52,
   "id": "e1759c81-4da3-430e-b670-b29f358ec6c6",
   "metadata": {},
   "outputs": [],
   "source": [
    "# create a vector with numbers going from 100 to 1\n"
   ]
  },
  {
   "cell_type": "code",
   "execution_count": 53,
   "id": "929ffda7-82bc-4c71-b830-75b5050b544b",
   "metadata": {},
   "outputs": [],
   "source": [
    "# create a random uniform matrix with 3 dimension, first dimension has a size of 20, second dimension has a size of 10, third dimension has a size of 100\n"
   ]
  },
  {
   "cell_type": "code",
   "execution_count": 54,
   "id": "3800e651-b424-4e8c-af08-04a078e3058c",
   "metadata": {},
   "outputs": [],
   "source": [
    "# print the shape of the previous array\n"
   ]
  },
  {
   "cell_type": "code",
   "execution_count": 55,
   "id": "45206271-d503-4d6e-8928-7c0e213d4bf6",
   "metadata": {},
   "outputs": [],
   "source": [
    "# create a 3x3 matrix filled with -1\n"
   ]
  },
  {
   "cell_type": "markdown",
   "id": "aa6ea9d2-91ae-4b71-ad9a-943743cf50d1",
   "metadata": {},
   "source": [
    "## Indexing and Slicing"
   ]
  },
  {
   "cell_type": "code",
   "execution_count": 56,
   "id": "242e3a4d-c93f-4eb0-89a3-4ea5758dc855",
   "metadata": {},
   "outputs": [
    {
     "data": {
      "text/plain": [
       "array([[-0.02797118,  1.47598983,  0.6467801 , -0.36433431, -0.67877739],\n",
       "       [-0.35362786, -0.74074747, -0.67502183, -0.13278426,  0.61980106]])"
      ]
     },
     "execution_count": 56,
     "metadata": {},
     "output_type": "execute_result"
    }
   ],
   "source": [
    "# lets say we have the following 2D array\n",
    "X = np.random.randn(2, 5)\n",
    "X"
   ]
  },
  {
   "cell_type": "code",
   "execution_count": 57,
   "id": "443407e6-3c0b-4152-b86a-eb33cfd5ae56",
   "metadata": {},
   "outputs": [
    {
     "data": {
      "text/plain": [
       "array([-0.02797118,  1.47598983,  0.6467801 , -0.36433431, -0.67877739])"
      ]
     },
     "execution_count": 57,
     "metadata": {},
     "output_type": "execute_result"
    }
   ],
   "source": [
    "# we can access a row by\n",
    "X[0]  # or X[0, :], \":\" selects all element within that dimension, can be ommited in this case"
   ]
  },
  {
   "cell_type": "code",
   "execution_count": 58,
   "id": "3ce3a60d-466e-4852-88e7-087d0701a916",
   "metadata": {},
   "outputs": [
    {
     "data": {
      "text/plain": [
       "array([-0.02797118, -0.35362786])"
      ]
     },
     "execution_count": 58,
     "metadata": {},
     "output_type": "execute_result"
    }
   ],
   "source": [
    "# we can access a column by\n",
    "X[:, 0]  # \":\" selects all row and from all row selects column 0"
   ]
  },
  {
   "cell_type": "code",
   "execution_count": 59,
   "id": "de31a791-69b9-4725-9711-69dc76241e97",
   "metadata": {},
   "outputs": [
    {
     "data": {
      "text/plain": [
       "array([[-0.02797118,  1.47598983],\n",
       "       [-0.35362786, -0.74074747]])"
      ]
     },
     "execution_count": 59,
     "metadata": {},
     "output_type": "execute_result"
    }
   ],
   "source": [
    "# we can more precisely select sub-matrices\n",
    "X[:2, :2]  # select the first 2 row, and select the first 2 columns. \":2\" is a shorthand for \"0:2\""
   ]
  },
  {
   "cell_type": "code",
   "execution_count": 60,
   "id": "afd0ca87-1d37-4db5-b5c9-1712e8c3d45d",
   "metadata": {},
   "outputs": [
    {
     "data": {
      "text/plain": [
       "array([[ 1.47598983,  0.6467801 ],\n",
       "       [-0.74074747, -0.67502183]])"
      ]
     },
     "execution_count": 60,
     "metadata": {},
     "output_type": "execute_result"
    }
   ],
   "source": [
    "# lets shift this selection windows by 1\n",
    "X[:2, 1:3]"
   ]
  },
  {
   "cell_type": "code",
   "execution_count": 61,
   "id": "a9640a51-5776-4133-8ee9-acabd60f6a02",
   "metadata": {},
   "outputs": [
    {
     "data": {
      "text/plain": [
       "array([[-0.36433431, -0.67877739],\n",
       "       [-0.13278426,  0.61980106]])"
      ]
     },
     "execution_count": 61,
     "metadata": {},
     "output_type": "execute_result"
    }
   ],
   "source": [
    "# we can even use negative indices which will start the index from then end of that dimension\n",
    "X[:2, -2:]  # this is the same as X[:2, X.shape[1]-2:]"
   ]
  },
  {
   "cell_type": "code",
   "execution_count": 62,
   "id": "b1e11495-82ee-4b04-8911-e79d580f57f0",
   "metadata": {},
   "outputs": [
    {
     "data": {
      "text/plain": [
       "array([[-0.36433431, -0.67877739],\n",
       "       [-0.13278426,  0.61980106]])"
      ]
     },
     "execution_count": 62,
     "metadata": {},
     "output_type": "execute_result"
    }
   ],
   "source": [
    "X[:2, X.shape[1]-2:]"
   ]
  },
  {
   "cell_type": "markdown",
   "id": "d2f8c513-5f5c-4daf-9d8c-23d7e504cc16",
   "metadata": {},
   "source": [
    "### Exercise"
   ]
  },
  {
   "cell_type": "code",
   "execution_count": 63,
   "id": "ca26d6dd-1f94-470a-84b6-5345f3c38499",
   "metadata": {},
   "outputs": [],
   "source": [
    "# select the last column of the matrix X\n"
   ]
  },
  {
   "cell_type": "code",
   "execution_count": 64,
   "id": "06c854ff-42a2-45ec-965b-1d2ff546cfae",
   "metadata": {},
   "outputs": [],
   "source": [
    "# from the last row select all element except the first and last column\n"
   ]
  },
  {
   "cell_type": "markdown",
   "id": "2b472db4-fc0d-41ac-b709-8ef2da470dfc",
   "metadata": {},
   "source": [
    "## Basic Operations"
   ]
  },
  {
   "cell_type": "markdown",
   "id": "242e3add-7ef5-4cdf-9eaa-3034d90742dc",
   "metadata": {},
   "source": [
    "### Vectors"
   ]
  },
  {
   "cell_type": "code",
   "execution_count": 65,
   "id": "31963482-e045-4371-a10e-8932f37ed187",
   "metadata": {},
   "outputs": [],
   "source": [
    "# lets generate 2 vectors\n",
    "a = np.arange(1, 6)\n",
    "b = np.arange(1, 11, 2)"
   ]
  },
  {
   "cell_type": "code",
   "execution_count": 66,
   "id": "23b43c92-2497-4fce-a106-6579a0e6ab9b",
   "metadata": {},
   "outputs": [
    {
     "data": {
      "text/plain": [
       "array([1, 2, 3, 4, 5])"
      ]
     },
     "execution_count": 66,
     "metadata": {},
     "output_type": "execute_result"
    }
   ],
   "source": [
    "a"
   ]
  },
  {
   "cell_type": "code",
   "execution_count": 67,
   "id": "853c27b1-c752-4eef-9ba7-92b18a8ab558",
   "metadata": {},
   "outputs": [
    {
     "data": {
      "text/plain": [
       "array([1, 3, 5, 7, 9])"
      ]
     },
     "execution_count": 67,
     "metadata": {},
     "output_type": "execute_result"
    }
   ],
   "source": [
    "b"
   ]
  },
  {
   "cell_type": "code",
   "execution_count": 68,
   "id": "113b571a-f97b-46f8-a0c8-716b06dc4adc",
   "metadata": {},
   "outputs": [
    {
     "data": {
      "text/plain": [
       "array([ 2,  5,  8, 11, 14])"
      ]
     },
     "execution_count": 68,
     "metadata": {},
     "output_type": "execute_result"
    }
   ],
   "source": [
    "# element-wise addition\n",
    "a + b"
   ]
  },
  {
   "cell_type": "code",
   "execution_count": 69,
   "id": "1f4369be-6c89-40b5-ab9d-64c27ae41bc3",
   "metadata": {},
   "outputs": [
    {
     "data": {
      "text/plain": [
       "array([ 0, -1, -2, -3, -4])"
      ]
     },
     "execution_count": 69,
     "metadata": {},
     "output_type": "execute_result"
    }
   ],
   "source": [
    "# element-wise substruction\n",
    "a - b"
   ]
  },
  {
   "cell_type": "code",
   "execution_count": 70,
   "id": "7d1903e9-c195-4cd3-890e-437cd6b45fa4",
   "metadata": {},
   "outputs": [
    {
     "data": {
      "text/plain": [
       "array([ 1,  6, 15, 28, 45])"
      ]
     },
     "execution_count": 70,
     "metadata": {},
     "output_type": "execute_result"
    }
   ],
   "source": [
    "# element-wise multiplication\n",
    "a * b"
   ]
  },
  {
   "cell_type": "code",
   "execution_count": 71,
   "id": "950e4423-f607-4187-aebf-803e68e29811",
   "metadata": {},
   "outputs": [
    {
     "data": {
      "text/plain": [
       "array([1.        , 0.66666667, 0.6       , 0.57142857, 0.55555556])"
      ]
     },
     "execution_count": 71,
     "metadata": {},
     "output_type": "execute_result"
    }
   ],
   "source": [
    "# element-wise division\n",
    "a / b"
   ]
  },
  {
   "cell_type": "code",
   "execution_count": 72,
   "id": "cca3fa45-11d6-4747-9016-0221319e304f",
   "metadata": {},
   "outputs": [
    {
     "data": {
      "text/plain": [
       "np.int64(95)"
      ]
     },
     "execution_count": 72,
     "metadata": {},
     "output_type": "execute_result"
    }
   ],
   "source": [
    "# special operand within numpy is the @ symbol which indicates inner product\n",
    "a @ b"
   ]
  },
  {
   "cell_type": "code",
   "execution_count": 73,
   "id": "598d4eb1-e5f7-4077-b1c6-d80eaf7484c2",
   "metadata": {},
   "outputs": [
    {
     "data": {
      "text/plain": [
       "np.int64(95)"
      ]
     },
     "execution_count": 73,
     "metadata": {},
     "output_type": "execute_result"
    }
   ],
   "source": [
    "np.inner(a, b)  # same as above"
   ]
  },
  {
   "cell_type": "code",
   "execution_count": 74,
   "id": "12af964b-29d3-4a64-b51e-c887574915f3",
   "metadata": {},
   "outputs": [
    {
     "data": {
      "text/plain": [
       "array([[ 1,  3,  5,  7,  9],\n",
       "       [ 2,  6, 10, 14, 18],\n",
       "       [ 3,  9, 15, 21, 27],\n",
       "       [ 4, 12, 20, 28, 36],\n",
       "       [ 5, 15, 25, 35, 45]])"
      ]
     },
     "execution_count": 74,
     "metadata": {},
     "output_type": "execute_result"
    }
   ],
   "source": [
    "# outer product of vectors\n",
    "np.outer(a, b)"
   ]
  },
  {
   "cell_type": "markdown",
   "id": "14aed49d-049f-4c3b-b42d-a8e79c0241d5",
   "metadata": {},
   "source": [
    "### Matricies\n",
    "\n",
    "Generally the same operations can be used."
   ]
  },
  {
   "cell_type": "code",
   "execution_count": 75,
   "id": "3670aeb7-1a91-4d0c-b345-644b7f99034e",
   "metadata": {},
   "outputs": [],
   "source": [
    "A = np.random.randn(2, 5)\n",
    "B = np.random.randn(2, 5)"
   ]
  },
  {
   "cell_type": "code",
   "execution_count": 76,
   "id": "5cdffe9e-a3b1-402f-85b6-3c0dcd73d15d",
   "metadata": {},
   "outputs": [
    {
     "data": {
      "text/plain": [
       "array([[ 1.79116846,  0.17100044, -1.72567135,  0.16065854, -0.85898532],\n",
       "       [-0.20642094,  0.48842647, -0.83833097,  0.38116374, -0.99090328]])"
      ]
     },
     "execution_count": 76,
     "metadata": {},
     "output_type": "execute_result"
    }
   ],
   "source": [
    "A"
   ]
  },
  {
   "cell_type": "code",
   "execution_count": 77,
   "id": "7a8ba55e-4406-4a1f-9de6-1d48c693b9ea",
   "metadata": {},
   "outputs": [
    {
     "data": {
      "text/plain": [
       "array([[ 1.79116846, -0.20642094],\n",
       "       [ 0.17100044,  0.48842647],\n",
       "       [-1.72567135, -0.83833097],\n",
       "       [ 0.16065854,  0.38116374],\n",
       "       [-0.85898532, -0.99090328]])"
      ]
     },
     "execution_count": 77,
     "metadata": {},
     "output_type": "execute_result"
    }
   ],
   "source": [
    "# transpose\n",
    "A.T"
   ]
  },
  {
   "cell_type": "code",
   "execution_count": 78,
   "id": "8ca10259-fdc2-4e23-a4dc-6a2883796a90",
   "metadata": {},
   "outputs": [
    {
     "data": {
      "text/plain": [
       "array([[4.96607221, 6.17894557],\n",
       "       [2.25461283, 1.79003415]])"
      ]
     },
     "execution_count": 78,
     "metadata": {},
     "output_type": "execute_result"
    }
   ],
   "source": [
    "# matrix multiplication\n",
    "A @ B.T  # same as np.matmul(A, B.T)"
   ]
  },
  {
   "cell_type": "markdown",
   "id": "f87ec9ce-ae3d-40c0-a4e5-55455b8b9503",
   "metadata": {},
   "source": [
    "## Universal Functions\n",
    "\n",
    "This is a limited list of funtions."
   ]
  },
  {
   "cell_type": "code",
   "execution_count": 79,
   "id": "3a5657ca-c09d-48a7-aeaa-873ea8c34e6e",
   "metadata": {},
   "outputs": [
    {
     "data": {
      "text/plain": [
       "array([[1.79116846, 0.17100044, 1.72567135, 0.16065854, 0.85898532],\n",
       "       [0.20642094, 0.48842647, 0.83833097, 0.38116374, 0.99090328]])"
      ]
     },
     "execution_count": 79,
     "metadata": {},
     "output_type": "execute_result"
    }
   ],
   "source": [
    "np.abs(A)  # absolue value"
   ]
  },
  {
   "cell_type": "code",
   "execution_count": 80,
   "id": "68c356b7-5743-4d6a-b2af-f031cc9bbfdb",
   "metadata": {},
   "outputs": [
    {
     "data": {
      "text/plain": [
       "array([[1.33834542, 0.41352199, 1.31364811, 0.40082233, 0.92681461],\n",
       "       [0.45433572, 0.69887514, 0.91560415, 0.6173846 , 0.99544125]])"
      ]
     },
     "execution_count": 80,
     "metadata": {},
     "output_type": "execute_result"
    }
   ],
   "source": [
    "np.sqrt(np.abs(A))  # squere root (using abs. just to remove comeplex roots)"
   ]
  },
  {
   "cell_type": "code",
   "execution_count": 81,
   "id": "0992501e-9a93-4cfe-bb55-46e19c7cbb2b",
   "metadata": {},
   "outputs": [
    {
     "data": {
      "text/plain": [
       "array([[ 5.74657793e+00,  5.00024944e-03, -5.13894853e+00,\n",
       "         4.14678435e-03, -6.33807285e-01],\n",
       "       [-8.79551491e-03,  1.16519220e-01, -5.89178003e-01,\n",
       "         5.53776796e-02, -9.72957345e-01]])"
      ]
     },
     "execution_count": 81,
     "metadata": {},
     "output_type": "execute_result"
    }
   ],
   "source": [
    "np.power(A, 3)  # power of 3"
   ]
  },
  {
   "cell_type": "code",
   "execution_count": 82,
   "id": "37370b69-62c1-4692-83e5-35e43498b03c",
   "metadata": {},
   "outputs": [
    {
     "data": {
      "text/plain": [
       "array([[ 0.97581617,  0.17016828, -0.98803082,  0.1599683 , -0.75718016],\n",
       "       [-0.20495814,  0.46923693, -0.74352806,  0.37200095, -0.83652126]])"
      ]
     },
     "execution_count": 82,
     "metadata": {},
     "output_type": "execute_result"
    }
   ],
   "source": [
    "np.sin(A)   # sinus, similarly np.cos, np.tan... can be used"
   ]
  },
  {
   "cell_type": "markdown",
   "id": "317a6652-4a05-4584-b4f7-5977f0878d09",
   "metadata": {},
   "source": [
    "## Reduction Operations\n",
    "\n",
    "This is a limited list of functions."
   ]
  },
  {
   "cell_type": "code",
   "execution_count": 83,
   "id": "6149c082-2756-48d0-b0c3-bc6a2c48fe36",
   "metadata": {},
   "outputs": [
    {
     "data": {
      "text/plain": [
       "np.float64(-1.6278942106207595)"
      ]
     },
     "execution_count": 83,
     "metadata": {},
     "output_type": "execute_result"
    }
   ],
   "source": [
    "np.sum(A)  # sums all value of the input"
   ]
  },
  {
   "cell_type": "code",
   "execution_count": 84,
   "id": "7dba8439-d99d-4880-90fa-ee322f08a854",
   "metadata": {},
   "outputs": [
    {
     "data": {
      "text/plain": [
       "np.float64(-0.16278942106207595)"
      ]
     },
     "execution_count": 84,
     "metadata": {},
     "output_type": "execute_result"
    }
   ],
   "source": [
    "np.mean(A)  # average of all elements"
   ]
  },
  {
   "cell_type": "code",
   "execution_count": 85,
   "id": "7f8599a8-dc10-4807-9703-871881e24696",
   "metadata": {},
   "outputs": [
    {
     "data": {
      "text/plain": [
       "np.float64(-1.7256713515873643)"
      ]
     },
     "execution_count": 85,
     "metadata": {},
     "output_type": "execute_result"
    }
   ],
   "source": [
    "np.min(A)  # minimum of all elements"
   ]
  },
  {
   "cell_type": "code",
   "execution_count": 86,
   "id": "664ce7db-e36c-44c5-bdb9-fd16c9d18572",
   "metadata": {},
   "outputs": [
    {
     "data": {
      "text/plain": [
       "np.float64(1.7911684612099155)"
      ]
     },
     "execution_count": 86,
     "metadata": {},
     "output_type": "execute_result"
    }
   ],
   "source": [
    "np.max(A)  # maximum of all elements"
   ]
  },
  {
   "cell_type": "code",
   "execution_count": 87,
   "id": "38a905c8-cdb6-4d28-a499-f7c6fb7215a3",
   "metadata": {},
   "outputs": [
    {
     "data": {
      "text/plain": [
       "(2, 5)"
      ]
     },
     "execution_count": 87,
     "metadata": {},
     "output_type": "execute_result"
    }
   ],
   "source": [
    "# for reduction operation we can specify the direction as well\n",
    "# for example, if we want to calculate the mean of all rows or mean of all columns independently\n",
    "A.shape"
   ]
  },
  {
   "cell_type": "code",
   "execution_count": 88,
   "id": "8443582d-a936-4e26-aea6-174dde26c59d",
   "metadata": {},
   "outputs": [
    {
     "data": {
      "text/plain": [
       "array([ 0.79237376,  0.32971345, -1.28200116,  0.27091114, -0.9249443 ])"
      ]
     },
     "execution_count": 88,
     "metadata": {},
     "output_type": "execute_result"
    }
   ],
   "source": [
    "np.mean(A, axis=0)  # mean of all columns"
   ]
  },
  {
   "cell_type": "code",
   "execution_count": 89,
   "id": "4e96b931-fc39-4c2f-bda7-98d2c5d5e07d",
   "metadata": {},
   "outputs": [
    {
     "data": {
      "text/plain": [
       "array([-0.09236585, -0.233213  ])"
      ]
     },
     "execution_count": 89,
     "metadata": {},
     "output_type": "execute_result"
    }
   ],
   "source": [
    "np.mean(A, axis=1)  # mean of all rows"
   ]
  },
  {
   "cell_type": "markdown",
   "id": "4b9741b2-449f-478f-9f80-ea46902b9cc6",
   "metadata": {},
   "source": [
    "## Reshaping"
   ]
  },
  {
   "cell_type": "code",
   "execution_count": 90,
   "id": "6784a559-a6da-4be9-b8db-7446735dc8be",
   "metadata": {},
   "outputs": [
    {
     "data": {
      "text/plain": [
       "array([[ 1.79116846, -0.20642094],\n",
       "       [ 0.17100044,  0.48842647],\n",
       "       [-1.72567135, -0.83833097],\n",
       "       [ 0.16065854,  0.38116374],\n",
       "       [-0.85898532, -0.99090328]])"
      ]
     },
     "execution_count": 90,
     "metadata": {},
     "output_type": "execute_result"
    }
   ],
   "source": [
    "# we already discussed one of the simplest \"reshaping\" feature: transposition\n",
    "A.T"
   ]
  },
  {
   "cell_type": "code",
   "execution_count": 91,
   "id": "ecf72849-accb-4602-94b2-4015357cc758",
   "metadata": {},
   "outputs": [
    {
     "data": {
      "text/plain": [
       "(1, 10)"
      ]
     },
     "execution_count": 91,
     "metadata": {},
     "output_type": "execute_result"
    }
   ],
   "source": [
    "# we can reshape this matrix as we wish (within certain constraints)\n",
    "A_ = A.reshape(1, 10)\n",
    "A_.shape"
   ]
  },
  {
   "cell_type": "code",
   "execution_count": 92,
   "id": "96dd59d9-9147-4445-a35c-c8acec87984a",
   "metadata": {},
   "outputs": [
    {
     "data": {
      "text/plain": [
       "array([[ 6.04159707e-01,  4.72148998e-01,  8.19917293e-01],\n",
       "       [ 9.07519617e-01, -5.85822875e-01,  9.37558842e-01],\n",
       "       [-2.54608092e-01,  9.73598712e-01,  2.07282772e-01],\n",
       "       [ 1.09964197e+00,  9.39896981e-01,  6.06389001e-01],\n",
       "       [ 1.76084071e-03, -9.90160143e-01,  1.87239408e+00],\n",
       "       [-2.41073590e-01,  5.33449070e-02,  1.03081595e+00]])"
      ]
     },
     "execution_count": 92,
     "metadata": {},
     "output_type": "execute_result"
    }
   ],
   "source": [
    "# reshape can take -1 as a parameter once, it means that numpy should calculate it in context of other values provided\n",
    "# an example\n",
    "\n",
    "# a vector with 18 elements\n",
    "d = np.random.randn(18)\n",
    "d.reshape(-1, 3)  # it means that I want 3 dimension and infer the number of rows accordingly, so it will just calculate 18/3=6 as the number of rows"
   ]
  },
  {
   "cell_type": "code",
   "execution_count": 93,
   "id": "c63f1563-0868-467b-81cd-2f573d77d358",
   "metadata": {},
   "outputs": [
    {
     "data": {
      "text/plain": [
       "(10,)"
      ]
     },
     "execution_count": 93,
     "metadata": {},
     "output_type": "execute_result"
    }
   ],
   "source": [
    "# we can transform an arroy to a vector\n",
    "A_ = A.flatten()\n",
    "A_.shape"
   ]
  },
  {
   "cell_type": "code",
   "execution_count": 94,
   "id": "784d69c0-6d23-4745-b41d-6cedc09a3dfe",
   "metadata": {},
   "outputs": [
    {
     "data": {
      "text/plain": [
       "(4, 5)"
      ]
     },
     "execution_count": 94,
     "metadata": {},
     "output_type": "execute_result"
    }
   ],
   "source": [
    "# we can concatenate different matricies as long as they have the same dimensions (otherthan the dimension of cancatenation)\n",
    "A_ = np.concatenate([A, B], axis=0)\n",
    "A_.shape"
   ]
  },
  {
   "cell_type": "code",
   "execution_count": 95,
   "id": "32f6f6c9-7133-4487-baea-edd695e42a5a",
   "metadata": {},
   "outputs": [
    {
     "data": {
      "text/plain": [
       "(2, 10)"
      ]
     },
     "execution_count": 95,
     "metadata": {},
     "output_type": "execute_result"
    }
   ],
   "source": [
    "A_ = np.concatenate([A, B], axis=1)\n",
    "A_.shape"
   ]
  },
  {
   "cell_type": "markdown",
   "id": "09f838e2-fa71-48b5-8a27-99a4e52b4700",
   "metadata": {},
   "source": [
    "## Boolean Selection"
   ]
  },
  {
   "cell_type": "code",
   "execution_count": 96,
   "id": "49c5d125-134e-45fc-b0f1-a02d0aae18ec",
   "metadata": {},
   "outputs": [
    {
     "data": {
      "text/plain": [
       "array([ 1.76405235,  0.40015721,  0.97873798,  2.2408932 ,  1.86755799,\n",
       "       -0.97727788,  0.95008842, -0.15135721, -0.10321885,  0.4105985 ])"
      ]
     },
     "execution_count": 96,
     "metadata": {},
     "output_type": "execute_result"
    }
   ],
   "source": [
    "# we can mask operation with boolean masks\n",
    "# a boolean mask is just a vector or matrix (same shape as the input) that has a True value for each position where we wish to make some modification\n",
    "# lets start with vectors\n",
    "np.random.seed(0)\n",
    "a = np.random.randn(10)\n",
    "a"
   ]
  },
  {
   "cell_type": "code",
   "execution_count": 97,
   "id": "5975474a-a9b8-4b47-b81e-4fc6c7d333c4",
   "metadata": {},
   "outputs": [
    {
     "data": {
      "text/plain": [
       "array([1.76405235, 0.40015721, 0.97873798, 2.2408932 , 1.86755799,\n",
       "       0.95008842, 0.4105985 ])"
      ]
     },
     "execution_count": 97,
     "metadata": {},
     "output_type": "execute_result"
    }
   ],
   "source": [
    "# lets select each positive values\n",
    "a[a >= 0]"
   ]
  },
  {
   "cell_type": "code",
   "execution_count": 98,
   "id": "b6a79cc6-f1c6-4c88-8f66-4e926c9bfb16",
   "metadata": {},
   "outputs": [
    {
     "data": {
      "text/plain": [
       "array([ True,  True,  True,  True,  True, False,  True, False, False,\n",
       "        True])"
      ]
     },
     "execution_count": 98,
     "metadata": {},
     "output_type": "execute_result"
    }
   ],
   "source": [
    "# where a >= 0 is just a vector with True values where the condition is satisfied\n",
    "a >= 0"
   ]
  },
  {
   "cell_type": "code",
   "execution_count": 99,
   "id": "8632d1b6-66c6-4094-9bbe-cb2051a6e452",
   "metadata": {},
   "outputs": [
    {
     "data": {
      "text/plain": [
       "array([1.76405235, 0.40015721, 0.97873798, 2.2408932 , 1.86755799,\n",
       "       0.        , 0.95008842, 0.        , 0.        , 0.4105985 ])"
      ]
     },
     "execution_count": 99,
     "metadata": {},
     "output_type": "execute_result"
    }
   ],
   "source": [
    "# now lets set each negative value to 0\n",
    "a[a < 0] = 0\n",
    "a"
   ]
  },
  {
   "cell_type": "code",
   "execution_count": 100,
   "id": "fec91da5-52a1-40e6-b225-2c8f76a554a5",
   "metadata": {},
   "outputs": [
    {
     "data": {
      "text/plain": [
       "array([1.76405235, 1.40015721, 1.97873798, 2.2408932 , 1.86755799,\n",
       "       1.        , 1.95008842, 1.        , 1.        , 1.4105985 ])"
      ]
     },
     "execution_count": 100,
     "metadata": {},
     "output_type": "execute_result"
    }
   ],
   "source": [
    "# not lets add 1 to each value that is less than 1\n",
    "a[a < 1] += 1\n",
    "a"
   ]
  },
  {
   "cell_type": "code",
   "execution_count": 101,
   "id": "05cc4b81-b4bc-4d8b-8c52-2006244986a7",
   "metadata": {},
   "outputs": [
    {
     "data": {
      "text/plain": [
       "array([[ 1.76405235,  0.40015721,  0.97873798,  2.2408932 ],\n",
       "       [ 1.86755799, -0.97727788,  0.95008842, -0.15135721],\n",
       "       [-0.10321885,  0.4105985 ,  0.14404357,  1.45427351],\n",
       "       [ 0.76103773,  0.12167502,  0.44386323,  0.33367433]])"
      ]
     },
     "execution_count": 101,
     "metadata": {},
     "output_type": "execute_result"
    }
   ],
   "source": [
    "# The same thing can be done with matricies but the mask has the shape of the input matrix\n",
    "np.random.seed(0)\n",
    "A = np.random.randn(4, 4)\n",
    "A"
   ]
  },
  {
   "cell_type": "code",
   "execution_count": 102,
   "id": "24487cae-cb05-4c01-9bf2-64cd35bf63c0",
   "metadata": {},
   "outputs": [
    {
     "data": {
      "text/plain": [
       "array([1.76405235, 0.40015721, 0.97873798, 2.2408932 , 1.86755799,\n",
       "       0.95008842, 0.4105985 , 0.14404357, 1.45427351, 0.76103773,\n",
       "       0.12167502, 0.44386323, 0.33367433])"
      ]
     },
     "execution_count": 102,
     "metadata": {},
     "output_type": "execute_result"
    }
   ],
   "source": [
    "# the selection will return a vector of masked values, due to the number of returned values can not be reshaped into a matrix\n",
    "A[A>=0]"
   ]
  },
  {
   "cell_type": "code",
   "execution_count": 103,
   "id": "c6a12517-eef0-43a0-8ade-46ff5de8909e",
   "metadata": {},
   "outputs": [
    {
     "data": {
      "text/plain": [
       "array([[ True,  True,  True,  True],\n",
       "       [ True, False,  True, False],\n",
       "       [False,  True,  True,  True],\n",
       "       [ True,  True,  True,  True]])"
      ]
     },
     "execution_count": 103,
     "metadata": {},
     "output_type": "execute_result"
    }
   ],
   "source": [
    "# the mask\n",
    "A>=0"
   ]
  },
  {
   "cell_type": "code",
   "execution_count": 104,
   "id": "d33e2846-18e1-4f47-8bf7-72c0ef5a186e",
   "metadata": {},
   "outputs": [
    {
     "data": {
      "text/plain": [
       "array([[1.76405235, 0.40015721, 0.97873798, 2.2408932 ],\n",
       "       [1.86755799, 0.        , 0.95008842, 0.        ],\n",
       "       [0.        , 0.4105985 , 0.14404357, 1.45427351],\n",
       "       [0.76103773, 0.12167502, 0.44386323, 0.33367433]])"
      ]
     },
     "execution_count": 104,
     "metadata": {},
     "output_type": "execute_result"
    }
   ],
   "source": [
    "# but we can do everything else just like earlier\n",
    "# lets set each negative value to 0\n",
    "A[A < 0] = 0  # this is an inplace operation\n",
    "A"
   ]
  },
  {
   "cell_type": "code",
   "execution_count": 105,
   "id": "2122aabf-d478-4fed-ab00-a7d4b12be77d",
   "metadata": {},
   "outputs": [
    {
     "data": {
      "text/plain": [
       "array([[1.76405235, 1.40015721, 1.97873798, 2.2408932 ],\n",
       "       [1.86755799, 1.        , 1.95008842, 1.        ],\n",
       "       [1.        , 1.4105985 , 1.14404357, 1.45427351],\n",
       "       [1.76103773, 1.12167502, 1.44386323, 1.33367433]])"
      ]
     },
     "execution_count": 105,
     "metadata": {},
     "output_type": "execute_result"
    }
   ],
   "source": [
    "# not lets add 1 to each value that is less than 1\n",
    "A[A < 1] += 1  # this is an inplace operation\n",
    "A"
   ]
  },
  {
   "cell_type": "code",
   "execution_count": 106,
   "id": "988d440b-b89b-4aeb-9f11-4f2585fd3b31",
   "metadata": {},
   "outputs": [
    {
     "data": {
      "text/plain": [
       "array([1.84596018, 1.4544116 , 1.2522289 , 1.41506258])"
      ]
     },
     "execution_count": 106,
     "metadata": {},
     "output_type": "execute_result"
    }
   ],
   "source": [
    "# we can also select specific rows or columns with vector like masks\n",
    "# lets say we want select each row with an expected value of less than 1.45\n",
    "\n",
    "# first calculate the expected value for each row\n",
    "expected_value = np.mean(A, axis=1)\n",
    "expected_value"
   ]
  },
  {
   "cell_type": "code",
   "execution_count": 107,
   "id": "67878251-ad07-4199-b7a2-3c93710e81a5",
   "metadata": {},
   "outputs": [
    {
     "data": {
      "text/plain": [
       "array([False, False,  True,  True])"
      ]
     },
     "execution_count": 107,
     "metadata": {},
     "output_type": "execute_result"
    }
   ],
   "source": [
    "# then make the mask\n",
    "mask = (expected_value < 1.45)\n",
    "mask"
   ]
  },
  {
   "cell_type": "code",
   "execution_count": 108,
   "id": "ef27d209-d507-4c1b-9307-26b4f8e98ad1",
   "metadata": {},
   "outputs": [
    {
     "data": {
      "text/plain": [
       "array([[1.        , 1.4105985 , 1.14404357, 1.45427351],\n",
       "       [1.76103773, 1.12167502, 1.44386323, 1.33367433]])"
      ]
     },
     "execution_count": 108,
     "metadata": {},
     "output_type": "execute_result"
    }
   ],
   "source": [
    "# the we have to index the correct dimension with this mask\n",
    "A[mask]"
   ]
  },
  {
   "cell_type": "code",
   "execution_count": 109,
   "id": "e9cc3eda-f9e5-4e72-9414-9c61bd8cc602",
   "metadata": {},
   "outputs": [
    {
     "data": {
      "text/plain": [
       "array([[1.40015721],\n",
       "       [1.        ],\n",
       "       [1.4105985 ],\n",
       "       [1.12167502]])"
      ]
     },
     "execution_count": 109,
     "metadata": {},
     "output_type": "execute_result"
    }
   ],
   "source": [
    "# the same can be done with the matrix columns\n",
    "\n",
    "# we have to reduce along the other axes\n",
    "expected_value = np.mean(A, axis=0)\n",
    "mask = (expected_value < 1.45)\n",
    "# we have to mask the other axes\n",
    "A[:, mask]  # select all row, select columns with mask"
   ]
  },
  {
   "cell_type": "code",
   "execution_count": 110,
   "id": "f2e96e7c-2065-46ad-a456-a422ecb6821f",
   "metadata": {},
   "outputs": [
    {
     "data": {
      "text/plain": [
       "array([False,  True, False, False])"
      ]
     },
     "execution_count": 110,
     "metadata": {},
     "output_type": "execute_result"
    }
   ],
   "source": [
    "mask  # the value of the mask"
   ]
  },
  {
   "cell_type": "markdown",
   "id": "e214b7db-d9da-4d06-8106-8aec6aaaa4ce",
   "metadata": {},
   "source": [
    "## Broadcasting\n",
    "\n",
    "Broadcasting is an important concept within any matrix engine. It can be seen as an efficient method to fill in values when making operations between an $N$ dimensional and an $N+1$ dimensional matrix. IN detail see [Numpy Broadcasting Guide](https://numpy.org/doc/stable/user/basics.broadcasting.html).\n",
    "\n",
    "![broadcasting](https://numpy.org/doc/stable/_images/broadcasting_1.png)\n",
    "\n",
    "\n",
    "![broadcasting2](https://numpy.org/doc/stable/_images/broadcasting_2.png)"
   ]
  },
  {
   "cell_type": "code",
   "execution_count": null,
   "id": "01c41512-9363-436f-b581-2f85b776648c",
   "metadata": {},
   "outputs": [],
   "source": []
  },
  {
   "cell_type": "code",
   "execution_count": 111,
   "id": "ec192432-7f6e-4374-879c-eb6aea9f2e08",
   "metadata": {},
   "outputs": [
    {
     "data": {
      "text/plain": [
       "array([2, 4, 6])"
      ]
     },
     "execution_count": 111,
     "metadata": {},
     "output_type": "execute_result"
    }
   ],
   "source": [
    "# lets demonstrate it by following the example on the first image\n",
    "a = np.array([1, 2, 3])\n",
    "b = np.array([2])\n",
    "\n",
    "# in order to be able to multiply each element with 2 we have to virtually stretch vector b, in other words broadcast it to all other positions. \n",
    "a * b"
   ]
  },
  {
   "cell_type": "code",
   "execution_count": 112,
   "id": "7517974a-b620-497f-a0cd-f2359dc40dac",
   "metadata": {},
   "outputs": [
    {
     "data": {
      "text/plain": [
       "array([[ 1,  2,  3],\n",
       "       [11, 12, 13],\n",
       "       [21, 22, 23],\n",
       "       [31, 32, 33]])"
      ]
     },
     "execution_count": 112,
     "metadata": {},
     "output_type": "execute_result"
    }
   ],
   "source": [
    "# a more interesting example can be seen in the second image\n",
    "# we have to broad cast the values of vector b to all rows\n",
    "\n",
    "a = np.array([[0, 0, 0], [10, 10, 10], [20, 20, 20], [30, 30, 30]])\n",
    "b = np.array([1, 2, 3])\n",
    "\n",
    "a + b"
   ]
  },
  {
   "cell_type": "code",
   "execution_count": 113,
   "id": "1b5dff09-2ad2-4e5b-a728-e58ebc9e90f2",
   "metadata": {},
   "outputs": [
    {
     "ename": "ValueError",
     "evalue": "operands could not be broadcast together with shapes (4,3) (4,) ",
     "output_type": "error",
     "traceback": [
      "\u001b[1;31m---------------------------------------------------------------------------\u001b[0m",
      "\u001b[1;31mValueError\u001b[0m                                Traceback (most recent call last)",
      "Cell \u001b[1;32mIn[113], line 9\u001b[0m\n\u001b[0;32m      6\u001b[0m b \u001b[38;5;241m=\u001b[39m np\u001b[38;5;241m.\u001b[39marray([\u001b[38;5;241m1\u001b[39m, \u001b[38;5;241m2\u001b[39m, \u001b[38;5;241m3\u001b[39m, \u001b[38;5;241m4\u001b[39m])\n\u001b[0;32m      8\u001b[0m \u001b[38;5;66;03m# this simply gives an error because the shape does not match, numpy can not infer the direction of broadcasting, we have to fix that\u001b[39;00m\n\u001b[1;32m----> 9\u001b[0m \u001b[43ma\u001b[49m\u001b[43m \u001b[49m\u001b[38;5;241;43m+\u001b[39;49m\u001b[43m \u001b[49m\u001b[43mb\u001b[49m\n",
      "\u001b[1;31mValueError\u001b[0m: operands could not be broadcast together with shapes (4,3) (4,) "
     ]
    }
   ],
   "source": [
    "# lets see a different scenario\n",
    "# lets say we want to add the values of vector b to each column\n",
    "# first we have to add an extra element to vector b to match the number of rows\n",
    "\n",
    "a = np.array([[0, 0, 0], [10, 10, 10], [20, 20, 20], [30, 30, 30]])\n",
    "b = np.array([1, 2, 3, 4])\n",
    "\n",
    "# this simply gives an error because the shape does not match, numpy can not infer the direction of broadcasting, we have to fix that\n",
    "a + b"
   ]
  },
  {
   "cell_type": "markdown",
   "id": "eb90b5cc-ee77-4811-9cb5-327602fde6b1",
   "metadata": {},
   "source": [
    "![bb](https://numpy.org/doc/stable/_images/broadcasting_3.png)"
   ]
  },
  {
   "cell_type": "code",
   "execution_count": 114,
   "id": "ffa823a8-a056-4a2f-bfd8-bb8de3f4a234",
   "metadata": {},
   "outputs": [
    {
     "data": {
      "text/plain": [
       "(4, 1)"
      ]
     },
     "execution_count": 114,
     "metadata": {},
     "output_type": "execute_result"
    }
   ],
   "source": [
    "# to solve this problem we have to add a virtual dimension to our vector\n",
    "\n",
    "# -1 means that numpy should calculate the shape at that positon \n",
    "# numpy knows the overall shape of the input matrix, it knows that we want 1 at the second position, so it will just infer \"num_values/1\"\n",
    "b_ = b.reshape(-1, 1)\n",
    "b_.shape  # 4 rows, 1 column"
   ]
  },
  {
   "cell_type": "code",
   "execution_count": 115,
   "id": "3f77db75-594a-40f2-8ca1-ae1ef1f72be0",
   "metadata": {},
   "outputs": [
    {
     "data": {
      "text/plain": [
       "array([[ 1,  1,  1],\n",
       "       [12, 12, 12],\n",
       "       [23, 23, 23],\n",
       "       [34, 34, 34]])"
      ]
     },
     "execution_count": 115,
     "metadata": {},
     "output_type": "execute_result"
    }
   ],
   "source": [
    "# so the final solution is\n",
    "a + b_"
   ]
  },
  {
   "cell_type": "code",
   "execution_count": 116,
   "id": "5fe90bed-6022-4be2-a81b-454a3dbf43ed",
   "metadata": {},
   "outputs": [
    {
     "data": {
      "text/plain": [
       "array([[ 1,  1,  1],\n",
       "       [12, 12, 12],\n",
       "       [23, 23, 23],\n",
       "       [34, 34, 34]])"
      ]
     },
     "execution_count": 116,
     "metadata": {},
     "output_type": "execute_result"
    }
   ],
   "source": [
    "# a shorter solution\n",
    "a + b[:, None]  # b[:, None] == b.reshape(-1, 1), selects all value to the rows and appends a dimension"
   ]
  },
  {
   "cell_type": "markdown",
   "id": "a7209806-1168-408d-b35f-6d09affc003a",
   "metadata": {},
   "source": [
    "## Exercise"
   ]
  },
  {
   "cell_type": "code",
   "execution_count": 117,
   "id": "d6b780bd-2079-4540-8ac9-38bdac91c8a6",
   "metadata": {},
   "outputs": [],
   "source": [
    "# Create a NumPy array of numbers from 1 to 36.\n",
    "# Reshape it into a 6×6 matrix.\n",
    "# Print its shape\n"
   ]
  },
  {
   "cell_type": "code",
   "execution_count": 118,
   "id": "9f05c346-7c5d-4c0e-aed3-eca0d4ac444e",
   "metadata": {},
   "outputs": [],
   "source": [
    "# Extract the third row.\n",
    "# Extract the last column.\n",
    "# Extract the submatrix of the middle 4×4 block.\n"
   ]
  },
  {
   "cell_type": "code",
   "execution_count": 119,
   "id": "fa361576-3aa3-4a1a-8be7-afa108a61c82",
   "metadata": {},
   "outputs": [],
   "source": [
    "# Multiply the 6×6 matrix by 2 (elementwise).\n",
    "# Compute the mean of all elements.\n",
    "# Compute the variance of each column.\n"
   ]
  },
  {
   "cell_type": "code",
   "execution_count": 120,
   "id": "c7569c2a-aa49-43a5-a83a-adecc73d7a76",
   "metadata": {},
   "outputs": [],
   "source": [
    "# Create a vector [10, 20, 30, 40, 50, 60].\n",
    "# Add this vector to each column of the 6×6 matrix.\n"
   ]
  },
  {
   "cell_type": "code",
   "execution_count": 121,
   "id": "cad7b4bc-8ed2-4eb7-b8a9-f6467d4bd13d",
   "metadata": {},
   "outputs": [],
   "source": [
    "# Generate an array of random numbers from a uniform distribution with a shape of (1000, 50)\n",
    "# Calculate the variance of each row\n"
   ]
  },
  {
   "cell_type": "code",
   "execution_count": 122,
   "id": "920b3c93-8930-4c8c-a5a7-a0a891f25620",
   "metadata": {},
   "outputs": [],
   "source": [
    "# Generate an array of 1000 random numbers from a normal distribution (np.random.randn).\n",
    "# Compute its mean, standard deviation, min, and max.\n",
    "# Count how many numbers are between -1 and 1.\n"
   ]
  },
  {
   "cell_type": "code",
   "execution_count": 123,
   "id": "e5e5051c-88f6-40dd-87c9-99aa932ce69d",
   "metadata": {},
   "outputs": [],
   "source": [
    "# Generate a fake dataset with shape (100, 3) using np.random.rand (values between 0 and 1).\n",
    "# -> Column 1 = Age (scale to 18–60).\n",
    "# -> Column 2 = Height (scale to 150–200).\n",
    "# -> Column 3 = Weight (scale to 50–100).\n",
    "# Compute the average age, height, and weight.\n",
    "# Select all rows where age > 30 and weight < 70.\n"
   ]
  },
  {
   "cell_type": "markdown",
   "id": "58ea22d8-b587-40ec-a155-70b4c626dc9d",
   "metadata": {},
   "source": [
    "# Pandas\n",
    "\n",
    "What is Pandas?\n",
    "- Library for working with tabular data (like spreadsheets or SQL tables).\n",
    "- Provides `Series` (1D) and `DataFrame` (2D)."
   ]
  },
  {
   "cell_type": "code",
   "execution_count": 124,
   "id": "518880ac-e4d9-40cc-ab18-17ba3f77f0df",
   "metadata": {},
   "outputs": [],
   "source": [
    "import pandas as pd"
   ]
  },
  {
   "cell_type": "markdown",
   "id": "81649b37-2592-4978-8ec5-c4a40b3e6909",
   "metadata": {},
   "source": [
    "## DataFrame Creation"
   ]
  },
  {
   "cell_type": "code",
   "execution_count": 125,
   "id": "d68d5742-0114-45ec-8222-e8c63e4c355d",
   "metadata": {},
   "outputs": [
    {
     "data": {
      "text/html": [
       "<div>\n",
       "<style scoped>\n",
       "    .dataframe tbody tr th:only-of-type {\n",
       "        vertical-align: middle;\n",
       "    }\n",
       "\n",
       "    .dataframe tbody tr th {\n",
       "        vertical-align: top;\n",
       "    }\n",
       "\n",
       "    .dataframe thead th {\n",
       "        text-align: right;\n",
       "    }\n",
       "</style>\n",
       "<table border=\"1\" class=\"dataframe\">\n",
       "  <thead>\n",
       "    <tr style=\"text-align: right;\">\n",
       "      <th></th>\n",
       "      <th>names</th>\n",
       "      <th>age</th>\n",
       "      <th>height</th>\n",
       "      <th>salery</th>\n",
       "    </tr>\n",
       "  </thead>\n",
       "  <tbody>\n",
       "    <tr>\n",
       "      <th>0</th>\n",
       "      <td>John</td>\n",
       "      <td>51</td>\n",
       "      <td>171</td>\n",
       "      <td>500</td>\n",
       "    </tr>\n",
       "    <tr>\n",
       "      <th>1</th>\n",
       "      <td>Angela</td>\n",
       "      <td>22</td>\n",
       "      <td>165</td>\n",
       "      <td>600</td>\n",
       "    </tr>\n",
       "    <tr>\n",
       "      <th>2</th>\n",
       "      <td>Mike</td>\n",
       "      <td>30</td>\n",
       "      <td>188</td>\n",
       "      <td>700</td>\n",
       "    </tr>\n",
       "    <tr>\n",
       "      <th>3</th>\n",
       "      <td>Gustave</td>\n",
       "      <td>17</td>\n",
       "      <td>155</td>\n",
       "      <td>150</td>\n",
       "    </tr>\n",
       "    <tr>\n",
       "      <th>4</th>\n",
       "      <td>Emili</td>\n",
       "      <td>25</td>\n",
       "      <td>160</td>\n",
       "      <td>650</td>\n",
       "    </tr>\n",
       "  </tbody>\n",
       "</table>\n",
       "</div>"
      ],
      "text/plain": [
       "     names  age  height  salery\n",
       "0     John   51     171     500\n",
       "1   Angela   22     165     600\n",
       "2     Mike   30     188     700\n",
       "3  Gustave   17     155     150\n",
       "4    Emili   25     160     650"
      ]
     },
     "execution_count": 125,
     "metadata": {},
     "output_type": "execute_result"
    }
   ],
   "source": [
    "# from dictionary\n",
    "input_data = {\n",
    "    \"names\": [\"John\", \"Angela\", \"Mike\", \"Gustave\", \"Emili\"],\n",
    "    \"age\": [51, 22, 30, 17, 25],\n",
    "    \"height\": [171, 165, 188, 155, 160],\n",
    "    \"salery\": [500, 600, 700, 150, 650]\n",
    "}\n",
    "# the keys will be the column names and the lists will be the values for each row\n",
    "df = pd.DataFrame(data=input_data)\n",
    "df"
   ]
  },
  {
   "cell_type": "code",
   "execution_count": 126,
   "id": "468a52e7-6fca-4648-bacf-6a9591896e57",
   "metadata": {},
   "outputs": [
    {
     "data": {
      "text/html": [
       "<div>\n",
       "<style scoped>\n",
       "    .dataframe tbody tr th:only-of-type {\n",
       "        vertical-align: middle;\n",
       "    }\n",
       "\n",
       "    .dataframe tbody tr th {\n",
       "        vertical-align: top;\n",
       "    }\n",
       "\n",
       "    .dataframe thead th {\n",
       "        text-align: right;\n",
       "    }\n",
       "</style>\n",
       "<table border=\"1\" class=\"dataframe\">\n",
       "  <thead>\n",
       "    <tr style=\"text-align: right;\">\n",
       "      <th></th>\n",
       "      <th>names</th>\n",
       "      <th>age</th>\n",
       "      <th>height</th>\n",
       "      <th>salery</th>\n",
       "    </tr>\n",
       "  </thead>\n",
       "  <tbody>\n",
       "    <tr>\n",
       "      <th>0</th>\n",
       "      <td>John</td>\n",
       "      <td>51</td>\n",
       "      <td>171</td>\n",
       "      <td>500</td>\n",
       "    </tr>\n",
       "    <tr>\n",
       "      <th>1</th>\n",
       "      <td>Angela</td>\n",
       "      <td>22</td>\n",
       "      <td>165</td>\n",
       "      <td>600</td>\n",
       "    </tr>\n",
       "    <tr>\n",
       "      <th>2</th>\n",
       "      <td>Mike</td>\n",
       "      <td>30</td>\n",
       "      <td>188</td>\n",
       "      <td>700</td>\n",
       "    </tr>\n",
       "    <tr>\n",
       "      <th>3</th>\n",
       "      <td>Gustave</td>\n",
       "      <td>17</td>\n",
       "      <td>155</td>\n",
       "      <td>150</td>\n",
       "    </tr>\n",
       "    <tr>\n",
       "      <th>4</th>\n",
       "      <td>Emili</td>\n",
       "      <td>25</td>\n",
       "      <td>160</td>\n",
       "      <td>650</td>\n",
       "    </tr>\n",
       "  </tbody>\n",
       "</table>\n",
       "</div>"
      ],
      "text/plain": [
       "     names age height salery\n",
       "0     John  51    171    500\n",
       "1   Angela  22    165    600\n",
       "2     Mike  30    188    700\n",
       "3  Gustave  17    155    150\n",
       "4    Emili  25    160    650"
      ]
     },
     "execution_count": 126,
     "metadata": {},
     "output_type": "execute_result"
    }
   ],
   "source": [
    "# from numpy\n",
    "input_data = np.array(\n",
    "    [\n",
    "        [\"John\", \"Angela\", \"Mike\", \"Gustave\", \"Emili\"],\n",
    "        [51, 22, 30, 17, 25],\n",
    "        [171, 165, 188, 155, 160],\n",
    "        [500, 600, 700, 150, 650]\n",
    "    ]\n",
    ")\n",
    "\n",
    "column_names = [\"names\", \"age\", \"height\", \"salery\"]\n",
    "\n",
    "# we have to provide the column names explicitly\n",
    "# note that, I used a transposition so that each feature align with the columns\n",
    "df = pd.DataFrame(data=input_data.T, columns=column_names)\n",
    "df"
   ]
  },
  {
   "cell_type": "code",
   "execution_count": 127,
   "id": "b24f178b-b09d-458f-abe2-76d1b7becc03",
   "metadata": {},
   "outputs": [
    {
     "data": {
      "text/html": [
       "<div>\n",
       "<style scoped>\n",
       "    .dataframe tbody tr th:only-of-type {\n",
       "        vertical-align: middle;\n",
       "    }\n",
       "\n",
       "    .dataframe tbody tr th {\n",
       "        vertical-align: top;\n",
       "    }\n",
       "\n",
       "    .dataframe thead th {\n",
       "        text-align: right;\n",
       "    }\n",
       "</style>\n",
       "<table border=\"1\" class=\"dataframe\">\n",
       "  <thead>\n",
       "    <tr style=\"text-align: right;\">\n",
       "      <th></th>\n",
       "      <th>season</th>\n",
       "      <th>yr</th>\n",
       "      <th>mnth</th>\n",
       "      <th>holiday</th>\n",
       "      <th>weekday</th>\n",
       "      <th>workingday</th>\n",
       "      <th>weathersit</th>\n",
       "      <th>temp</th>\n",
       "      <th>atemp</th>\n",
       "      <th>hum</th>\n",
       "      <th>windspeed</th>\n",
       "      <th>cnt</th>\n",
       "    </tr>\n",
       "  </thead>\n",
       "  <tbody>\n",
       "    <tr>\n",
       "      <th>0</th>\n",
       "      <td>spring</td>\n",
       "      <td>2011</td>\n",
       "      <td>january</td>\n",
       "      <td>0.0</td>\n",
       "      <td>6.0</td>\n",
       "      <td>0.0</td>\n",
       "      <td>2.0</td>\n",
       "      <td>24.175849</td>\n",
       "      <td>39.999250</td>\n",
       "      <td>80.5833</td>\n",
       "      <td>10.749882</td>\n",
       "      <td>985.0</td>\n",
       "    </tr>\n",
       "    <tr>\n",
       "      <th>1</th>\n",
       "      <td>spring</td>\n",
       "      <td>2011</td>\n",
       "      <td>january</td>\n",
       "      <td>0.0</td>\n",
       "      <td>0.0</td>\n",
       "      <td>0.0</td>\n",
       "      <td>2.0</td>\n",
       "      <td>25.083466</td>\n",
       "      <td>39.346774</td>\n",
       "      <td>69.6087</td>\n",
       "      <td>16.652113</td>\n",
       "      <td>801.0</td>\n",
       "    </tr>\n",
       "    <tr>\n",
       "      <th>2</th>\n",
       "      <td>spring</td>\n",
       "      <td>2011</td>\n",
       "      <td>january</td>\n",
       "      <td>0.0</td>\n",
       "      <td>1.0</td>\n",
       "      <td>1.0</td>\n",
       "      <td>1.0</td>\n",
       "      <td>17.229108</td>\n",
       "      <td>28.500730</td>\n",
       "      <td>43.7273</td>\n",
       "      <td>16.636703</td>\n",
       "      <td>1349.0</td>\n",
       "    </tr>\n",
       "    <tr>\n",
       "      <th>3</th>\n",
       "      <td>spring</td>\n",
       "      <td>2011</td>\n",
       "      <td>january</td>\n",
       "      <td>0.0</td>\n",
       "      <td>2.0</td>\n",
       "      <td>1.0</td>\n",
       "      <td>1.0</td>\n",
       "      <td>17.400000</td>\n",
       "      <td>30.000052</td>\n",
       "      <td>59.0435</td>\n",
       "      <td>10.739832</td>\n",
       "      <td>1562.0</td>\n",
       "    </tr>\n",
       "    <tr>\n",
       "      <th>4</th>\n",
       "      <td>spring</td>\n",
       "      <td>2011</td>\n",
       "      <td>january</td>\n",
       "      <td>0.0</td>\n",
       "      <td>3.0</td>\n",
       "      <td>1.0</td>\n",
       "      <td>1.0</td>\n",
       "      <td>18.666979</td>\n",
       "      <td>31.131820</td>\n",
       "      <td>43.6957</td>\n",
       "      <td>12.522300</td>\n",
       "      <td>1600.0</td>\n",
       "    </tr>\n",
       "    <tr>\n",
       "      <th>...</th>\n",
       "      <td>...</td>\n",
       "      <td>...</td>\n",
       "      <td>...</td>\n",
       "      <td>...</td>\n",
       "      <td>...</td>\n",
       "      <td>...</td>\n",
       "      <td>...</td>\n",
       "      <td>...</td>\n",
       "      <td>...</td>\n",
       "      <td>...</td>\n",
       "      <td>...</td>\n",
       "      <td>...</td>\n",
       "    </tr>\n",
       "    <tr>\n",
       "      <th>726</th>\n",
       "      <td>spring</td>\n",
       "      <td>2012</td>\n",
       "      <td>december</td>\n",
       "      <td>0.0</td>\n",
       "      <td>4.0</td>\n",
       "      <td>1.0</td>\n",
       "      <td>2.0</td>\n",
       "      <td>19.945849</td>\n",
       "      <td>30.958372</td>\n",
       "      <td>65.2917</td>\n",
       "      <td>23.458911</td>\n",
       "      <td>2114.0</td>\n",
       "    </tr>\n",
       "    <tr>\n",
       "      <th>727</th>\n",
       "      <td>spring</td>\n",
       "      <td>2012</td>\n",
       "      <td>december</td>\n",
       "      <td>0.0</td>\n",
       "      <td>5.0</td>\n",
       "      <td>1.0</td>\n",
       "      <td>2.0</td>\n",
       "      <td>19.906651</td>\n",
       "      <td>32.833036</td>\n",
       "      <td>59.0000</td>\n",
       "      <td>10.416557</td>\n",
       "      <td>3095.0</td>\n",
       "    </tr>\n",
       "    <tr>\n",
       "      <th>728</th>\n",
       "      <td>spring</td>\n",
       "      <td>2012</td>\n",
       "      <td>december</td>\n",
       "      <td>0.0</td>\n",
       "      <td>6.0</td>\n",
       "      <td>0.0</td>\n",
       "      <td>2.0</td>\n",
       "      <td>19.906651</td>\n",
       "      <td>31.998400</td>\n",
       "      <td>75.2917</td>\n",
       "      <td>8.333661</td>\n",
       "      <td>1341.0</td>\n",
       "    </tr>\n",
       "    <tr>\n",
       "      <th>729</th>\n",
       "      <td>spring</td>\n",
       "      <td>2012</td>\n",
       "      <td>december</td>\n",
       "      <td>0.0</td>\n",
       "      <td>0.0</td>\n",
       "      <td>0.0</td>\n",
       "      <td>1.0</td>\n",
       "      <td>20.024151</td>\n",
       "      <td>31.292200</td>\n",
       "      <td>48.3333</td>\n",
       "      <td>23.500518</td>\n",
       "      <td>1796.0</td>\n",
       "    </tr>\n",
       "    <tr>\n",
       "      <th>730</th>\n",
       "      <td>spring</td>\n",
       "      <td>2012</td>\n",
       "      <td>december</td>\n",
       "      <td>0.0</td>\n",
       "      <td>1.0</td>\n",
       "      <td>1.0</td>\n",
       "      <td>2.0</td>\n",
       "      <td>18.144151</td>\n",
       "      <td>30.750142</td>\n",
       "      <td>57.7500</td>\n",
       "      <td>10.374682</td>\n",
       "      <td>2729.0</td>\n",
       "    </tr>\n",
       "  </tbody>\n",
       "</table>\n",
       "<p>731 rows × 12 columns</p>\n",
       "</div>"
      ],
      "text/plain": [
       "     season    yr      mnth  holiday  weekday  workingday  weathersit  \\\n",
       "0    spring  2011   january      0.0      6.0         0.0         2.0   \n",
       "1    spring  2011   january      0.0      0.0         0.0         2.0   \n",
       "2    spring  2011   january      0.0      1.0         1.0         1.0   \n",
       "3    spring  2011   january      0.0      2.0         1.0         1.0   \n",
       "4    spring  2011   january      0.0      3.0         1.0         1.0   \n",
       "..      ...   ...       ...      ...      ...         ...         ...   \n",
       "726  spring  2012  december      0.0      4.0         1.0         2.0   \n",
       "727  spring  2012  december      0.0      5.0         1.0         2.0   \n",
       "728  spring  2012  december      0.0      6.0         0.0         2.0   \n",
       "729  spring  2012  december      0.0      0.0         0.0         1.0   \n",
       "730  spring  2012  december      0.0      1.0         1.0         2.0   \n",
       "\n",
       "          temp      atemp      hum  windspeed     cnt  \n",
       "0    24.175849  39.999250  80.5833  10.749882   985.0  \n",
       "1    25.083466  39.346774  69.6087  16.652113   801.0  \n",
       "2    17.229108  28.500730  43.7273  16.636703  1349.0  \n",
       "3    17.400000  30.000052  59.0435  10.739832  1562.0  \n",
       "4    18.666979  31.131820  43.6957  12.522300  1600.0  \n",
       "..         ...        ...      ...        ...     ...  \n",
       "726  19.945849  30.958372  65.2917  23.458911  2114.0  \n",
       "727  19.906651  32.833036  59.0000  10.416557  3095.0  \n",
       "728  19.906651  31.998400  75.2917   8.333661  1341.0  \n",
       "729  20.024151  31.292200  48.3333  23.500518  1796.0  \n",
       "730  18.144151  30.750142  57.7500  10.374682  2729.0  \n",
       "\n",
       "[731 rows x 12 columns]"
      ]
     },
     "execution_count": 127,
     "metadata": {},
     "output_type": "execute_result"
    }
   ],
   "source": [
    "# we can simply read different file formats where we only have to provide a path or a link\n",
    "# CSV: read_csv, if we provide sep='\\t' then it can read TSV files\n",
    "# Excel: read_excel\n",
    "# JSON: read_json\n",
    "# XML: read_xml\n",
    "# ...\n",
    "# check the API references for more\n",
    "\n",
    "# for now we are going to read the bike rental dataset\n",
    "df = pd.read_csv(\"https://github.com/ficstamas/data-mining/raw/b76d5b7913c446878fa47de8861c83e26780828f/data/rental.csv\", index_col=0)\n",
    "df"
   ]
  },
  {
   "cell_type": "code",
   "execution_count": 128,
   "id": "84298f73-943e-49fb-a375-ce2147f27873",
   "metadata": {},
   "outputs": [
    {
     "data": {
      "text/plain": [
       "Index(['season', 'yr', 'mnth', 'holiday', 'weekday', 'workingday',\n",
       "       'weathersit', 'temp', 'atemp', 'hum', 'windspeed', 'cnt'],\n",
       "      dtype='object')"
      ]
     },
     "execution_count": 128,
     "metadata": {},
     "output_type": "execute_result"
    }
   ],
   "source": [
    "# we can access the names of columns sa\n",
    "df.columns"
   ]
  },
  {
   "cell_type": "code",
   "execution_count": 129,
   "id": "1753636a-c774-40da-a14e-8038d42afca2",
   "metadata": {},
   "outputs": [
    {
     "data": {
      "text/plain": [
       "0      24.175849\n",
       "1      25.083466\n",
       "2      17.229108\n",
       "3      17.400000\n",
       "4      18.666979\n",
       "         ...    \n",
       "726    19.945849\n",
       "727    19.906651\n",
       "728    19.906651\n",
       "729    20.024151\n",
       "730    18.144151\n",
       "Name: temp, Length: 731, dtype: float64"
      ]
     },
     "execution_count": 129,
     "metadata": {},
     "output_type": "execute_result"
    }
   ],
   "source": [
    "# to access a column\n",
    "df[\"temp\"]  # or df.temp"
   ]
  },
  {
   "cell_type": "code",
   "execution_count": 130,
   "id": "eafcd7a4-7c6f-435c-acdd-e9d4e034d47f",
   "metadata": {},
   "outputs": [
    {
     "data": {
      "text/plain": [
       "season           spring\n",
       "yr                 2011\n",
       "mnth            january\n",
       "holiday             0.0\n",
       "weekday             6.0\n",
       "workingday          0.0\n",
       "weathersit          2.0\n",
       "temp          24.175849\n",
       "atemp          39.99925\n",
       "hum             80.5833\n",
       "windspeed     10.749882\n",
       "cnt               985.0\n",
       "Name: 0, dtype: object"
      ]
     },
     "execution_count": 130,
     "metadata": {},
     "output_type": "execute_result"
    }
   ],
   "source": [
    "# there are two ways select a row from a dataframe\n",
    "df.iloc[0]  # selects the row that is the 0th in order"
   ]
  },
  {
   "cell_type": "code",
   "execution_count": 131,
   "id": "78bf0be9-d01c-4787-ad4d-f28418a00d99",
   "metadata": {},
   "outputs": [
    {
     "data": {
      "text/plain": [
       "season           spring\n",
       "yr                 2011\n",
       "mnth            january\n",
       "holiday             0.0\n",
       "weekday             6.0\n",
       "workingday          0.0\n",
       "weathersit          2.0\n",
       "temp          24.175849\n",
       "atemp          39.99925\n",
       "hum             80.5833\n",
       "windspeed     10.749882\n",
       "cnt               985.0\n",
       "Name: 0, dtype: object"
      ]
     },
     "execution_count": 131,
     "metadata": {},
     "output_type": "execute_result"
    }
   ],
   "source": [
    "df.loc[0]  # selects the row that has the index of 0 (left column of the dataframe), this will be the same in this case"
   ]
  },
  {
   "cell_type": "code",
   "execution_count": 132,
   "id": "d4bd8bf7-494b-49df-afc2-8a32d15b3f59",
   "metadata": {},
   "outputs": [
    {
     "data": {
      "text/html": [
       "<div>\n",
       "<style scoped>\n",
       "    .dataframe tbody tr th:only-of-type {\n",
       "        vertical-align: middle;\n",
       "    }\n",
       "\n",
       "    .dataframe tbody tr th {\n",
       "        vertical-align: top;\n",
       "    }\n",
       "\n",
       "    .dataframe thead th {\n",
       "        text-align: right;\n",
       "    }\n",
       "</style>\n",
       "<table border=\"1\" class=\"dataframe\">\n",
       "  <thead>\n",
       "    <tr style=\"text-align: right;\">\n",
       "      <th></th>\n",
       "      <th>season</th>\n",
       "      <th>yr</th>\n",
       "      <th>mnth</th>\n",
       "      <th>holiday</th>\n",
       "      <th>weekday</th>\n",
       "      <th>workingday</th>\n",
       "      <th>weathersit</th>\n",
       "      <th>temp</th>\n",
       "      <th>atemp</th>\n",
       "      <th>hum</th>\n",
       "      <th>windspeed</th>\n",
       "      <th>cnt</th>\n",
       "    </tr>\n",
       "  </thead>\n",
       "  <tbody>\n",
       "    <tr>\n",
       "      <th>196</th>\n",
       "      <td>fall</td>\n",
       "      <td>2011</td>\n",
       "      <td>july</td>\n",
       "      <td>0.0</td>\n",
       "      <td>6.0</td>\n",
       "      <td>0.0</td>\n",
       "      <td>1.0</td>\n",
       "      <td>40.273349</td>\n",
       "      <td>58.125358</td>\n",
       "      <td>58.5000</td>\n",
       "      <td>13.958914</td>\n",
       "      <td>5923.0</td>\n",
       "    </tr>\n",
       "    <tr>\n",
       "      <th>187</th>\n",
       "      <td>fall</td>\n",
       "      <td>2011</td>\n",
       "      <td>july</td>\n",
       "      <td>0.0</td>\n",
       "      <td>4.0</td>\n",
       "      <td>1.0</td>\n",
       "      <td>1.0</td>\n",
       "      <td>43.250000</td>\n",
       "      <td>61.333486</td>\n",
       "      <td>65.1250</td>\n",
       "      <td>10.666400</td>\n",
       "      <td>4592.0</td>\n",
       "    </tr>\n",
       "    <tr>\n",
       "      <th>14</th>\n",
       "      <td>spring</td>\n",
       "      <td>2011</td>\n",
       "      <td>january</td>\n",
       "      <td>0.0</td>\n",
       "      <td>6.0</td>\n",
       "      <td>0.0</td>\n",
       "      <td>2.0</td>\n",
       "      <td>18.966651</td>\n",
       "      <td>32.375392</td>\n",
       "      <td>49.8750</td>\n",
       "      <td>10.583521</td>\n",
       "      <td>1248.0</td>\n",
       "    </tr>\n",
       "    <tr>\n",
       "      <th>31</th>\n",
       "      <td>spring</td>\n",
       "      <td>2011</td>\n",
       "      <td>february</td>\n",
       "      <td>0.0</td>\n",
       "      <td>2.0</td>\n",
       "      <td>1.0</td>\n",
       "      <td>2.0</td>\n",
       "      <td>17.032178</td>\n",
       "      <td>31.478980</td>\n",
       "      <td>82.9565</td>\n",
       "      <td>3.565271</td>\n",
       "      <td>1360.0</td>\n",
       "    </tr>\n",
       "    <tr>\n",
       "      <th>390</th>\n",
       "      <td>spring</td>\n",
       "      <td>2012</td>\n",
       "      <td>january</td>\n",
       "      <td>0.0</td>\n",
       "      <td>4.0</td>\n",
       "      <td>1.0</td>\n",
       "      <td>2.0</td>\n",
       "      <td>24.058349</td>\n",
       "      <td>39.499300</td>\n",
       "      <td>76.9583</td>\n",
       "      <td>4.917519</td>\n",
       "      <td>4075.0</td>\n",
       "    </tr>\n",
       "    <tr>\n",
       "      <th>319</th>\n",
       "      <td>winter</td>\n",
       "      <td>2011</td>\n",
       "      <td>november</td>\n",
       "      <td>0.0</td>\n",
       "      <td>3.0</td>\n",
       "      <td>1.0</td>\n",
       "      <td>3.0</td>\n",
       "      <td>29.463349</td>\n",
       "      <td>45.831208</td>\n",
       "      <td>93.0000</td>\n",
       "      <td>9.167543</td>\n",
       "      <td>1817.0</td>\n",
       "    </tr>\n",
       "    <tr>\n",
       "      <th>299</th>\n",
       "      <td>winter</td>\n",
       "      <td>2011</td>\n",
       "      <td>october</td>\n",
       "      <td>0.0</td>\n",
       "      <td>4.0</td>\n",
       "      <td>1.0</td>\n",
       "      <td>2.0</td>\n",
       "      <td>30.090000</td>\n",
       "      <td>46.165036</td>\n",
       "      <td>81.2917</td>\n",
       "      <td>13.250121</td>\n",
       "      <td>2659.0</td>\n",
       "    </tr>\n",
       "    <tr>\n",
       "      <th>702</th>\n",
       "      <td>winter</td>\n",
       "      <td>2012</td>\n",
       "      <td>december</td>\n",
       "      <td>0.0</td>\n",
       "      <td>1.0</td>\n",
       "      <td>1.0</td>\n",
       "      <td>1.0</td>\n",
       "      <td>29.267500</td>\n",
       "      <td>46.082536</td>\n",
       "      <td>76.7500</td>\n",
       "      <td>5.542294</td>\n",
       "      <td>6234.0</td>\n",
       "    </tr>\n",
       "    <tr>\n",
       "      <th>462</th>\n",
       "      <td>summer</td>\n",
       "      <td>2012</td>\n",
       "      <td>april</td>\n",
       "      <td>0.0</td>\n",
       "      <td>6.0</td>\n",
       "      <td>0.0</td>\n",
       "      <td>1.0</td>\n",
       "      <td>28.562500</td>\n",
       "      <td>44.124514</td>\n",
       "      <td>25.4167</td>\n",
       "      <td>18.416357</td>\n",
       "      <td>6857.0</td>\n",
       "    </tr>\n",
       "    <tr>\n",
       "      <th>27</th>\n",
       "      <td>spring</td>\n",
       "      <td>2011</td>\n",
       "      <td>january</td>\n",
       "      <td>0.0</td>\n",
       "      <td>5.0</td>\n",
       "      <td>1.0</td>\n",
       "      <td>2.0</td>\n",
       "      <td>17.563466</td>\n",
       "      <td>30.738922</td>\n",
       "      <td>79.3043</td>\n",
       "      <td>8.261100</td>\n",
       "      <td>1167.0</td>\n",
       "    </tr>\n",
       "  </tbody>\n",
       "</table>\n",
       "</div>"
      ],
      "text/plain": [
       "     season    yr      mnth  holiday  weekday  workingday  weathersit  \\\n",
       "196    fall  2011      july      0.0      6.0         0.0         1.0   \n",
       "187    fall  2011      july      0.0      4.0         1.0         1.0   \n",
       "14   spring  2011   january      0.0      6.0         0.0         2.0   \n",
       "31   spring  2011  february      0.0      2.0         1.0         2.0   \n",
       "390  spring  2012   january      0.0      4.0         1.0         2.0   \n",
       "319  winter  2011  november      0.0      3.0         1.0         3.0   \n",
       "299  winter  2011   october      0.0      4.0         1.0         2.0   \n",
       "702  winter  2012  december      0.0      1.0         1.0         1.0   \n",
       "462  summer  2012     april      0.0      6.0         0.0         1.0   \n",
       "27   spring  2011   january      0.0      5.0         1.0         2.0   \n",
       "\n",
       "          temp      atemp      hum  windspeed     cnt  \n",
       "196  40.273349  58.125358  58.5000  13.958914  5923.0  \n",
       "187  43.250000  61.333486  65.1250  10.666400  4592.0  \n",
       "14   18.966651  32.375392  49.8750  10.583521  1248.0  \n",
       "31   17.032178  31.478980  82.9565   3.565271  1360.0  \n",
       "390  24.058349  39.499300  76.9583   4.917519  4075.0  \n",
       "319  29.463349  45.831208  93.0000   9.167543  1817.0  \n",
       "299  30.090000  46.165036  81.2917  13.250121  2659.0  \n",
       "702  29.267500  46.082536  76.7500   5.542294  6234.0  \n",
       "462  28.562500  44.124514  25.4167  18.416357  6857.0  \n",
       "27   17.563466  30.738922  79.3043   8.261100  1167.0  "
      ]
     },
     "execution_count": 132,
     "metadata": {},
     "output_type": "execute_result"
    }
   ],
   "source": [
    "# it can be better demonstrated if we permute the rows\n",
    "# for demonstration purposes, I'm going to select the first 10 rows and then permute them\n",
    "sub_df = df.sample(n=10, random_state=0)  # .sample will randomly resample the dataframe, n defines the number of samples, random_state defines the random state\n",
    "sub_df"
   ]
  },
  {
   "cell_type": "markdown",
   "id": "3f4b85c1-2788-41d7-bc7a-74dc1cf59e72",
   "metadata": {},
   "source": [
    "## Indexing and Slicing"
   ]
  },
  {
   "cell_type": "code",
   "execution_count": 133,
   "id": "a9e408b2-8a8f-411d-9b4e-ed20aae648d7",
   "metadata": {},
   "outputs": [
    {
     "data": {
      "text/plain": [
       "season             fall\n",
       "yr                 2011\n",
       "mnth               july\n",
       "holiday             0.0\n",
       "weekday             6.0\n",
       "workingday          0.0\n",
       "weathersit          1.0\n",
       "temp          40.273349\n",
       "atemp         58.125358\n",
       "hum                58.5\n",
       "windspeed     13.958914\n",
       "cnt              5923.0\n",
       "Name: 196, dtype: object"
      ]
     },
     "execution_count": 133,
     "metadata": {},
     "output_type": "execute_result"
    }
   ],
   "source": [
    "# sub_df.iloc[0] will return the first row\n",
    "sub_df.iloc[0]"
   ]
  },
  {
   "cell_type": "code",
   "execution_count": 134,
   "id": "34d4c264-b529-4594-910b-588667d91d41",
   "metadata": {},
   "outputs": [
    {
     "data": {
      "text/plain": [
       "season             fall\n",
       "yr                 2011\n",
       "mnth               july\n",
       "holiday             0.0\n",
       "weekday             6.0\n",
       "workingday          0.0\n",
       "weathersit          1.0\n",
       "temp          40.273349\n",
       "atemp         58.125358\n",
       "hum                58.5\n",
       "windspeed     13.958914\n",
       "cnt              5923.0\n",
       "Name: 196, dtype: object"
      ]
     },
     "execution_count": 134,
     "metadata": {},
     "output_type": "execute_result"
    }
   ],
   "source": [
    "# but sub_df.loc[0] will return an error\n",
    "# to get the same element you have to provide the index of the first row\n",
    "sub_df.loc[196]"
   ]
  },
  {
   "cell_type": "code",
   "execution_count": 135,
   "id": "ad8aece1-b81f-4960-bb02-c3e717b89520",
   "metadata": {},
   "outputs": [
    {
     "data": {
      "text/html": [
       "<div>\n",
       "<style scoped>\n",
       "    .dataframe tbody tr th:only-of-type {\n",
       "        vertical-align: middle;\n",
       "    }\n",
       "\n",
       "    .dataframe tbody tr th {\n",
       "        vertical-align: top;\n",
       "    }\n",
       "\n",
       "    .dataframe thead th {\n",
       "        text-align: right;\n",
       "    }\n",
       "</style>\n",
       "<table border=\"1\" class=\"dataframe\">\n",
       "  <thead>\n",
       "    <tr style=\"text-align: right;\">\n",
       "      <th></th>\n",
       "      <th>season</th>\n",
       "      <th>yr</th>\n",
       "      <th>mnth</th>\n",
       "      <th>holiday</th>\n",
       "      <th>weekday</th>\n",
       "      <th>workingday</th>\n",
       "      <th>weathersit</th>\n",
       "      <th>temp</th>\n",
       "      <th>atemp</th>\n",
       "      <th>hum</th>\n",
       "      <th>windspeed</th>\n",
       "      <th>cnt</th>\n",
       "    </tr>\n",
       "  </thead>\n",
       "  <tbody>\n",
       "    <tr>\n",
       "      <th>0</th>\n",
       "      <td>spring</td>\n",
       "      <td>2011</td>\n",
       "      <td>january</td>\n",
       "      <td>0.0</td>\n",
       "      <td>6.0</td>\n",
       "      <td>0.0</td>\n",
       "      <td>2.0</td>\n",
       "      <td>24.175849</td>\n",
       "      <td>39.999250</td>\n",
       "      <td>80.5833</td>\n",
       "      <td>10.749882</td>\n",
       "      <td>985.0</td>\n",
       "    </tr>\n",
       "    <tr>\n",
       "      <th>1</th>\n",
       "      <td>spring</td>\n",
       "      <td>2011</td>\n",
       "      <td>january</td>\n",
       "      <td>0.0</td>\n",
       "      <td>0.0</td>\n",
       "      <td>0.0</td>\n",
       "      <td>2.0</td>\n",
       "      <td>25.083466</td>\n",
       "      <td>39.346774</td>\n",
       "      <td>69.6087</td>\n",
       "      <td>16.652113</td>\n",
       "      <td>801.0</td>\n",
       "    </tr>\n",
       "    <tr>\n",
       "      <th>2</th>\n",
       "      <td>spring</td>\n",
       "      <td>2011</td>\n",
       "      <td>january</td>\n",
       "      <td>0.0</td>\n",
       "      <td>1.0</td>\n",
       "      <td>1.0</td>\n",
       "      <td>1.0</td>\n",
       "      <td>17.229108</td>\n",
       "      <td>28.500730</td>\n",
       "      <td>43.7273</td>\n",
       "      <td>16.636703</td>\n",
       "      <td>1349.0</td>\n",
       "    </tr>\n",
       "    <tr>\n",
       "      <th>3</th>\n",
       "      <td>spring</td>\n",
       "      <td>2011</td>\n",
       "      <td>january</td>\n",
       "      <td>0.0</td>\n",
       "      <td>2.0</td>\n",
       "      <td>1.0</td>\n",
       "      <td>1.0</td>\n",
       "      <td>17.400000</td>\n",
       "      <td>30.000052</td>\n",
       "      <td>59.0435</td>\n",
       "      <td>10.739832</td>\n",
       "      <td>1562.0</td>\n",
       "    </tr>\n",
       "    <tr>\n",
       "      <th>4</th>\n",
       "      <td>spring</td>\n",
       "      <td>2011</td>\n",
       "      <td>january</td>\n",
       "      <td>0.0</td>\n",
       "      <td>3.0</td>\n",
       "      <td>1.0</td>\n",
       "      <td>1.0</td>\n",
       "      <td>18.666979</td>\n",
       "      <td>31.131820</td>\n",
       "      <td>43.6957</td>\n",
       "      <td>12.522300</td>\n",
       "      <td>1600.0</td>\n",
       "    </tr>\n",
       "    <tr>\n",
       "      <th>5</th>\n",
       "      <td>spring</td>\n",
       "      <td>2011</td>\n",
       "      <td>january</td>\n",
       "      <td>0.0</td>\n",
       "      <td>4.0</td>\n",
       "      <td>1.0</td>\n",
       "      <td>1.0</td>\n",
       "      <td>17.604356</td>\n",
       "      <td>31.391794</td>\n",
       "      <td>51.8261</td>\n",
       "      <td>6.000868</td>\n",
       "      <td>1606.0</td>\n",
       "    </tr>\n",
       "    <tr>\n",
       "      <th>6</th>\n",
       "      <td>spring</td>\n",
       "      <td>2011</td>\n",
       "      <td>january</td>\n",
       "      <td>0.0</td>\n",
       "      <td>5.0</td>\n",
       "      <td>1.0</td>\n",
       "      <td>2.0</td>\n",
       "      <td>17.236534</td>\n",
       "      <td>29.783374</td>\n",
       "      <td>49.8696</td>\n",
       "      <td>11.304642</td>\n",
       "      <td>1510.0</td>\n",
       "    </tr>\n",
       "    <tr>\n",
       "      <th>7</th>\n",
       "      <td>spring</td>\n",
       "      <td>2011</td>\n",
       "      <td>january</td>\n",
       "      <td>0.0</td>\n",
       "      <td>6.0</td>\n",
       "      <td>0.0</td>\n",
       "      <td>2.0</td>\n",
       "      <td>15.755000</td>\n",
       "      <td>26.708764</td>\n",
       "      <td>53.5833</td>\n",
       "      <td>17.875868</td>\n",
       "      <td>959.0</td>\n",
       "    </tr>\n",
       "    <tr>\n",
       "      <th>8</th>\n",
       "      <td>spring</td>\n",
       "      <td>2011</td>\n",
       "      <td>january</td>\n",
       "      <td>0.0</td>\n",
       "      <td>0.0</td>\n",
       "      <td>0.0</td>\n",
       "      <td>1.0</td>\n",
       "      <td>14.501651</td>\n",
       "      <td>23.667550</td>\n",
       "      <td>43.4167</td>\n",
       "      <td>24.250650</td>\n",
       "      <td>822.0</td>\n",
       "    </tr>\n",
       "    <tr>\n",
       "      <th>9</th>\n",
       "      <td>spring</td>\n",
       "      <td>2011</td>\n",
       "      <td>january</td>\n",
       "      <td>0.0</td>\n",
       "      <td>1.0</td>\n",
       "      <td>1.0</td>\n",
       "      <td>1.0</td>\n",
       "      <td>15.089151</td>\n",
       "      <td>25.958608</td>\n",
       "      <td>48.2917</td>\n",
       "      <td>14.958889</td>\n",
       "      <td>1321.0</td>\n",
       "    </tr>\n",
       "  </tbody>\n",
       "</table>\n",
       "</div>"
      ],
      "text/plain": [
       "   season    yr     mnth  holiday  weekday  workingday  weathersit       temp  \\\n",
       "0  spring  2011  january      0.0      6.0         0.0         2.0  24.175849   \n",
       "1  spring  2011  january      0.0      0.0         0.0         2.0  25.083466   \n",
       "2  spring  2011  january      0.0      1.0         1.0         1.0  17.229108   \n",
       "3  spring  2011  january      0.0      2.0         1.0         1.0  17.400000   \n",
       "4  spring  2011  january      0.0      3.0         1.0         1.0  18.666979   \n",
       "5  spring  2011  january      0.0      4.0         1.0         1.0  17.604356   \n",
       "6  spring  2011  january      0.0      5.0         1.0         2.0  17.236534   \n",
       "7  spring  2011  january      0.0      6.0         0.0         2.0  15.755000   \n",
       "8  spring  2011  january      0.0      0.0         0.0         1.0  14.501651   \n",
       "9  spring  2011  january      0.0      1.0         1.0         1.0  15.089151   \n",
       "\n",
       "       atemp      hum  windspeed     cnt  \n",
       "0  39.999250  80.5833  10.749882   985.0  \n",
       "1  39.346774  69.6087  16.652113   801.0  \n",
       "2  28.500730  43.7273  16.636703  1349.0  \n",
       "3  30.000052  59.0435  10.739832  1562.0  \n",
       "4  31.131820  43.6957  12.522300  1600.0  \n",
       "5  31.391794  51.8261   6.000868  1606.0  \n",
       "6  29.783374  49.8696  11.304642  1510.0  \n",
       "7  26.708764  53.5833  17.875868   959.0  \n",
       "8  23.667550  43.4167  24.250650   822.0  \n",
       "9  25.958608  48.2917  14.958889  1321.0  "
      ]
     },
     "execution_count": 135,
     "metadata": {},
     "output_type": "execute_result"
    }
   ],
   "source": [
    "# we can slice just like as we would do in other libraries\n",
    "df.iloc[:10]"
   ]
  },
  {
   "cell_type": "markdown",
   "id": "67ee51f4-d975-431f-b6d2-fbffc4119f6c",
   "metadata": {},
   "source": [
    "## Inspecting Data"
   ]
  },
  {
   "cell_type": "code",
   "execution_count": 136,
   "id": "9bb7765d-d541-4d9b-be54-f38b38b85bca",
   "metadata": {},
   "outputs": [
    {
     "data": {
      "text/html": [
       "<div>\n",
       "<style scoped>\n",
       "    .dataframe tbody tr th:only-of-type {\n",
       "        vertical-align: middle;\n",
       "    }\n",
       "\n",
       "    .dataframe tbody tr th {\n",
       "        vertical-align: top;\n",
       "    }\n",
       "\n",
       "    .dataframe thead th {\n",
       "        text-align: right;\n",
       "    }\n",
       "</style>\n",
       "<table border=\"1\" class=\"dataframe\">\n",
       "  <thead>\n",
       "    <tr style=\"text-align: right;\">\n",
       "      <th></th>\n",
       "      <th>season</th>\n",
       "      <th>yr</th>\n",
       "      <th>mnth</th>\n",
       "      <th>holiday</th>\n",
       "      <th>weekday</th>\n",
       "      <th>workingday</th>\n",
       "      <th>weathersit</th>\n",
       "      <th>temp</th>\n",
       "      <th>atemp</th>\n",
       "      <th>hum</th>\n",
       "      <th>windspeed</th>\n",
       "      <th>cnt</th>\n",
       "    </tr>\n",
       "  </thead>\n",
       "  <tbody>\n",
       "    <tr>\n",
       "      <th>0</th>\n",
       "      <td>spring</td>\n",
       "      <td>2011</td>\n",
       "      <td>january</td>\n",
       "      <td>0.0</td>\n",
       "      <td>6.0</td>\n",
       "      <td>0.0</td>\n",
       "      <td>2.0</td>\n",
       "      <td>24.175849</td>\n",
       "      <td>39.999250</td>\n",
       "      <td>80.5833</td>\n",
       "      <td>10.749882</td>\n",
       "      <td>985.0</td>\n",
       "    </tr>\n",
       "    <tr>\n",
       "      <th>1</th>\n",
       "      <td>spring</td>\n",
       "      <td>2011</td>\n",
       "      <td>january</td>\n",
       "      <td>0.0</td>\n",
       "      <td>0.0</td>\n",
       "      <td>0.0</td>\n",
       "      <td>2.0</td>\n",
       "      <td>25.083466</td>\n",
       "      <td>39.346774</td>\n",
       "      <td>69.6087</td>\n",
       "      <td>16.652113</td>\n",
       "      <td>801.0</td>\n",
       "    </tr>\n",
       "    <tr>\n",
       "      <th>2</th>\n",
       "      <td>spring</td>\n",
       "      <td>2011</td>\n",
       "      <td>january</td>\n",
       "      <td>0.0</td>\n",
       "      <td>1.0</td>\n",
       "      <td>1.0</td>\n",
       "      <td>1.0</td>\n",
       "      <td>17.229108</td>\n",
       "      <td>28.500730</td>\n",
       "      <td>43.7273</td>\n",
       "      <td>16.636703</td>\n",
       "      <td>1349.0</td>\n",
       "    </tr>\n",
       "    <tr>\n",
       "      <th>3</th>\n",
       "      <td>spring</td>\n",
       "      <td>2011</td>\n",
       "      <td>january</td>\n",
       "      <td>0.0</td>\n",
       "      <td>2.0</td>\n",
       "      <td>1.0</td>\n",
       "      <td>1.0</td>\n",
       "      <td>17.400000</td>\n",
       "      <td>30.000052</td>\n",
       "      <td>59.0435</td>\n",
       "      <td>10.739832</td>\n",
       "      <td>1562.0</td>\n",
       "    </tr>\n",
       "    <tr>\n",
       "      <th>4</th>\n",
       "      <td>spring</td>\n",
       "      <td>2011</td>\n",
       "      <td>january</td>\n",
       "      <td>0.0</td>\n",
       "      <td>3.0</td>\n",
       "      <td>1.0</td>\n",
       "      <td>1.0</td>\n",
       "      <td>18.666979</td>\n",
       "      <td>31.131820</td>\n",
       "      <td>43.6957</td>\n",
       "      <td>12.522300</td>\n",
       "      <td>1600.0</td>\n",
       "    </tr>\n",
       "  </tbody>\n",
       "</table>\n",
       "</div>"
      ],
      "text/plain": [
       "   season    yr     mnth  holiday  weekday  workingday  weathersit       temp  \\\n",
       "0  spring  2011  january      0.0      6.0         0.0         2.0  24.175849   \n",
       "1  spring  2011  january      0.0      0.0         0.0         2.0  25.083466   \n",
       "2  spring  2011  january      0.0      1.0         1.0         1.0  17.229108   \n",
       "3  spring  2011  january      0.0      2.0         1.0         1.0  17.400000   \n",
       "4  spring  2011  january      0.0      3.0         1.0         1.0  18.666979   \n",
       "\n",
       "       atemp      hum  windspeed     cnt  \n",
       "0  39.999250  80.5833  10.749882   985.0  \n",
       "1  39.346774  69.6087  16.652113   801.0  \n",
       "2  28.500730  43.7273  16.636703  1349.0  \n",
       "3  30.000052  59.0435  10.739832  1562.0  \n",
       "4  31.131820  43.6957  12.522300  1600.0  "
      ]
     },
     "execution_count": 136,
     "metadata": {},
     "output_type": "execute_result"
    }
   ],
   "source": [
    "# displays the first 5 rows\n",
    "df.head(5)"
   ]
  },
  {
   "cell_type": "code",
   "execution_count": 137,
   "id": "1ab5ad63-b6c1-4e25-9682-618b5a240f17",
   "metadata": {},
   "outputs": [
    {
     "data": {
      "text/html": [
       "<div>\n",
       "<style scoped>\n",
       "    .dataframe tbody tr th:only-of-type {\n",
       "        vertical-align: middle;\n",
       "    }\n",
       "\n",
       "    .dataframe tbody tr th {\n",
       "        vertical-align: top;\n",
       "    }\n",
       "\n",
       "    .dataframe thead th {\n",
       "        text-align: right;\n",
       "    }\n",
       "</style>\n",
       "<table border=\"1\" class=\"dataframe\">\n",
       "  <thead>\n",
       "    <tr style=\"text-align: right;\">\n",
       "      <th></th>\n",
       "      <th>season</th>\n",
       "      <th>yr</th>\n",
       "      <th>mnth</th>\n",
       "      <th>holiday</th>\n",
       "      <th>weekday</th>\n",
       "      <th>workingday</th>\n",
       "      <th>weathersit</th>\n",
       "      <th>temp</th>\n",
       "      <th>atemp</th>\n",
       "      <th>hum</th>\n",
       "      <th>windspeed</th>\n",
       "      <th>cnt</th>\n",
       "    </tr>\n",
       "  </thead>\n",
       "  <tbody>\n",
       "    <tr>\n",
       "      <th>726</th>\n",
       "      <td>spring</td>\n",
       "      <td>2012</td>\n",
       "      <td>december</td>\n",
       "      <td>0.0</td>\n",
       "      <td>4.0</td>\n",
       "      <td>1.0</td>\n",
       "      <td>2.0</td>\n",
       "      <td>19.945849</td>\n",
       "      <td>30.958372</td>\n",
       "      <td>65.2917</td>\n",
       "      <td>23.458911</td>\n",
       "      <td>2114.0</td>\n",
       "    </tr>\n",
       "    <tr>\n",
       "      <th>727</th>\n",
       "      <td>spring</td>\n",
       "      <td>2012</td>\n",
       "      <td>december</td>\n",
       "      <td>0.0</td>\n",
       "      <td>5.0</td>\n",
       "      <td>1.0</td>\n",
       "      <td>2.0</td>\n",
       "      <td>19.906651</td>\n",
       "      <td>32.833036</td>\n",
       "      <td>59.0000</td>\n",
       "      <td>10.416557</td>\n",
       "      <td>3095.0</td>\n",
       "    </tr>\n",
       "    <tr>\n",
       "      <th>728</th>\n",
       "      <td>spring</td>\n",
       "      <td>2012</td>\n",
       "      <td>december</td>\n",
       "      <td>0.0</td>\n",
       "      <td>6.0</td>\n",
       "      <td>0.0</td>\n",
       "      <td>2.0</td>\n",
       "      <td>19.906651</td>\n",
       "      <td>31.998400</td>\n",
       "      <td>75.2917</td>\n",
       "      <td>8.333661</td>\n",
       "      <td>1341.0</td>\n",
       "    </tr>\n",
       "    <tr>\n",
       "      <th>729</th>\n",
       "      <td>spring</td>\n",
       "      <td>2012</td>\n",
       "      <td>december</td>\n",
       "      <td>0.0</td>\n",
       "      <td>0.0</td>\n",
       "      <td>0.0</td>\n",
       "      <td>1.0</td>\n",
       "      <td>20.024151</td>\n",
       "      <td>31.292200</td>\n",
       "      <td>48.3333</td>\n",
       "      <td>23.500518</td>\n",
       "      <td>1796.0</td>\n",
       "    </tr>\n",
       "    <tr>\n",
       "      <th>730</th>\n",
       "      <td>spring</td>\n",
       "      <td>2012</td>\n",
       "      <td>december</td>\n",
       "      <td>0.0</td>\n",
       "      <td>1.0</td>\n",
       "      <td>1.0</td>\n",
       "      <td>2.0</td>\n",
       "      <td>18.144151</td>\n",
       "      <td>30.750142</td>\n",
       "      <td>57.7500</td>\n",
       "      <td>10.374682</td>\n",
       "      <td>2729.0</td>\n",
       "    </tr>\n",
       "  </tbody>\n",
       "</table>\n",
       "</div>"
      ],
      "text/plain": [
       "     season    yr      mnth  holiday  weekday  workingday  weathersit  \\\n",
       "726  spring  2012  december      0.0      4.0         1.0         2.0   \n",
       "727  spring  2012  december      0.0      5.0         1.0         2.0   \n",
       "728  spring  2012  december      0.0      6.0         0.0         2.0   \n",
       "729  spring  2012  december      0.0      0.0         0.0         1.0   \n",
       "730  spring  2012  december      0.0      1.0         1.0         2.0   \n",
       "\n",
       "          temp      atemp      hum  windspeed     cnt  \n",
       "726  19.945849  30.958372  65.2917  23.458911  2114.0  \n",
       "727  19.906651  32.833036  59.0000  10.416557  3095.0  \n",
       "728  19.906651  31.998400  75.2917   8.333661  1341.0  \n",
       "729  20.024151  31.292200  48.3333  23.500518  1796.0  \n",
       "730  18.144151  30.750142  57.7500  10.374682  2729.0  "
      ]
     },
     "execution_count": 137,
     "metadata": {},
     "output_type": "execute_result"
    }
   ],
   "source": [
    "# displays the last 5 rows\n",
    "df.tail(5)"
   ]
  },
  {
   "cell_type": "code",
   "execution_count": 138,
   "id": "565d7b05-3d41-45ba-a5c3-19a0729896d2",
   "metadata": {},
   "outputs": [
    {
     "name": "stdout",
     "output_type": "stream",
     "text": [
      "<class 'pandas.core.frame.DataFrame'>\n",
      "Index: 731 entries, 0 to 730\n",
      "Data columns (total 12 columns):\n",
      " #   Column      Non-Null Count  Dtype  \n",
      "---  ------      --------------  -----  \n",
      " 0   season      731 non-null    object \n",
      " 1   yr          731 non-null    int64  \n",
      " 2   mnth        731 non-null    object \n",
      " 3   holiday     731 non-null    float64\n",
      " 4   weekday     731 non-null    float64\n",
      " 5   workingday  731 non-null    float64\n",
      " 6   weathersit  731 non-null    float64\n",
      " 7   temp        731 non-null    float64\n",
      " 8   atemp       731 non-null    float64\n",
      " 9   hum         731 non-null    float64\n",
      " 10  windspeed   731 non-null    float64\n",
      " 11  cnt         731 non-null    float64\n",
      "dtypes: float64(9), int64(1), object(2)\n",
      "memory usage: 90.4+ KB\n"
     ]
    }
   ],
   "source": [
    "# displays meta informations, sizes, data types\n",
    "df.info()"
   ]
  },
  {
   "cell_type": "code",
   "execution_count": 139,
   "id": "6f0dca01-7922-40ea-bba2-bb8381d0d19b",
   "metadata": {},
   "outputs": [
    {
     "data": {
      "text/html": [
       "<div>\n",
       "<style scoped>\n",
       "    .dataframe tbody tr th:only-of-type {\n",
       "        vertical-align: middle;\n",
       "    }\n",
       "\n",
       "    .dataframe tbody tr th {\n",
       "        vertical-align: top;\n",
       "    }\n",
       "\n",
       "    .dataframe thead th {\n",
       "        text-align: right;\n",
       "    }\n",
       "</style>\n",
       "<table border=\"1\" class=\"dataframe\">\n",
       "  <thead>\n",
       "    <tr style=\"text-align: right;\">\n",
       "      <th></th>\n",
       "      <th>yr</th>\n",
       "      <th>holiday</th>\n",
       "      <th>weekday</th>\n",
       "      <th>workingday</th>\n",
       "      <th>weathersit</th>\n",
       "      <th>temp</th>\n",
       "      <th>atemp</th>\n",
       "      <th>hum</th>\n",
       "      <th>windspeed</th>\n",
       "      <th>cnt</th>\n",
       "    </tr>\n",
       "  </thead>\n",
       "  <tbody>\n",
       "    <tr>\n",
       "      <th>count</th>\n",
       "      <td>731.000000</td>\n",
       "      <td>731.000000</td>\n",
       "      <td>731.000000</td>\n",
       "      <td>731.000000</td>\n",
       "      <td>731.000000</td>\n",
       "      <td>731.000000</td>\n",
       "      <td>731.000000</td>\n",
       "      <td>731.000000</td>\n",
       "      <td>731.000000</td>\n",
       "      <td>731.000000</td>\n",
       "    </tr>\n",
       "    <tr>\n",
       "      <th>mean</th>\n",
       "      <td>2011.500684</td>\n",
       "      <td>0.028728</td>\n",
       "      <td>2.997264</td>\n",
       "      <td>0.683995</td>\n",
       "      <td>1.395349</td>\n",
       "      <td>31.283085</td>\n",
       "      <td>47.307363</td>\n",
       "      <td>62.789406</td>\n",
       "      <td>12.762576</td>\n",
       "      <td>4504.348837</td>\n",
       "    </tr>\n",
       "    <tr>\n",
       "      <th>std</th>\n",
       "      <td>0.500342</td>\n",
       "      <td>0.167155</td>\n",
       "      <td>2.004787</td>\n",
       "      <td>0.465233</td>\n",
       "      <td>0.544894</td>\n",
       "      <td>8.603397</td>\n",
       "      <td>10.755438</td>\n",
       "      <td>14.242910</td>\n",
       "      <td>5.192357</td>\n",
       "      <td>1937.211452</td>\n",
       "    </tr>\n",
       "    <tr>\n",
       "      <th>min</th>\n",
       "      <td>2011.000000</td>\n",
       "      <td>0.000000</td>\n",
       "      <td>0.000000</td>\n",
       "      <td>0.000000</td>\n",
       "      <td>1.000000</td>\n",
       "      <td>10.779129</td>\n",
       "      <td>21.218594</td>\n",
       "      <td>0.000000</td>\n",
       "      <td>1.500244</td>\n",
       "      <td>22.000000</td>\n",
       "    </tr>\n",
       "    <tr>\n",
       "      <th>25%</th>\n",
       "      <td>2011.000000</td>\n",
       "      <td>0.000000</td>\n",
       "      <td>1.000000</td>\n",
       "      <td>0.000000</td>\n",
       "      <td>1.000000</td>\n",
       "      <td>23.842925</td>\n",
       "      <td>38.297605</td>\n",
       "      <td>52.000000</td>\n",
       "      <td>9.041650</td>\n",
       "      <td>3152.000000</td>\n",
       "    </tr>\n",
       "    <tr>\n",
       "      <th>50%</th>\n",
       "      <td>2012.000000</td>\n",
       "      <td>0.000000</td>\n",
       "      <td>3.000000</td>\n",
       "      <td>1.000000</td>\n",
       "      <td>1.000000</td>\n",
       "      <td>31.421651</td>\n",
       "      <td>48.124378</td>\n",
       "      <td>62.666700</td>\n",
       "      <td>12.125325</td>\n",
       "      <td>4548.000000</td>\n",
       "    </tr>\n",
       "    <tr>\n",
       "      <th>75%</th>\n",
       "      <td>2012.000000</td>\n",
       "      <td>0.000000</td>\n",
       "      <td>5.000000</td>\n",
       "      <td>1.000000</td>\n",
       "      <td>2.000000</td>\n",
       "      <td>38.804575</td>\n",
       "      <td>56.167732</td>\n",
       "      <td>73.020850</td>\n",
       "      <td>15.625371</td>\n",
       "      <td>5956.000000</td>\n",
       "    </tr>\n",
       "    <tr>\n",
       "      <th>max</th>\n",
       "      <td>2012.000000</td>\n",
       "      <td>1.000000</td>\n",
       "      <td>6.000000</td>\n",
       "      <td>1.000000</td>\n",
       "      <td>3.000000</td>\n",
       "      <td>48.498349</td>\n",
       "      <td>71.499136</td>\n",
       "      <td>97.250000</td>\n",
       "      <td>34.000021</td>\n",
       "      <td>8714.000000</td>\n",
       "    </tr>\n",
       "  </tbody>\n",
       "</table>\n",
       "</div>"
      ],
      "text/plain": [
       "                yr     holiday     weekday  workingday  weathersit  \\\n",
       "count   731.000000  731.000000  731.000000  731.000000  731.000000   \n",
       "mean   2011.500684    0.028728    2.997264    0.683995    1.395349   \n",
       "std       0.500342    0.167155    2.004787    0.465233    0.544894   \n",
       "min    2011.000000    0.000000    0.000000    0.000000    1.000000   \n",
       "25%    2011.000000    0.000000    1.000000    0.000000    1.000000   \n",
       "50%    2012.000000    0.000000    3.000000    1.000000    1.000000   \n",
       "75%    2012.000000    0.000000    5.000000    1.000000    2.000000   \n",
       "max    2012.000000    1.000000    6.000000    1.000000    3.000000   \n",
       "\n",
       "             temp       atemp         hum   windspeed          cnt  \n",
       "count  731.000000  731.000000  731.000000  731.000000   731.000000  \n",
       "mean    31.283085   47.307363   62.789406   12.762576  4504.348837  \n",
       "std      8.603397   10.755438   14.242910    5.192357  1937.211452  \n",
       "min     10.779129   21.218594    0.000000    1.500244    22.000000  \n",
       "25%     23.842925   38.297605   52.000000    9.041650  3152.000000  \n",
       "50%     31.421651   48.124378   62.666700   12.125325  4548.000000  \n",
       "75%     38.804575   56.167732   73.020850   15.625371  5956.000000  \n",
       "max     48.498349   71.499136   97.250000   34.000021  8714.000000  "
      ]
     },
     "execution_count": 139,
     "metadata": {},
     "output_type": "execute_result"
    }
   ],
   "source": [
    "# caclulates percentiles, averages, and standard deviations for each column\n",
    "# it is good for a fast, first inspection\n",
    "df.describe()"
   ]
  },
  {
   "cell_type": "markdown",
   "id": "33928ebe-b7ec-4719-b300-024a6693b333",
   "metadata": {},
   "source": [
    "## Filtering"
   ]
  },
  {
   "cell_type": "code",
   "execution_count": 140,
   "id": "60679418-6ece-46d0-a021-8857d1bd7a5b",
   "metadata": {},
   "outputs": [
    {
     "data": {
      "text/html": [
       "<div>\n",
       "<style scoped>\n",
       "    .dataframe tbody tr th:only-of-type {\n",
       "        vertical-align: middle;\n",
       "    }\n",
       "\n",
       "    .dataframe tbody tr th {\n",
       "        vertical-align: top;\n",
       "    }\n",
       "\n",
       "    .dataframe thead th {\n",
       "        text-align: right;\n",
       "    }\n",
       "</style>\n",
       "<table border=\"1\" class=\"dataframe\">\n",
       "  <thead>\n",
       "    <tr style=\"text-align: right;\">\n",
       "      <th></th>\n",
       "      <th>season</th>\n",
       "      <th>yr</th>\n",
       "      <th>mnth</th>\n",
       "      <th>holiday</th>\n",
       "      <th>weekday</th>\n",
       "      <th>workingday</th>\n",
       "      <th>weathersit</th>\n",
       "      <th>temp</th>\n",
       "      <th>atemp</th>\n",
       "      <th>hum</th>\n",
       "      <th>windspeed</th>\n",
       "      <th>cnt</th>\n",
       "    </tr>\n",
       "  </thead>\n",
       "  <tbody>\n",
       "    <tr>\n",
       "      <th>365</th>\n",
       "      <td>spring</td>\n",
       "      <td>2012</td>\n",
       "      <td>january</td>\n",
       "      <td>0.0</td>\n",
       "      <td>0.0</td>\n",
       "      <td>0.0</td>\n",
       "      <td>1.0</td>\n",
       "      <td>25.390000</td>\n",
       "      <td>40.790986</td>\n",
       "      <td>69.2500</td>\n",
       "      <td>12.875189</td>\n",
       "      <td>2294.0</td>\n",
       "    </tr>\n",
       "    <tr>\n",
       "      <th>366</th>\n",
       "      <td>spring</td>\n",
       "      <td>2012</td>\n",
       "      <td>january</td>\n",
       "      <td>1.0</td>\n",
       "      <td>1.0</td>\n",
       "      <td>0.0</td>\n",
       "      <td>1.0</td>\n",
       "      <td>20.833021</td>\n",
       "      <td>32.652064</td>\n",
       "      <td>38.1304</td>\n",
       "      <td>22.087555</td>\n",
       "      <td>1951.0</td>\n",
       "    </tr>\n",
       "    <tr>\n",
       "      <th>367</th>\n",
       "      <td>spring</td>\n",
       "      <td>2012</td>\n",
       "      <td>january</td>\n",
       "      <td>0.0</td>\n",
       "      <td>2.0</td>\n",
       "      <td>1.0</td>\n",
       "      <td>1.0</td>\n",
       "      <td>15.050000</td>\n",
       "      <td>24.334150</td>\n",
       "      <td>44.1250</td>\n",
       "      <td>24.499957</td>\n",
       "      <td>2236.0</td>\n",
       "    </tr>\n",
       "    <tr>\n",
       "      <th>368</th>\n",
       "      <td>spring</td>\n",
       "      <td>2012</td>\n",
       "      <td>january</td>\n",
       "      <td>0.0</td>\n",
       "      <td>3.0</td>\n",
       "      <td>1.0</td>\n",
       "      <td>2.0</td>\n",
       "      <td>13.052500</td>\n",
       "      <td>23.876242</td>\n",
       "      <td>41.4583</td>\n",
       "      <td>12.374900</td>\n",
       "      <td>2368.0</td>\n",
       "    </tr>\n",
       "    <tr>\n",
       "      <th>369</th>\n",
       "      <td>spring</td>\n",
       "      <td>2012</td>\n",
       "      <td>january</td>\n",
       "      <td>0.0</td>\n",
       "      <td>4.0</td>\n",
       "      <td>1.0</td>\n",
       "      <td>1.0</td>\n",
       "      <td>20.494151</td>\n",
       "      <td>34.375192</td>\n",
       "      <td>52.4167</td>\n",
       "      <td>8.709129</td>\n",
       "      <td>3272.0</td>\n",
       "    </tr>\n",
       "    <tr>\n",
       "      <th>...</th>\n",
       "      <td>...</td>\n",
       "      <td>...</td>\n",
       "      <td>...</td>\n",
       "      <td>...</td>\n",
       "      <td>...</td>\n",
       "      <td>...</td>\n",
       "      <td>...</td>\n",
       "      <td>...</td>\n",
       "      <td>...</td>\n",
       "      <td>...</td>\n",
       "      <td>...</td>\n",
       "      <td>...</td>\n",
       "    </tr>\n",
       "    <tr>\n",
       "      <th>726</th>\n",
       "      <td>spring</td>\n",
       "      <td>2012</td>\n",
       "      <td>december</td>\n",
       "      <td>0.0</td>\n",
       "      <td>4.0</td>\n",
       "      <td>1.0</td>\n",
       "      <td>2.0</td>\n",
       "      <td>19.945849</td>\n",
       "      <td>30.958372</td>\n",
       "      <td>65.2917</td>\n",
       "      <td>23.458911</td>\n",
       "      <td>2114.0</td>\n",
       "    </tr>\n",
       "    <tr>\n",
       "      <th>727</th>\n",
       "      <td>spring</td>\n",
       "      <td>2012</td>\n",
       "      <td>december</td>\n",
       "      <td>0.0</td>\n",
       "      <td>5.0</td>\n",
       "      <td>1.0</td>\n",
       "      <td>2.0</td>\n",
       "      <td>19.906651</td>\n",
       "      <td>32.833036</td>\n",
       "      <td>59.0000</td>\n",
       "      <td>10.416557</td>\n",
       "      <td>3095.0</td>\n",
       "    </tr>\n",
       "    <tr>\n",
       "      <th>728</th>\n",
       "      <td>spring</td>\n",
       "      <td>2012</td>\n",
       "      <td>december</td>\n",
       "      <td>0.0</td>\n",
       "      <td>6.0</td>\n",
       "      <td>0.0</td>\n",
       "      <td>2.0</td>\n",
       "      <td>19.906651</td>\n",
       "      <td>31.998400</td>\n",
       "      <td>75.2917</td>\n",
       "      <td>8.333661</td>\n",
       "      <td>1341.0</td>\n",
       "    </tr>\n",
       "    <tr>\n",
       "      <th>729</th>\n",
       "      <td>spring</td>\n",
       "      <td>2012</td>\n",
       "      <td>december</td>\n",
       "      <td>0.0</td>\n",
       "      <td>0.0</td>\n",
       "      <td>0.0</td>\n",
       "      <td>1.0</td>\n",
       "      <td>20.024151</td>\n",
       "      <td>31.292200</td>\n",
       "      <td>48.3333</td>\n",
       "      <td>23.500518</td>\n",
       "      <td>1796.0</td>\n",
       "    </tr>\n",
       "    <tr>\n",
       "      <th>730</th>\n",
       "      <td>spring</td>\n",
       "      <td>2012</td>\n",
       "      <td>december</td>\n",
       "      <td>0.0</td>\n",
       "      <td>1.0</td>\n",
       "      <td>1.0</td>\n",
       "      <td>2.0</td>\n",
       "      <td>18.144151</td>\n",
       "      <td>30.750142</td>\n",
       "      <td>57.7500</td>\n",
       "      <td>10.374682</td>\n",
       "      <td>2729.0</td>\n",
       "    </tr>\n",
       "  </tbody>\n",
       "</table>\n",
       "<p>366 rows × 12 columns</p>\n",
       "</div>"
      ],
      "text/plain": [
       "     season    yr      mnth  holiday  weekday  workingday  weathersit  \\\n",
       "365  spring  2012   january      0.0      0.0         0.0         1.0   \n",
       "366  spring  2012   january      1.0      1.0         0.0         1.0   \n",
       "367  spring  2012   january      0.0      2.0         1.0         1.0   \n",
       "368  spring  2012   january      0.0      3.0         1.0         2.0   \n",
       "369  spring  2012   january      0.0      4.0         1.0         1.0   \n",
       "..      ...   ...       ...      ...      ...         ...         ...   \n",
       "726  spring  2012  december      0.0      4.0         1.0         2.0   \n",
       "727  spring  2012  december      0.0      5.0         1.0         2.0   \n",
       "728  spring  2012  december      0.0      6.0         0.0         2.0   \n",
       "729  spring  2012  december      0.0      0.0         0.0         1.0   \n",
       "730  spring  2012  december      0.0      1.0         1.0         2.0   \n",
       "\n",
       "          temp      atemp      hum  windspeed     cnt  \n",
       "365  25.390000  40.790986  69.2500  12.875189  2294.0  \n",
       "366  20.833021  32.652064  38.1304  22.087555  1951.0  \n",
       "367  15.050000  24.334150  44.1250  24.499957  2236.0  \n",
       "368  13.052500  23.876242  41.4583  12.374900  2368.0  \n",
       "369  20.494151  34.375192  52.4167   8.709129  3272.0  \n",
       "..         ...        ...      ...        ...     ...  \n",
       "726  19.945849  30.958372  65.2917  23.458911  2114.0  \n",
       "727  19.906651  32.833036  59.0000  10.416557  3095.0  \n",
       "728  19.906651  31.998400  75.2917   8.333661  1341.0  \n",
       "729  20.024151  31.292200  48.3333  23.500518  1796.0  \n",
       "730  18.144151  30.750142  57.7500  10.374682  2729.0  \n",
       "\n",
       "[366 rows x 12 columns]"
      ]
     },
     "execution_count": 140,
     "metadata": {},
     "output_type": "execute_result"
    }
   ],
   "source": [
    "# just like in numpy, we can use boolean masks to filter the dataset\n",
    "# lets filter for the datapoints that was recorded in 2012\n",
    "df[df.yr == 2012]"
   ]
  },
  {
   "cell_type": "code",
   "execution_count": 141,
   "id": "3112f459-e71d-4362-9636-872f5313aaa0",
   "metadata": {},
   "outputs": [
    {
     "data": {
      "text/html": [
       "<div>\n",
       "<style scoped>\n",
       "    .dataframe tbody tr th:only-of-type {\n",
       "        vertical-align: middle;\n",
       "    }\n",
       "\n",
       "    .dataframe tbody tr th {\n",
       "        vertical-align: top;\n",
       "    }\n",
       "\n",
       "    .dataframe thead th {\n",
       "        text-align: right;\n",
       "    }\n",
       "</style>\n",
       "<table border=\"1\" class=\"dataframe\">\n",
       "  <thead>\n",
       "    <tr style=\"text-align: right;\">\n",
       "      <th></th>\n",
       "      <th>season</th>\n",
       "      <th>yr</th>\n",
       "      <th>mnth</th>\n",
       "      <th>holiday</th>\n",
       "      <th>weekday</th>\n",
       "      <th>workingday</th>\n",
       "      <th>weathersit</th>\n",
       "      <th>temp</th>\n",
       "      <th>atemp</th>\n",
       "      <th>hum</th>\n",
       "      <th>windspeed</th>\n",
       "      <th>cnt</th>\n",
       "    </tr>\n",
       "  </thead>\n",
       "  <tbody>\n",
       "    <tr>\n",
       "      <th>445</th>\n",
       "      <td>summer</td>\n",
       "      <td>2012</td>\n",
       "      <td>march</td>\n",
       "      <td>0.0</td>\n",
       "      <td>3.0</td>\n",
       "      <td>1.0</td>\n",
       "      <td>2.0</td>\n",
       "      <td>32.988349</td>\n",
       "      <td>49.875028</td>\n",
       "      <td>82.1250</td>\n",
       "      <td>6.000406</td>\n",
       "      <td>6230.0</td>\n",
       "    </tr>\n",
       "    <tr>\n",
       "      <th>446</th>\n",
       "      <td>summer</td>\n",
       "      <td>2012</td>\n",
       "      <td>march</td>\n",
       "      <td>0.0</td>\n",
       "      <td>4.0</td>\n",
       "      <td>1.0</td>\n",
       "      <td>1.0</td>\n",
       "      <td>34.045849</td>\n",
       "      <td>51.083422</td>\n",
       "      <td>83.1250</td>\n",
       "      <td>7.876654</td>\n",
       "      <td>6871.0</td>\n",
       "    </tr>\n",
       "    <tr>\n",
       "      <th>447</th>\n",
       "      <td>summer</td>\n",
       "      <td>2012</td>\n",
       "      <td>march</td>\n",
       "      <td>0.0</td>\n",
       "      <td>5.0</td>\n",
       "      <td>1.0</td>\n",
       "      <td>2.0</td>\n",
       "      <td>36.278349</td>\n",
       "      <td>53.624422</td>\n",
       "      <td>69.4167</td>\n",
       "      <td>7.792100</td>\n",
       "      <td>8362.0</td>\n",
       "    </tr>\n",
       "    <tr>\n",
       "      <th>448</th>\n",
       "      <td>summer</td>\n",
       "      <td>2012</td>\n",
       "      <td>march</td>\n",
       "      <td>0.0</td>\n",
       "      <td>6.0</td>\n",
       "      <td>0.0</td>\n",
       "      <td>2.0</td>\n",
       "      <td>31.617500</td>\n",
       "      <td>48.124378</td>\n",
       "      <td>88.5417</td>\n",
       "      <td>12.916461</td>\n",
       "      <td>3372.0</td>\n",
       "    </tr>\n",
       "    <tr>\n",
       "      <th>449</th>\n",
       "      <td>summer</td>\n",
       "      <td>2012</td>\n",
       "      <td>march</td>\n",
       "      <td>0.0</td>\n",
       "      <td>0.0</td>\n",
       "      <td>0.0</td>\n",
       "      <td>2.0</td>\n",
       "      <td>28.562500</td>\n",
       "      <td>44.874208</td>\n",
       "      <td>88.0833</td>\n",
       "      <td>14.791925</td>\n",
       "      <td>4996.0</td>\n",
       "    </tr>\n",
       "    <tr>\n",
       "      <th>...</th>\n",
       "      <td>...</td>\n",
       "      <td>...</td>\n",
       "      <td>...</td>\n",
       "      <td>...</td>\n",
       "      <td>...</td>\n",
       "      <td>...</td>\n",
       "      <td>...</td>\n",
       "      <td>...</td>\n",
       "      <td>...</td>\n",
       "      <td>...</td>\n",
       "      <td>...</td>\n",
       "      <td>...</td>\n",
       "    </tr>\n",
       "    <tr>\n",
       "      <th>532</th>\n",
       "      <td>summer</td>\n",
       "      <td>2012</td>\n",
       "      <td>june</td>\n",
       "      <td>0.0</td>\n",
       "      <td>6.0</td>\n",
       "      <td>0.0</td>\n",
       "      <td>1.0</td>\n",
       "      <td>37.688349</td>\n",
       "      <td>55.250728</td>\n",
       "      <td>50.4167</td>\n",
       "      <td>11.166689</td>\n",
       "      <td>7702.0</td>\n",
       "    </tr>\n",
       "    <tr>\n",
       "      <th>533</th>\n",
       "      <td>summer</td>\n",
       "      <td>2012</td>\n",
       "      <td>june</td>\n",
       "      <td>0.0</td>\n",
       "      <td>0.0</td>\n",
       "      <td>0.0</td>\n",
       "      <td>1.0</td>\n",
       "      <td>35.847500</td>\n",
       "      <td>53.750350</td>\n",
       "      <td>59.8750</td>\n",
       "      <td>9.708568</td>\n",
       "      <td>6978.0</td>\n",
       "    </tr>\n",
       "    <tr>\n",
       "      <th>534</th>\n",
       "      <td>summer</td>\n",
       "      <td>2012</td>\n",
       "      <td>june</td>\n",
       "      <td>0.0</td>\n",
       "      <td>1.0</td>\n",
       "      <td>1.0</td>\n",
       "      <td>2.0</td>\n",
       "      <td>34.711651</td>\n",
       "      <td>51.959572</td>\n",
       "      <td>77.7917</td>\n",
       "      <td>11.707982</td>\n",
       "      <td>5099.0</td>\n",
       "    </tr>\n",
       "    <tr>\n",
       "      <th>535</th>\n",
       "      <td>summer</td>\n",
       "      <td>2012</td>\n",
       "      <td>june</td>\n",
       "      <td>0.0</td>\n",
       "      <td>2.0</td>\n",
       "      <td>1.0</td>\n",
       "      <td>1.0</td>\n",
       "      <td>40.351651</td>\n",
       "      <td>59.209672</td>\n",
       "      <td>69.0000</td>\n",
       "      <td>9.917139</td>\n",
       "      <td>6825.0</td>\n",
       "    </tr>\n",
       "    <tr>\n",
       "      <th>536</th>\n",
       "      <td>summer</td>\n",
       "      <td>2012</td>\n",
       "      <td>june</td>\n",
       "      <td>0.0</td>\n",
       "      <td>3.0</td>\n",
       "      <td>1.0</td>\n",
       "      <td>1.0</td>\n",
       "      <td>44.777500</td>\n",
       "      <td>63.584350</td>\n",
       "      <td>59.2083</td>\n",
       "      <td>7.625404</td>\n",
       "      <td>6211.0</td>\n",
       "    </tr>\n",
       "  </tbody>\n",
       "</table>\n",
       "<p>92 rows × 12 columns</p>\n",
       "</div>"
      ],
      "text/plain": [
       "     season    yr   mnth  holiday  weekday  workingday  weathersit       temp  \\\n",
       "445  summer  2012  march      0.0      3.0         1.0         2.0  32.988349   \n",
       "446  summer  2012  march      0.0      4.0         1.0         1.0  34.045849   \n",
       "447  summer  2012  march      0.0      5.0         1.0         2.0  36.278349   \n",
       "448  summer  2012  march      0.0      6.0         0.0         2.0  31.617500   \n",
       "449  summer  2012  march      0.0      0.0         0.0         2.0  28.562500   \n",
       "..      ...   ...    ...      ...      ...         ...         ...        ...   \n",
       "532  summer  2012   june      0.0      6.0         0.0         1.0  37.688349   \n",
       "533  summer  2012   june      0.0      0.0         0.0         1.0  35.847500   \n",
       "534  summer  2012   june      0.0      1.0         1.0         2.0  34.711651   \n",
       "535  summer  2012   june      0.0      2.0         1.0         1.0  40.351651   \n",
       "536  summer  2012   june      0.0      3.0         1.0         1.0  44.777500   \n",
       "\n",
       "         atemp      hum  windspeed     cnt  \n",
       "445  49.875028  82.1250   6.000406  6230.0  \n",
       "446  51.083422  83.1250   7.876654  6871.0  \n",
       "447  53.624422  69.4167   7.792100  8362.0  \n",
       "448  48.124378  88.5417  12.916461  3372.0  \n",
       "449  44.874208  88.0833  14.791925  4996.0  \n",
       "..         ...      ...        ...     ...  \n",
       "532  55.250728  50.4167  11.166689  7702.0  \n",
       "533  53.750350  59.8750   9.708568  6978.0  \n",
       "534  51.959572  77.7917  11.707982  5099.0  \n",
       "535  59.209672  69.0000   9.917139  6825.0  \n",
       "536  63.584350  59.2083   7.625404  6211.0  \n",
       "\n",
       "[92 rows x 12 columns]"
      ]
     },
     "execution_count": 141,
     "metadata": {},
     "output_type": "execute_result"
    }
   ],
   "source": [
    "# now lets filter for the datapoints that was recorded in the summer of 2012\n",
    "# here \"&\" performs a logical and operation between the two boolean mask\n",
    "# when we merge two masks in this manner parenthasis are important\n",
    "# because \"&\" would execute before \"==\"\n",
    "# so we just ensure the order of operations\n",
    "df[(df.yr == 2012) & (df.season == \"summer\")]"
   ]
  },
  {
   "cell_type": "code",
   "execution_count": 142,
   "id": "b2db8a96-ab64-4b27-9884-1e376fc63c41",
   "metadata": {},
   "outputs": [
    {
     "data": {
      "text/html": [
       "<div>\n",
       "<style scoped>\n",
       "    .dataframe tbody tr th:only-of-type {\n",
       "        vertical-align: middle;\n",
       "    }\n",
       "\n",
       "    .dataframe tbody tr th {\n",
       "        vertical-align: top;\n",
       "    }\n",
       "\n",
       "    .dataframe thead th {\n",
       "        text-align: right;\n",
       "    }\n",
       "</style>\n",
       "<table border=\"1\" class=\"dataframe\">\n",
       "  <thead>\n",
       "    <tr style=\"text-align: right;\">\n",
       "      <th></th>\n",
       "      <th>season</th>\n",
       "      <th>yr</th>\n",
       "      <th>mnth</th>\n",
       "      <th>holiday</th>\n",
       "      <th>weekday</th>\n",
       "      <th>workingday</th>\n",
       "      <th>weathersit</th>\n",
       "      <th>temp</th>\n",
       "      <th>atemp</th>\n",
       "      <th>hum</th>\n",
       "      <th>windspeed</th>\n",
       "      <th>cnt</th>\n",
       "    </tr>\n",
       "  </thead>\n",
       "  <tbody>\n",
       "    <tr>\n",
       "      <th>0</th>\n",
       "      <td>spring</td>\n",
       "      <td>2011</td>\n",
       "      <td>january</td>\n",
       "      <td>0.0</td>\n",
       "      <td>6.0</td>\n",
       "      <td>0.0</td>\n",
       "      <td>2.0</td>\n",
       "      <td>24.175849</td>\n",
       "      <td>39.999250</td>\n",
       "      <td>80.5833</td>\n",
       "      <td>10.749882</td>\n",
       "      <td>985.0</td>\n",
       "    </tr>\n",
       "    <tr>\n",
       "      <th>1</th>\n",
       "      <td>spring</td>\n",
       "      <td>2011</td>\n",
       "      <td>january</td>\n",
       "      <td>0.0</td>\n",
       "      <td>0.0</td>\n",
       "      <td>0.0</td>\n",
       "      <td>2.0</td>\n",
       "      <td>25.083466</td>\n",
       "      <td>39.346774</td>\n",
       "      <td>69.6087</td>\n",
       "      <td>16.652113</td>\n",
       "      <td>801.0</td>\n",
       "    </tr>\n",
       "    <tr>\n",
       "      <th>18</th>\n",
       "      <td>spring</td>\n",
       "      <td>2011</td>\n",
       "      <td>january</td>\n",
       "      <td>0.0</td>\n",
       "      <td>3.0</td>\n",
       "      <td>1.0</td>\n",
       "      <td>2.0</td>\n",
       "      <td>21.732178</td>\n",
       "      <td>35.695852</td>\n",
       "      <td>74.1739</td>\n",
       "      <td>13.957239</td>\n",
       "      <td>1650.0</td>\n",
       "    </tr>\n",
       "    <tr>\n",
       "      <th>19</th>\n",
       "      <td>spring</td>\n",
       "      <td>2011</td>\n",
       "      <td>january</td>\n",
       "      <td>0.0</td>\n",
       "      <td>4.0</td>\n",
       "      <td>1.0</td>\n",
       "      <td>2.0</td>\n",
       "      <td>20.298349</td>\n",
       "      <td>32.833300</td>\n",
       "      <td>53.8333</td>\n",
       "      <td>13.125568</td>\n",
       "      <td>1927.0</td>\n",
       "    </tr>\n",
       "    <tr>\n",
       "      <th>32</th>\n",
       "      <td>spring</td>\n",
       "      <td>2011</td>\n",
       "      <td>february</td>\n",
       "      <td>0.0</td>\n",
       "      <td>3.0</td>\n",
       "      <td>1.0</td>\n",
       "      <td>2.0</td>\n",
       "      <td>20.220000</td>\n",
       "      <td>32.791522</td>\n",
       "      <td>77.5417</td>\n",
       "      <td>17.708636</td>\n",
       "      <td>1526.0</td>\n",
       "    </tr>\n",
       "    <tr>\n",
       "      <th>...</th>\n",
       "      <td>...</td>\n",
       "      <td>...</td>\n",
       "      <td>...</td>\n",
       "      <td>...</td>\n",
       "      <td>...</td>\n",
       "      <td>...</td>\n",
       "      <td>...</td>\n",
       "      <td>...</td>\n",
       "      <td>...</td>\n",
       "      <td>...</td>\n",
       "      <td>...</td>\n",
       "      <td>...</td>\n",
       "    </tr>\n",
       "    <tr>\n",
       "      <th>719</th>\n",
       "      <td>winter</td>\n",
       "      <td>2012</td>\n",
       "      <td>december</td>\n",
       "      <td>0.0</td>\n",
       "      <td>4.0</td>\n",
       "      <td>1.0</td>\n",
       "      <td>2.0</td>\n",
       "      <td>23.510000</td>\n",
       "      <td>38.124322</td>\n",
       "      <td>66.7917</td>\n",
       "      <td>8.875021</td>\n",
       "      <td>4128.0</td>\n",
       "    </tr>\n",
       "    <tr>\n",
       "      <th>720</th>\n",
       "      <td>spring</td>\n",
       "      <td>2012</td>\n",
       "      <td>december</td>\n",
       "      <td>0.0</td>\n",
       "      <td>5.0</td>\n",
       "      <td>1.0</td>\n",
       "      <td>2.0</td>\n",
       "      <td>23.353349</td>\n",
       "      <td>35.916622</td>\n",
       "      <td>55.6667</td>\n",
       "      <td>25.083661</td>\n",
       "      <td>3623.0</td>\n",
       "    </tr>\n",
       "    <tr>\n",
       "      <th>721</th>\n",
       "      <td>spring</td>\n",
       "      <td>2012</td>\n",
       "      <td>december</td>\n",
       "      <td>0.0</td>\n",
       "      <td>6.0</td>\n",
       "      <td>0.0</td>\n",
       "      <td>1.0</td>\n",
       "      <td>20.494151</td>\n",
       "      <td>31.583458</td>\n",
       "      <td>44.1250</td>\n",
       "      <td>27.292182</td>\n",
       "      <td>1749.0</td>\n",
       "    </tr>\n",
       "    <tr>\n",
       "      <th>724</th>\n",
       "      <td>spring</td>\n",
       "      <td>2012</td>\n",
       "      <td>december</td>\n",
       "      <td>1.0</td>\n",
       "      <td>2.0</td>\n",
       "      <td>0.0</td>\n",
       "      <td>2.0</td>\n",
       "      <td>21.691288</td>\n",
       "      <td>35.434690</td>\n",
       "      <td>73.4783</td>\n",
       "      <td>11.304642</td>\n",
       "      <td>1013.0</td>\n",
       "    </tr>\n",
       "    <tr>\n",
       "      <th>729</th>\n",
       "      <td>spring</td>\n",
       "      <td>2012</td>\n",
       "      <td>december</td>\n",
       "      <td>0.0</td>\n",
       "      <td>0.0</td>\n",
       "      <td>0.0</td>\n",
       "      <td>1.0</td>\n",
       "      <td>20.024151</td>\n",
       "      <td>31.292200</td>\n",
       "      <td>48.3333</td>\n",
       "      <td>23.500518</td>\n",
       "      <td>1796.0</td>\n",
       "    </tr>\n",
       "  </tbody>\n",
       "</table>\n",
       "<p>271 rows × 12 columns</p>\n",
       "</div>"
      ],
      "text/plain": [
       "     season    yr      mnth  holiday  weekday  workingday  weathersit  \\\n",
       "0    spring  2011   january      0.0      6.0         0.0         2.0   \n",
       "1    spring  2011   january      0.0      0.0         0.0         2.0   \n",
       "18   spring  2011   january      0.0      3.0         1.0         2.0   \n",
       "19   spring  2011   january      0.0      4.0         1.0         2.0   \n",
       "32   spring  2011  february      0.0      3.0         1.0         2.0   \n",
       "..      ...   ...       ...      ...      ...         ...         ...   \n",
       "719  winter  2012  december      0.0      4.0         1.0         2.0   \n",
       "720  spring  2012  december      0.0      5.0         1.0         2.0   \n",
       "721  spring  2012  december      0.0      6.0         0.0         1.0   \n",
       "724  spring  2012  december      1.0      2.0         0.0         2.0   \n",
       "729  spring  2012  december      0.0      0.0         0.0         1.0   \n",
       "\n",
       "          temp      atemp      hum  windspeed     cnt  \n",
       "0    24.175849  39.999250  80.5833  10.749882   985.0  \n",
       "1    25.083466  39.346774  69.6087  16.652113   801.0  \n",
       "18   21.732178  35.695852  74.1739  13.957239  1650.0  \n",
       "19   20.298349  32.833300  53.8333  13.125568  1927.0  \n",
       "32   20.220000  32.791522  77.5417  17.708636  1526.0  \n",
       "..         ...        ...      ...        ...     ...  \n",
       "719  23.510000  38.124322  66.7917   8.875021  4128.0  \n",
       "720  23.353349  35.916622  55.6667  25.083661  3623.0  \n",
       "721  20.494151  31.583458  44.1250  27.292182  1749.0  \n",
       "724  21.691288  35.434690  73.4783  11.304642  1013.0  \n",
       "729  20.024151  31.292200  48.3333  23.500518  1796.0  \n",
       "\n",
       "[271 rows x 12 columns]"
      ]
     },
     "execution_count": 142,
     "metadata": {},
     "output_type": "execute_result"
    }
   ],
   "source": [
    "# temperature between 20 and 30\n",
    "df[(df.temp >= 20) & (df.temp <= 30)]"
   ]
  },
  {
   "cell_type": "markdown",
   "id": "d67efcf2-1f52-49b3-a4a8-7f75a96dbfb7",
   "metadata": {},
   "source": [
    "## Adding & Modifying Columns"
   ]
  },
  {
   "cell_type": "code",
   "execution_count": 143,
   "id": "b7508b5a-8bf4-4683-ac41-b717007c6b5f",
   "metadata": {},
   "outputs": [
    {
     "data": {
      "text/html": [
       "<div>\n",
       "<style scoped>\n",
       "    .dataframe tbody tr th:only-of-type {\n",
       "        vertical-align: middle;\n",
       "    }\n",
       "\n",
       "    .dataframe tbody tr th {\n",
       "        vertical-align: top;\n",
       "    }\n",
       "\n",
       "    .dataframe thead th {\n",
       "        text-align: right;\n",
       "    }\n",
       "</style>\n",
       "<table border=\"1\" class=\"dataframe\">\n",
       "  <thead>\n",
       "    <tr style=\"text-align: right;\">\n",
       "      <th></th>\n",
       "      <th>season</th>\n",
       "      <th>yr</th>\n",
       "      <th>mnth</th>\n",
       "      <th>holiday</th>\n",
       "      <th>weekday</th>\n",
       "      <th>workingday</th>\n",
       "      <th>weathersit</th>\n",
       "      <th>temp</th>\n",
       "      <th>atemp</th>\n",
       "      <th>hum</th>\n",
       "      <th>windspeed</th>\n",
       "      <th>cnt</th>\n",
       "      <th>extra_column</th>\n",
       "    </tr>\n",
       "  </thead>\n",
       "  <tbody>\n",
       "    <tr>\n",
       "      <th>0</th>\n",
       "      <td>spring</td>\n",
       "      <td>2011</td>\n",
       "      <td>january</td>\n",
       "      <td>0.0</td>\n",
       "      <td>6.0</td>\n",
       "      <td>0.0</td>\n",
       "      <td>2.0</td>\n",
       "      <td>24.175849</td>\n",
       "      <td>39.999250</td>\n",
       "      <td>80.5833</td>\n",
       "      <td>10.749882</td>\n",
       "      <td>985.0</td>\n",
       "      <td>0</td>\n",
       "    </tr>\n",
       "    <tr>\n",
       "      <th>1</th>\n",
       "      <td>spring</td>\n",
       "      <td>2011</td>\n",
       "      <td>january</td>\n",
       "      <td>0.0</td>\n",
       "      <td>0.0</td>\n",
       "      <td>0.0</td>\n",
       "      <td>2.0</td>\n",
       "      <td>25.083466</td>\n",
       "      <td>39.346774</td>\n",
       "      <td>69.6087</td>\n",
       "      <td>16.652113</td>\n",
       "      <td>801.0</td>\n",
       "      <td>0</td>\n",
       "    </tr>\n",
       "    <tr>\n",
       "      <th>2</th>\n",
       "      <td>spring</td>\n",
       "      <td>2011</td>\n",
       "      <td>january</td>\n",
       "      <td>0.0</td>\n",
       "      <td>1.0</td>\n",
       "      <td>1.0</td>\n",
       "      <td>1.0</td>\n",
       "      <td>17.229108</td>\n",
       "      <td>28.500730</td>\n",
       "      <td>43.7273</td>\n",
       "      <td>16.636703</td>\n",
       "      <td>1349.0</td>\n",
       "      <td>0</td>\n",
       "    </tr>\n",
       "    <tr>\n",
       "      <th>3</th>\n",
       "      <td>spring</td>\n",
       "      <td>2011</td>\n",
       "      <td>january</td>\n",
       "      <td>0.0</td>\n",
       "      <td>2.0</td>\n",
       "      <td>1.0</td>\n",
       "      <td>1.0</td>\n",
       "      <td>17.400000</td>\n",
       "      <td>30.000052</td>\n",
       "      <td>59.0435</td>\n",
       "      <td>10.739832</td>\n",
       "      <td>1562.0</td>\n",
       "      <td>0</td>\n",
       "    </tr>\n",
       "    <tr>\n",
       "      <th>4</th>\n",
       "      <td>spring</td>\n",
       "      <td>2011</td>\n",
       "      <td>january</td>\n",
       "      <td>0.0</td>\n",
       "      <td>3.0</td>\n",
       "      <td>1.0</td>\n",
       "      <td>1.0</td>\n",
       "      <td>18.666979</td>\n",
       "      <td>31.131820</td>\n",
       "      <td>43.6957</td>\n",
       "      <td>12.522300</td>\n",
       "      <td>1600.0</td>\n",
       "      <td>0</td>\n",
       "    </tr>\n",
       "    <tr>\n",
       "      <th>...</th>\n",
       "      <td>...</td>\n",
       "      <td>...</td>\n",
       "      <td>...</td>\n",
       "      <td>...</td>\n",
       "      <td>...</td>\n",
       "      <td>...</td>\n",
       "      <td>...</td>\n",
       "      <td>...</td>\n",
       "      <td>...</td>\n",
       "      <td>...</td>\n",
       "      <td>...</td>\n",
       "      <td>...</td>\n",
       "      <td>...</td>\n",
       "    </tr>\n",
       "    <tr>\n",
       "      <th>726</th>\n",
       "      <td>spring</td>\n",
       "      <td>2012</td>\n",
       "      <td>december</td>\n",
       "      <td>0.0</td>\n",
       "      <td>4.0</td>\n",
       "      <td>1.0</td>\n",
       "      <td>2.0</td>\n",
       "      <td>19.945849</td>\n",
       "      <td>30.958372</td>\n",
       "      <td>65.2917</td>\n",
       "      <td>23.458911</td>\n",
       "      <td>2114.0</td>\n",
       "      <td>0</td>\n",
       "    </tr>\n",
       "    <tr>\n",
       "      <th>727</th>\n",
       "      <td>spring</td>\n",
       "      <td>2012</td>\n",
       "      <td>december</td>\n",
       "      <td>0.0</td>\n",
       "      <td>5.0</td>\n",
       "      <td>1.0</td>\n",
       "      <td>2.0</td>\n",
       "      <td>19.906651</td>\n",
       "      <td>32.833036</td>\n",
       "      <td>59.0000</td>\n",
       "      <td>10.416557</td>\n",
       "      <td>3095.0</td>\n",
       "      <td>0</td>\n",
       "    </tr>\n",
       "    <tr>\n",
       "      <th>728</th>\n",
       "      <td>spring</td>\n",
       "      <td>2012</td>\n",
       "      <td>december</td>\n",
       "      <td>0.0</td>\n",
       "      <td>6.0</td>\n",
       "      <td>0.0</td>\n",
       "      <td>2.0</td>\n",
       "      <td>19.906651</td>\n",
       "      <td>31.998400</td>\n",
       "      <td>75.2917</td>\n",
       "      <td>8.333661</td>\n",
       "      <td>1341.0</td>\n",
       "      <td>0</td>\n",
       "    </tr>\n",
       "    <tr>\n",
       "      <th>729</th>\n",
       "      <td>spring</td>\n",
       "      <td>2012</td>\n",
       "      <td>december</td>\n",
       "      <td>0.0</td>\n",
       "      <td>0.0</td>\n",
       "      <td>0.0</td>\n",
       "      <td>1.0</td>\n",
       "      <td>20.024151</td>\n",
       "      <td>31.292200</td>\n",
       "      <td>48.3333</td>\n",
       "      <td>23.500518</td>\n",
       "      <td>1796.0</td>\n",
       "      <td>0</td>\n",
       "    </tr>\n",
       "    <tr>\n",
       "      <th>730</th>\n",
       "      <td>spring</td>\n",
       "      <td>2012</td>\n",
       "      <td>december</td>\n",
       "      <td>0.0</td>\n",
       "      <td>1.0</td>\n",
       "      <td>1.0</td>\n",
       "      <td>2.0</td>\n",
       "      <td>18.144151</td>\n",
       "      <td>30.750142</td>\n",
       "      <td>57.7500</td>\n",
       "      <td>10.374682</td>\n",
       "      <td>2729.0</td>\n",
       "      <td>0</td>\n",
       "    </tr>\n",
       "  </tbody>\n",
       "</table>\n",
       "<p>731 rows × 13 columns</p>\n",
       "</div>"
      ],
      "text/plain": [
       "     season    yr      mnth  holiday  weekday  workingday  weathersit  \\\n",
       "0    spring  2011   january      0.0      6.0         0.0         2.0   \n",
       "1    spring  2011   january      0.0      0.0         0.0         2.0   \n",
       "2    spring  2011   january      0.0      1.0         1.0         1.0   \n",
       "3    spring  2011   january      0.0      2.0         1.0         1.0   \n",
       "4    spring  2011   january      0.0      3.0         1.0         1.0   \n",
       "..      ...   ...       ...      ...      ...         ...         ...   \n",
       "726  spring  2012  december      0.0      4.0         1.0         2.0   \n",
       "727  spring  2012  december      0.0      5.0         1.0         2.0   \n",
       "728  spring  2012  december      0.0      6.0         0.0         2.0   \n",
       "729  spring  2012  december      0.0      0.0         0.0         1.0   \n",
       "730  spring  2012  december      0.0      1.0         1.0         2.0   \n",
       "\n",
       "          temp      atemp      hum  windspeed     cnt  extra_column  \n",
       "0    24.175849  39.999250  80.5833  10.749882   985.0             0  \n",
       "1    25.083466  39.346774  69.6087  16.652113   801.0             0  \n",
       "2    17.229108  28.500730  43.7273  16.636703  1349.0             0  \n",
       "3    17.400000  30.000052  59.0435  10.739832  1562.0             0  \n",
       "4    18.666979  31.131820  43.6957  12.522300  1600.0             0  \n",
       "..         ...        ...      ...        ...     ...           ...  \n",
       "726  19.945849  30.958372  65.2917  23.458911  2114.0             0  \n",
       "727  19.906651  32.833036  59.0000  10.416557  3095.0             0  \n",
       "728  19.906651  31.998400  75.2917   8.333661  1341.0             0  \n",
       "729  20.024151  31.292200  48.3333  23.500518  1796.0             0  \n",
       "730  18.144151  30.750142  57.7500  10.374682  2729.0             0  \n",
       "\n",
       "[731 rows x 13 columns]"
      ]
     },
     "execution_count": 143,
     "metadata": {},
     "output_type": "execute_result"
    }
   ],
   "source": [
    "# we can add columns easily, we can assign constant values (and broadcast it), or vectors with the same length as your dataframe\n",
    "df[\"extra_column\"] = 0\n",
    "df"
   ]
  },
  {
   "cell_type": "code",
   "execution_count": 144,
   "id": "74de04b6-054b-43b0-ad39-cde06de1f5a4",
   "metadata": {},
   "outputs": [
    {
     "data": {
      "text/html": [
       "<div>\n",
       "<style scoped>\n",
       "    .dataframe tbody tr th:only-of-type {\n",
       "        vertical-align: middle;\n",
       "    }\n",
       "\n",
       "    .dataframe tbody tr th {\n",
       "        vertical-align: top;\n",
       "    }\n",
       "\n",
       "    .dataframe thead th {\n",
       "        text-align: right;\n",
       "    }\n",
       "</style>\n",
       "<table border=\"1\" class=\"dataframe\">\n",
       "  <thead>\n",
       "    <tr style=\"text-align: right;\">\n",
       "      <th></th>\n",
       "      <th>season</th>\n",
       "      <th>yr</th>\n",
       "      <th>mnth</th>\n",
       "      <th>holiday</th>\n",
       "      <th>weekday</th>\n",
       "      <th>workingday</th>\n",
       "      <th>weathersit</th>\n",
       "      <th>temp</th>\n",
       "      <th>atemp</th>\n",
       "      <th>hum</th>\n",
       "      <th>windspeed</th>\n",
       "      <th>cnt</th>\n",
       "      <th>extra_column</th>\n",
       "      <th>temp_diff</th>\n",
       "    </tr>\n",
       "  </thead>\n",
       "  <tbody>\n",
       "    <tr>\n",
       "      <th>0</th>\n",
       "      <td>spring</td>\n",
       "      <td>2011</td>\n",
       "      <td>january</td>\n",
       "      <td>0.0</td>\n",
       "      <td>6.0</td>\n",
       "      <td>0.0</td>\n",
       "      <td>2.0</td>\n",
       "      <td>24.175849</td>\n",
       "      <td>39.999250</td>\n",
       "      <td>80.5833</td>\n",
       "      <td>10.749882</td>\n",
       "      <td>985.0</td>\n",
       "      <td>0</td>\n",
       "      <td>-15.823401</td>\n",
       "    </tr>\n",
       "    <tr>\n",
       "      <th>1</th>\n",
       "      <td>spring</td>\n",
       "      <td>2011</td>\n",
       "      <td>january</td>\n",
       "      <td>0.0</td>\n",
       "      <td>0.0</td>\n",
       "      <td>0.0</td>\n",
       "      <td>2.0</td>\n",
       "      <td>25.083466</td>\n",
       "      <td>39.346774</td>\n",
       "      <td>69.6087</td>\n",
       "      <td>16.652113</td>\n",
       "      <td>801.0</td>\n",
       "      <td>0</td>\n",
       "      <td>-14.263308</td>\n",
       "    </tr>\n",
       "    <tr>\n",
       "      <th>2</th>\n",
       "      <td>spring</td>\n",
       "      <td>2011</td>\n",
       "      <td>january</td>\n",
       "      <td>0.0</td>\n",
       "      <td>1.0</td>\n",
       "      <td>1.0</td>\n",
       "      <td>1.0</td>\n",
       "      <td>17.229108</td>\n",
       "      <td>28.500730</td>\n",
       "      <td>43.7273</td>\n",
       "      <td>16.636703</td>\n",
       "      <td>1349.0</td>\n",
       "      <td>0</td>\n",
       "      <td>-11.271622</td>\n",
       "    </tr>\n",
       "    <tr>\n",
       "      <th>3</th>\n",
       "      <td>spring</td>\n",
       "      <td>2011</td>\n",
       "      <td>january</td>\n",
       "      <td>0.0</td>\n",
       "      <td>2.0</td>\n",
       "      <td>1.0</td>\n",
       "      <td>1.0</td>\n",
       "      <td>17.400000</td>\n",
       "      <td>30.000052</td>\n",
       "      <td>59.0435</td>\n",
       "      <td>10.739832</td>\n",
       "      <td>1562.0</td>\n",
       "      <td>0</td>\n",
       "      <td>-12.600052</td>\n",
       "    </tr>\n",
       "    <tr>\n",
       "      <th>4</th>\n",
       "      <td>spring</td>\n",
       "      <td>2011</td>\n",
       "      <td>january</td>\n",
       "      <td>0.0</td>\n",
       "      <td>3.0</td>\n",
       "      <td>1.0</td>\n",
       "      <td>1.0</td>\n",
       "      <td>18.666979</td>\n",
       "      <td>31.131820</td>\n",
       "      <td>43.6957</td>\n",
       "      <td>12.522300</td>\n",
       "      <td>1600.0</td>\n",
       "      <td>0</td>\n",
       "      <td>-12.464841</td>\n",
       "    </tr>\n",
       "    <tr>\n",
       "      <th>...</th>\n",
       "      <td>...</td>\n",
       "      <td>...</td>\n",
       "      <td>...</td>\n",
       "      <td>...</td>\n",
       "      <td>...</td>\n",
       "      <td>...</td>\n",
       "      <td>...</td>\n",
       "      <td>...</td>\n",
       "      <td>...</td>\n",
       "      <td>...</td>\n",
       "      <td>...</td>\n",
       "      <td>...</td>\n",
       "      <td>...</td>\n",
       "      <td>...</td>\n",
       "    </tr>\n",
       "    <tr>\n",
       "      <th>726</th>\n",
       "      <td>spring</td>\n",
       "      <td>2012</td>\n",
       "      <td>december</td>\n",
       "      <td>0.0</td>\n",
       "      <td>4.0</td>\n",
       "      <td>1.0</td>\n",
       "      <td>2.0</td>\n",
       "      <td>19.945849</td>\n",
       "      <td>30.958372</td>\n",
       "      <td>65.2917</td>\n",
       "      <td>23.458911</td>\n",
       "      <td>2114.0</td>\n",
       "      <td>0</td>\n",
       "      <td>-11.012523</td>\n",
       "    </tr>\n",
       "    <tr>\n",
       "      <th>727</th>\n",
       "      <td>spring</td>\n",
       "      <td>2012</td>\n",
       "      <td>december</td>\n",
       "      <td>0.0</td>\n",
       "      <td>5.0</td>\n",
       "      <td>1.0</td>\n",
       "      <td>2.0</td>\n",
       "      <td>19.906651</td>\n",
       "      <td>32.833036</td>\n",
       "      <td>59.0000</td>\n",
       "      <td>10.416557</td>\n",
       "      <td>3095.0</td>\n",
       "      <td>0</td>\n",
       "      <td>-12.926385</td>\n",
       "    </tr>\n",
       "    <tr>\n",
       "      <th>728</th>\n",
       "      <td>spring</td>\n",
       "      <td>2012</td>\n",
       "      <td>december</td>\n",
       "      <td>0.0</td>\n",
       "      <td>6.0</td>\n",
       "      <td>0.0</td>\n",
       "      <td>2.0</td>\n",
       "      <td>19.906651</td>\n",
       "      <td>31.998400</td>\n",
       "      <td>75.2917</td>\n",
       "      <td>8.333661</td>\n",
       "      <td>1341.0</td>\n",
       "      <td>0</td>\n",
       "      <td>-12.091749</td>\n",
       "    </tr>\n",
       "    <tr>\n",
       "      <th>729</th>\n",
       "      <td>spring</td>\n",
       "      <td>2012</td>\n",
       "      <td>december</td>\n",
       "      <td>0.0</td>\n",
       "      <td>0.0</td>\n",
       "      <td>0.0</td>\n",
       "      <td>1.0</td>\n",
       "      <td>20.024151</td>\n",
       "      <td>31.292200</td>\n",
       "      <td>48.3333</td>\n",
       "      <td>23.500518</td>\n",
       "      <td>1796.0</td>\n",
       "      <td>0</td>\n",
       "      <td>-11.268049</td>\n",
       "    </tr>\n",
       "    <tr>\n",
       "      <th>730</th>\n",
       "      <td>spring</td>\n",
       "      <td>2012</td>\n",
       "      <td>december</td>\n",
       "      <td>0.0</td>\n",
       "      <td>1.0</td>\n",
       "      <td>1.0</td>\n",
       "      <td>2.0</td>\n",
       "      <td>18.144151</td>\n",
       "      <td>30.750142</td>\n",
       "      <td>57.7500</td>\n",
       "      <td>10.374682</td>\n",
       "      <td>2729.0</td>\n",
       "      <td>0</td>\n",
       "      <td>-12.605991</td>\n",
       "    </tr>\n",
       "  </tbody>\n",
       "</table>\n",
       "<p>731 rows × 14 columns</p>\n",
       "</div>"
      ],
      "text/plain": [
       "     season    yr      mnth  holiday  weekday  workingday  weathersit  \\\n",
       "0    spring  2011   january      0.0      6.0         0.0         2.0   \n",
       "1    spring  2011   january      0.0      0.0         0.0         2.0   \n",
       "2    spring  2011   january      0.0      1.0         1.0         1.0   \n",
       "3    spring  2011   january      0.0      2.0         1.0         1.0   \n",
       "4    spring  2011   january      0.0      3.0         1.0         1.0   \n",
       "..      ...   ...       ...      ...      ...         ...         ...   \n",
       "726  spring  2012  december      0.0      4.0         1.0         2.0   \n",
       "727  spring  2012  december      0.0      5.0         1.0         2.0   \n",
       "728  spring  2012  december      0.0      6.0         0.0         2.0   \n",
       "729  spring  2012  december      0.0      0.0         0.0         1.0   \n",
       "730  spring  2012  december      0.0      1.0         1.0         2.0   \n",
       "\n",
       "          temp      atemp      hum  windspeed     cnt  extra_column  temp_diff  \n",
       "0    24.175849  39.999250  80.5833  10.749882   985.0             0 -15.823401  \n",
       "1    25.083466  39.346774  69.6087  16.652113   801.0             0 -14.263308  \n",
       "2    17.229108  28.500730  43.7273  16.636703  1349.0             0 -11.271622  \n",
       "3    17.400000  30.000052  59.0435  10.739832  1562.0             0 -12.600052  \n",
       "4    18.666979  31.131820  43.6957  12.522300  1600.0             0 -12.464841  \n",
       "..         ...        ...      ...        ...     ...           ...        ...  \n",
       "726  19.945849  30.958372  65.2917  23.458911  2114.0             0 -11.012523  \n",
       "727  19.906651  32.833036  59.0000  10.416557  3095.0             0 -12.926385  \n",
       "728  19.906651  31.998400  75.2917   8.333661  1341.0             0 -12.091749  \n",
       "729  20.024151  31.292200  48.3333  23.500518  1796.0             0 -11.268049  \n",
       "730  18.144151  30.750142  57.7500  10.374682  2729.0             0 -12.605991  \n",
       "\n",
       "[731 rows x 14 columns]"
      ]
     },
     "execution_count": 144,
     "metadata": {},
     "output_type": "execute_result"
    }
   ],
   "source": [
    "# we can assign the result of vector arithmetics, \n",
    "# for example: lets calculate the difference of atemp and temp, and assign it to the temp_diff column\n",
    "df[\"temp_diff\"] = df.temp - df.atemp\n",
    "df"
   ]
  },
  {
   "cell_type": "code",
   "execution_count": 145,
   "id": "17c9bdb1-25ad-4478-8691-91e04d8a1236",
   "metadata": {},
   "outputs": [
    {
     "data": {
      "text/html": [
       "<div>\n",
       "<style scoped>\n",
       "    .dataframe tbody tr th:only-of-type {\n",
       "        vertical-align: middle;\n",
       "    }\n",
       "\n",
       "    .dataframe tbody tr th {\n",
       "        vertical-align: top;\n",
       "    }\n",
       "\n",
       "    .dataframe thead th {\n",
       "        text-align: right;\n",
       "    }\n",
       "</style>\n",
       "<table border=\"1\" class=\"dataframe\">\n",
       "  <thead>\n",
       "    <tr style=\"text-align: right;\">\n",
       "      <th></th>\n",
       "      <th>season</th>\n",
       "      <th>yr</th>\n",
       "      <th>mnth</th>\n",
       "      <th>holiday</th>\n",
       "      <th>weekday</th>\n",
       "      <th>workingday</th>\n",
       "      <th>weathersit</th>\n",
       "      <th>temp</th>\n",
       "      <th>atemp</th>\n",
       "      <th>hum</th>\n",
       "      <th>windspeed</th>\n",
       "      <th>cnt</th>\n",
       "      <th>extra_column</th>\n",
       "      <th>temp_diff</th>\n",
       "    </tr>\n",
       "  </thead>\n",
       "  <tbody>\n",
       "    <tr>\n",
       "      <th>0</th>\n",
       "      <td>spring</td>\n",
       "      <td>2011</td>\n",
       "      <td>january</td>\n",
       "      <td>0.0</td>\n",
       "      <td>6.0</td>\n",
       "      <td>0.0</td>\n",
       "      <td>2.0</td>\n",
       "      <td>24.175849</td>\n",
       "      <td>39.999250</td>\n",
       "      <td>80.5833</td>\n",
       "      <td>10.749882</td>\n",
       "      <td>985.0</td>\n",
       "      <td>0</td>\n",
       "      <td>15.823401</td>\n",
       "    </tr>\n",
       "    <tr>\n",
       "      <th>1</th>\n",
       "      <td>spring</td>\n",
       "      <td>2011</td>\n",
       "      <td>january</td>\n",
       "      <td>0.0</td>\n",
       "      <td>0.0</td>\n",
       "      <td>0.0</td>\n",
       "      <td>2.0</td>\n",
       "      <td>25.083466</td>\n",
       "      <td>39.346774</td>\n",
       "      <td>69.6087</td>\n",
       "      <td>16.652113</td>\n",
       "      <td>801.0</td>\n",
       "      <td>0</td>\n",
       "      <td>14.263308</td>\n",
       "    </tr>\n",
       "    <tr>\n",
       "      <th>2</th>\n",
       "      <td>spring</td>\n",
       "      <td>2011</td>\n",
       "      <td>january</td>\n",
       "      <td>0.0</td>\n",
       "      <td>1.0</td>\n",
       "      <td>1.0</td>\n",
       "      <td>1.0</td>\n",
       "      <td>17.229108</td>\n",
       "      <td>28.500730</td>\n",
       "      <td>43.7273</td>\n",
       "      <td>16.636703</td>\n",
       "      <td>1349.0</td>\n",
       "      <td>0</td>\n",
       "      <td>11.271622</td>\n",
       "    </tr>\n",
       "    <tr>\n",
       "      <th>3</th>\n",
       "      <td>spring</td>\n",
       "      <td>2011</td>\n",
       "      <td>january</td>\n",
       "      <td>0.0</td>\n",
       "      <td>2.0</td>\n",
       "      <td>1.0</td>\n",
       "      <td>1.0</td>\n",
       "      <td>17.400000</td>\n",
       "      <td>30.000052</td>\n",
       "      <td>59.0435</td>\n",
       "      <td>10.739832</td>\n",
       "      <td>1562.0</td>\n",
       "      <td>0</td>\n",
       "      <td>12.600052</td>\n",
       "    </tr>\n",
       "    <tr>\n",
       "      <th>4</th>\n",
       "      <td>spring</td>\n",
       "      <td>2011</td>\n",
       "      <td>january</td>\n",
       "      <td>0.0</td>\n",
       "      <td>3.0</td>\n",
       "      <td>1.0</td>\n",
       "      <td>1.0</td>\n",
       "      <td>18.666979</td>\n",
       "      <td>31.131820</td>\n",
       "      <td>43.6957</td>\n",
       "      <td>12.522300</td>\n",
       "      <td>1600.0</td>\n",
       "      <td>0</td>\n",
       "      <td>12.464841</td>\n",
       "    </tr>\n",
       "    <tr>\n",
       "      <th>...</th>\n",
       "      <td>...</td>\n",
       "      <td>...</td>\n",
       "      <td>...</td>\n",
       "      <td>...</td>\n",
       "      <td>...</td>\n",
       "      <td>...</td>\n",
       "      <td>...</td>\n",
       "      <td>...</td>\n",
       "      <td>...</td>\n",
       "      <td>...</td>\n",
       "      <td>...</td>\n",
       "      <td>...</td>\n",
       "      <td>...</td>\n",
       "      <td>...</td>\n",
       "    </tr>\n",
       "    <tr>\n",
       "      <th>726</th>\n",
       "      <td>spring</td>\n",
       "      <td>2012</td>\n",
       "      <td>december</td>\n",
       "      <td>0.0</td>\n",
       "      <td>4.0</td>\n",
       "      <td>1.0</td>\n",
       "      <td>2.0</td>\n",
       "      <td>19.945849</td>\n",
       "      <td>30.958372</td>\n",
       "      <td>65.2917</td>\n",
       "      <td>23.458911</td>\n",
       "      <td>2114.0</td>\n",
       "      <td>0</td>\n",
       "      <td>11.012523</td>\n",
       "    </tr>\n",
       "    <tr>\n",
       "      <th>727</th>\n",
       "      <td>spring</td>\n",
       "      <td>2012</td>\n",
       "      <td>december</td>\n",
       "      <td>0.0</td>\n",
       "      <td>5.0</td>\n",
       "      <td>1.0</td>\n",
       "      <td>2.0</td>\n",
       "      <td>19.906651</td>\n",
       "      <td>32.833036</td>\n",
       "      <td>59.0000</td>\n",
       "      <td>10.416557</td>\n",
       "      <td>3095.0</td>\n",
       "      <td>0</td>\n",
       "      <td>12.926385</td>\n",
       "    </tr>\n",
       "    <tr>\n",
       "      <th>728</th>\n",
       "      <td>spring</td>\n",
       "      <td>2012</td>\n",
       "      <td>december</td>\n",
       "      <td>0.0</td>\n",
       "      <td>6.0</td>\n",
       "      <td>0.0</td>\n",
       "      <td>2.0</td>\n",
       "      <td>19.906651</td>\n",
       "      <td>31.998400</td>\n",
       "      <td>75.2917</td>\n",
       "      <td>8.333661</td>\n",
       "      <td>1341.0</td>\n",
       "      <td>0</td>\n",
       "      <td>12.091749</td>\n",
       "    </tr>\n",
       "    <tr>\n",
       "      <th>729</th>\n",
       "      <td>spring</td>\n",
       "      <td>2012</td>\n",
       "      <td>december</td>\n",
       "      <td>0.0</td>\n",
       "      <td>0.0</td>\n",
       "      <td>0.0</td>\n",
       "      <td>1.0</td>\n",
       "      <td>20.024151</td>\n",
       "      <td>31.292200</td>\n",
       "      <td>48.3333</td>\n",
       "      <td>23.500518</td>\n",
       "      <td>1796.0</td>\n",
       "      <td>0</td>\n",
       "      <td>11.268049</td>\n",
       "    </tr>\n",
       "    <tr>\n",
       "      <th>730</th>\n",
       "      <td>spring</td>\n",
       "      <td>2012</td>\n",
       "      <td>december</td>\n",
       "      <td>0.0</td>\n",
       "      <td>1.0</td>\n",
       "      <td>1.0</td>\n",
       "      <td>2.0</td>\n",
       "      <td>18.144151</td>\n",
       "      <td>30.750142</td>\n",
       "      <td>57.7500</td>\n",
       "      <td>10.374682</td>\n",
       "      <td>2729.0</td>\n",
       "      <td>0</td>\n",
       "      <td>12.605991</td>\n",
       "    </tr>\n",
       "  </tbody>\n",
       "</table>\n",
       "<p>731 rows × 14 columns</p>\n",
       "</div>"
      ],
      "text/plain": [
       "     season    yr      mnth  holiday  weekday  workingday  weathersit  \\\n",
       "0    spring  2011   january      0.0      6.0         0.0         2.0   \n",
       "1    spring  2011   january      0.0      0.0         0.0         2.0   \n",
       "2    spring  2011   january      0.0      1.0         1.0         1.0   \n",
       "3    spring  2011   january      0.0      2.0         1.0         1.0   \n",
       "4    spring  2011   january      0.0      3.0         1.0         1.0   \n",
       "..      ...   ...       ...      ...      ...         ...         ...   \n",
       "726  spring  2012  december      0.0      4.0         1.0         2.0   \n",
       "727  spring  2012  december      0.0      5.0         1.0         2.0   \n",
       "728  spring  2012  december      0.0      6.0         0.0         2.0   \n",
       "729  spring  2012  december      0.0      0.0         0.0         1.0   \n",
       "730  spring  2012  december      0.0      1.0         1.0         2.0   \n",
       "\n",
       "          temp      atemp      hum  windspeed     cnt  extra_column  temp_diff  \n",
       "0    24.175849  39.999250  80.5833  10.749882   985.0             0  15.823401  \n",
       "1    25.083466  39.346774  69.6087  16.652113   801.0             0  14.263308  \n",
       "2    17.229108  28.500730  43.7273  16.636703  1349.0             0  11.271622  \n",
       "3    17.400000  30.000052  59.0435  10.739832  1562.0             0  12.600052  \n",
       "4    18.666979  31.131820  43.6957  12.522300  1600.0             0  12.464841  \n",
       "..         ...        ...      ...        ...     ...           ...        ...  \n",
       "726  19.945849  30.958372  65.2917  23.458911  2114.0             0  11.012523  \n",
       "727  19.906651  32.833036  59.0000  10.416557  3095.0             0  12.926385  \n",
       "728  19.906651  31.998400  75.2917   8.333661  1341.0             0  12.091749  \n",
       "729  20.024151  31.292200  48.3333  23.500518  1796.0             0  11.268049  \n",
       "730  18.144151  30.750142  57.7500  10.374682  2729.0             0  12.605991  \n",
       "\n",
       "[731 rows x 14 columns]"
      ]
     },
     "execution_count": 145,
     "metadata": {},
     "output_type": "execute_result"
    }
   ],
   "source": [
    "# we can also apply any operation to rows or columns\n",
    "# lets take the absolute value of temp_diff\n",
    "# we can pass any function to apply, in this case we are going to pass np.abs, but we can provide any lambda function or function names too\n",
    "df[\"temp_diff\"] = df[\"temp_diff\"].apply(np.abs)\n",
    "df"
   ]
  },
  {
   "cell_type": "code",
   "execution_count": 146,
   "id": "90f5df37-937e-4b88-aeb9-e97baf2d793b",
   "metadata": {},
   "outputs": [
    {
     "data": {
      "text/html": [
       "<div>\n",
       "<style scoped>\n",
       "    .dataframe tbody tr th:only-of-type {\n",
       "        vertical-align: middle;\n",
       "    }\n",
       "\n",
       "    .dataframe tbody tr th {\n",
       "        vertical-align: top;\n",
       "    }\n",
       "\n",
       "    .dataframe thead th {\n",
       "        text-align: right;\n",
       "    }\n",
       "</style>\n",
       "<table border=\"1\" class=\"dataframe\">\n",
       "  <thead>\n",
       "    <tr style=\"text-align: right;\">\n",
       "      <th></th>\n",
       "      <th>season</th>\n",
       "      <th>yr</th>\n",
       "      <th>mnth</th>\n",
       "      <th>holiday</th>\n",
       "      <th>weekday</th>\n",
       "      <th>workingday</th>\n",
       "      <th>weathersit</th>\n",
       "      <th>temp</th>\n",
       "      <th>atemp</th>\n",
       "      <th>hum</th>\n",
       "      <th>windspeed</th>\n",
       "      <th>cnt</th>\n",
       "      <th>extra_column</th>\n",
       "      <th>temp_diff</th>\n",
       "    </tr>\n",
       "  </thead>\n",
       "  <tbody>\n",
       "    <tr>\n",
       "      <th>0</th>\n",
       "      <td>spring</td>\n",
       "      <td>2011</td>\n",
       "      <td>january</td>\n",
       "      <td>0.0</td>\n",
       "      <td>6.0</td>\n",
       "      <td>0.0</td>\n",
       "      <td>2.0</td>\n",
       "      <td>24.175849</td>\n",
       "      <td>39.999250</td>\n",
       "      <td>80.5833</td>\n",
       "      <td>10.749882</td>\n",
       "      <td>985.0</td>\n",
       "      <td>0</td>\n",
       "      <td>1.582340</td>\n",
       "    </tr>\n",
       "    <tr>\n",
       "      <th>1</th>\n",
       "      <td>spring</td>\n",
       "      <td>2011</td>\n",
       "      <td>january</td>\n",
       "      <td>0.0</td>\n",
       "      <td>0.0</td>\n",
       "      <td>0.0</td>\n",
       "      <td>2.0</td>\n",
       "      <td>25.083466</td>\n",
       "      <td>39.346774</td>\n",
       "      <td>69.6087</td>\n",
       "      <td>16.652113</td>\n",
       "      <td>801.0</td>\n",
       "      <td>0</td>\n",
       "      <td>1.426331</td>\n",
       "    </tr>\n",
       "    <tr>\n",
       "      <th>2</th>\n",
       "      <td>spring</td>\n",
       "      <td>2011</td>\n",
       "      <td>january</td>\n",
       "      <td>0.0</td>\n",
       "      <td>1.0</td>\n",
       "      <td>1.0</td>\n",
       "      <td>1.0</td>\n",
       "      <td>17.229108</td>\n",
       "      <td>28.500730</td>\n",
       "      <td>43.7273</td>\n",
       "      <td>16.636703</td>\n",
       "      <td>1349.0</td>\n",
       "      <td>0</td>\n",
       "      <td>1.127162</td>\n",
       "    </tr>\n",
       "    <tr>\n",
       "      <th>3</th>\n",
       "      <td>spring</td>\n",
       "      <td>2011</td>\n",
       "      <td>january</td>\n",
       "      <td>0.0</td>\n",
       "      <td>2.0</td>\n",
       "      <td>1.0</td>\n",
       "      <td>1.0</td>\n",
       "      <td>17.400000</td>\n",
       "      <td>30.000052</td>\n",
       "      <td>59.0435</td>\n",
       "      <td>10.739832</td>\n",
       "      <td>1562.0</td>\n",
       "      <td>0</td>\n",
       "      <td>1.260005</td>\n",
       "    </tr>\n",
       "    <tr>\n",
       "      <th>4</th>\n",
       "      <td>spring</td>\n",
       "      <td>2011</td>\n",
       "      <td>january</td>\n",
       "      <td>0.0</td>\n",
       "      <td>3.0</td>\n",
       "      <td>1.0</td>\n",
       "      <td>1.0</td>\n",
       "      <td>18.666979</td>\n",
       "      <td>31.131820</td>\n",
       "      <td>43.6957</td>\n",
       "      <td>12.522300</td>\n",
       "      <td>1600.0</td>\n",
       "      <td>0</td>\n",
       "      <td>1.246484</td>\n",
       "    </tr>\n",
       "    <tr>\n",
       "      <th>...</th>\n",
       "      <td>...</td>\n",
       "      <td>...</td>\n",
       "      <td>...</td>\n",
       "      <td>...</td>\n",
       "      <td>...</td>\n",
       "      <td>...</td>\n",
       "      <td>...</td>\n",
       "      <td>...</td>\n",
       "      <td>...</td>\n",
       "      <td>...</td>\n",
       "      <td>...</td>\n",
       "      <td>...</td>\n",
       "      <td>...</td>\n",
       "      <td>...</td>\n",
       "    </tr>\n",
       "    <tr>\n",
       "      <th>726</th>\n",
       "      <td>spring</td>\n",
       "      <td>2012</td>\n",
       "      <td>december</td>\n",
       "      <td>0.0</td>\n",
       "      <td>4.0</td>\n",
       "      <td>1.0</td>\n",
       "      <td>2.0</td>\n",
       "      <td>19.945849</td>\n",
       "      <td>30.958372</td>\n",
       "      <td>65.2917</td>\n",
       "      <td>23.458911</td>\n",
       "      <td>2114.0</td>\n",
       "      <td>0</td>\n",
       "      <td>1.101252</td>\n",
       "    </tr>\n",
       "    <tr>\n",
       "      <th>727</th>\n",
       "      <td>spring</td>\n",
       "      <td>2012</td>\n",
       "      <td>december</td>\n",
       "      <td>0.0</td>\n",
       "      <td>5.0</td>\n",
       "      <td>1.0</td>\n",
       "      <td>2.0</td>\n",
       "      <td>19.906651</td>\n",
       "      <td>32.833036</td>\n",
       "      <td>59.0000</td>\n",
       "      <td>10.416557</td>\n",
       "      <td>3095.0</td>\n",
       "      <td>0</td>\n",
       "      <td>1.292639</td>\n",
       "    </tr>\n",
       "    <tr>\n",
       "      <th>728</th>\n",
       "      <td>spring</td>\n",
       "      <td>2012</td>\n",
       "      <td>december</td>\n",
       "      <td>0.0</td>\n",
       "      <td>6.0</td>\n",
       "      <td>0.0</td>\n",
       "      <td>2.0</td>\n",
       "      <td>19.906651</td>\n",
       "      <td>31.998400</td>\n",
       "      <td>75.2917</td>\n",
       "      <td>8.333661</td>\n",
       "      <td>1341.0</td>\n",
       "      <td>0</td>\n",
       "      <td>1.209175</td>\n",
       "    </tr>\n",
       "    <tr>\n",
       "      <th>729</th>\n",
       "      <td>spring</td>\n",
       "      <td>2012</td>\n",
       "      <td>december</td>\n",
       "      <td>0.0</td>\n",
       "      <td>0.0</td>\n",
       "      <td>0.0</td>\n",
       "      <td>1.0</td>\n",
       "      <td>20.024151</td>\n",
       "      <td>31.292200</td>\n",
       "      <td>48.3333</td>\n",
       "      <td>23.500518</td>\n",
       "      <td>1796.0</td>\n",
       "      <td>0</td>\n",
       "      <td>1.126805</td>\n",
       "    </tr>\n",
       "    <tr>\n",
       "      <th>730</th>\n",
       "      <td>spring</td>\n",
       "      <td>2012</td>\n",
       "      <td>december</td>\n",
       "      <td>0.0</td>\n",
       "      <td>1.0</td>\n",
       "      <td>1.0</td>\n",
       "      <td>2.0</td>\n",
       "      <td>18.144151</td>\n",
       "      <td>30.750142</td>\n",
       "      <td>57.7500</td>\n",
       "      <td>10.374682</td>\n",
       "      <td>2729.0</td>\n",
       "      <td>0</td>\n",
       "      <td>1.260599</td>\n",
       "    </tr>\n",
       "  </tbody>\n",
       "</table>\n",
       "<p>731 rows × 14 columns</p>\n",
       "</div>"
      ],
      "text/plain": [
       "     season    yr      mnth  holiday  weekday  workingday  weathersit  \\\n",
       "0    spring  2011   january      0.0      6.0         0.0         2.0   \n",
       "1    spring  2011   january      0.0      0.0         0.0         2.0   \n",
       "2    spring  2011   january      0.0      1.0         1.0         1.0   \n",
       "3    spring  2011   january      0.0      2.0         1.0         1.0   \n",
       "4    spring  2011   january      0.0      3.0         1.0         1.0   \n",
       "..      ...   ...       ...      ...      ...         ...         ...   \n",
       "726  spring  2012  december      0.0      4.0         1.0         2.0   \n",
       "727  spring  2012  december      0.0      5.0         1.0         2.0   \n",
       "728  spring  2012  december      0.0      6.0         0.0         2.0   \n",
       "729  spring  2012  december      0.0      0.0         0.0         1.0   \n",
       "730  spring  2012  december      0.0      1.0         1.0         2.0   \n",
       "\n",
       "          temp      atemp      hum  windspeed     cnt  extra_column  temp_diff  \n",
       "0    24.175849  39.999250  80.5833  10.749882   985.0             0   1.582340  \n",
       "1    25.083466  39.346774  69.6087  16.652113   801.0             0   1.426331  \n",
       "2    17.229108  28.500730  43.7273  16.636703  1349.0             0   1.127162  \n",
       "3    17.400000  30.000052  59.0435  10.739832  1562.0             0   1.260005  \n",
       "4    18.666979  31.131820  43.6957  12.522300  1600.0             0   1.246484  \n",
       "..         ...        ...      ...        ...     ...           ...        ...  \n",
       "726  19.945849  30.958372  65.2917  23.458911  2114.0             0   1.101252  \n",
       "727  19.906651  32.833036  59.0000  10.416557  3095.0             0   1.292639  \n",
       "728  19.906651  31.998400  75.2917   8.333661  1341.0             0   1.209175  \n",
       "729  20.024151  31.292200  48.3333  23.500518  1796.0             0   1.126805  \n",
       "730  18.144151  30.750142  57.7500  10.374682  2729.0             0   1.260599  \n",
       "\n",
       "[731 rows x 14 columns]"
      ]
     },
     "execution_count": 146,
     "metadata": {},
     "output_type": "execute_result"
    }
   ],
   "source": [
    "# example for lambda function\n",
    "# it will just divide the value with 10\n",
    "df[\"temp_diff\"] = df[\"temp_diff\"].apply(lambda x: x/10)\n",
    "df"
   ]
  },
  {
   "cell_type": "markdown",
   "id": "9960f520-2eb9-4c86-8ea6-355f157d3758",
   "metadata": {},
   "source": [
    "[More examples can be found at the API reference page](https://pandas.pydata.org/docs/reference/api/pandas.DataFrame.apply.html)"
   ]
  },
  {
   "cell_type": "markdown",
   "id": "78ded341-df68-4589-afd4-d669d7784a9e",
   "metadata": {},
   "source": [
    "## Aggregations & GroupBy"
   ]
  },
  {
   "cell_type": "code",
   "execution_count": 147,
   "id": "7ee49ce0-302b-4c6f-bb2e-aceec9aefd72",
   "metadata": {},
   "outputs": [
    {
     "data": {
      "text/plain": [
       "np.float64(31.28308505991792)"
      ]
     },
     "execution_count": 147,
     "metadata": {},
     "output_type": "execute_result"
    }
   ],
   "source": [
    "# we can aggrage (reduce) the data with the usual functions like\n",
    "df.temp.mean()"
   ]
  },
  {
   "cell_type": "code",
   "execution_count": 148,
   "id": "ce53f770-71c3-40f5-9f1a-7bb75b0e8bc3",
   "metadata": {},
   "outputs": [
    {
     "data": {
      "text/plain": [
       "np.float64(8.603396817239974)"
      ]
     },
     "execution_count": 148,
     "metadata": {},
     "output_type": "execute_result"
    }
   ],
   "source": [
    "df.temp.std()"
   ]
  },
  {
   "cell_type": "code",
   "execution_count": 149,
   "id": "201e51e6-2e85-46a4-8e10-047b3765baed",
   "metadata": {},
   "outputs": [
    {
     "data": {
      "text/html": [
       "<div>\n",
       "<style scoped>\n",
       "    .dataframe tbody tr th:only-of-type {\n",
       "        vertical-align: middle;\n",
       "    }\n",
       "\n",
       "    .dataframe tbody tr th {\n",
       "        vertical-align: top;\n",
       "    }\n",
       "\n",
       "    .dataframe thead th {\n",
       "        text-align: right;\n",
       "    }\n",
       "</style>\n",
       "<table border=\"1\" class=\"dataframe\">\n",
       "  <thead>\n",
       "    <tr style=\"text-align: right;\">\n",
       "      <th></th>\n",
       "      <th>temp</th>\n",
       "    </tr>\n",
       "    <tr>\n",
       "      <th>season</th>\n",
       "      <th></th>\n",
       "    </tr>\n",
       "  </thead>\n",
       "  <tbody>\n",
       "    <tr>\n",
       "      <th>fall</th>\n",
       "      <td>41.196537</td>\n",
       "    </tr>\n",
       "    <tr>\n",
       "      <th>spring</th>\n",
       "      <td>21.994135</td>\n",
       "    </tr>\n",
       "    <tr>\n",
       "      <th>summer</th>\n",
       "      <td>33.587042</td>\n",
       "    </tr>\n",
       "    <tr>\n",
       "      <th>winter</th>\n",
       "      <td>27.876584</td>\n",
       "    </tr>\n",
       "  </tbody>\n",
       "</table>\n",
       "</div>"
      ],
      "text/plain": [
       "             temp\n",
       "season           \n",
       "fall    41.196537\n",
       "spring  21.994135\n",
       "summer  33.587042\n",
       "winter  27.876584"
      ]
     },
     "execution_count": 149,
     "metadata": {},
     "output_type": "execute_result"
    }
   ],
   "source": [
    "# we can perform aggregation operations as well\n",
    "# for example we can calculate the average temperature by seasons\n",
    "\n",
    "# first we select the temp and season columns\n",
    "# then we are going to groupby the values by season\n",
    "# then we are going to reduce each group with the mean function\n",
    "df[[\"season\", \"temp\"]].groupby([\"season\"]).mean()"
   ]
  },
  {
   "cell_type": "code",
   "execution_count": 150,
   "id": "3940449a-3da9-4fdf-966e-da9c39d542a4",
   "metadata": {},
   "outputs": [
    {
     "data": {
      "text/html": [
       "<div>\n",
       "<style scoped>\n",
       "    .dataframe tbody tr th:only-of-type {\n",
       "        vertical-align: middle;\n",
       "    }\n",
       "\n",
       "    .dataframe tbody tr th {\n",
       "        vertical-align: top;\n",
       "    }\n",
       "\n",
       "    .dataframe thead th {\n",
       "        text-align: right;\n",
       "    }\n",
       "</style>\n",
       "<table border=\"1\" class=\"dataframe\">\n",
       "  <thead>\n",
       "    <tr style=\"text-align: right;\">\n",
       "      <th></th>\n",
       "      <th></th>\n",
       "      <th>temp</th>\n",
       "    </tr>\n",
       "    <tr>\n",
       "      <th>yr</th>\n",
       "      <th>season</th>\n",
       "      <th></th>\n",
       "    </tr>\n",
       "  </thead>\n",
       "  <tbody>\n",
       "    <tr>\n",
       "      <th rowspan=\"4\" valign=\"top\">2011</th>\n",
       "      <th>fall</th>\n",
       "      <td>40.955161</td>\n",
       "    </tr>\n",
       "    <tr>\n",
       "      <th>spring</th>\n",
       "      <td>20.855838</td>\n",
       "    </tr>\n",
       "    <tr>\n",
       "      <th>summer</th>\n",
       "      <td>33.109888</td>\n",
       "    </tr>\n",
       "    <tr>\n",
       "      <th>winter</th>\n",
       "      <td>28.042887</td>\n",
       "    </tr>\n",
       "    <tr>\n",
       "      <th rowspan=\"4\" valign=\"top\">2012</th>\n",
       "      <th>fall</th>\n",
       "      <td>41.437914</td>\n",
       "    </tr>\n",
       "    <tr>\n",
       "      <th>spring</th>\n",
       "      <td>23.119923</td>\n",
       "    </tr>\n",
       "    <tr>\n",
       "      <th>summer</th>\n",
       "      <td>34.064196</td>\n",
       "    </tr>\n",
       "    <tr>\n",
       "      <th>winter</th>\n",
       "      <td>27.710281</td>\n",
       "    </tr>\n",
       "  </tbody>\n",
       "</table>\n",
       "</div>"
      ],
      "text/plain": [
       "                  temp\n",
       "yr   season           \n",
       "2011 fall    40.955161\n",
       "     spring  20.855838\n",
       "     summer  33.109888\n",
       "     winter  28.042887\n",
       "2012 fall    41.437914\n",
       "     spring  23.119923\n",
       "     summer  34.064196\n",
       "     winter  27.710281"
      ]
     },
     "execution_count": 150,
     "metadata": {},
     "output_type": "execute_result"
    }
   ],
   "source": [
    "# we can groupby on multiple levels, so lets include the year too\n",
    "df[[\"yr\", \"season\", \"temp\"]].groupby([\"yr\", \"season\"]).mean()"
   ]
  },
  {
   "cell_type": "markdown",
   "id": "b5150a78-790c-4ce3-97a5-3da99d3a36ed",
   "metadata": {},
   "source": [
    "## Exercise"
   ]
  },
  {
   "cell_type": "code",
   "execution_count": 151,
   "id": "f0a6d480-1842-406f-b71c-135f98c0d263",
   "metadata": {},
   "outputs": [],
   "source": [
    "# Exercise 1: Create & Inspect\n",
    "# Create a DataFrame of 10 students with columns (you can use random data if you wish):\n",
    "# -> \"Name\" (string)\n",
    "# -> \"Age\" (18–25)\n",
    "# -> \"Grade\" (0–100)\n",
    "# -> \"Major\" (for example: \"CS\", \"Math\", \"Physics\")\n",
    "# Inspect: show first 5 rows, summary stats, and column names.\n"
   ]
  },
  {
   "cell_type": "code",
   "execution_count": 152,
   "id": "1cc9aaab-8f87-4a43-89ee-d05cb877635d",
   "metadata": {},
   "outputs": [],
   "source": [
    "# Select the \"Name\" and \"Grade\" columns.\n",
    "# Select all students older than 21.\n",
    "# Select all \"Math\" majors with grade > 70.\n"
   ]
  },
  {
   "cell_type": "code",
   "execution_count": 153,
   "id": "86df155f-7b90-49d1-80fd-110631d1cdda",
   "metadata": {},
   "outputs": [],
   "source": [
    "# Add a column \"Pass\" where grade ≥ 50 → \"Yes\", else \"No\".\n",
    "# Add a column \"AgeGroup\": \"Teen\" if <20, \"Adult\" otherwise.\n"
   ]
  },
  {
   "cell_type": "code",
   "execution_count": 154,
   "id": "33a06ba9-32fb-44c2-b790-4f8138139c38",
   "metadata": {},
   "outputs": [],
   "source": [
    "# Group by \"Major\" and compute the average grade per major.\n",
    "# Count how many students passed in each major.\n"
   ]
  },
  {
   "cell_type": "code",
   "execution_count": 155,
   "id": "a088f158-865b-4b65-8353-d9a1778a4e49",
   "metadata": {},
   "outputs": [],
   "source": [
    "# Sort the DataFrame by grade (descending). Hint: .sort_values, .nlargest, .nsmallest\n",
    "# Get the top 3 students overall.\n"
   ]
  }
 ],
 "metadata": {
  "kernelspec": {
   "display_name": "Python 3 (ipykernel)",
   "language": "python",
   "name": "python3"
  },
  "language_info": {
   "codemirror_mode": {
    "name": "ipython",
    "version": 3
   },
   "file_extension": ".py",
   "mimetype": "text/x-python",
   "name": "python",
   "nbconvert_exporter": "python",
   "pygments_lexer": "ipython3",
   "version": "3.10.11"
  }
 },
 "nbformat": 4,
 "nbformat_minor": 5
}
