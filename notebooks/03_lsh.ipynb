{
 "cells": [
  {
   "cell_type": "code",
   "execution_count": 11,
   "id": "9b964f19-8e0d-45ad-b7ba-f93a8fb6271a",
   "metadata": {},
   "outputs": [],
   "source": [
    "import numpy as np\n",
    "import matplotlib.pyplot as plt\n",
    "import pandas as pd"
   ]
  },
  {
   "cell_type": "markdown",
   "id": "42e714da-013d-4150-99c5-fff06efa7c3e",
   "metadata": {},
   "source": [
    "# Locality Sensitive Hashing (LSH)\n",
    "\n",
    "Supposed we have $n$ elements in our dataset, finding the item which is the most similar to every item in the dataset takes $\\binom{n}{2} = O(n^2)$ comparisons. For large values of $n$, this amount of comparison is definitely beyond what is practically manageable. For example:\n",
    "- Google detects duplicate web pages out of billions.\n",
    "- Spotify finds songs with similar acoustic fingerprints.\n",
    "- Plagiarism detection tools spot near-duplicate essays.\n",
    "\n",
    "These all require fast similarity search in huge, high-dimensional datasets."
   ]
  },
  {
   "cell_type": "markdown",
   "id": "8a465bd5-f9b6-4c77-87bb-799911f50676",
   "metadata": {},
   "source": [
    "## Bruteforce"
   ]
  },
  {
   "cell_type": "code",
   "execution_count": 12,
   "id": "81c3dc9d-b57d-448f-991f-8912db888605",
   "metadata": {},
   "outputs": [
    {
     "name": "stdout",
     "output_type": "stream",
     "text": [
      "2.39 s ± 142 ms per loop (mean ± std. dev. of 7 runs, 1 loop each)\n"
     ]
    }
   ],
   "source": [
    "from sklearn.metrics.pairwise import cosine_similarity\n",
    "\n",
    "def similarity_brute_force(num_vectors=10_000, num_dimensions=300):\n",
    "    X = np.random.rand(num_vectors, num_dimensions)\n",
    "    q = np.random.rand(1, num_dimensions)\n",
    "    \n",
    "    # Brute force nearest neighbor\n",
    "    sims = cosine_similarity(q, X)\n",
    "    nn_index = np.argmax(sims)\n",
    "    nn_index, sims[0, nn_index]\n",
    "\n",
    "%timeit similarity_brute_force(1_000_000)"
   ]
  },
  {
   "cell_type": "code",
   "execution_count": 14,
   "id": "ef717794-b48e-4dd2-a443-7a8e887d9de1",
   "metadata": {},
   "outputs": [
    {
     "data": {
      "text/plain": [
       "[<matplotlib.lines.Line2D at 0x2a882efb5e0>]"
      ]
     },
     "execution_count": 14,
     "metadata": {},
     "output_type": "execute_result"
    },
    {
     "data": {
      "image/png": "[encoded data removed]",
      "text/plain": [
       "<Figure size 640x480 with 1 Axes>"
      ]
     },
     "metadata": {},
     "output_type": "display_data"
    }
   ],
   "source": [
    "from time import perf_counter_ns\n",
    "\n",
    "max_magnitude = 7\n",
    "tm = []\n",
    "x = [10**i for i in range(max_magnitude)]\n",
    "for i in range(len(x)):\n",
    "    repeated = []\n",
    "    for _ in range(10):  # repeat 10 times to mitigate noise in runtime\n",
    "        start = perf_counter_ns()\n",
    "        similarity_brute_force(x[i])\n",
    "        end = perf_counter_ns() - start\n",
    "        repeated.append(end * 10**-9)\n",
    "    tm.append(np.mean(repeated))\n",
    "plt.plot(np.arange(max_magnitude), tm)"
   ]
  },
  {
   "cell_type": "markdown",
   "id": "74b1dc12-1508-4ddd-8f9a-6ec52e4b71f4",
   "metadata": {},
   "source": [
    "## Minhash\n",
    "\n",
    "Instead of comparing all elements, MinHash builds a compact signature (a short vector) for each set such that:\n",
    "- The probability two sets have the same signature entry equals their Jaccard similarity.\n",
    "- So by comparing signatures, we can approximate Jaccard efficiently.\n",
    "\n",
    "How MinHash Works:\n",
    "------------------\n",
    "1. Choose $k$ independent hash functions \n",
    "   $h_1, h_2, \\dots, h_k$.\n",
    "\n",
    "2. For each set $S$, compute:\n",
    "   $\n",
    "   \\text{MinHash}_i(S) = \\min \\{ h_i(x) : x \\in S \\}\n",
    "   $\n",
    "\n",
    "3. The signature of $S$ is:\n",
    "   $\n",
    "   \\big( \\text{MinHash}_1(S), \\text{MinHash}_2(S), \\dots, \\text{MinHash}_k(S) \\big)\n",
    "   $"
   ]
  },
  {
   "cell_type": "code",
   "execution_count": null,
   "id": "d1a1fd93-ada3-47d4-ac97-6becd5d09f3a",
   "metadata": {},
   "outputs": [],
   "source": []
  },
  {
   "cell_type": "code",
   "execution_count": null,
   "id": "c64f578d-efd5-4e1c-be98-004ded36764b",
   "metadata": {},
   "outputs": [],
   "source": []
  },
  {
   "cell_type": "code",
   "execution_count": null,
   "id": "d56add65-1a24-4f64-8039-abc63b256c1f",
   "metadata": {},
   "outputs": [],
   "source": []
  }
 ],
 "metadata": {
  "kernelspec": {
   "display_name": "Python 3 (ipykernel)",
   "language": "python",
   "name": "python3"
  },
  "language_info": {
   "codemirror_mode": {
    "name": "ipython",
    "version": 3
   },
   "file_extension": ".py",
   "mimetype": "text/x-python",
   "name": "python",
   "nbconvert_exporter": "python",
   "pygments_lexer": "ipython3",
   "version": "3.10.11"
  }
 },
 "nbformat": 4,
 "nbformat_minor": 5
}
