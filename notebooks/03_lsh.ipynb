{
 "cells": [
  {
   "cell_type": "code",
   "execution_count": 6,
   "id": "f28bfe00-666f-479d-8a25-1aec82000619",
   "metadata": {},
   "outputs": [
    {
     "name": "stderr",
     "output_type": "stream",
     "text": [
      "\n",
      "[notice] A new release of pip is available: 25.1.1 -> 25.2\n",
      "[notice] To update, run: python.exe -m pip install --upgrade pip\n"
     ]
    }
   ],
   "source": [
    "!pip install -q git+https://github.com/ficstamas/data-mining.git"
   ]
  },
  {
   "cell_type": "code",
   "execution_count": 2,
   "id": "9b964f19-8e0d-45ad-b7ba-f93a8fb6271a",
   "metadata": {},
   "outputs": [],
   "source": [
    "import numpy as np\n",
    "import matplotlib.pyplot as plt\n",
    "import pandas as pd\n",
    "\n",
    "from ipywidgets import interact, widgets\n",
    "\n",
    "import matplotlib.pyplot as plt\n",
    "import seaborn as sns\n",
    "\n",
    "sns.set_style('whitegrid')"
   ]
  },
  {
   "cell_type": "markdown",
   "id": "8a465bd5-f9b6-4c77-87bb-799911f50676",
   "metadata": {},
   "source": [
    "# Bruteforce"
   ]
  },
  {
   "cell_type": "code",
   "execution_count": 2,
   "id": "81c3dc9d-b57d-448f-991f-8912db888605",
   "metadata": {},
   "outputs": [
    {
     "name": "stdout",
     "output_type": "stream",
     "text": [
      "2.26 s ± 4.02 ms per loop (mean ± std. dev. of 7 runs, 1 loop each)\n"
     ]
    }
   ],
   "source": [
    "from sklearn.metrics.pairwise import cosine_similarity\n",
    "\n",
    "def similarity_brute_force(num_vectors=10_000, num_dimensions=300):\n",
    "    X = np.random.rand(num_vectors, num_dimensions)\n",
    "    q = np.random.rand(1, num_dimensions)\n",
    "    \n",
    "    # Brute force nearest neighbor\n",
    "    sims = cosine_similarity(q, X)\n",
    "    nn_index = np.argmax(sims)\n",
    "    nn_index, sims[0, nn_index]\n",
    "\n",
    "%timeit similarity_brute_force(1_000_000)"
   ]
  },
  {
   "cell_type": "code",
   "execution_count": 3,
   "id": "ef717794-b48e-4dd2-a443-7a8e887d9de1",
   "metadata": {},
   "outputs": [
    {
     "data": {
      "text/plain": [
       "[<matplotlib.lines.Line2D at 0x18a51d7ca60>]"
      ]
     },
     "execution_count": 3,
     "metadata": {},
     "output_type": "execute_result"
    },
    {
     "data": {
      "image/png": "[encoded data removed]",
      "text/plain": [
       "<Figure size 640x480 with 1 Axes>"
      ]
     },
     "metadata": {},
     "output_type": "display_data"
    }
   ],
   "source": [
    "from time import perf_counter_ns\n",
    "\n",
    "max_magnitude = 7\n",
    "tm = []\n",
    "x = [10**i for i in range(max_magnitude)]\n",
    "for i in range(len(x)):\n",
    "    repeated = []\n",
    "    for _ in range(10):  # repeat 10 times to mitigate noise in runtime\n",
    "        start = perf_counter_ns()\n",
    "        similarity_brute_force(x[i])\n",
    "        end = perf_counter_ns() - start\n",
    "        repeated.append(end * 10**-9)\n",
    "    tm.append(np.mean(repeated))\n",
    "plt.plot(np.arange(max_magnitude), tm)"
   ]
  },
  {
   "cell_type": "markdown",
   "id": "42e714da-013d-4150-99c5-fff06efa7c3e",
   "metadata": {},
   "source": [
    "# Locality Sensitive Hashing (LSH)\n",
    "\n",
    "Supposed we have $n$ elements in our dataset, finding the item which is the most similar to every item in the dataset takes $\\binom{n}{2} = O(n^2)$ comparisons. For large values of $n$, this amount of comparison is definitely beyond what is practically manageable. For example:\n",
    "- Google detects duplicate web pages out of billions.\n",
    "- Spotify finds songs with similar acoustic fingerprints.\n",
    "- Plagiarism detection tools spot near-duplicate essays.\n",
    "\n",
    "These all require fast similarity search in huge, high-dimensional datasets.\n",
    "\n",
    "**Hash functions**\n",
    "\n",
    "An LSH scheme defines a family of hash functions $H$ such that\n",
    "$$\n",
    "\\Pr_{h \\sim H}[h(x) = h(y)] = \\text{similarity}(x,y).\n",
    "$$\n",
    "Multiple hash functions are applied to each item to form a __signature vector__ (also called a sketch).\n",
    "\n",
    "**Hash tables**\n",
    "\n",
    "To amplify discrimination, we concatenate $k$ hash functions:\n",
    "$$\n",
    "g(x) = (h_1(x), h_2(x), \\dots, h_k(x)).\n",
    "$$\n",
    "Each $g(x)$ serves as a key into a hash table. To increase recall, we build $L$ independent tables, each with its own $g$.\n",
    "\n",
    "**Rows**\n",
    "\n",
    "If we arrange all signatures into a matrix:\n",
    "$$\n",
    "\\text{rows} \\; \\leftrightarrow \\; \\text{hash functions}, \\quad\n",
    "\\text{columns} \\; \\leftrightarrow \\; \\text{items}.\n",
    "$$\n",
    "Each row corresponds to the output of one hash function across all items.\n",
    "\n",
    "**Bands**\n",
    "\n",
    "We split the signature matrix into $b$ bands, each containing $r$ rows, so that $br = \\text{signature length}$.\n",
    "Within a band, two items are placed in the same bucket if their $r$ rows match exactly.\n",
    "This creates a trade-off between false positives and false negatives.\n",
    "\n",
    "**How they connect**\n",
    "- Hash functions produce signatures.\n",
    "- The signatures are arranged in rows (one per hash function).\n",
    "- These rows are grouped into bands to reduce false positives/negatives.\n",
    "- Each band maps items into hash tables (one table per band).\n",
    "\n",
    "<div style=\"display:flex\">\n",
    "<img src=\"https://www.pinecone.io/_next/image/?url=https%3A%2F%2Fcdn.sanity.io%2Fimages%2Fvr8gru94%2Fproduction%2F862f88182a796eb16942c47d93ee03ba4cdaee4d-1920x1080.png&w=1920&q=75\" width=500>\n",
    "<img src=\"https://github.com/ficstamas/data-mining/blob/master/notebooks/images/lsh_struct.png?raw=true\" width=500>\n",
    "</div>"
   ]
  },
  {
   "cell_type": "markdown",
   "id": "74b1dc12-1508-4ddd-8f9a-6ec52e4b71f4",
   "metadata": {},
   "source": [
    "# Minhash\n",
    "\n",
    "Instead of comparing all elements, MinHash builds a compact signature (a short vector) for each set such that:\n",
    "- The probability two sets have the same signature entry equals their Jaccard similarity.\n",
    "- So by comparing signatures, we can approximate Jaccard efficiently.\n",
    "\n",
    "How MinHash Works:\n",
    "\n",
    "1. Choose $k$ independent hash functions \n",
    "   $h_1, h_2, \\dots, h_k$.\n",
    "\n",
    "2. For each set $S$, compute:\n",
    "   $\n",
    "   \\text{MinHash}_i(S) = \\min \\{ h_i(x) : x \\in S \\}\n",
    "   $\n",
    "\n",
    "3. The signature of $S$ is:\n",
    "   $\n",
    "   \\big( \\text{MinHash}_1(S), \\text{MinHash}_2(S), \\dots, \\text{MinHash}_k(S) \\big)\n",
    "   $"
   ]
  },
  {
   "cell_type": "code",
   "execution_count": null,
   "id": "d1a1fd93-ada3-47d4-ac97-6becd5d09f3a",
   "metadata": {},
   "outputs": [],
   "source": [
    "ratings = pd.read_csv(\"https://raw.githubusercontent.com/ficstamas/data-mining/ef35c46e65be57364023dd0eca3e6cebee97ec65/data/movielens/ratings.csv\")\n",
    "ratings"
   ]
  },
  {
   "cell_type": "code",
   "execution_count": null,
   "id": "c64f578d-efd5-4e1c-be98-004ded36764b",
   "metadata": {},
   "outputs": [],
   "source": [
    "from scipy.sparse import csr_matrix\n",
    "\n",
    "# Filter for positive interactions\n",
    "ratings_positive = ratings[ratings['rating'] >= 4.0]\n",
    "\n",
    "# Build movie → set of users\n",
    "movie_users = ratings_positive.groupby('movieId')['userId'].apply(set).apply(list).to_dict()\n",
    "\n",
    "# **Optional** for efficient sparse representation\n",
    "# 1. Build sorted unique IDs\n",
    "movie_ids = list(movie_users.keys())\n",
    "user_ids = sorted({u for users in movie_users.values() for u in users})\n",
    "\n",
    "# 2. Build index mappings\n",
    "movie_to_idx = {m: i for i, m in enumerate(movie_ids)}\n",
    "user_to_idx = {u: j for j, u in enumerate(user_ids)}\n",
    "\n",
    "# 3. Collect data for sparse matrix (COO style first)\n",
    "rows = []\n",
    "cols = []\n",
    "data = []\n",
    "\n",
    "for m, users in movie_users.items():\n",
    "    row_idx = movie_to_idx[m]\n",
    "    for u in users:\n",
    "        rows.append(row_idx)\n",
    "        cols.append(user_to_idx[u])\n",
    "        data.append(1)\n",
    "\n",
    "# 4. Create CSR matrix\n",
    "num_movies = len(movie_ids)\n",
    "num_users = len(user_ids)\n",
    "\n",
    "M = csr_matrix((data, (rows, cols)), shape=(num_movies, num_users))\n",
    "\n",
    "# Numpy (dense) representation\n",
    "# We are going to use this one due to everyone is more familiar with it\n",
    "# you can try to use the sparse representation if you wish and make a more efficient implementation\n",
    "M_dense = M.toarray()"
   ]
  },
  {
   "cell_type": "markdown",
   "id": "e2b77fe7-89cc-41cf-bf9b-a681382447d3",
   "metadata": {},
   "source": [
    "__Require__: Characteristic matrix $C\\in \\{0,1\\}^{k,l}$ and its permutation of row indices $\\pi$.\n",
    "\n",
    "__Ensure__: minhash vector $m$\n",
    "\n",
    "<div style=\"background-color:rgba(0, 0, 0, 0.0470588); padding:10px 0;font-family:monospace;\">\n",
    "m ← [∞]^l <br>\n",
    "for row_index=1 to k do <br>\n",
    "&nbsp;&nbsp;&nbsp;&nbsp;virtual_row_index ← π[row_index] <br>\n",
    "&nbsp;&nbsp;&nbsp;&nbsp;for set_index=1 to l do <br>\n",
    "&nbsp;&nbsp;&nbsp;&nbsp;&nbsp;&nbsp;&nbsp;&nbsp;if C[row_index, set_index] == 1 then <br>\n",
    "&nbsp;&nbsp;&nbsp;&nbsp;&nbsp;&nbsp;&nbsp;&nbsp;&nbsp;&nbsp;&nbsp;&nbsp;m[set_index] ← min(m[set_index], virtual_row_index) <br>\n",
    "&nbsp;&nbsp;&nbsp;&nbsp;&nbsp;&nbsp;&nbsp;&nbsp;end if <br>\n",
    "&nbsp;&nbsp;&nbsp;&nbsp;end for <br>\n",
    "end for <br>\n",
    "</div>"
   ]
  },
  {
   "cell_type": "code",
   "execution_count": 9,
   "id": "db7b3d6a-3a6a-4314-a579-92012fc0d57f",
   "metadata": {},
   "outputs": [
    {
     "data": {
      "text/plain": [
       "array([[1.        , 0.00921659, 0.00934579, 0.089701  , 0.0372093 ],\n",
       "       [0.00921659, 1.        , 0.        , 0.        , 0.        ],\n",
       "       [0.00934579, 0.        , 1.        , 0.        , 0.        ],\n",
       "       [0.089701  , 0.        , 0.        , 1.        , 0.02721088],\n",
       "       [0.0372093 , 0.        , 0.        , 0.02721088, 1.        ]])"
      ]
     },
     "execution_count": 9,
     "metadata": {},
     "output_type": "execute_result"
    }
   ],
   "source": [
    "# calculate the real and estimated jacard similarity between the two users\n",
    "def jaccard_similarity_matrix(X):\n",
    "    # Intersection: dot product\n",
    "    intersection = X @ X.T\n",
    "    \n",
    "    # Row sums for union calculation\n",
    "    row_sums = X.sum(axis=1)\n",
    "    \n",
    "    # Union = sum(a) + sum(b) - intersection\n",
    "    union = row_sums[:, None] + row_sums[None, :] - intersection\n",
    "    \n",
    "    # Avoid divide-by-zero\n",
    "    sim = intersection / np.where(union == 0, 1, union)\n",
    "    return sim\n",
    "\n",
    "jaccard_similarity_matrix(C.T[:5])"
   ]
  },
  {
   "cell_type": "markdown",
   "id": "1d373131-054f-4e06-8f0d-ab75b58c60fb",
   "metadata": {},
   "source": [
    "## Lets implement it in practice\n",
    "\n",
    "- Assign a signiture for each item\n",
    "- Assign the items to hash buckets\n",
    "- Hash a new value and find similar items"
   ]
  },
  {
   "cell_type": "code",
   "execution_count": null,
   "id": "ae7529f4-e1e4-47bd-a405-dd756496abb7",
   "metadata": {},
   "outputs": [],
   "source": [
    "class MinHashLSH:\n",
    "    def __init__(self, num_signitures, perm_size, num_inp, seed=42):\n",
    "        np.random.seed(seed)\n",
    "        self.num_signitures = num_signitures\n",
    "        self.pi = np.array([\n",
    "            np.random.permutation(perm_size)\n",
    "            for _ in range(num_signitures)\n",
    "        ])\n",
    "        self.m = np.full((num_signitures, num_inp), fill_value=np.inf)\n",
    "        self.C = None\n",
    "        self.buckets = {}\n",
    "\n",
    "    def make_signitures(self, C):\n",
    "        m = np.full((self.num_signitures, C.shape[1]), fill_value=np.inf)\n",
    "        # TODO calculate minhash signiture considering input C, rows are films (features) and columns are users\n",
    "        return m\n",
    "\n",
    "    def fill_buckets(self, C):\n",
    "        self.C = C\n",
    "\n",
    "        self.m = self.make_signitures(C)\n",
    "        \n",
    "        for i in range(self.m.shape[1]):\n",
    "            signiture = self.m[:, i].astype(int).tolist()\n",
    "            signiture = \",\".join([str(x) for x in signiture])\n",
    "            if signiture not in self.buckets:\n",
    "                self.buckets[signiture] = []\n",
    "            self.buckets[signiture].append(i)\n",
    "\n",
    "    def retrieve_similar(self, C):\n",
    "        m = self.make_signitures(C)\n",
    "\n",
    "        ids = []\n",
    "        for i in range(m.shape[1]):\n",
    "            signiture = m[:, i].astype(int).tolist()\n",
    "            signiture = \",\".join([str(x) for x in signiture])\n",
    "            ids.append(self.buckets[signiture])\n",
    "        return ids\n",
    "\n",
    "    def jaccard_similarity_input(self):\n",
    "        X = self.C\n",
    "        # Intersection: dot product\n",
    "        intersection = X @ X.T\n",
    "        \n",
    "        # Row sums for union calculation\n",
    "        row_sums = X.sum(axis=1)\n",
    "        \n",
    "        # Union = sum(a) + sum(b) - intersection\n",
    "        union = row_sums[:, None] + row_sums[None, :] - intersection\n",
    "        \n",
    "        # Avoid divide-by-zero\n",
    "        sim = intersection / np.where(union == 0, 1, union)\n",
    "        return sim\n",
    "        \n",
    "    def jaccard_similarity_signiture(self):\n",
    "        J = np.zeros((self.m.shape[0], self.m.shape[0]))\n",
    "\n",
    "        for i in range(self.m.shape[0]):\n",
    "            for j in range(self.m.shape[0]):\n",
    "                J[i, j] = np.mean(m[:, i] == m[:, j])\n",
    "        return J"
   ]
  },
  {
   "cell_type": "code",
   "execution_count": null,
   "id": "8ba468e2-942e-4827-9977-520b3069415d",
   "metadata": {
    "scrolled": true
   },
   "outputs": [],
   "source": [
    "minhash = MinHashLSH(3, C.shape[0], C.shape[1])\n",
    "minhash.fill_buckets(C)\n",
    "minhash.buckets"
   ]
  },
  {
   "cell_type": "code",
   "execution_count": null,
   "id": "68565b1a-7b47-4314-b0c7-24a18bf671d3",
   "metadata": {
    "scrolled": true
   },
   "outputs": [],
   "source": [
    "minhash.retrieve_similar(C[:, 45:46])"
   ]
  },
  {
   "cell_type": "markdown",
   "id": "e4794f53-99b4-442f-9d8c-dcd2e1a75020",
   "metadata": {},
   "source": [
    "## Analysis of Min-Hash\n",
    "\n",
    "An important property of minhash signatures is that for any pair of sets $(A, B)$, we get that the relative proportion of times their min-hash values match each other is going to be equal to their Jaccard similarity $j$, given that we perform all the possible permutations of the elements of the sets. A more practical view of the same property is that assuming that we generated just a single random permutation of the elements of the sets, the probability that the two sets will end up having the same minhash value exactly equals their actual Jaccard similarity j, i.e.,\n",
    "$$P(h(A) = h(B)) = j.$$"
   ]
  },
  {
   "cell_type": "code",
   "execution_count": null,
   "id": "b728fc16-e042-4e32-8ff0-af0d1a158e94",
   "metadata": {},
   "outputs": [],
   "source": [
    "minhash.jaccard_similarity_input()"
   ]
  },
  {
   "cell_type": "code",
   "execution_count": null,
   "id": "3d742191-a390-4285-a24b-09f274557a25",
   "metadata": {},
   "outputs": [],
   "source": [
    "minhash.jaccard_similarity_signiture()"
   ]
  },
  {
   "cell_type": "markdown",
   "id": "3e077c76-969e-4484-8f47-78449312a149",
   "metadata": {},
   "source": [
    "# Analysis of LSH\n",
    "\n",
    "Since our sim-hash approach does not exactly express the Jaccard similarity -- it only approximates it -- we are going to get false-positive answers.\n",
    "First, we are going to introduce some notations.\n",
    "\n",
    "We say that some hash function $h$ is a member of the $(d_1, d_2, p_1, p_2)-\n",
    "sensitive$ hash functions, if for any pair of points $(A, B)$ the following\n",
    "properties hold\n",
    "1. $P(h(A) = h(B)) \\geq p_1$, whenever $d(A, B) < d_1$\n",
    "2. $P(h(A) = h(B)) \\leq p_2$, whenever $d(A, B) > d_2$.\n",
    "\n",
    "What this definition really requires is that whenever the distance\n",
    "between a pair of points is substantially low (or conversely, whenever\n",
    "their high), then their probability of being assigned with the same\n",
    "hash value should also be high. Likewise, if their pairwise distance\n",
    "if substantially large, their probability of being assigned to the same\n",
    "bucket should not be large."
   ]
  },
  {
   "cell_type": "code",
   "execution_count": 7,
   "id": "cfeebffc-1049-4fa3-889a-d10543053075",
   "metadata": {},
   "outputs": [
    {
     "data": {
      "image/png": "[encoded data removed]",
      "text/plain": [
       "<Figure size 900x500 with 1 Axes>"
      ]
     },
     "metadata": {},
     "output_type": "display_data"
    }
   ],
   "source": [
    "from datamining.plots.lsh import plot_sensitivity_lsh\n",
    "\n",
    "plot_sensitivity_lsh()"
   ]
  },
  {
   "cell_type": "markdown",
   "id": "20e1351a-c5d1-4c4a-a8e9-32daf4a0f1bd",
   "metadata": {},
   "source": [
    "## False-positive rates\n",
    "\n",
    "Given a locality-sensitive function from a family of hash functions with defined sensitivity, we can construct composite hash functions by combining them. An effective method is to compute multiple such functions in sequence, analogous to the process used for minhash signatures.\n",
    "\n",
    "Now instead of thinking of such a minhash signature of length $k$ -- calculated based on $k$ independent permutation of the characteristic matrix -- let us treat these signatures as $b$ independent bands, each consisting of $r$ minhash values, hence $k = rb$. \n",
    "\n",
    "A sensible way to combine the $k$ independent minhash values could be as follows: investigate every band of minhash values and align two objects into the same bucket if there exists at least one band of minhash values over which they are identical to each other for all the $r$ rows of a band. "
   ]
  },
  {
   "cell_type": "markdown",
   "id": "48acb808-e9c8-4202-b737-39ae769d5cb1",
   "metadata": {},
   "source": [
    "## AND-OR amplification\n",
    "\n",
    "The AND-OR amplification is a technique used to improve the probability gap between similar and dissimilar items, making LSH more effective for approximate nearest neighbor search.\n",
    "\n",
    "Suppose we have an LSH family $H$ such that:\n",
    "\n",
    "$$\n",
    "\\Pr[h(x) = h(y)] =\n",
    "\\begin{cases} \n",
    "\\ge p_1 & \\text{if $x$ and $y$ are \"close\"} \\\\\n",
    "\\le p_2 & \\text{if $x$ and $y$ are \"far\"}\n",
    "\\end{cases}\n",
    "$$\n",
    "\n",
    "**AND Amplification**\n",
    "\n",
    "Goal: Reduce false positives (distant points colliding).\n",
    "\n",
    "Pick $r$ hash functions $h_1,h_2,\\dots,h_r$ independently from $H$.\n",
    "Construct a new combined hash function:\n",
    "$$\n",
    "g(x)=(h_1(x),h_2(x),\\dots,h_r(x)).\n",
    "$$\n",
    "\n",
    "Collision occurs only if all $r$ hashes are equal (AND condition).\n",
    "\n",
    "**Probability:**\n",
    "\n",
    "$$\n",
    "\\Pr[g(x) = g(y)] =\n",
    "\\begin{cases} \n",
    "\\ge p_1^r & \\text{for close points} \\\\\n",
    "\\le p_2^r & \\text{for far points}\n",
    "\\end{cases}\n",
    "$$\n",
    "\n",
    "**OR Amplification**\n",
    "\n",
    "**Goal:** Reduce false negatives (missed nearby points).  \n",
    "\n",
    "- Create **$b$ independent AND-hashes** $(g_1, g_2, \\dots, g_b)$.  \n",
    "- Consider a collision if **any** of the $b$ (OR condition).  \n",
    "\n",
    "**Probability:**\n",
    "\n",
    "$$\n",
    "\\Pr[\\text{collision in any of the b bands}] =\n",
    "\\begin{cases} \n",
    "\\ge 1 - (1 - p_1)^b & \\text{for close points} \\\\\n",
    "\\le 1 - (1 - p_2)^b & \\text{for far points}\n",
    "\\end{cases}\n",
    "$$\n",
    "\n",
    "OR amplification increases collisions for close points, reducing false negatives.\n",
    "\n",
    "**AND-OR Amplification**\n",
    "\n",
    "- **AND step ($r$ hashes)** → reduces collisions for far points (false positives).  \n",
    "- **OR step ($b$ groups of $r$ hashes)** → increases collisions for close points (reduces false negatives).\n",
    "\n",
    "$$\n",
    "\\Pr[\\text{collision in any of the b bands}] =\n",
    "\\begin{cases} \n",
    "\\ge 1 - (1 - p_1^r)^b & \\text{for close points} \\\\\n",
    "\\le 1 - (1 - p_2^r)^b & \\text{for far points}\n",
    "\\end{cases}\n",
    "$$\n",
    "\n",
    "By carefully choosing `r` and `b`, we can **amplify the gap** between probabilities for close and far points."
   ]
  },
  {
   "cell_type": "code",
   "execution_count": null,
   "id": "e62d7f3c-5207-40d3-a564-9112e74bf20a",
   "metadata": {},
   "outputs": [],
   "source": [
    "from datamining.plots.lsh import plot_bands_and_rows\n",
    "\n",
    "@interact(\n",
    "    r=widgets.IntSlider(min=1, max=10, step=1, value=3),\n",
    "    b=widgets.IntSlider(min=1, max=10, step=1, value=5),\n",
    ")\n",
    "def _interact(r, b):\n",
    "    plot_bands_and_rows(r, b)"
   ]
  },
  {
   "cell_type": "code",
   "execution_count": null,
   "id": "5315b7b2-cc1a-4bcf-8523-3978df9775b3",
   "metadata": {},
   "outputs": [],
   "source": [
    "class MinHashLSHWithBands:\n",
    "    def __init__(self, b, r, perm_size, num_inp, seed=42):\n",
    "        np.random.seed(seed)\n",
    "        self.b = b\n",
    "        self.r = r\n",
    "        self.num_signitures = r * b\n",
    "        self.pi = np.array([\n",
    "            np.random.permutation(perm_size)\n",
    "            for _ in range(self.num_signitures)\n",
    "        ])\n",
    "        self.m = np.full((num_signitures, num_inp), fill_value=np.inf)\n",
    "        self.C = None\n",
    "        self.buckets = {i: {} for i in range(b)}\n",
    "\n",
    "    def make_signitures(self, C):\n",
    "        m = np.full((self.num_signitures, C.shape[1]), fill_value=np.inf)\n",
    "        # TODO calculate minhash signiture considering input C, rows are films (features) and columns are users\n",
    "        return m\n",
    "\n",
    "    def fill_buckets(self, C):\n",
    "        self.C = C\n",
    "\n",
    "        self.m = self.make_signitures(C)\n",
    "        # TODO lets modify it so it can handle bands\n",
    "        \n",
    "        for i in range(self.m.shape[1]):\n",
    "            signiture = self.m[:, i].astype(int).tolist()\n",
    "            signiture = \",\".join([str(x) for x in signiture])\n",
    "            if signiture not in self.buckets:\n",
    "                self.buckets[signiture] = []\n",
    "            self.buckets[signiture].append(i)\n",
    "\n",
    "    def retrieve_similar(self, C):\n",
    "        m = self.make_signitures(C)\n",
    "        # TODO lets modify it so it can handle bands\n",
    "\n",
    "        ids = []\n",
    "        for i in range(m.shape[1]):\n",
    "            signiture = m[:, i].astype(int).tolist()\n",
    "            signiture = \",\".join([str(x) for x in signiture])\n",
    "            ids.append(self.buckets[signiture])\n",
    "        return ids\n",
    "\n",
    "    def jaccard_similarity_input(self):\n",
    "        X = self.C\n",
    "        # Intersection: dot product\n",
    "        intersection = X @ X.T\n",
    "        \n",
    "        # Row sums for union calculation\n",
    "        row_sums = X.sum(axis=1)\n",
    "        \n",
    "        # Union = sum(a) + sum(b) - intersection\n",
    "        union = row_sums[:, None] + row_sums[None, :] - intersection\n",
    "        \n",
    "        # Avoid divide-by-zero\n",
    "        sim = intersection / np.where(union == 0, 1, union)\n",
    "        return sim\n",
    "        \n",
    "    def jaccard_similarity_signiture(self):\n",
    "        J = np.zeros((self.m.shape[0], self.m.shape[0]))\n",
    "\n",
    "        for i in range(self.m.shape[0]):\n",
    "            for j in range(self.m.shape[0]):\n",
    "                J[i, j] = np.mean(m[:, i] == m[:, j])\n",
    "        return J"
   ]
  },
  {
   "cell_type": "code",
   "execution_count": null,
   "id": "4bd12002-6078-482f-b13f-23125f416fc2",
   "metadata": {
    "scrolled": true
   },
   "outputs": [],
   "source": [
    "minhash = MinHashLSHWithBands(10, 3, C.shape[0], C.shape[1])\n",
    "minhash.fill_buckets(C)\n",
    "minhash.buckets"
   ]
  },
  {
   "cell_type": "code",
   "execution_count": null,
   "id": "9897c520-e1fb-4d52-aefd-6922def8768a",
   "metadata": {},
   "outputs": [],
   "source": [
    "id_ = 7\n",
    "minhash.retrieve_similar(C[:, id_:id_+1])"
   ]
  },
  {
   "cell_type": "markdown",
   "id": "7507b514-8fd2-4696-ac8d-76f9398f5e9a",
   "metadata": {},
   "source": [
    "## Disallowing False-positives"
   ]
  },
  {
   "cell_type": "markdown",
   "id": "d534eab0-7aa3-45bd-914e-bb207083594a",
   "metadata": {},
   "source": [
    "### Length-based filtering\n",
    "\n",
    "We can (over)estimate the true Jaccard similarity for any pair of sets of cardinalities $m$ and $n$ with $m \\leq n$ by taking the fraction $\\frac{m}{n}$. This is true as even if the smaller set is a proper subset of the larger set, the size of their intersection equals the number of elements in the smaller set $(m)$, whereas the cardinality of their intersection would equal the size of the larger set $(n)$. Now assuming that $\\frac{m}{n}$ is below some predefined threshold $S$, it is pointless to actually investigate the true Jaccard similarity as it is also definitely below $S$."
   ]
  },
  {
   "cell_type": "code",
   "execution_count": null,
   "id": "0f91794f-e82b-4e3e-86d5-0c41bb612f0a",
   "metadata": {},
   "outputs": [],
   "source": [
    "class MinHashLSHWithBandsLF:\n",
    "    def __init__(self, b, r, perm_size, num_inp, seed=42):\n",
    "        np.random.seed(seed)\n",
    "        self.b = b\n",
    "        self.r = r\n",
    "        self.num_signitures = r * b\n",
    "        self.pi = np.array([\n",
    "            np.random.permutation(perm_size)\n",
    "            for _ in range(self.num_signitures)\n",
    "        ])\n",
    "        self.m = np.full((num_signitures, num_inp), fill_value=np.inf)\n",
    "        self.C = None\n",
    "        self.buckets = {i: {} for i in range(b)}\n",
    "        self.lengths = None\n",
    "\n",
    "    def make_signitures(self, C):\n",
    "        m = np.full((self.num_signitures, C.shape[1]), fill_value=np.inf)\n",
    "        for i in range(C.shape[0]):\n",
    "            for k in range(self.num_signitures):\n",
    "                virtual_row_index = self.pi[k][i]\n",
    "                for j in range(C.shape[1]):\n",
    "                    if C[i, j] == 1:\n",
    "                        m[k, j] = min(m[k, j], virtual_row_index)\n",
    "        return m\n",
    "\n",
    "\n",
    "    def fill_buckets(self, C):\n",
    "        self.C = C\n",
    "\n",
    "        self.m = self.make_signitures(C)\n",
    "        # TODO lets modify it so it can handle bands and length based filtering\n",
    "        \n",
    "        for i in range(self.m.shape[1]):\n",
    "            signiture = self.m[:, i].astype(int).tolist()\n",
    "            signiture = \",\".join([str(x) for x in signiture])\n",
    "            if signiture not in self.buckets:\n",
    "                self.buckets[signiture] = []\n",
    "            self.buckets[signiture].append(i)\n",
    "\n",
    "    def retrieve_similar(self, C):\n",
    "        m = self.make_signitures(C)\n",
    "        # TODO lets modify it so it can handle bands and length based filtering\n",
    "\n",
    "        ids = []\n",
    "        for i in range(m.shape[1]):\n",
    "            signiture = m[:, i].astype(int).tolist()\n",
    "            signiture = \",\".join([str(x) for x in signiture])\n",
    "            ids.append(self.buckets[signiture])\n",
    "        return ids\n",
    "\n",
    "    def jaccard_similarity_input(self):\n",
    "        X = self.C\n",
    "        # Intersection: dot product\n",
    "        intersection = X @ X.T\n",
    "        \n",
    "        # Row sums for union calculation\n",
    "        row_sums = X.sum(axis=1)\n",
    "        \n",
    "        # Union = sum(a) + sum(b) - intersection\n",
    "        union = row_sums[:, None] + row_sums[None, :] - intersection\n",
    "        \n",
    "        # Avoid divide-by-zero\n",
    "        sim = intersection / np.where(union == 0, 1, union)\n",
    "        return sim\n",
    "        \n",
    "    def jaccard_similarity_signiture(self):\n",
    "        J = np.zeros((self.m.shape[0], self.m.shape[0]))\n",
    "\n",
    "        for i in range(self.m.shape[0]):\n",
    "            for j in range(self.m.shape[0]):\n",
    "                J[i, j] = np.mean(m[:, i] == m[:, j])\n",
    "        return J"
   ]
  },
  {
   "cell_type": "code",
   "execution_count": null,
   "id": "722bb96a-ab4b-4807-85e9-705d2f8e7b0f",
   "metadata": {
    "scrolled": true
   },
   "outputs": [],
   "source": [
    "minhash = MinHashLSHWithBandsLF(10, 3, C.shape[0], C.shape[1])\n",
    "minhash.fill_buckets(C)\n",
    "minhash.buckets"
   ]
  },
  {
   "cell_type": "code",
   "execution_count": null,
   "id": "a787d92d-fc65-4b72-8486-a84b30c31eec",
   "metadata": {},
   "outputs": [],
   "source": [
    "id_ = 7\n",
    "minhash.retrieve_similar(C[:, id_:id_+1], 0.7)"
   ]
  },
  {
   "cell_type": "markdown",
   "id": "5dab9f35-0674-4184-bde9-75db0be18134",
   "metadata": {},
   "source": [
    "### Bloom filters\n",
    "\n",
    "Imagine you are designing a web crawler. You want to know if a URL has already been visited.\n",
    "A Python set would work, but it might use gigabytes of memory for billions of URLs.\n",
    "**A Bloom filter can answer: “Have we seen this before?”** using much less space, at the cost of a small error rate.\n",
    "\n",
    "A Bloom filter consists of a bit array of length $m$ (all zeros initially), and $k$ independent hash functions.\n",
    "\n",
    "__To insert an item__:\n",
    "- Hash it with each of the $k$ functions.\n",
    "- Take each hash value modulo $m$ → get positions in the bit array.\n",
    "- Set those bits to 1.\n",
    "\n",
    "__To check if an item is in the set__:\n",
    "- Hash it with the same $k$ functions.\n",
    "- Check those bit positions.\n",
    "  - If any bit is 0, the item is definitely not in the set.\n",
    "  - If all bits are 1, the item is probably in the set.\n",
    "\n",
    "\n",
    "Because different items can map to the same bits, __Bloom filters may return false positives but no false negatives__.\n",
    "The false positive probability is approximately:\n",
    "$$\n",
    "p = \\left(1 - e^{-kn/m}\\right)^k,\n",
    "$$\n",
    "where $n$ is the number of inserted items, $m$ is the size of bit array, and $k$ is the number of hash functions.\n",
    "\n",
    "If expected number of elements $n$ is known and desired false positive probability is $p$ then the size of bit array $m$ can be calculated as:\n",
    "$$\n",
    "m = - \\frac{n\\ln p}{(\\ln 2)^2}\n",
    "$$\n",
    "We can also derive the optimal $k$ for given $m$ and $n$:\n",
    "$$\n",
    "k = \\frac{m}{n} \\ln 2\n",
    "$$\n",
    "\n",
    "[Image source](https://systemdesign.one/bloom-filters-explained/)\n",
    "\n",
    "<img src=\"https://github.com/ficstamas/data-mining/blob/master/notebooks/images/add-item-bloom-filter.webp?raw=true\" width=800>"
   ]
  },
  {
   "cell_type": "code",
   "execution_count": null,
   "id": "36e2207d-d548-477d-a290-85abe46463ff",
   "metadata": {},
   "outputs": [],
   "source": [
    "import hashlib \n",
    "\n",
    "m = 5 # bit array size \n",
    "k = 3 # number of hash functions \n",
    "bit_array = [0] * m\n",
    "\n",
    "def get_hashes(item, m, k): \n",
    "    \"\"\"\n",
    "    item: item to hash\n",
    "    m: size of bit_array\n",
    "    k: number of hash functions\n",
    "\n",
    "    Returns K hash values within a list\n",
    "    \"\"\"\n",
    "    h1 = int(hashlib.sha256(item.encode()).hexdigest(), 16) \n",
    "    h2 = int(hashlib.md5(item.encode()).hexdigest(), 16) \n",
    "    return [(h1 + i*h2) % m for i in range(k)] \n",
    "\n",
    "def add(item): \n",
    "    pass  # todo finish the function, add values to bit_array\n",
    "\n",
    "def query(item): \n",
    "    pass  # TODO finish the function, check if an item is present or not"
   ]
  },
  {
   "cell_type": "code",
   "execution_count": null,
   "id": "62b89b1a-b716-4529-94e2-089a16bea7d7",
   "metadata": {},
   "outputs": [],
   "source": [
    "add(\"apple\") \n",
    "print(bit_array) \n",
    "print(\"apple?\", query(\"apple\")) \n",
    "print(\"banana?\", query(\"banana\"))\n",
    "print(\"banana?\", query(\"orange\"))"
   ]
  },
  {
   "cell_type": "code",
   "execution_count": null,
   "id": "ed9d3e88-1b53-402d-9d2e-d260d28ca45a",
   "metadata": {},
   "outputs": [],
   "source": [
    "# what is the associated false positive probability\n"
   ]
  },
  {
   "cell_type": "markdown",
   "id": "f670308d-0037-43eb-a083-63e3e8865724",
   "metadata": {},
   "source": [
    "# Hyperplane (Cosine) LSH\n",
    "\n",
    "Hyperplane Locality-Sensitive Hashing (LSH) is a method for approximate nearest neighbor search, assuming **cosine similarity**.\n",
    "\n",
    "**How it works:**\n",
    "\n",
    "- The key idea is to use random hyperplanes through the origin to partition space.\n",
    "- Given a random vector $r\\sim\\mathcal{N}(0,I_d)$ (the normal distribution in $\\mathbb{R}^d$), you define a hash function:\n",
    "\n",
    "$$\n",
    "h_r(x) = \n",
    "\\begin{cases}\n",
    "1 & \\text{if } r \\cdot x \\geq 0 \\\\\n",
    "0 & \\text{otherwise}\n",
    "\\end{cases}\n",
    "$$\n",
    "This means:\n",
    "- If $x$ lies on one side of the hyperplane, it hashes to 1.\n",
    "- If it lies on the other side, it hashes to 0.\n",
    "\n",
    "By repeating with multiple idependent random hyperplanes, each vector is mapped to a binary code."
   ]
  },
  {
   "cell_type": "code",
   "execution_count": null,
   "id": "22c0e2eb-40ff-42a1-a4f5-e916b37cbd14",
   "metadata": {},
   "outputs": [],
   "source": [
    "from datamining.plots.lsh_hyperplane import plot_hyperplane_example\n",
    "\n",
    "@interact(\n",
    "    step=widgets.ToggleButtons(\n",
    "        options=[1, 2, 3, 4, 5, 6],\n",
    "        description='Step:',\n",
    "        disabled=False,\n",
    "        button_style='', # 'success', 'info', 'warning', 'danger' or ''\n",
    "        # tooltips=['Description of slow', 'Description of regular', 'Description of fast'],\n",
    "        # icons=['check'] * 3\n",
    "    ),\n",
    "    angle=widgets.IntSlider(min=1, max=359, step=1, value=220),\n",
    ")\n",
    "def _interact(step, angle):\n",
    "    plot_hyperplane_example(step, angle)"
   ]
  },
  {
   "cell_type": "markdown",
   "id": "5387b911-974d-40f3-927e-9c2cd99f46e2",
   "metadata": {},
   "source": [
    "## Connection to Cosine Similarity\n",
    "The probability that two vectors $x$ and $y$ have the same hash under a random hyperplane depends only on the **angle** $\\mathbf{\\Theta}$ between them:\n",
    "\n",
    "$$\n",
    "\\Pr[h_r(x) = h_r(y)] = 1 - \\frac{\\theta(x, y)}{\\pi} = \\frac{180-rad2deg(\\theta(x, y))}{180}\n",
    "$$\n",
    "\n",
    "## Intuition\n",
    "- If $x$ and $y$ are very similar (high cosine similarity → small angle), they are more likely to fall on the same side of any random hyperplane.  \n",
    "- If $x$ and $y$ are orthogonal $(\\cos = 0, \\theta = \\pi/2)$, the probability of collision is 0.5.  \n",
    "- If they point in opposite directions $(\\cos = -1, \\theta = \\pi)$, the probability is 0.  "
   ]
  },
  {
   "cell_type": "code",
   "execution_count": null,
   "id": "7a4c9cf4-18f4-49a6-9eb3-862e7840639f",
   "metadata": {},
   "outputs": [],
   "source": [
    "vectors = np.array([[-0.1, 0.5], [0.3, 0.2]])  # vectors A and B from earlier plot/figure\n",
    "A, B = vectors[0], vectors[1]\n",
    "\n",
    "true_angle = np.inner(A, B) / (np.linalg.norm(A) * np.linalg.norm(B))\n",
    "true_angle = np.arccos(true_angle)\n",
    "np.degrees(true_angle)"
   ]
  },
  {
   "cell_type": "code",
   "execution_count": null,
   "id": "703679a1-a523-4d6b-b74f-a4185b65debd",
   "metadata": {},
   "outputs": [],
   "source": [
    "num_planes = 300\n",
    "hash_functions = np.random.randn(num_planes, 2)\n",
    "hash_functions.shape"
   ]
  },
  {
   "cell_type": "code",
   "execution_count": null,
   "id": "725fe1a9-7c93-4d02-abc4-7d93f53ca73a",
   "metadata": {},
   "outputs": [],
   "source": [
    "projections = vectors @ hash_functions.T\n",
    "hash_code = (projections >= 0).astype(int)\n",
    "hash_code"
   ]
  },
  {
   "cell_type": "code",
   "execution_count": null,
   "id": "fc067bee-d0a7-4507-8a6b-0ea20238d190",
   "metadata": {},
   "outputs": [],
   "source": [
    "def approx_sketch(sketch_A, sketch_B):\n",
    "    k = len(sketch_A)\n",
    "    matching_bits = np.sum(sketch_A == sketch_B)\n",
    "    p_hat = matching_bits / k\n",
    "    theta_hat = np.pi * (1 - p_hat)\n",
    "    return np.degrees(theta_hat)\n",
    "\n",
    "\n",
    "x = np.arange(0, num_planes)\n",
    "y = []\n",
    "\n",
    "for i in range(1, num_planes+1):\n",
    "    sketch_A, sketch_B = hash_code[0][:i], hash_code[1][:i]\n",
    "    y.append(approx_sketch(sketch_A, sketch_B))\n",
    "\n",
    "\n",
    "plt.plot(x, y, label=\"Approximated Angle\")\n",
    "plt.hlines(np.degrees(true_angle), 0, num_planes, color=\"red\", label=\"True Angle\")\n",
    "plt.legend()"
   ]
  },
  {
   "cell_type": "markdown",
   "id": "bf8afb69-66e5-4a60-a5e6-899e16244f6f",
   "metadata": {},
   "source": [
    "## In practice\n",
    "- Load and preprocess data\n",
    "- Initialize hash functions and tables\n",
    "- Hash the set of values\n",
    "- Retrieve documents"
   ]
  },
  {
   "cell_type": "markdown",
   "id": "87364041-a854-423f-a05f-4323f04f041c",
   "metadata": {},
   "source": [
    "### Data loading"
   ]
  },
  {
   "cell_type": "code",
   "execution_count": null,
   "id": "780fbca6-b84d-4721-a88d-9970a3e4ff34",
   "metadata": {},
   "outputs": [],
   "source": [
    "from sklearn.datasets import fetch_20newsgroups\n",
    "\n",
    "# Load training subset (you can also load 'test')\n",
    "newsgroups_train = fetch_20newsgroups(subset='train', remove=('headers', 'footers', 'quotes'))\n",
    "newsgroups_train_y = newsgroups_train.target\n",
    "id2label = newsgroups_train.target_names\n",
    "\n",
    "print(\"Number of documents:\", len(newsgroups_train.data))\n",
    "print(\"Categories:\", newsgroups_train.target_names[:5], \"...\")\n",
    "\n",
    "# Example document\n",
    "print(\"\\nSample document:\\n\")\n",
    "print(newsgroups_train.data[0])"
   ]
  },
  {
   "cell_type": "code",
   "execution_count": null,
   "id": "d0416c45-540f-4999-b5ad-ec6f8318de29",
   "metadata": {},
   "outputs": [],
   "source": [
    "newsgroups_test = fetch_20newsgroups(subset='test', remove=('headers', 'footers', 'quotes'))\n",
    "newsgroups_test_y = newsgroups_test.target"
   ]
  },
  {
   "cell_type": "markdown",
   "id": "112e5791-bfcb-4182-827f-dcc3ebb936f9",
   "metadata": {},
   "source": [
    "### Preprocessing\n",
    "\n",
    "TF-IDF (term frequency-inverse document frequency) expresses how much a word is important to a document in a corpus (collection of documents). The basic idea behind TF-IDF is to represent each document or piece of text as a numerical vector, with each element in the vector representing a different word or term in the text. The value of each element is calculated based on the frequency of the term in the document (term frequency) and the inverse of the frequency of the term in all documents (inverse document frequency).\n",
    "\n",
    "$$\\text{tf-idf}(t,d)=\\text{tf}(t,d)\\cdot \\text{idf}(t)$$\n",
    "\n",
    "The term frequency measures how often a particular word appears in a document, with the assumption that more frequent terms are more important for the meaning of the document. \n",
    "\n",
    "$$\\text{tf}(t,d)=\\frac{f_{t,d}}{\\sum_{t'\\in d}f_{t',d}},$$\n",
    "\n",
    "where $f_{t,d}$ represent the number of times $t$ occured in $d$, and $\\sum_{t'\\in d}f_{t',d}$ is just the total number of term  in document $d$.\n",
    "\n",
    "On the other hand, the inverse document frequency measures how unique a term is across all documents, with the assumption that terms that appear in many documents are less important for the meaning of a single document. For example, in english the words \"the\", \"a\" or \"is\" are not that important, but may occur many times in a single document.\n",
    "\n",
    "$$\\text{idf}(t)=\\log{\\frac{|D|}{|\\{d\\in D : t \\in d\\}|}},$$\n",
    "where $|D|$ is the number of documents, and $|\\{d\\in D : t \\in d\\}|$ is the number of documents where the term $t$ appears."
   ]
  },
  {
   "cell_type": "code",
   "execution_count": null,
   "id": "da8b5ae6-4b2b-45d1-82b3-9a0300b946c4",
   "metadata": {},
   "outputs": [],
   "source": [
    "from sklearn.feature_extraction.text import TfidfVectorizer\n",
    "\n",
    "vectorizer = TfidfVectorizer(stop_words='english', max_features=20_000)\n",
    "X_train = vectorizer.fit_transform(newsgroups_train.data)\n",
    "X_test = vectorizer.fit_transform(newsgroups_test.data)"
   ]
  },
  {
   "cell_type": "markdown",
   "id": "8730a47c-c3bc-45aa-b533-340d58e8dad7",
   "metadata": {},
   "source": [
    "### Implementation"
   ]
  },
  {
   "cell_type": "code",
   "execution_count": null,
   "id": "db029415-1a47-4c0a-8b00-b03d9a5561cf",
   "metadata": {},
   "outputs": [],
   "source": [
    "class HyperplaneLSH:\n",
    "    def __init__(self, num_tables, num_hashes, input_dim=5000, seed=42):\n",
    "        np.random.seed(seed)\n",
    "        self.num_tables = num_tables\n",
    "        self.num_hashes = num_hashes\n",
    "        num_planes = num_tables * num_hashes\n",
    "        self.hash_functions = np.random.randn(num_planes, input_dim)\n",
    "        self.buckets = {i: {j: set() for j in range(2**num_hashes)} for i in range(num_tables)}\n",
    "        self.data = None\n",
    "        self.labels = None\n",
    "    \n",
    "    def hash(self, x):\n",
    "        \"\"\"\n",
    "        x -> vectorized tfidf representation\n",
    "        \"\"\"\n",
    "        # TODO implement hashing\n",
    "        pass\n",
    "\n",
    "    def hash_value_to_bucket(self, hash_values):\n",
    "        \"\"\"\n",
    "        hash_values -> matrix of binary hash values \n",
    "        \"\"\"\n",
    "        # TODO implement a function which convert binary hashed vectors to integers, i.e., [1, 0, 1, 0] -> [5]\n",
    "        # take the tables into consideration\n",
    "        pass\n",
    "    \n",
    "    def fill_buckets(self, x, data, labels):\n",
    "        \"\"\"\n",
    "        x -> vectorized tfidf representation\n",
    "        data -> list of documents as strings\n",
    "        labels -> list of labels\n",
    "        \"\"\"\n",
    "        self.data = data\n",
    "        self.labels = labels\n",
    "        hash_values = self.hash(x)\n",
    "        hash_values = hash_values.reshape(-1, self.num_tables, self.num_hashes)\n",
    "        bucket_ids = self.hash_value_to_bucket(hash_values)\n",
    "        for i in range(x.shape[0]):\n",
    "            for t in range(self.num_tables):\n",
    "                self.buckets[t][bucket_ids[i][t]].add(i)\n",
    "\n",
    "    def retrieve_document(self, x):\n",
    "        \"\"\"\n",
    "        x -> vectorized tfidf representation\n",
    "        \"\"\"\n",
    "        hash_values = self.hash(x)\n",
    "        hash_values = hash_values.reshape(-1, self.num_tables, self.num_hashes)\n",
    "        bucket_ids = self.hash_value_to_bucket(hash_values)\n",
    "        retrieved_ids = set()\n",
    "        for t in range(self.num_tables):\n",
    "            retrieved_ids |= self.buckets[t][bucket_ids[0][t]]\n",
    "        retrieved_ids = list(retrieved_ids)\n",
    "        results = {\"documents\": [], \"labels\": []}\n",
    "        for doc_id in retrieved_ids:\n",
    "            results[\"documents\"].append(self.data[doc_id])\n",
    "            results[\"labels\"].append(self.labels[doc_id])\n",
    "        return results"
   ]
  },
  {
   "cell_type": "code",
   "execution_count": null,
   "id": "471dd322-74ae-4fc5-baaf-1247759a5fad",
   "metadata": {},
   "outputs": [],
   "source": [
    "lsh = HyperplaneLSH(8, 16, X_train.shape[-1])\n",
    "lsh.fill_buckets(X_train, newsgroups_train.data, newsgroups_train_y.astype(int))"
   ]
  },
  {
   "cell_type": "markdown",
   "id": "0654f923-4a15-479a-8f79-4781c98f067f",
   "metadata": {},
   "source": [
    "### Finding similar documents"
   ]
  },
  {
   "cell_type": "code",
   "execution_count": null,
   "id": "ba6e1608-7a0c-4aa1-8ef9-aa473cf6f66c",
   "metadata": {
    "scrolled": true
   },
   "outputs": [],
   "source": [
    "id_ = 11\n",
    "print(f\"{id2label[newsgroups_test_y[id_]]}: {newsgroups_test.data[id_]}\\n------------------------------------------------------------------------------------------\\n\")\n",
    "ret = lsh.retrieve_document(X_test[id_])\n",
    "for i in range(len(ret[\"documents\"])):\n",
    "    print(f\"{id2label[ret['labels'][i]]}: {ret['documents'][i]}\\n------------------------------------------------------------------------------------------\\n\")"
   ]
  },
  {
   "cell_type": "code",
   "execution_count": null,
   "id": "71f8ac6b-6a38-46cc-afd1-5e4a5cfdcc91",
   "metadata": {},
   "outputs": [],
   "source": [
    "id_ = 11\n",
    "print(f\"{id2label[newsgroups_test_y[id_]]}:\\n------------------------------------------------------------------------------------------\\n\")\n",
    "ret = lsh.retrieve_document(X_test[id_])\n",
    "for i in range(len(ret[\"documents\"])):\n",
    "    print(f\"{id2label[ret['labels'][i]]}:\\n------------------------------------------------------------------------------------------\\n\")"
   ]
  }
 ],
 "metadata": {
  "kernelspec": {
   "display_name": "Python 3 (ipykernel)",
   "language": "python",
   "name": "python3"
  },
  "language_info": {
   "codemirror_mode": {
    "name": "ipython",
    "version": 3
   },
   "file_extension": ".py",
   "mimetype": "text/x-python",
   "name": "python",
   "nbconvert_exporter": "python",
   "pygments_lexer": "ipython3",
   "version": "3.10.11"
  }
 },
 "nbformat": 4,
 "nbformat_minor": 5
}
