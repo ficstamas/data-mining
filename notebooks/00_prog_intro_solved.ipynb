{
 "cells": [
  {
   "cell_type": "markdown",
   "id": "a13e6dbc-2ae2-4057-9abf-69f82790deb9",
   "metadata": {},
   "source": [
    "# Python Basics"
   ]
  },
  {
   "cell_type": "code",
   "execution_count": 1,
   "id": "d61179d0-1037-4aa9-a46e-4fae4526fbb0",
   "metadata": {},
   "outputs": [
    {
     "data": {
      "text/plain": [
       "5"
      ]
     },
     "execution_count": 1,
     "metadata": {},
     "output_type": "execute_result"
    }
   ],
   "source": [
    "# Variable assignment\n",
    "x = 5\n",
    "x  # the last line of a cell will always be printed, unless it is a variable assignment"
   ]
  },
  {
   "cell_type": "code",
   "execution_count": 2,
   "id": "e854aac6-dd46-4060-903a-56dd06abb82c",
   "metadata": {},
   "outputs": [
    {
     "name": "stdout",
     "output_type": "stream",
     "text": [
      "x=5\n",
      "I can print the value of x here: 5 and again if I want to here: 5, or I can make any expression within the curly brackets 6\n",
      "Text 5 Another Text\n",
      "Addition: x+2= 7\n",
      "Subtraction: x-2= 3\n",
      "Multiplication: x*2= 10\n",
      "Division: x/2= 2.5\n",
      "Floor division: x//2= 2\n",
      "Modulus: x%2= 1\n",
      "Exponentiation: x^2= 25\n"
     ]
    }
   ],
   "source": [
    "# example for format string \n",
    "# the 'f' before the string indicates that it is a format string\n",
    "# withing the string {variable_name} will substitute the variable\n",
    "print(f\"x={x}\")\n",
    "print(f\"I can print the value of x here: {x} and again if I want to here: {x}, or I can make any expression within the curly brackets {x+1}\")\n",
    "\n",
    "# we can print sequence of values if we just list everything withing the print\n",
    "print(\"Text\", x, \"Another Text\")\n",
    "\n",
    "# Basic arithmetics within Python\n",
    "print(\"Addition: x+2=\", x + 2)\n",
    "print(\"Subtraction: x-2=\", x - 2)\n",
    "print(\"Multiplication: x*2=\", x * 2)\n",
    "print(\"Division: x/2=\", x / 2)\n",
    "print(\"Floor division: x//2=\", x // 2)\n",
    "print(\"Modulus: x%2=\", x % 2)\n",
    "print(\"Exponentiation: x^2=\", x ** 2)"
   ]
  },
  {
   "cell_type": "code",
   "execution_count": 3,
   "id": "f56525be-2b35-49a5-aef2-1a82e3fa0ad1",
   "metadata": {},
   "outputs": [
    {
     "data": {
      "text/plain": [
       "False"
      ]
     },
     "execution_count": 3,
     "metadata": {},
     "output_type": "execute_result"
    }
   ],
   "source": [
    "x > 5  # Python Logical Operators: <, <=, >, >=, ==, !=, and, or, not"
   ]
  },
  {
   "cell_type": "code",
   "execution_count": 4,
   "id": "568783b1-880a-4d25-a308-1bf99654736d",
   "metadata": {},
   "outputs": [
    {
     "data": {
      "text/plain": [
       "True"
      ]
     },
     "execution_count": 4,
     "metadata": {},
     "output_type": "execute_result"
    }
   ],
   "source": [
    "True | False  # bitwise operators: & (and), | (or), ^ (xor)"
   ]
  },
  {
   "cell_type": "markdown",
   "id": "596f307b-5930-4509-81ef-6ad9617953f0",
   "metadata": {},
   "source": [
    "## Data Structures"
   ]
  },
  {
   "cell_type": "code",
   "execution_count": 5,
   "id": "5ac7653c-5e5d-46da-9ba8-2e178ba6def5",
   "metadata": {},
   "outputs": [],
   "source": [
    "# the name of the variable can be anything, I used an underscore (_) after each nameto differentiate them from built-in functions such as list, tuple, dict, set\n",
    "list_ = [12, 4, 5, 8, 9]  # list, mutable (which means that it can be modified)\n",
    "tuple_ = (12, 4, 6, 8, 9)  # tuple, immutable (which means it can not be modified)\n",
    "dict_ = {'first': 12, 'second': 5, 'third': -66}  # dictionary or map\n",
    "set_ = {3, 0, 1, 0, 3, 2, -3}  # set"
   ]
  },
  {
   "cell_type": "code",
   "execution_count": 6,
   "id": "7a5efd49-6529-407e-bcc6-4c7007dcb889",
   "metadata": {},
   "outputs": [
    {
     "data": {
      "text/plain": [
       "{-3, 0, 1, 2, 3}"
      ]
     },
     "execution_count": 6,
     "metadata": {},
     "output_type": "execute_result"
    }
   ],
   "source": [
    "# we can print any of them\n",
    "set_"
   ]
  },
  {
   "cell_type": "code",
   "execution_count": 7,
   "id": "ac4a0efa-7feb-464e-b484-674033dbe323",
   "metadata": {},
   "outputs": [
    {
     "data": {
      "text/plain": [
       "4"
      ]
     },
     "execution_count": 7,
     "metadata": {},
     "output_type": "execute_result"
    }
   ],
   "source": [
    "# we can access an element of a list or tuple as\n",
    "list_[1]"
   ]
  },
  {
   "cell_type": "code",
   "execution_count": 8,
   "id": "97f02b9b-7ad1-4b1c-a9c0-383e2bd073df",
   "metadata": {},
   "outputs": [
    {
     "data": {
      "text/plain": [
       "[12, 4]"
      ]
     },
     "execution_count": 8,
     "metadata": {},
     "output_type": "execute_result"
    }
   ],
   "source": [
    "# we can use a so called sliching which selects multiple elements\n",
    "# it is in the format of \"start:stop:step_size\"\n",
    "list_[:2]  #first 2 elements"
   ]
  },
  {
   "cell_type": "code",
   "execution_count": 9,
   "id": "d009859d-6b9b-4617-8505-f2faad5091cc",
   "metadata": {},
   "outputs": [
    {
     "data": {
      "text/plain": [
       "[5, 8, 9]"
      ]
     },
     "execution_count": 9,
     "metadata": {},
     "output_type": "execute_result"
    }
   ],
   "source": [
    "list_[2:5]  # from index 2 to 5 (not included)"
   ]
  },
  {
   "cell_type": "code",
   "execution_count": 10,
   "id": "918fc567-3017-4511-a835-32be6ead309b",
   "metadata": {},
   "outputs": [
    {
     "data": {
      "text/plain": [
       "[4, 8]"
      ]
     },
     "execution_count": 10,
     "metadata": {},
     "output_type": "execute_result"
    }
   ],
   "source": [
    "list_[1:6:2]  # from index 1 to 6 (not included) with the step size of 2"
   ]
  },
  {
   "cell_type": "code",
   "execution_count": 11,
   "id": "f983fc1f-8cfe-43b7-81fe-553eb184c3ab",
   "metadata": {},
   "outputs": [
    {
     "data": {
      "text/plain": [
       "9"
      ]
     },
     "execution_count": 11,
     "metadata": {},
     "output_type": "execute_result"
    }
   ],
   "source": [
    "# we can use negative indices as well which starts the indexing from the end of the array\n",
    "list_[-1]  # last element of the array"
   ]
  },
  {
   "cell_type": "code",
   "execution_count": 12,
   "id": "013dd9b4-0092-498b-ac3b-027ce14e6cbb",
   "metadata": {},
   "outputs": [
    {
     "data": {
      "text/plain": [
       "[8, 9]"
      ]
     },
     "execution_count": 12,
     "metadata": {},
     "output_type": "execute_result"
    }
   ],
   "source": [
    "list_[-2:]  # last to element of the array"
   ]
  },
  {
   "cell_type": "code",
   "execution_count": 13,
   "id": "22c6061f-45af-44ca-b326-5848552c29ac",
   "metadata": {},
   "outputs": [
    {
     "data": {
      "text/plain": [
       "[4, 5, 8]"
      ]
     },
     "execution_count": 13,
     "metadata": {},
     "output_type": "execute_result"
    }
   ],
   "source": [
    "list_[1:-1]  # every element except the first and the last"
   ]
  },
  {
   "cell_type": "code",
   "execution_count": 14,
   "id": "17e03f6d-5e69-4182-b054-740a3d05e8fb",
   "metadata": {},
   "outputs": [
    {
     "data": {
      "text/plain": [
       "[12, 5, 9]"
      ]
     },
     "execution_count": 14,
     "metadata": {},
     "output_type": "execute_result"
    }
   ],
   "source": [
    "# by not providing value, the defaults are: start=0, stop=len(array), step_size=1\n",
    "# so if we just wish to select every second element from the array we can just provide the step size as:\n",
    "list_[::2]"
   ]
  },
  {
   "cell_type": "code",
   "execution_count": 15,
   "id": "6f9e7efa-71d6-4a30-9cb5-1f85d3cbb7c1",
   "metadata": {},
   "outputs": [
    {
     "data": {
      "text/plain": [
       "5"
      ]
     },
     "execution_count": 15,
     "metadata": {},
     "output_type": "execute_result"
    }
   ],
   "source": [
    "# we can access the elements of a dictionary with its keys\n",
    "dict_[\"second\"]"
   ]
  },
  {
   "cell_type": "markdown",
   "id": "8aa873d8-3eda-484e-8fe1-42b527208a94",
   "metadata": {},
   "source": [
    "## Loops and List Comprehension"
   ]
  },
  {
   "cell_type": "code",
   "execution_count": 16,
   "id": "4bfc3069-0faf-4358-8016-36b0dee07e23",
   "metadata": {},
   "outputs": [
    {
     "name": "stdout",
     "output_type": "stream",
     "text": [
      "12\n",
      "4\n",
      "5\n",
      "8\n",
      "9\n"
     ]
    }
   ],
   "source": [
    "# we can define a for loop within python as \"for element_variable in structure\"\n",
    "for x in list_:\n",
    "    print(x)"
   ]
  },
  {
   "cell_type": "code",
   "execution_count": 17,
   "id": "08673d20-4463-45ba-872f-6db3da7167c9",
   "metadata": {},
   "outputs": [
    {
     "name": "stdout",
     "output_type": "stream",
     "text": [
      "0\n",
      "1\n",
      "2\n",
      "3\n",
      "4\n"
     ]
    }
   ],
   "source": [
    "# we can define ranges\n",
    "for i in range(5):\n",
    "    print(i)"
   ]
  },
  {
   "cell_type": "code",
   "execution_count": 18,
   "id": "e8ac930b-d50c-4e28-ad40-a040c0f9dd77",
   "metadata": {},
   "outputs": [
    {
     "name": "stdout",
     "output_type": "stream",
     "text": [
      "12\n",
      "4\n",
      "5\n",
      "8\n",
      "9\n"
     ]
    }
   ],
   "source": [
    "# we can iterate structures with indices\n",
    "for i in range(len(list_)):\n",
    "    print(list_[i])  # list_[i] accesses the ith element of list_"
   ]
  },
  {
   "cell_type": "code",
   "execution_count": 19,
   "id": "42a25ab3-2f24-4168-b234-06134fc1ddc9",
   "metadata": {},
   "outputs": [
    {
     "name": "stdout",
     "output_type": "stream",
     "text": [
      "0 12\n",
      "1 4\n",
      "2 5\n",
      "3 8\n",
      "4 9\n"
     ]
    }
   ],
   "source": [
    "# or if we need the value and index at once\n",
    "for i, value in enumerate(list_):\n",
    "    print(i, value)"
   ]
  },
  {
   "cell_type": "code",
   "execution_count": 20,
   "id": "e01a4ea6-dec9-406e-a021-20588bf9a2e0",
   "metadata": {},
   "outputs": [
    {
     "name": "stdout",
     "output_type": "stream",
     "text": [
      "first\n",
      "second\n",
      "third\n"
     ]
    }
   ],
   "source": [
    "# iterating dictionaries if a little bit different\n",
    "# accessing keys only\n",
    "for key in dict_.keys():\n",
    "    print(key)  # we can access the value as dict_[key] if we want to "
   ]
  },
  {
   "cell_type": "code",
   "execution_count": 21,
   "id": "0695b653-88e1-4e69-a8f0-9d17dfc5ab7c",
   "metadata": {},
   "outputs": [
    {
     "name": "stdout",
     "output_type": "stream",
     "text": [
      "12\n",
      "5\n",
      "-66\n"
     ]
    }
   ],
   "source": [
    "# accessing values only\n",
    "for value in dict_.values():\n",
    "    print(value)"
   ]
  },
  {
   "cell_type": "code",
   "execution_count": 22,
   "id": "ac6cd036-30ce-4549-bfe8-f55da964b425",
   "metadata": {},
   "outputs": [
    {
     "name": "stdout",
     "output_type": "stream",
     "text": [
      "first 12\n",
      "second 5\n",
      "third -66\n"
     ]
    }
   ],
   "source": [
    "# accessing both keys and values\n",
    "for key, value in dict_.items():\n",
    "    print(key, value)"
   ]
  },
  {
   "cell_type": "code",
   "execution_count": 23,
   "id": "43e6a8dd-54a6-486f-82de-9612e72ecfb4",
   "metadata": {},
   "outputs": [
    {
     "data": {
      "text/plain": [
       "[3, 2, 5, 1, 4, 1]"
      ]
     },
     "execution_count": 23,
     "metadata": {},
     "output_type": "execute_result"
    }
   ],
   "source": [
    "# list comprehension is a compact way of accessing elements\n",
    "# for example lets say we want to filter values from a list, lets say we want to keep the positive values only\n",
    "numbers = [-1, 3, 2, -4, 5, 1, 4, -3, 1]\n",
    "\n",
    "# we can do this normally as\n",
    "positives = []  # empty list that will contain the positives\n",
    "\n",
    "for x in numbers:\n",
    "    if x >= 0:                # if x is positive\n",
    "        positives.append(x)   # then append the value to the list of positives\n",
    "positives"
   ]
  },
  {
   "cell_type": "code",
   "execution_count": 24,
   "id": "3cb8412a-0243-44de-b7c0-dc70fcea6115",
   "metadata": {},
   "outputs": [
    {
     "data": {
      "text/plain": [
       "[3, 2, 5, 1, 4, 1]"
      ]
     },
     "execution_count": 24,
     "metadata": {},
     "output_type": "execute_result"
    }
   ],
   "source": [
    "# the same thing can be written faster and more efficiently as list comprehension\n",
    "# which is compact and runs faster (why it runs faster doesnt matter) than the previous version \n",
    "positives = [x for x in numbers if x >= 0]  # the final solution\n",
    "positives"
   ]
  },
  {
   "cell_type": "code",
   "execution_count": 25,
   "id": "c18eeba9-db0c-4099-8c58-c43184af6af5",
   "metadata": {},
   "outputs": [],
   "source": [
    "# a list comprehension is a little bit more complicated than a simple for loop\n",
    "# the overall syntax can be summarized as\n",
    "# newlist = [expression for item in iterable <if condition == True, optional>]\n",
    "# if the condition on the right side is True than it will put the value of the expression in the list, otherwise continues with the next element\n",
    "# the important bit is that the expression can be anything and it can make it look complicated\n",
    "# lets say we want to do the following:\n",
    "# 1. keep positive elements only\n",
    "# 2. add 1 to the element if it is even, and raise the number to the power of 2 if it is odd"
   ]
  },
  {
   "cell_type": "code",
   "execution_count": 26,
   "id": "8eca26b4-8720-4b64-9046-d3475020ac42",
   "metadata": {},
   "outputs": [
    {
     "data": {
      "text/plain": [
       "[9, 3, 25, 1, 5, 1]"
      ]
     },
     "execution_count": 26,
     "metadata": {},
     "output_type": "execute_result"
    }
   ],
   "source": [
    "result = [x+1 if x % 2 == 0 else x**2 for x in numbers if x >= 0]\n",
    "# the left side of the for is an expression \"x+1 if x % 2 == 0 else x**2\" and the right side of the for is a filter condition \"if x >= 0\"\n",
    "# first python check \"if x >= 0\" if it is True then the expression (left side) gets evaluated\n",
    "# \"x+1 if x % 2 == 0 else x**2\" = write x+1 in to the list if x % 2 == 0, otherwise write x**2 into the list\n",
    "result"
   ]
  },
  {
   "cell_type": "code",
   "execution_count": 27,
   "id": "e940395b-3c59-4c41-a0dc-7a5cdd067914",
   "metadata": {},
   "outputs": [
    {
     "data": {
      "text/plain": [
       "[9, 3, 25, 1, 5, 1]"
      ]
     },
     "execution_count": 27,
     "metadata": {},
     "output_type": "execute_result"
    }
   ],
   "source": [
    "# the list comprehension above is equal to the following:\n",
    "\n",
    "result = []\n",
    "for x in numbers:\n",
    "    if x >=0:  # is positive\n",
    "        if x % 2 == 0:  # is even\n",
    "            result.append(x + 1)\n",
    "        else:\n",
    "            result.append(x**2)\n",
    "\n",
    "result"
   ]
  },
  {
   "cell_type": "code",
   "execution_count": 28,
   "id": "eef9f21d-32bb-4bba-9ef0-1a69511e068f",
   "metadata": {},
   "outputs": [
    {
     "data": {
      "text/plain": [
       "{'first': 12, 'second': 5}"
      ]
     },
     "execution_count": 28,
     "metadata": {},
     "output_type": "execute_result"
    }
   ],
   "source": [
    "# similar list comprehension can be constructed for dictionaries as well, but it is a little bit different\n",
    "# {key: expression for key, value in dictionary.items() if condition == True}\n",
    "# for example, lets filter for the key-values pairs which has a positive value\n",
    "{key: value for key, value in dict_.items() if value >=0}"
   ]
  },
  {
   "cell_type": "code",
   "execution_count": 29,
   "id": "37bfd20f-2553-4947-8ec5-3f93122f0b91",
   "metadata": {},
   "outputs": [
    {
     "data": {
      "text/plain": [
       "{'first': 13, 'second': 25}"
      ]
     },
     "execution_count": 29,
     "metadata": {},
     "output_type": "execute_result"
    }
   ],
   "source": [
    "# In a similar manner as earlier, lets do the following:\n",
    "# 1. keep positive key-value pairs only\n",
    "# 2. add 1 to the value if it is even, and raise the number to the power of 2 if it is odd\n",
    "{key: value+1 if value % 2 == 0 else value**2 for key, value in dict_.items() if value >=0}"
   ]
  },
  {
   "cell_type": "markdown",
   "id": "66d17033-5ee8-410a-8434-773aa02c9d5b",
   "metadata": {},
   "source": [
    "### Exercise"
   ]
  },
  {
   "cell_type": "code",
   "execution_count": 30,
   "id": "5cab4005-a9cf-4e0a-9ed1-b8245587cc6d",
   "metadata": {
    "scrolled": true
   },
   "outputs": [
    {
     "data": {
      "text/plain": [
       "[7,\n",
       " 14,\n",
       " 21,\n",
       " 28,\n",
       " 35,\n",
       " 42,\n",
       " 49,\n",
       " 56,\n",
       " 63,\n",
       " 70,\n",
       " 77,\n",
       " 84,\n",
       " 91,\n",
       " 98,\n",
       " 105,\n",
       " 112,\n",
       " 119,\n",
       " 126,\n",
       " 133,\n",
       " 140,\n",
       " 147,\n",
       " 154,\n",
       " 161,\n",
       " 168,\n",
       " 175,\n",
       " 182,\n",
       " 189,\n",
       " 196,\n",
       " 203,\n",
       " 210,\n",
       " 217,\n",
       " 224,\n",
       " 231,\n",
       " 238,\n",
       " 245,\n",
       " 252,\n",
       " 259,\n",
       " 266,\n",
       " 273,\n",
       " 280,\n",
       " 287,\n",
       " 294,\n",
       " 301,\n",
       " 308,\n",
       " 315,\n",
       " 322,\n",
       " 329,\n",
       " 336,\n",
       " 343,\n",
       " 350,\n",
       " 357,\n",
       " 364,\n",
       " 371,\n",
       " 378,\n",
       " 385,\n",
       " 392,\n",
       " 399,\n",
       " 406,\n",
       " 413,\n",
       " 420,\n",
       " 427,\n",
       " 434,\n",
       " 441,\n",
       " 448,\n",
       " 455,\n",
       " 462,\n",
       " 469,\n",
       " 476,\n",
       " 483,\n",
       " 490,\n",
       " 497,\n",
       " 504,\n",
       " 511,\n",
       " 518,\n",
       " 525,\n",
       " 532,\n",
       " 539,\n",
       " 546,\n",
       " 553,\n",
       " 560,\n",
       " 567,\n",
       " 574,\n",
       " 581,\n",
       " 588,\n",
       " 595,\n",
       " 602,\n",
       " 609,\n",
       " 616,\n",
       " 623,\n",
       " 630,\n",
       " 637,\n",
       " 644,\n",
       " 651,\n",
       " 658,\n",
       " 665,\n",
       " 672,\n",
       " 679,\n",
       " 686,\n",
       " 693,\n",
       " 700,\n",
       " 707,\n",
       " 714,\n",
       " 721,\n",
       " 728,\n",
       " 735,\n",
       " 742,\n",
       " 749,\n",
       " 756,\n",
       " 763,\n",
       " 770,\n",
       " 777,\n",
       " 784,\n",
       " 791,\n",
       " 798,\n",
       " 805,\n",
       " 812,\n",
       " 819,\n",
       " 826,\n",
       " 833,\n",
       " 840,\n",
       " 847,\n",
       " 854,\n",
       " 861,\n",
       " 868,\n",
       " 875,\n",
       " 882,\n",
       " 889,\n",
       " 896,\n",
       " 903,\n",
       " 910,\n",
       " 917,\n",
       " 924,\n",
       " 931,\n",
       " 938,\n",
       " 945,\n",
       " 952,\n",
       " 959,\n",
       " 966,\n",
       " 973,\n",
       " 980,\n",
       " 987,\n",
       " 994]"
      ]
     },
     "execution_count": 30,
     "metadata": {},
     "output_type": "execute_result"
    }
   ],
   "source": [
    "# Find all of the numbers from 1-1000 that are divisible by 7\n",
    "[x for x in range(1, 1001) if x % 7 == 0]"
   ]
  },
  {
   "cell_type": "code",
   "execution_count": 31,
   "id": "6a4692f2-fb8f-4a28-8ac6-abc403f422da",
   "metadata": {
    "scrolled": true
   },
   "outputs": [
    {
     "data": {
      "text/plain": [
       "[3,\n",
       " 13,\n",
       " 23,\n",
       " 30,\n",
       " 31,\n",
       " 32,\n",
       " 33,\n",
       " 34,\n",
       " 35,\n",
       " 36,\n",
       " 37,\n",
       " 38,\n",
       " 39,\n",
       " 43,\n",
       " 53,\n",
       " 63,\n",
       " 73,\n",
       " 83,\n",
       " 93,\n",
       " 103,\n",
       " 113,\n",
       " 123,\n",
       " 130,\n",
       " 131,\n",
       " 132,\n",
       " 133,\n",
       " 134,\n",
       " 135,\n",
       " 136,\n",
       " 137,\n",
       " 138,\n",
       " 139,\n",
       " 143,\n",
       " 153,\n",
       " 163,\n",
       " 173,\n",
       " 183,\n",
       " 193,\n",
       " 203,\n",
       " 213,\n",
       " 223,\n",
       " 230,\n",
       " 231,\n",
       " 232,\n",
       " 233,\n",
       " 234,\n",
       " 235,\n",
       " 236,\n",
       " 237,\n",
       " 238,\n",
       " 239,\n",
       " 243,\n",
       " 253,\n",
       " 263,\n",
       " 273,\n",
       " 283,\n",
       " 293,\n",
       " 300,\n",
       " 301,\n",
       " 302,\n",
       " 303,\n",
       " 304,\n",
       " 305,\n",
       " 306,\n",
       " 307,\n",
       " 308,\n",
       " 309,\n",
       " 310,\n",
       " 311,\n",
       " 312,\n",
       " 313,\n",
       " 314,\n",
       " 315,\n",
       " 316,\n",
       " 317,\n",
       " 318,\n",
       " 319,\n",
       " 320,\n",
       " 321,\n",
       " 322,\n",
       " 323,\n",
       " 324,\n",
       " 325,\n",
       " 326,\n",
       " 327,\n",
       " 328,\n",
       " 329,\n",
       " 330,\n",
       " 331,\n",
       " 332,\n",
       " 333,\n",
       " 334,\n",
       " 335,\n",
       " 336,\n",
       " 337,\n",
       " 338,\n",
       " 339,\n",
       " 340,\n",
       " 341,\n",
       " 342,\n",
       " 343,\n",
       " 344,\n",
       " 345,\n",
       " 346,\n",
       " 347,\n",
       " 348,\n",
       " 349,\n",
       " 350,\n",
       " 351,\n",
       " 352,\n",
       " 353,\n",
       " 354,\n",
       " 355,\n",
       " 356,\n",
       " 357,\n",
       " 358,\n",
       " 359,\n",
       " 360,\n",
       " 361,\n",
       " 362,\n",
       " 363,\n",
       " 364,\n",
       " 365,\n",
       " 366,\n",
       " 367,\n",
       " 368,\n",
       " 369,\n",
       " 370,\n",
       " 371,\n",
       " 372,\n",
       " 373,\n",
       " 374,\n",
       " 375,\n",
       " 376,\n",
       " 377,\n",
       " 378,\n",
       " 379,\n",
       " 380,\n",
       " 381,\n",
       " 382,\n",
       " 383,\n",
       " 384,\n",
       " 385,\n",
       " 386,\n",
       " 387,\n",
       " 388,\n",
       " 389,\n",
       " 390,\n",
       " 391,\n",
       " 392,\n",
       " 393,\n",
       " 394,\n",
       " 395,\n",
       " 396,\n",
       " 397,\n",
       " 398,\n",
       " 399,\n",
       " 403,\n",
       " 413,\n",
       " 423,\n",
       " 430,\n",
       " 431,\n",
       " 432,\n",
       " 433,\n",
       " 434,\n",
       " 435,\n",
       " 436,\n",
       " 437,\n",
       " 438,\n",
       " 439,\n",
       " 443,\n",
       " 453,\n",
       " 463,\n",
       " 473,\n",
       " 483,\n",
       " 493,\n",
       " 503,\n",
       " 513,\n",
       " 523,\n",
       " 530,\n",
       " 531,\n",
       " 532,\n",
       " 533,\n",
       " 534,\n",
       " 535,\n",
       " 536,\n",
       " 537,\n",
       " 538,\n",
       " 539,\n",
       " 543,\n",
       " 553,\n",
       " 563,\n",
       " 573,\n",
       " 583,\n",
       " 593,\n",
       " 603,\n",
       " 613,\n",
       " 623,\n",
       " 630,\n",
       " 631,\n",
       " 632,\n",
       " 633,\n",
       " 634,\n",
       " 635,\n",
       " 636,\n",
       " 637,\n",
       " 638,\n",
       " 639,\n",
       " 643,\n",
       " 653,\n",
       " 663,\n",
       " 673,\n",
       " 683,\n",
       " 693,\n",
       " 703,\n",
       " 713,\n",
       " 723,\n",
       " 730,\n",
       " 731,\n",
       " 732,\n",
       " 733,\n",
       " 734,\n",
       " 735,\n",
       " 736,\n",
       " 737,\n",
       " 738,\n",
       " 739,\n",
       " 743,\n",
       " 753,\n",
       " 763,\n",
       " 773,\n",
       " 783,\n",
       " 793,\n",
       " 803,\n",
       " 813,\n",
       " 823,\n",
       " 830,\n",
       " 831,\n",
       " 832,\n",
       " 833,\n",
       " 834,\n",
       " 835,\n",
       " 836,\n",
       " 837,\n",
       " 838,\n",
       " 839,\n",
       " 843,\n",
       " 853,\n",
       " 863,\n",
       " 873,\n",
       " 883,\n",
       " 893,\n",
       " 903,\n",
       " 913,\n",
       " 923,\n",
       " 930,\n",
       " 931,\n",
       " 932,\n",
       " 933,\n",
       " 934,\n",
       " 935,\n",
       " 936,\n",
       " 937,\n",
       " 938,\n",
       " 939,\n",
       " 943,\n",
       " 953,\n",
       " 963,\n",
       " 973,\n",
       " 983,\n",
       " 993]"
      ]
     },
     "execution_count": 31,
     "metadata": {},
     "output_type": "execute_result"
    }
   ],
   "source": [
    "# Find all of the numbers from 1-1000 that have a 3 in them \n",
    "[x for x in range(1, 1001) if \"3\" in str(x)]"
   ]
  },
  {
   "cell_type": "code",
   "execution_count": 32,
   "id": "d758f38f-7cdd-4ef5-9370-ded20c063132",
   "metadata": {},
   "outputs": [
    {
     "data": {
      "text/plain": [
       "['middle', 'exceed', 'board', 'reward']"
      ]
     },
     "execution_count": 32,
     "metadata": {},
     "output_type": "execute_result"
    }
   ],
   "source": [
    "# Find all of the strings that has an \"d\" in them\n",
    "words = [\"middle\", \"catalogue\", \"exceed\", \"board\", \"familiar\", \"reward\", \"satellite\", \"grace\", \"respectable\"]\n",
    "\n",
    "[x for x in words if \"d\" in x]"
   ]
  },
  {
   "cell_type": "markdown",
   "id": "fc54d3dc-3d3d-43bd-81e3-fff6664e3b04",
   "metadata": {},
   "source": [
    "## Functions and Lambdas"
   ]
  },
  {
   "cell_type": "code",
   "execution_count": 33,
   "id": "a62ac139-84ce-476f-8ee9-e3c7a14eac39",
   "metadata": {},
   "outputs": [
    {
     "data": {
      "text/plain": [
       "5"
      ]
     },
     "execution_count": 33,
     "metadata": {},
     "output_type": "execute_result"
    }
   ],
   "source": [
    "def add(a, b):\n",
    "    return a + b\n",
    "\n",
    "add(2, 3)"
   ]
  },
  {
   "cell_type": "code",
   "execution_count": 34,
   "id": "77915c2d-da47-4e9b-b2c9-2ab880f106cd",
   "metadata": {},
   "outputs": [
    {
     "data": {
      "text/plain": [
       "5"
      ]
     },
     "execution_count": 34,
     "metadata": {},
     "output_type": "execute_result"
    }
   ],
   "source": [
    "# a lambda function is an inline anonymous function\n",
    "# signiture:\n",
    "# lambda parameter_list: expression\n",
    "add = lambda a, b: a + b\n",
    "\n",
    "add(2, 3)"
   ]
  },
  {
   "cell_type": "markdown",
   "id": "985cc446-420b-439b-8414-4e2b37cbbcd7",
   "metadata": {},
   "source": [
    "### Exercise"
   ]
  },
  {
   "cell_type": "code",
   "execution_count": 35,
   "id": "a00df7c1-c437-40f2-98d4-a6e6d06bc8a6",
   "metadata": {},
   "outputs": [
    {
     "data": {
      "text/plain": [
       "16"
      ]
     },
     "execution_count": 35,
     "metadata": {},
     "output_type": "execute_result"
    }
   ],
   "source": [
    "# make a lambda function the calculates the sum of positive values within a list\n",
    "# use the earlier list \"numbers\" as input\n",
    "# use the \"sum\" built-in function\n",
    "\n",
    "sum_pos = lambda inp: sum([x for x in inp if x > 0])\n",
    "\n",
    "sum_pos(numbers)"
   ]
  },
  {
   "cell_type": "markdown",
   "id": "0f12c24b-a407-477f-9d65-432bab869cf4",
   "metadata": {},
   "source": [
    "# Numpy\n",
    "\n",
    "- What is NumPy?\n",
    "  - Python library for numerical computing.\n",
    "  - Provides the `ndarray` ($N$ Dimensional Array) object for fast, vectorized operations.\n",
    "- Why NumPy vs. plain Python lists?\n",
    "  - Speed, memory efficiency, mathematical operations, broadcasting."
   ]
  },
  {
   "cell_type": "code",
   "execution_count": 36,
   "id": "06113398-7c24-4406-9496-58192b4c1768",
   "metadata": {},
   "outputs": [],
   "source": [
    "import numpy as np"
   ]
  },
  {
   "cell_type": "markdown",
   "id": "b85db6a4-955f-4772-958e-5e0e6e4882a4",
   "metadata": {},
   "source": [
    "## Matrix Creation"
   ]
  },
  {
   "cell_type": "code",
   "execution_count": 37,
   "id": "6e386fb9-ca54-4512-97a9-6f37ed1deee6",
   "metadata": {},
   "outputs": [
    {
     "data": {
      "text/plain": [
       "array([ 1,  5, -1])"
      ]
     },
     "execution_count": 37,
     "metadata": {},
     "output_type": "execute_result"
    }
   ],
   "source": [
    "# creation from Python list\n",
    "np.array([1, 5, -1])"
   ]
  },
  {
   "cell_type": "code",
   "execution_count": 38,
   "id": "24bebc8a-5019-4ca6-9167-20a60a743ada",
   "metadata": {},
   "outputs": [
    {
     "data": {
      "text/plain": [
       "array([[ 1,  5, -1],\n",
       "       [ 2, -6,  3]])"
      ]
     },
     "execution_count": 38,
     "metadata": {},
     "output_type": "execute_result"
    }
   ],
   "source": [
    "# 2D array\n",
    "np.array([[1, 5, -1], [2, -6, 3]])"
   ]
  },
  {
   "cell_type": "code",
   "execution_count": 39,
   "id": "2e66a83f-d6de-4d5b-9f9f-b13f6eebd7a8",
   "metadata": {},
   "outputs": [
    {
     "data": {
      "text/plain": [
       "array([[0., 0., 0.],\n",
       "       [0., 0., 0.]])"
      ]
     },
     "execution_count": 39,
     "metadata": {},
     "output_type": "execute_result"
    }
   ],
   "source": [
    "# allocate array (values can be random numbers)\n",
    "# it will allocate memory for the array but if something was in the memory at that address earlier then it will be part of the array\n",
    "# the only parameter is the shape which is a tuple in this case\n",
    "np.empty((2, 3))  # empty array with 2 rows and 3 column"
   ]
  },
  {
   "cell_type": "code",
   "execution_count": 40,
   "id": "b307c7f8-acab-4f83-bcc9-00d3a3ab58e6",
   "metadata": {},
   "outputs": [
    {
     "data": {
      "text/plain": [
       "array([[0., 0., 0.],\n",
       "       [0., 0., 0.]])"
      ]
     },
     "execution_count": 40,
     "metadata": {},
     "output_type": "execute_result"
    }
   ],
   "source": [
    "# array filled with zeros\n",
    "np.zeros((2, 3))"
   ]
  },
  {
   "cell_type": "code",
   "execution_count": 41,
   "id": "1b6df98a-d4d2-4a38-ab6e-14def3dd4811",
   "metadata": {},
   "outputs": [
    {
     "data": {
      "text/plain": [
       "array([[1., 1., 1.],\n",
       "       [1., 1., 1.]])"
      ]
     },
     "execution_count": 41,
     "metadata": {},
     "output_type": "execute_result"
    }
   ],
   "source": [
    "# array filled with ones\n",
    "np.ones((2, 3))"
   ]
  },
  {
   "cell_type": "code",
   "execution_count": 42,
   "id": "00ad0e6f-4458-40ba-ab24-c1d95b9d4c12",
   "metadata": {},
   "outputs": [
    {
     "data": {
      "text/plain": [
       "array([[7, 7, 7],\n",
       "       [7, 7, 7]])"
      ]
     },
     "execution_count": 42,
     "metadata": {},
     "output_type": "execute_result"
    }
   ],
   "source": [
    "# array filled with any contant value\n",
    "np.full((2, 3), fill_value=7)"
   ]
  },
  {
   "cell_type": "code",
   "execution_count": 43,
   "id": "f9eb6df0-a0d8-4f79-85f5-001aa65d5f61",
   "metadata": {},
   "outputs": [
    {
     "data": {
      "text/plain": [
       "array([0, 2, 4, 6, 8])"
      ]
     },
     "execution_count": 43,
     "metadata": {},
     "output_type": "execute_result"
    }
   ],
   "source": [
    "# creating a sequence of numbers\n",
    "# np.arange(from, to, step_size)\n",
    "np.arange(0, 10, 2)"
   ]
  },
  {
   "cell_type": "code",
   "execution_count": 44,
   "id": "e09302c5-eb84-4d69-9bde-9b2847c6d755",
   "metadata": {},
   "outputs": [
    {
     "data": {
      "text/plain": [
       "array([ 0.,  5., 10.])"
      ]
     },
     "execution_count": 44,
     "metadata": {},
     "output_type": "execute_result"
    }
   ],
   "source": [
    "# return evenly spaced numbers over a specified interval\n",
    "# np.arange(from, to, number_of_intervals)\n",
    "np.linspace(0, 10, 3)"
   ]
  },
  {
   "cell_type": "code",
   "execution_count": 45,
   "id": "5182ae4c-6a30-421c-88f0-a6db96eb7132",
   "metadata": {},
   "outputs": [],
   "source": [
    "np.random.seed(0)   # sets the seed, this will guranatee that everyone will generate the random numbers, by default it will use the current timestamp as seed"
   ]
  },
  {
   "cell_type": "code",
   "execution_count": 46,
   "id": "15f42536-139d-4c46-b54b-ddc26fa26e84",
   "metadata": {},
   "outputs": [
    {
     "data": {
      "text/plain": [
       "array([0.5488135 , 0.71518937, 0.60276338, 0.54488318, 0.4236548 ])"
      ]
     },
     "execution_count": 46,
     "metadata": {},
     "output_type": "execute_result"
    }
   ],
   "source": [
    "np.random.rand(5)   # generates 5 random number from uniform distribution"
   ]
  },
  {
   "cell_type": "code",
   "execution_count": 47,
   "id": "24f5ccaf-498a-404d-8b7c-73a46b5ac31f",
   "metadata": {},
   "outputs": [
    {
     "data": {
      "text/plain": [
       "array([-0.84272405,  1.96992445,  1.26611853, -0.50587654,  2.54520078])"
      ]
     },
     "execution_count": 47,
     "metadata": {},
     "output_type": "execute_result"
    }
   ],
   "source": [
    "np.random.randn(5)  # generates 5 random numbers from normal distribution"
   ]
  },
  {
   "cell_type": "code",
   "execution_count": 48,
   "id": "52331464-274e-466d-813b-678f1c8749a5",
   "metadata": {},
   "outputs": [
    {
     "data": {
      "text/plain": [
       "array([[ 1.08081191,  0.48431215,  0.57914048, -0.18158257,  1.41020463],\n",
       "       [-0.37447169,  0.27519832, -0.96075461,  0.37692697,  0.03343893]])"
      ]
     },
     "execution_count": 48,
     "metadata": {},
     "output_type": "execute_result"
    }
   ],
   "source": [
    "np.random.randn(2, 5)  # generates random numbers from normal distribution with shape (2=rows, 5=columns)"
   ]
  },
  {
   "cell_type": "code",
   "execution_count": 49,
   "id": "6ee03eec-0482-42a0-8fae-02b7122dbb58",
   "metadata": {},
   "outputs": [
    {
     "data": {
      "text/plain": [
       "array([[-1.50423714, -0.98811025, -0.5029329 ],\n",
       "       [ 1.53141428,  0.21533174,  0.48396581],\n",
       "       [ 0.90580116,  0.71829499,  1.36554954],\n",
       "       [ 0.20466754, -0.94503822,  0.11772901],\n",
       "       [ 1.24807438, -1.34321751,  1.79932714],\n",
       "       [-0.20210781, -0.64725475, -0.50587925],\n",
       "       [-0.37907779, -0.93381374,  0.00514848],\n",
       "       [-2.15681569, -0.97032769, -0.15470106],\n",
       "       [-0.06549545, -0.06250764, -0.1670241 ],\n",
       "       [-0.9948253 , -0.58715758, -0.25731277]])"
      ]
     },
     "execution_count": 49,
     "metadata": {},
     "output_type": "execute_result"
    }
   ],
   "source": [
    "# generates a natrix by multivariate normal distribution\n",
    "# first parameter is the expected value for each column: [0, 0, 0]\n",
    "# second parameter is the covariance matrix for each column: [[1, 0.3, 0.1], [0.3, 1, -0.5], [0.1, -0.5, 1]]\n",
    "# third parameters is the nmber of vectors: 10\n",
    "np.random.multivariate_normal([0, 0, 0], [[1, 0.3, 0.1], [0.3, 1, -0.5], [0.1, -0.5, 1]], 10)"
   ]
  },
  {
   "cell_type": "code",
   "execution_count": 50,
   "id": "f7cf618a-38d2-4d81-82cc-ff16955c7b9a",
   "metadata": {},
   "outputs": [
    {
     "data": {
      "text/plain": [
       "(2, 5)"
      ]
     },
     "execution_count": 50,
     "metadata": {},
     "output_type": "execute_result"
    }
   ],
   "source": [
    "# Checking the dimensionality of a matrix/vector\n",
    "# everey ndarray defines the shape attribute which returns the size of each dimension\n",
    "np.random.randn(2, 5).shape"
   ]
  },
  {
   "cell_type": "markdown",
   "id": "c1fcde62-0468-4ca5-8674-f6f3a476fada",
   "metadata": {},
   "source": [
    "### Exercise"
   ]
  },
  {
   "cell_type": "code",
   "execution_count": 51,
   "id": "a7005a1d-7bf9-4352-bcaa-fc1db5d63daf",
   "metadata": {},
   "outputs": [
    {
     "data": {
      "text/plain": [
       "array([  1,   2,   3,   4,   5,   6,   7,   8,   9,  10,  11,  12,  13,\n",
       "        14,  15,  16,  17,  18,  19,  20,  21,  22,  23,  24,  25,  26,\n",
       "        27,  28,  29,  30,  31,  32,  33,  34,  35,  36,  37,  38,  39,\n",
       "        40,  41,  42,  43,  44,  45,  46,  47,  48,  49,  50,  51,  52,\n",
       "        53,  54,  55,  56,  57,  58,  59,  60,  61,  62,  63,  64,  65,\n",
       "        66,  67,  68,  69,  70,  71,  72,  73,  74,  75,  76,  77,  78,\n",
       "        79,  80,  81,  82,  83,  84,  85,  86,  87,  88,  89,  90,  91,\n",
       "        92,  93,  94,  95,  96,  97,  98,  99, 100])"
      ]
     },
     "execution_count": 51,
     "metadata": {},
     "output_type": "execute_result"
    }
   ],
   "source": [
    "# create a vector with numbers going from 1 to 100\n",
    "np.arange(1, 101)"
   ]
  },
  {
   "cell_type": "code",
   "execution_count": 52,
   "id": "e1759c81-4da3-430e-b670-b29f358ec6c6",
   "metadata": {},
   "outputs": [
    {
     "data": {
      "text/plain": [
       "array([100,  99,  98,  97,  96,  95,  94,  93,  92,  91,  90,  89,  88,\n",
       "        87,  86,  85,  84,  83,  82,  81,  80,  79,  78,  77,  76,  75,\n",
       "        74,  73,  72,  71,  70,  69,  68,  67,  66,  65,  64,  63,  62,\n",
       "        61,  60,  59,  58,  57,  56,  55,  54,  53,  52,  51,  50,  49,\n",
       "        48,  47,  46,  45,  44,  43,  42,  41,  40,  39,  38,  37,  36,\n",
       "        35,  34,  33,  32,  31,  30,  29,  28,  27,  26,  25,  24,  23,\n",
       "        22,  21,  20,  19,  18,  17,  16,  15,  14,  13,  12,  11,  10,\n",
       "         9,   8,   7,   6,   5,   4,   3,   2,   1])"
      ]
     },
     "execution_count": 52,
     "metadata": {},
     "output_type": "execute_result"
    }
   ],
   "source": [
    "# create a vector with numbers going from 100 to 1\n",
    "np.arange(100, 0, -1)"
   ]
  },
  {
   "cell_type": "code",
   "execution_count": 54,
   "id": "929ffda7-82bc-4c71-b830-75b5050b544b",
   "metadata": {
    "scrolled": true
   },
   "outputs": [],
   "source": [
    "# create a random uniform matrix with 3 dimension, first dimension has a size of 20, second dimension has a size of 10, third dimension has a size of 100\n",
    "rand_array = np.random.rand(20, 10, 100)"
   ]
  },
  {
   "cell_type": "code",
   "execution_count": 55,
   "id": "3800e651-b424-4e8c-af08-04a078e3058c",
   "metadata": {},
   "outputs": [
    {
     "data": {
      "text/plain": [
       "(20, 10, 100)"
      ]
     },
     "execution_count": 55,
     "metadata": {},
     "output_type": "execute_result"
    }
   ],
   "source": [
    "# print the shape of the previous array\n",
    "rand_array.shape"
   ]
  },
  {
   "cell_type": "code",
   "execution_count": 56,
   "id": "45206271-d503-4d6e-8928-7c0e213d4bf6",
   "metadata": {},
   "outputs": [
    {
     "data": {
      "text/plain": [
       "array([[-1, -1, -1],\n",
       "       [-1, -1, -1],\n",
       "       [-1, -1, -1]])"
      ]
     },
     "execution_count": 56,
     "metadata": {},
     "output_type": "execute_result"
    }
   ],
   "source": [
    "# create a 3x3 matrix filled with -1\n",
    "np.full((3, 3), fill_value=-1)"
   ]
  },
  {
   "cell_type": "markdown",
   "id": "aa6ea9d2-91ae-4b71-ad9a-943743cf50d1",
   "metadata": {},
   "source": [
    "## Indexing and Slicing"
   ]
  },
  {
   "cell_type": "code",
   "execution_count": 57,
   "id": "242e3a4d-c93f-4eb0-89a3-4ea5758dc855",
   "metadata": {},
   "outputs": [
    {
     "data": {
      "text/plain": [
       "array([[-0.02797118, -0.95543822, -2.2140114 ,  0.66995701,  0.15731949],\n",
       "       [-2.28176183, -0.53971977, -0.85383656,  1.58448495,  1.22748888]])"
      ]
     },
     "execution_count": 57,
     "metadata": {},
     "output_type": "execute_result"
    }
   ],
   "source": [
    "# lets say we have the following 2D array\n",
    "X = np.random.randn(2, 5)\n",
    "X"
   ]
  },
  {
   "cell_type": "code",
   "execution_count": 58,
   "id": "443407e6-3c0b-4152-b86a-eb33cfd5ae56",
   "metadata": {},
   "outputs": [
    {
     "data": {
      "text/plain": [
       "array([-0.02797118, -0.95543822, -2.2140114 ,  0.66995701,  0.15731949])"
      ]
     },
     "execution_count": 58,
     "metadata": {},
     "output_type": "execute_result"
    }
   ],
   "source": [
    "# we can access a row by\n",
    "X[0]  # or X[0, :], \":\" selects all element within that dimension, can be ommited in this case"
   ]
  },
  {
   "cell_type": "code",
   "execution_count": 59,
   "id": "3ce3a60d-466e-4852-88e7-087d0701a916",
   "metadata": {},
   "outputs": [
    {
     "data": {
      "text/plain": [
       "array([-0.02797118, -2.28176183])"
      ]
     },
     "execution_count": 59,
     "metadata": {},
     "output_type": "execute_result"
    }
   ],
   "source": [
    "# we can access a column by\n",
    "X[:, 0]  # \":\" selects all row and from all row selects column 0"
   ]
  },
  {
   "cell_type": "code",
   "execution_count": 60,
   "id": "de31a791-69b9-4725-9711-69dc76241e97",
   "metadata": {},
   "outputs": [
    {
     "data": {
      "text/plain": [
       "array([[-0.02797118, -0.95543822],\n",
       "       [-2.28176183, -0.53971977]])"
      ]
     },
     "execution_count": 60,
     "metadata": {},
     "output_type": "execute_result"
    }
   ],
   "source": [
    "# we can more precisely select sub-matrices\n",
    "X[:2, :2]  # select the first 2 row, and select the first 2 columns. \":2\" is a shorthand for \"0:2\""
   ]
  },
  {
   "cell_type": "code",
   "execution_count": 61,
   "id": "afd0ca87-1d37-4db5-b5c9-1712e8c3d45d",
   "metadata": {},
   "outputs": [
    {
     "data": {
      "text/plain": [
       "array([[-0.95543822, -2.2140114 ],\n",
       "       [-0.53971977, -0.85383656]])"
      ]
     },
     "execution_count": 61,
     "metadata": {},
     "output_type": "execute_result"
    }
   ],
   "source": [
    "# lets shift this selection windows by 1\n",
    "X[:2, 1:3]"
   ]
  },
  {
   "cell_type": "code",
   "execution_count": 62,
   "id": "a9640a51-5776-4133-8ee9-acabd60f6a02",
   "metadata": {},
   "outputs": [
    {
     "data": {
      "text/plain": [
       "array([[0.66995701, 0.15731949],\n",
       "       [1.58448495, 1.22748888]])"
      ]
     },
     "execution_count": 62,
     "metadata": {},
     "output_type": "execute_result"
    }
   ],
   "source": [
    "# we can even use negative indices which will start the index from then end of that dimension\n",
    "X[:2, -2:]  # this is the same as X[:2, X.shape[1]-2:]"
   ]
  },
  {
   "cell_type": "code",
   "execution_count": 63,
   "id": "b1e11495-82ee-4b04-8911-e79d580f57f0",
   "metadata": {},
   "outputs": [
    {
     "data": {
      "text/plain": [
       "array([[0.66995701, 0.15731949],\n",
       "       [1.58448495, 1.22748888]])"
      ]
     },
     "execution_count": 63,
     "metadata": {},
     "output_type": "execute_result"
    }
   ],
   "source": [
    "X[:2, X.shape[1]-2:]"
   ]
  },
  {
   "cell_type": "markdown",
   "id": "d2f8c513-5f5c-4daf-9d8c-23d7e504cc16",
   "metadata": {},
   "source": [
    "### Exercise"
   ]
  },
  {
   "cell_type": "code",
   "execution_count": 64,
   "id": "ca26d6dd-1f94-470a-84b6-5345f3c38499",
   "metadata": {},
   "outputs": [
    {
     "data": {
      "text/plain": [
       "array([0.15731949, 1.22748888])"
      ]
     },
     "execution_count": 64,
     "metadata": {},
     "output_type": "execute_result"
    }
   ],
   "source": [
    "# select the last column of the matrix X\n",
    "X[:, -1]"
   ]
  },
  {
   "cell_type": "code",
   "execution_count": 65,
   "id": "06c854ff-42a2-45ec-965b-1d2ff546cfae",
   "metadata": {},
   "outputs": [
    {
     "data": {
      "text/plain": [
       "array([-0.53971977, -0.85383656,  1.58448495])"
      ]
     },
     "execution_count": 65,
     "metadata": {},
     "output_type": "execute_result"
    }
   ],
   "source": [
    "# from the last row select all element except the first and last column\n",
    "X[-1, 1:-1]"
   ]
  },
  {
   "cell_type": "markdown",
   "id": "2b472db4-fc0d-41ac-b709-8ef2da470dfc",
   "metadata": {},
   "source": [
    "## Basic Operations"
   ]
  },
  {
   "cell_type": "markdown",
   "id": "242e3add-7ef5-4cdf-9eaa-3034d90742dc",
   "metadata": {},
   "source": [
    "### Vectors"
   ]
  },
  {
   "cell_type": "code",
   "execution_count": 66,
   "id": "31963482-e045-4371-a10e-8932f37ed187",
   "metadata": {},
   "outputs": [],
   "source": [
    "# lets generate 2 vectors\n",
    "a = np.arange(1, 6)\n",
    "b = np.arange(1, 11, 2)"
   ]
  },
  {
   "cell_type": "code",
   "execution_count": 67,
   "id": "23b43c92-2497-4fce-a106-6579a0e6ab9b",
   "metadata": {},
   "outputs": [
    {
     "data": {
      "text/plain": [
       "array([1, 2, 3, 4, 5])"
      ]
     },
     "execution_count": 67,
     "metadata": {},
     "output_type": "execute_result"
    }
   ],
   "source": [
    "a"
   ]
  },
  {
   "cell_type": "code",
   "execution_count": 68,
   "id": "853c27b1-c752-4eef-9ba7-92b18a8ab558",
   "metadata": {},
   "outputs": [
    {
     "data": {
      "text/plain": [
       "array([1, 3, 5, 7, 9])"
      ]
     },
     "execution_count": 68,
     "metadata": {},
     "output_type": "execute_result"
    }
   ],
   "source": [
    "b"
   ]
  },
  {
   "cell_type": "code",
   "execution_count": 69,
   "id": "113b571a-f97b-46f8-a0c8-716b06dc4adc",
   "metadata": {},
   "outputs": [
    {
     "data": {
      "text/plain": [
       "array([ 2,  5,  8, 11, 14])"
      ]
     },
     "execution_count": 69,
     "metadata": {},
     "output_type": "execute_result"
    }
   ],
   "source": [
    "# element-wise addition\n",
    "a + b"
   ]
  },
  {
   "cell_type": "code",
   "execution_count": 70,
   "id": "1f4369be-6c89-40b5-ab9d-64c27ae41bc3",
   "metadata": {},
   "outputs": [
    {
     "data": {
      "text/plain": [
       "array([ 0, -1, -2, -3, -4])"
      ]
     },
     "execution_count": 70,
     "metadata": {},
     "output_type": "execute_result"
    }
   ],
   "source": [
    "# element-wise substruction\n",
    "a - b"
   ]
  },
  {
   "cell_type": "code",
   "execution_count": 71,
   "id": "7d1903e9-c195-4cd3-890e-437cd6b45fa4",
   "metadata": {},
   "outputs": [
    {
     "data": {
      "text/plain": [
       "array([ 1,  6, 15, 28, 45])"
      ]
     },
     "execution_count": 71,
     "metadata": {},
     "output_type": "execute_result"
    }
   ],
   "source": [
    "# element-wise multiplication\n",
    "a * b"
   ]
  },
  {
   "cell_type": "code",
   "execution_count": 72,
   "id": "950e4423-f607-4187-aebf-803e68e29811",
   "metadata": {},
   "outputs": [
    {
     "data": {
      "text/plain": [
       "array([1.        , 0.66666667, 0.6       , 0.57142857, 0.55555556])"
      ]
     },
     "execution_count": 72,
     "metadata": {},
     "output_type": "execute_result"
    }
   ],
   "source": [
    "# element-wise division\n",
    "a / b"
   ]
  },
  {
   "cell_type": "code",
   "execution_count": 73,
   "id": "cca3fa45-11d6-4747-9016-0221319e304f",
   "metadata": {},
   "outputs": [
    {
     "data": {
      "text/plain": [
       "np.int64(95)"
      ]
     },
     "execution_count": 73,
     "metadata": {},
     "output_type": "execute_result"
    }
   ],
   "source": [
    "# special operand within numpy is the @ symbol which indicates inner product\n",
    "a @ b"
   ]
  },
  {
   "cell_type": "code",
   "execution_count": 74,
   "id": "598d4eb1-e5f7-4077-b1c6-d80eaf7484c2",
   "metadata": {},
   "outputs": [
    {
     "data": {
      "text/plain": [
       "np.int64(95)"
      ]
     },
     "execution_count": 74,
     "metadata": {},
     "output_type": "execute_result"
    }
   ],
   "source": [
    "np.inner(a, b)  # same as above"
   ]
  },
  {
   "cell_type": "code",
   "execution_count": 75,
   "id": "12af964b-29d3-4a64-b51e-c887574915f3",
   "metadata": {},
   "outputs": [
    {
     "data": {
      "text/plain": [
       "array([[ 1,  3,  5,  7,  9],\n",
       "       [ 2,  6, 10, 14, 18],\n",
       "       [ 3,  9, 15, 21, 27],\n",
       "       [ 4, 12, 20, 28, 36],\n",
       "       [ 5, 15, 25, 35, 45]])"
      ]
     },
     "execution_count": 75,
     "metadata": {},
     "output_type": "execute_result"
    }
   ],
   "source": [
    "# outer product of vectors\n",
    "np.outer(a, b)"
   ]
  },
  {
   "cell_type": "markdown",
   "id": "14aed49d-049f-4c3b-b42d-a8e79c0241d5",
   "metadata": {},
   "source": [
    "### Matricies\n",
    "\n",
    "Generally the same operations can be used."
   ]
  },
  {
   "cell_type": "code",
   "execution_count": 76,
   "id": "3670aeb7-1a91-4d0c-b345-644b7f99034e",
   "metadata": {},
   "outputs": [],
   "source": [
    "A = np.random.randn(2, 5)\n",
    "B = np.random.randn(2, 5)"
   ]
  },
  {
   "cell_type": "code",
   "execution_count": 77,
   "id": "5cdffe9e-a3b1-402f-85b6-3c0dcd73d15d",
   "metadata": {},
   "outputs": [
    {
     "data": {
      "text/plain": [
       "array([[ 0.12585735,  0.27970633,  1.13560639,  0.34497634, -0.64259535],\n",
       "       [ 1.03438622, -0.39439203,  0.17620982, -0.50576309,  1.28557353]])"
      ]
     },
     "execution_count": 77,
     "metadata": {},
     "output_type": "execute_result"
    }
   ],
   "source": [
    "A"
   ]
  },
  {
   "cell_type": "code",
   "execution_count": 78,
   "id": "7a8ba55e-4406-4a1f-9de6-1d48c693b9ea",
   "metadata": {},
   "outputs": [
    {
     "data": {
      "text/plain": [
       "array([[ 0.12585735,  1.03438622],\n",
       "       [ 0.27970633, -0.39439203],\n",
       "       [ 1.13560639,  0.17620982],\n",
       "       [ 0.34497634, -0.50576309],\n",
       "       [-0.64259535,  1.28557353]])"
      ]
     },
     "execution_count": 78,
     "metadata": {},
     "output_type": "execute_result"
    }
   ],
   "source": [
    "# transpose\n",
    "A.T"
   ]
  },
  {
   "cell_type": "code",
   "execution_count": 79,
   "id": "8ca10259-fdc2-4e23-a4dc-6a2883796a90",
   "metadata": {},
   "outputs": [
    {
     "data": {
      "text/plain": [
       "array([[ 0.80583635,  1.62243314],\n",
       "       [-2.17816274,  0.04733462]])"
      ]
     },
     "execution_count": 79,
     "metadata": {},
     "output_type": "execute_result"
    }
   ],
   "source": [
    "# matrix multiplication\n",
    "A @ B.T  # same as np.matmul(A, B.T)"
   ]
  },
  {
   "cell_type": "markdown",
   "id": "f87ec9ce-ae3d-40c0-a4e5-55455b8b9503",
   "metadata": {},
   "source": [
    "## Universal Functions\n",
    "\n",
    "This is a limited list of funtions."
   ]
  },
  {
   "cell_type": "code",
   "execution_count": 80,
   "id": "3a5657ca-c09d-48a7-aeaa-873ea8c34e6e",
   "metadata": {},
   "outputs": [
    {
     "data": {
      "text/plain": [
       "array([[0.12585735, 0.27970633, 1.13560639, 0.34497634, 0.64259535],\n",
       "       [1.03438622, 0.39439203, 0.17620982, 0.50576309, 1.28557353]])"
      ]
     },
     "execution_count": 80,
     "metadata": {},
     "output_type": "execute_result"
    }
   ],
   "source": [
    "np.abs(A)  # absolue value"
   ]
  },
  {
   "cell_type": "code",
   "execution_count": 81,
   "id": "68c356b7-5743-4d6a-b2af-f031cc9bbfdb",
   "metadata": {},
   "outputs": [
    {
     "data": {
      "text/plain": [
       "array([[0.35476379, 0.5288727 , 1.06564834, 0.58734687, 0.80162045],\n",
       "       [1.01704779, 0.62800639, 0.41977354, 0.71117022, 1.13383135]])"
      ]
     },
     "execution_count": 81,
     "metadata": {},
     "output_type": "execute_result"
    }
   ],
   "source": [
    "np.sqrt(np.abs(A))  # squere root (using abs. just to remove comeplex roots)"
   ]
  },
  {
   "cell_type": "code",
   "execution_count": 82,
   "id": "0992501e-9a93-4cfe-bb55-46e19c7cbb2b",
   "metadata": {},
   "outputs": [
    {
     "data": {
      "text/plain": [
       "array([[ 1.99358952e-03,  2.18830015e-02,  1.46448012e+00,\n",
       "         4.10551774e-02, -2.65346116e-01],\n",
       "       [ 1.10674655e+00, -6.13457370e-02,  5.47129787e-03,\n",
       "        -1.29372327e-01,  2.12466646e+00]])"
      ]
     },
     "execution_count": 82,
     "metadata": {},
     "output_type": "execute_result"
    }
   ],
   "source": [
    "np.power(A, 3)  # power of 3"
   ]
  },
  {
   "cell_type": "code",
   "execution_count": 83,
   "id": "37370b69-62c1-4692-83e5-35e43498b03c",
   "metadata": {},
   "outputs": [
    {
     "data": {
      "text/plain": [
       "array([[ 0.12552535,  0.2760734 ,  0.90678998,  0.33817441, -0.59927515],\n",
       "       [ 0.85954884, -0.38424696,  0.17529936, -0.48447513,  0.95959899]])"
      ]
     },
     "execution_count": 83,
     "metadata": {},
     "output_type": "execute_result"
    }
   ],
   "source": [
    "np.sin(A)   # sinus, similarly np.cos, np.tan... can be used"
   ]
  },
  {
   "cell_type": "markdown",
   "id": "317a6652-4a05-4584-b4f7-5977f0878d09",
   "metadata": {},
   "source": [
    "## Reduction Operations\n",
    "\n",
    "This is a limited list of functions."
   ]
  },
  {
   "cell_type": "code",
   "execution_count": 84,
   "id": "6149c082-2756-48d0-b0c3-bc6a2c48fe36",
   "metadata": {},
   "outputs": [
    {
     "data": {
      "text/plain": [
       "np.float64(2.839565510790611)"
      ]
     },
     "execution_count": 84,
     "metadata": {},
     "output_type": "execute_result"
    }
   ],
   "source": [
    "np.sum(A)  # sums all value of the input"
   ]
  },
  {
   "cell_type": "code",
   "execution_count": 85,
   "id": "7dba8439-d99d-4880-90fa-ee322f08a854",
   "metadata": {},
   "outputs": [
    {
     "data": {
      "text/plain": [
       "np.float64(0.2839565510790611)"
      ]
     },
     "execution_count": 85,
     "metadata": {},
     "output_type": "execute_result"
    }
   ],
   "source": [
    "np.mean(A)  # average of all elements"
   ]
  },
  {
   "cell_type": "code",
   "execution_count": 86,
   "id": "7f8599a8-dc10-4807-9703-871881e24696",
   "metadata": {},
   "outputs": [
    {
     "data": {
      "text/plain": [
       "np.float64(-0.6425953496660816)"
      ]
     },
     "execution_count": 86,
     "metadata": {},
     "output_type": "execute_result"
    }
   ],
   "source": [
    "np.min(A)  # minimum of all elements"
   ]
  },
  {
   "cell_type": "code",
   "execution_count": 87,
   "id": "664ce7db-e36c-44c5-bdb9-fd16c9d18572",
   "metadata": {},
   "outputs": [
    {
     "data": {
      "text/plain": [
       "np.float64(1.2855735274180435)"
      ]
     },
     "execution_count": 87,
     "metadata": {},
     "output_type": "execute_result"
    }
   ],
   "source": [
    "np.max(A)  # maximum of all elements"
   ]
  },
  {
   "cell_type": "code",
   "execution_count": 88,
   "id": "38a905c8-cdb6-4d28-a499-f7c6fb7215a3",
   "metadata": {},
   "outputs": [
    {
     "data": {
      "text/plain": [
       "(2, 5)"
      ]
     },
     "execution_count": 88,
     "metadata": {},
     "output_type": "execute_result"
    }
   ],
   "source": [
    "# for reduction operation we can specify the direction as well\n",
    "# for example, if we want to calculate the mean of all rows or mean of all columns independently\n",
    "A.shape"
   ]
  },
  {
   "cell_type": "code",
   "execution_count": 89,
   "id": "8443582d-a936-4e26-aea6-174dde26c59d",
   "metadata": {},
   "outputs": [
    {
     "data": {
      "text/plain": [
       "array([ 0.58012178, -0.05734285,  0.65590811, -0.08039337,  0.32148909])"
      ]
     },
     "execution_count": 89,
     "metadata": {},
     "output_type": "execute_result"
    }
   ],
   "source": [
    "np.mean(A, axis=0)  # mean of all columns"
   ]
  },
  {
   "cell_type": "code",
   "execution_count": 90,
   "id": "4e96b931-fc39-4c2f-bda7-98d2c5d5e07d",
   "metadata": {},
   "outputs": [
    {
     "data": {
      "text/plain": [
       "array([0.24871021, 0.31920289])"
      ]
     },
     "execution_count": 90,
     "metadata": {},
     "output_type": "execute_result"
    }
   ],
   "source": [
    "np.mean(A, axis=1)  # mean of all rows"
   ]
  },
  {
   "cell_type": "markdown",
   "id": "4b9741b2-449f-478f-9f80-ea46902b9cc6",
   "metadata": {},
   "source": [
    "## Reshaping"
   ]
  },
  {
   "cell_type": "code",
   "execution_count": 91,
   "id": "6784a559-a6da-4be9-b8db-7446735dc8be",
   "metadata": {},
   "outputs": [
    {
     "data": {
      "text/plain": [
       "array([[ 0.12585735,  1.03438622],\n",
       "       [ 0.27970633, -0.39439203],\n",
       "       [ 1.13560639,  0.17620982],\n",
       "       [ 0.34497634, -0.50576309],\n",
       "       [-0.64259535,  1.28557353]])"
      ]
     },
     "execution_count": 91,
     "metadata": {},
     "output_type": "execute_result"
    }
   ],
   "source": [
    "# we already discussed one of the simplest \"reshaping\" feature: transposition\n",
    "A.T"
   ]
  },
  {
   "cell_type": "code",
   "execution_count": 92,
   "id": "ecf72849-accb-4602-94b2-4015357cc758",
   "metadata": {},
   "outputs": [
    {
     "data": {
      "text/plain": [
       "(1, 10)"
      ]
     },
     "execution_count": 92,
     "metadata": {},
     "output_type": "execute_result"
    }
   ],
   "source": [
    "# we can reshape this matrix as we wish (within certain constraints)\n",
    "A_ = A.reshape(1, 10)\n",
    "A_.shape"
   ]
  },
  {
   "cell_type": "code",
   "execution_count": 93,
   "id": "96dd59d9-9147-4445-a35c-c8acec87984a",
   "metadata": {},
   "outputs": [
    {
     "data": {
      "text/plain": [
       "array([[-0.81560399, -0.23608568,  1.21568023],\n",
       "       [ 1.53362803,  0.12731766, -0.86448979],\n",
       "       [-1.69458313, -0.73411366, -0.70291698],\n",
       "       [-0.8084669 , -1.10107604, -1.24449648],\n",
       "       [ 0.82409125, -0.49420312,  0.08728518],\n",
       "       [ 0.38186301, -0.81453144,  2.12891516]])"
      ]
     },
     "execution_count": 93,
     "metadata": {},
     "output_type": "execute_result"
    }
   ],
   "source": [
    "# reshape can take -1 as a parameter once, it means that numpy should calculate it in context of other values provided\n",
    "# an example\n",
    "\n",
    "# a vector with 18 elements\n",
    "d = np.random.randn(18)\n",
    "d.reshape(-1, 3)  # it means that I want 3 dimension and infer the number of rows accordingly, so it will just calculate 18/3=6 as the number of rows"
   ]
  },
  {
   "cell_type": "code",
   "execution_count": 94,
   "id": "c63f1563-0868-467b-81cd-2f573d77d358",
   "metadata": {},
   "outputs": [
    {
     "data": {
      "text/plain": [
       "(10,)"
      ]
     },
     "execution_count": 94,
     "metadata": {},
     "output_type": "execute_result"
    }
   ],
   "source": [
    "# we can transform an arroy to a vector\n",
    "A_ = A.flatten()\n",
    "A_.shape"
   ]
  },
  {
   "cell_type": "code",
   "execution_count": 95,
   "id": "784d69c0-6d23-4745-b41d-6cedc09a3dfe",
   "metadata": {},
   "outputs": [
    {
     "data": {
      "text/plain": [
       "(4, 5)"
      ]
     },
     "execution_count": 95,
     "metadata": {},
     "output_type": "execute_result"
    }
   ],
   "source": [
    "# we can concatenate different matricies as long as they have the same dimensions (otherthan the dimension of cancatenation)\n",
    "A_ = np.concatenate([A, B], axis=0)\n",
    "A_.shape"
   ]
  },
  {
   "cell_type": "code",
   "execution_count": 96,
   "id": "32f6f6c9-7133-4487-baea-edd695e42a5a",
   "metadata": {},
   "outputs": [
    {
     "data": {
      "text/plain": [
       "(2, 10)"
      ]
     },
     "execution_count": 96,
     "metadata": {},
     "output_type": "execute_result"
    }
   ],
   "source": [
    "A_ = np.concatenate([A, B], axis=1)\n",
    "A_.shape"
   ]
  },
  {
   "cell_type": "markdown",
   "id": "09f838e2-fa71-48b5-8a27-99a4e52b4700",
   "metadata": {},
   "source": [
    "## Boolean Selection"
   ]
  },
  {
   "cell_type": "code",
   "execution_count": 97,
   "id": "49c5d125-134e-45fc-b0f1-a02d0aae18ec",
   "metadata": {},
   "outputs": [
    {
     "data": {
      "text/plain": [
       "array([ 1.76405235,  0.40015721,  0.97873798,  2.2408932 ,  1.86755799,\n",
       "       -0.97727788,  0.95008842, -0.15135721, -0.10321885,  0.4105985 ])"
      ]
     },
     "execution_count": 97,
     "metadata": {},
     "output_type": "execute_result"
    }
   ],
   "source": [
    "# we can mask operation with boolean masks\n",
    "# a boolean mask is just a vector or matrix (same shape as the input) that has a True value for each position where we wish to make some modification\n",
    "# lets start with vectors\n",
    "np.random.seed(0)\n",
    "a = np.random.randn(10)\n",
    "a"
   ]
  },
  {
   "cell_type": "code",
   "execution_count": 98,
   "id": "5975474a-a9b8-4b47-b81e-4fc6c7d333c4",
   "metadata": {},
   "outputs": [
    {
     "data": {
      "text/plain": [
       "array([1.76405235, 0.40015721, 0.97873798, 2.2408932 , 1.86755799,\n",
       "       0.95008842, 0.4105985 ])"
      ]
     },
     "execution_count": 98,
     "metadata": {},
     "output_type": "execute_result"
    }
   ],
   "source": [
    "# lets select each positive values\n",
    "a[a >= 0]"
   ]
  },
  {
   "cell_type": "code",
   "execution_count": 99,
   "id": "b6a79cc6-f1c6-4c88-8f66-4e926c9bfb16",
   "metadata": {},
   "outputs": [
    {
     "data": {
      "text/plain": [
       "array([ True,  True,  True,  True,  True, False,  True, False, False,\n",
       "        True])"
      ]
     },
     "execution_count": 99,
     "metadata": {},
     "output_type": "execute_result"
    }
   ],
   "source": [
    "# where a >= 0 is just a vector with True values where the condition is satisfied\n",
    "a >= 0"
   ]
  },
  {
   "cell_type": "code",
   "execution_count": 100,
   "id": "8632d1b6-66c6-4094-9bbe-cb2051a6e452",
   "metadata": {},
   "outputs": [
    {
     "data": {
      "text/plain": [
       "array([1.76405235, 0.40015721, 0.97873798, 2.2408932 , 1.86755799,\n",
       "       0.        , 0.95008842, 0.        , 0.        , 0.4105985 ])"
      ]
     },
     "execution_count": 100,
     "metadata": {},
     "output_type": "execute_result"
    }
   ],
   "source": [
    "# now lets set each negative value to 0\n",
    "a[a < 0] = 0\n",
    "a"
   ]
  },
  {
   "cell_type": "code",
   "execution_count": 101,
   "id": "fec91da5-52a1-40e6-b225-2c8f76a554a5",
   "metadata": {},
   "outputs": [
    {
     "data": {
      "text/plain": [
       "array([1.76405235, 1.40015721, 1.97873798, 2.2408932 , 1.86755799,\n",
       "       1.        , 1.95008842, 1.        , 1.        , 1.4105985 ])"
      ]
     },
     "execution_count": 101,
     "metadata": {},
     "output_type": "execute_result"
    }
   ],
   "source": [
    "# not lets add 1 to each value that is less than 1\n",
    "a[a < 1] += 1\n",
    "a"
   ]
  },
  {
   "cell_type": "code",
   "execution_count": 102,
   "id": "05cc4b81-b4bc-4d8b-8c52-2006244986a7",
   "metadata": {},
   "outputs": [
    {
     "data": {
      "text/plain": [
       "array([[ 1.76405235,  0.40015721,  0.97873798,  2.2408932 ],\n",
       "       [ 1.86755799, -0.97727788,  0.95008842, -0.15135721],\n",
       "       [-0.10321885,  0.4105985 ,  0.14404357,  1.45427351],\n",
       "       [ 0.76103773,  0.12167502,  0.44386323,  0.33367433]])"
      ]
     },
     "execution_count": 102,
     "metadata": {},
     "output_type": "execute_result"
    }
   ],
   "source": [
    "# The same thing can be done with matricies but the mask has the shape of the input matrix\n",
    "np.random.seed(0)\n",
    "A = np.random.randn(4, 4)\n",
    "A"
   ]
  },
  {
   "cell_type": "code",
   "execution_count": 103,
   "id": "24487cae-cb05-4c01-9bf2-64cd35bf63c0",
   "metadata": {},
   "outputs": [
    {
     "data": {
      "text/plain": [
       "array([1.76405235, 0.40015721, 0.97873798, 2.2408932 , 1.86755799,\n",
       "       0.95008842, 0.4105985 , 0.14404357, 1.45427351, 0.76103773,\n",
       "       0.12167502, 0.44386323, 0.33367433])"
      ]
     },
     "execution_count": 103,
     "metadata": {},
     "output_type": "execute_result"
    }
   ],
   "source": [
    "# the selection will return a vector of masked values, due to the number of returned values can not be reshaped into a matrix\n",
    "A[A>=0]"
   ]
  },
  {
   "cell_type": "code",
   "execution_count": 104,
   "id": "c6a12517-eef0-43a0-8ade-46ff5de8909e",
   "metadata": {},
   "outputs": [
    {
     "data": {
      "text/plain": [
       "array([[ True,  True,  True,  True],\n",
       "       [ True, False,  True, False],\n",
       "       [False,  True,  True,  True],\n",
       "       [ True,  True,  True,  True]])"
      ]
     },
     "execution_count": 104,
     "metadata": {},
     "output_type": "execute_result"
    }
   ],
   "source": [
    "# the mask\n",
    "A>=0"
   ]
  },
  {
   "cell_type": "code",
   "execution_count": 105,
   "id": "d33e2846-18e1-4f47-8bf7-72c0ef5a186e",
   "metadata": {},
   "outputs": [
    {
     "data": {
      "text/plain": [
       "array([[1.76405235, 0.40015721, 0.97873798, 2.2408932 ],\n",
       "       [1.86755799, 0.        , 0.95008842, 0.        ],\n",
       "       [0.        , 0.4105985 , 0.14404357, 1.45427351],\n",
       "       [0.76103773, 0.12167502, 0.44386323, 0.33367433]])"
      ]
     },
     "execution_count": 105,
     "metadata": {},
     "output_type": "execute_result"
    }
   ],
   "source": [
    "# but we can do everything else just like earlier\n",
    "# lets set each negative value to 0\n",
    "A[A < 0] = 0  # this is an inplace operation\n",
    "A"
   ]
  },
  {
   "cell_type": "code",
   "execution_count": 106,
   "id": "2122aabf-d478-4fed-ab00-a7d4b12be77d",
   "metadata": {},
   "outputs": [
    {
     "data": {
      "text/plain": [
       "array([[1.76405235, 1.40015721, 1.97873798, 2.2408932 ],\n",
       "       [1.86755799, 1.        , 1.95008842, 1.        ],\n",
       "       [1.        , 1.4105985 , 1.14404357, 1.45427351],\n",
       "       [1.76103773, 1.12167502, 1.44386323, 1.33367433]])"
      ]
     },
     "execution_count": 106,
     "metadata": {},
     "output_type": "execute_result"
    }
   ],
   "source": [
    "# not lets add 1 to each value that is less than 1\n",
    "A[A < 1] += 1  # this is an inplace operation\n",
    "A"
   ]
  },
  {
   "cell_type": "code",
   "execution_count": 107,
   "id": "988d440b-b89b-4aeb-9f11-4f2585fd3b31",
   "metadata": {},
   "outputs": [
    {
     "data": {
      "text/plain": [
       "array([1.84596018, 1.4544116 , 1.2522289 , 1.41506258])"
      ]
     },
     "execution_count": 107,
     "metadata": {},
     "output_type": "execute_result"
    }
   ],
   "source": [
    "# we can also select specific rows or columns with vector like masks\n",
    "# lets say we want select each row with an expected value of less than 1.45\n",
    "\n",
    "# first calculate the expected value for each row\n",
    "expected_value = np.mean(A, axis=1)\n",
    "expected_value"
   ]
  },
  {
   "cell_type": "code",
   "execution_count": 108,
   "id": "67878251-ad07-4199-b7a2-3c93710e81a5",
   "metadata": {},
   "outputs": [
    {
     "data": {
      "text/plain": [
       "array([False, False,  True,  True])"
      ]
     },
     "execution_count": 108,
     "metadata": {},
     "output_type": "execute_result"
    }
   ],
   "source": [
    "# then make the mask\n",
    "mask = (expected_value < 1.45)\n",
    "mask"
   ]
  },
  {
   "cell_type": "code",
   "execution_count": 109,
   "id": "ef27d209-d507-4c1b-9307-26b4f8e98ad1",
   "metadata": {},
   "outputs": [
    {
     "data": {
      "text/plain": [
       "array([[1.        , 1.4105985 , 1.14404357, 1.45427351],\n",
       "       [1.76103773, 1.12167502, 1.44386323, 1.33367433]])"
      ]
     },
     "execution_count": 109,
     "metadata": {},
     "output_type": "execute_result"
    }
   ],
   "source": [
    "# the we have to index the correct dimension with this mask\n",
    "A[mask]"
   ]
  },
  {
   "cell_type": "code",
   "execution_count": 110,
   "id": "e9cc3eda-f9e5-4e72-9414-9c61bd8cc602",
   "metadata": {},
   "outputs": [
    {
     "data": {
      "text/plain": [
       "array([[1.40015721],\n",
       "       [1.        ],\n",
       "       [1.4105985 ],\n",
       "       [1.12167502]])"
      ]
     },
     "execution_count": 110,
     "metadata": {},
     "output_type": "execute_result"
    }
   ],
   "source": [
    "# the same can be done with the matrix columns\n",
    "\n",
    "# we have to reduce along the other axes\n",
    "expected_value = np.mean(A, axis=0)\n",
    "mask = (expected_value < 1.45)\n",
    "# we have to mask the other axes\n",
    "A[:, mask]  # select all row, select columns with mask"
   ]
  },
  {
   "cell_type": "code",
   "execution_count": 111,
   "id": "f2e96e7c-2065-46ad-a456-a422ecb6821f",
   "metadata": {},
   "outputs": [
    {
     "data": {
      "text/plain": [
       "array([False,  True, False, False])"
      ]
     },
     "execution_count": 111,
     "metadata": {},
     "output_type": "execute_result"
    }
   ],
   "source": [
    "mask  # the value of the mask"
   ]
  },
  {
   "cell_type": "markdown",
   "id": "e214b7db-d9da-4d06-8106-8aec6aaaa4ce",
   "metadata": {},
   "source": [
    "## Broadcasting\n",
    "\n",
    "Broadcasting is an important concept within any matrix engine. It can be seen as an efficient method to fill in values when making operations between an $N$ dimensional and an $N+1$ dimensional matrix. IN detail see [Numpy Broadcasting Guide](https://numpy.org/doc/stable/user/basics.broadcasting.html).\n",
    "\n",
    "![broadcasting](https://numpy.org/doc/stable/_images/broadcasting_1.png)\n",
    "\n",
    "\n",
    "![broadcasting2](https://numpy.org/doc/stable/_images/broadcasting_2.png)"
   ]
  },
  {
   "cell_type": "code",
   "execution_count": null,
   "id": "01c41512-9363-436f-b581-2f85b776648c",
   "metadata": {},
   "outputs": [],
   "source": []
  },
  {
   "cell_type": "code",
   "execution_count": 112,
   "id": "ec192432-7f6e-4374-879c-eb6aea9f2e08",
   "metadata": {},
   "outputs": [
    {
     "data": {
      "text/plain": [
       "array([2, 4, 6])"
      ]
     },
     "execution_count": 112,
     "metadata": {},
     "output_type": "execute_result"
    }
   ],
   "source": [
    "# lets demonstrate it by following the example on the first image\n",
    "a = np.array([1, 2, 3])\n",
    "b = np.array([2])\n",
    "\n",
    "# in order to be able to multiply each element with 2 we have to virtually stretch vector b, in other words broadcast it to all other positions. \n",
    "a * b"
   ]
  },
  {
   "cell_type": "code",
   "execution_count": 113,
   "id": "7517974a-b620-497f-a0cd-f2359dc40dac",
   "metadata": {},
   "outputs": [
    {
     "data": {
      "text/plain": [
       "array([[ 1,  2,  3],\n",
       "       [11, 12, 13],\n",
       "       [21, 22, 23],\n",
       "       [31, 32, 33]])"
      ]
     },
     "execution_count": 113,
     "metadata": {},
     "output_type": "execute_result"
    }
   ],
   "source": [
    "# a more interesting example can be seen in the second image\n",
    "# we have to broad cast the values of vector b to all rows\n",
    "\n",
    "a = np.array([[0, 0, 0], [10, 10, 10], [20, 20, 20], [30, 30, 30]])\n",
    "b = np.array([1, 2, 3])\n",
    "\n",
    "a + b"
   ]
  },
  {
   "cell_type": "code",
   "execution_count": 114,
   "id": "1b5dff09-2ad2-4e5b-a728-e58ebc9e90f2",
   "metadata": {},
   "outputs": [
    {
     "ename": "ValueError",
     "evalue": "operands could not be broadcast together with shapes (4,3) (4,) ",
     "output_type": "error",
     "traceback": [
      "\u001b[1;31m---------------------------------------------------------------------------\u001b[0m",
      "\u001b[1;31mValueError\u001b[0m                                Traceback (most recent call last)",
      "Cell \u001b[1;32mIn[114], line 9\u001b[0m\n\u001b[0;32m      6\u001b[0m b \u001b[38;5;241m=\u001b[39m np\u001b[38;5;241m.\u001b[39marray([\u001b[38;5;241m1\u001b[39m, \u001b[38;5;241m2\u001b[39m, \u001b[38;5;241m3\u001b[39m, \u001b[38;5;241m4\u001b[39m])\n\u001b[0;32m      8\u001b[0m \u001b[38;5;66;03m# this simply gives an error because the shape does not match, numpy can not infer the direction of broadcasting, we have to fix that\u001b[39;00m\n\u001b[1;32m----> 9\u001b[0m \u001b[43ma\u001b[49m\u001b[43m \u001b[49m\u001b[38;5;241;43m+\u001b[39;49m\u001b[43m \u001b[49m\u001b[43mb\u001b[49m\n",
      "\u001b[1;31mValueError\u001b[0m: operands could not be broadcast together with shapes (4,3) (4,) "
     ]
    }
   ],
   "source": [
    "# lets see a different scenario\n",
    "# lets say we want to add the values of vector b to each column\n",
    "# first we have to add an extra element to vector b to match the number of rows\n",
    "\n",
    "a = np.array([[0, 0, 0], [10, 10, 10], [20, 20, 20], [30, 30, 30]])\n",
    "b = np.array([1, 2, 3, 4])\n",
    "\n",
    "# this simply gives an error because the shape does not match, numpy can not infer the direction of broadcasting, we have to fix that\n",
    "a + b"
   ]
  },
  {
   "cell_type": "markdown",
   "id": "eb90b5cc-ee77-4811-9cb5-327602fde6b1",
   "metadata": {},
   "source": [
    "![bb](https://numpy.org/doc/stable/_images/broadcasting_3.png)"
   ]
  },
  {
   "cell_type": "code",
   "execution_count": 115,
   "id": "ffa823a8-a056-4a2f-bfd8-bb8de3f4a234",
   "metadata": {},
   "outputs": [
    {
     "data": {
      "text/plain": [
       "(4, 1)"
      ]
     },
     "execution_count": 115,
     "metadata": {},
     "output_type": "execute_result"
    }
   ],
   "source": [
    "# to solve this problem we have to add a virtual dimension to our vector\n",
    "\n",
    "# -1 means that numpy should calculate the shape at that positon \n",
    "# numpy knows the overall shape of the input matrix, it knows that we want 1 at the second position, so it will just infer \"num_values/1\"\n",
    "b_ = b.reshape(-1, 1)\n",
    "b_.shape  # 4 rows, 1 column"
   ]
  },
  {
   "cell_type": "code",
   "execution_count": 116,
   "id": "3f77db75-594a-40f2-8ca1-ae1ef1f72be0",
   "metadata": {},
   "outputs": [
    {
     "data": {
      "text/plain": [
       "array([[ 1,  1,  1],\n",
       "       [12, 12, 12],\n",
       "       [23, 23, 23],\n",
       "       [34, 34, 34]])"
      ]
     },
     "execution_count": 116,
     "metadata": {},
     "output_type": "execute_result"
    }
   ],
   "source": [
    "# so the final solution is\n",
    "a + b_"
   ]
  },
  {
   "cell_type": "code",
   "execution_count": 117,
   "id": "5fe90bed-6022-4be2-a81b-454a3dbf43ed",
   "metadata": {},
   "outputs": [
    {
     "data": {
      "text/plain": [
       "array([[ 1,  1,  1],\n",
       "       [12, 12, 12],\n",
       "       [23, 23, 23],\n",
       "       [34, 34, 34]])"
      ]
     },
     "execution_count": 117,
     "metadata": {},
     "output_type": "execute_result"
    }
   ],
   "source": [
    "# a shorter solution\n",
    "a + b[:, None]  # b[:, None] == b.reshape(-1, 1), selects all value to the rows and appends a dimension"
   ]
  },
  {
   "cell_type": "markdown",
   "id": "a7209806-1168-408d-b35f-6d09affc003a",
   "metadata": {},
   "source": [
    "## Exercise"
   ]
  },
  {
   "cell_type": "code",
   "execution_count": 119,
   "id": "d6b780bd-2079-4540-8ac9-38bdac91c8a6",
   "metadata": {},
   "outputs": [
    {
     "data": {
      "text/plain": [
       "(6, 6)"
      ]
     },
     "execution_count": 119,
     "metadata": {},
     "output_type": "execute_result"
    }
   ],
   "source": [
    "# Create a NumPy array of numbers from 1 to 36.\n",
    "# Reshape it into a 6×6 matrix.\n",
    "# Print its shape\n",
    "M = np.arange(1, 37).reshape(6, -1)\n",
    "M.shape"
   ]
  },
  {
   "cell_type": "code",
   "execution_count": 121,
   "id": "9f05c346-7c5d-4c0e-aed3-eca0d4ac444e",
   "metadata": {},
   "outputs": [
    {
     "data": {
      "text/plain": [
       "array([13, 14, 15, 16, 17, 18])"
      ]
     },
     "execution_count": 121,
     "metadata": {},
     "output_type": "execute_result"
    }
   ],
   "source": [
    "# Extract the third row.\n",
    "M[2]"
   ]
  },
  {
   "cell_type": "code",
   "execution_count": 122,
   "id": "66090add-6b2e-4f86-af48-f3e5accacac8",
   "metadata": {},
   "outputs": [
    {
     "data": {
      "text/plain": [
       "array([ 6, 12, 18, 24, 30, 36])"
      ]
     },
     "execution_count": 122,
     "metadata": {},
     "output_type": "execute_result"
    }
   ],
   "source": [
    "# Extract the last column.\n",
    "M[:, -1]"
   ]
  },
  {
   "cell_type": "code",
   "execution_count": 123,
   "id": "0c39a1b0-b540-4859-98a8-3d2dada27d92",
   "metadata": {},
   "outputs": [
    {
     "data": {
      "text/plain": [
       "array([[ 8,  9, 10, 11],\n",
       "       [14, 15, 16, 17],\n",
       "       [20, 21, 22, 23],\n",
       "       [26, 27, 28, 29]])"
      ]
     },
     "execution_count": 123,
     "metadata": {},
     "output_type": "execute_result"
    }
   ],
   "source": [
    "# Extract the submatrix of the middle 4×4 block.\n",
    "M[1:-1, 1:-1]"
   ]
  },
  {
   "cell_type": "code",
   "execution_count": 124,
   "id": "653c772e-a8d4-43d2-8f59-965517daaf3d",
   "metadata": {},
   "outputs": [
    {
     "data": {
      "text/plain": [
       "array([[ 2,  4,  6,  8, 10, 12],\n",
       "       [14, 16, 18, 20, 22, 24],\n",
       "       [26, 28, 30, 32, 34, 36],\n",
       "       [38, 40, 42, 44, 46, 48],\n",
       "       [50, 52, 54, 56, 58, 60],\n",
       "       [62, 64, 66, 68, 70, 72]])"
      ]
     },
     "execution_count": 124,
     "metadata": {},
     "output_type": "execute_result"
    }
   ],
   "source": [
    "# Multiply the 6×6 matrix by 2 (elementwise).\n",
    "M * 2"
   ]
  },
  {
   "cell_type": "code",
   "execution_count": 125,
   "id": "fa361576-3aa3-4a1a-8be7-afa108a61c82",
   "metadata": {},
   "outputs": [
    {
     "data": {
      "text/plain": [
       "np.float64(18.5)"
      ]
     },
     "execution_count": 125,
     "metadata": {},
     "output_type": "execute_result"
    }
   ],
   "source": [
    "# Compute the mean of all elements.\n",
    "np.mean(M)"
   ]
  },
  {
   "cell_type": "code",
   "execution_count": 128,
   "id": "f8b5e3f8-de22-42e6-8bda-4dddf855a135",
   "metadata": {},
   "outputs": [
    {
     "data": {
      "text/plain": [
       "array([105., 105., 105., 105., 105., 105.])"
      ]
     },
     "execution_count": 128,
     "metadata": {},
     "output_type": "execute_result"
    }
   ],
   "source": [
    "# Compute the variance of each column.\n",
    "np.var(M, axis=0)"
   ]
  },
  {
   "cell_type": "code",
   "execution_count": 130,
   "id": "c7569c2a-aa49-43a5-a83a-adecc73d7a76",
   "metadata": {},
   "outputs": [
    {
     "data": {
      "text/plain": [
       "array([[11, 12, 13, 14, 15, 16],\n",
       "       [27, 28, 29, 30, 31, 32],\n",
       "       [43, 44, 45, 46, 47, 48],\n",
       "       [59, 60, 61, 62, 63, 64],\n",
       "       [75, 76, 77, 78, 79, 80],\n",
       "       [91, 92, 93, 94, 95, 96]])"
      ]
     },
     "execution_count": 130,
     "metadata": {},
     "output_type": "execute_result"
    }
   ],
   "source": [
    "# Create a vector [10, 20, 30, 40, 50, 60].\n",
    "# Add this vector to each column of the 6×6 matrix.\n",
    "\n",
    "v = np.array([10, 20, 30, 40, 50, 60])\n",
    "M + v[:, None]"
   ]
  },
  {
   "cell_type": "code",
   "execution_count": 132,
   "id": "cad7b4bc-8ed2-4eb7-b8a9-f6467d4bd13d",
   "metadata": {
    "scrolled": true
   },
   "outputs": [
    {
     "data": {
      "text/plain": [
       "array([0.08019682, 0.08062986, 0.07869888, 0.0996127 , 0.07540383,\n",
       "       0.08389305, 0.07131251, 0.07149637, 0.09836649, 0.0810572 ,\n",
       "       0.08350971, 0.08497768, 0.06285043, 0.08126365, 0.07164099,\n",
       "       0.07116978, 0.07659481, 0.08040454, 0.10521286, 0.07911346,\n",
       "       0.07489526, 0.091466  , 0.09572065, 0.08857888, 0.07259481,\n",
       "       0.07858917, 0.08627708, 0.08353222, 0.07741176, 0.07704974,\n",
       "       0.07974892, 0.07555815, 0.1073193 , 0.06879883, 0.07262031,\n",
       "       0.08643014, 0.0935747 , 0.08360531, 0.07134348, 0.08112006,\n",
       "       0.06556117, 0.09052378, 0.0818913 , 0.06522798, 0.07683673,\n",
       "       0.08796303, 0.07627183, 0.08658931, 0.09728523, 0.08226509,\n",
       "       0.09170128, 0.07937658, 0.07948845, 0.07653938, 0.0959262 ,\n",
       "       0.07006974, 0.06130753, 0.08061008, 0.08719739, 0.09334893,\n",
       "       0.08697537, 0.07102049, 0.09780129, 0.08104294, 0.08251831,\n",
       "       0.10258259, 0.09299911, 0.07921593, 0.09220468, 0.05805966,\n",
       "       0.08660335, 0.07210917, 0.07303892, 0.0601403 , 0.08316857,\n",
       "       0.07088929, 0.06153191, 0.06686495, 0.06399373, 0.09883166,\n",
       "       0.07417599, 0.07129665, 0.08155538, 0.08302111, 0.09633537,\n",
       "       0.06749419, 0.08303142, 0.07309764, 0.077433  , 0.07980813,\n",
       "       0.09226162, 0.09190643, 0.06665901, 0.08719582, 0.08917924,\n",
       "       0.07715186, 0.07757597, 0.0783088 , 0.06960505, 0.0909692 ,\n",
       "       0.09262311, 0.084512  , 0.0762338 , 0.06299935, 0.07941432,\n",
       "       0.08158416, 0.08732593, 0.08851774, 0.10312529, 0.07101661,\n",
       "       0.07508387, 0.08559504, 0.08601062, 0.09409339, 0.0796073 ,\n",
       "       0.06392276, 0.08173138, 0.09561375, 0.07173506, 0.08816081,\n",
       "       0.06903276, 0.06585413, 0.09320418, 0.07869885, 0.07278516,\n",
       "       0.06785599, 0.06645825, 0.07439507, 0.088358  , 0.09573513,\n",
       "       0.08532794, 0.08608537, 0.09644277, 0.0871511 , 0.07447103,\n",
       "       0.07242678, 0.07257894, 0.08148753, 0.08085535, 0.08786184,\n",
       "       0.07224315, 0.08710336, 0.0880795 , 0.09544236, 0.06343292,\n",
       "       0.06884954, 0.06831672, 0.07969019, 0.09277106, 0.08114297,\n",
       "       0.08929674, 0.08971995, 0.06023524, 0.07538799, 0.09572013,\n",
       "       0.07238443, 0.06793471, 0.08172816, 0.09937672, 0.08429582,\n",
       "       0.08568396, 0.0852467 , 0.08177617, 0.08129641, 0.09908913,\n",
       "       0.07849712, 0.0807551 , 0.06876581, 0.08656558, 0.08015751,\n",
       "       0.07905563, 0.0779312 , 0.07750359, 0.08388924, 0.07396032,\n",
       "       0.07134551, 0.07875875, 0.0844384 , 0.06220346, 0.08985845,\n",
       "       0.08214165, 0.07487182, 0.06712014, 0.08798481, 0.08137575,\n",
       "       0.06985853, 0.08512815, 0.08444725, 0.09264835, 0.07242491,\n",
       "       0.10088069, 0.08741353, 0.08723707, 0.08140314, 0.0659865 ,\n",
       "       0.08982641, 0.0867425 , 0.07986258, 0.07380192, 0.08129112,\n",
       "       0.09505063, 0.08640394, 0.08519222, 0.08328303, 0.087565  ,\n",
       "       0.09141829, 0.07618458, 0.07549197, 0.08652656, 0.06831615,\n",
       "       0.09226459, 0.10530259, 0.08425864, 0.07526387, 0.09447763,\n",
       "       0.07554831, 0.07652531, 0.08504706, 0.10134955, 0.07018755,\n",
       "       0.07080683, 0.08473665, 0.07855871, 0.09669215, 0.08485862,\n",
       "       0.08089471, 0.07959677, 0.09277586, 0.08659818, 0.08757846,\n",
       "       0.0826875 , 0.07577123, 0.08224709, 0.084721  , 0.07826265,\n",
       "       0.08564886, 0.06950393, 0.08265755, 0.08197911, 0.08638786,\n",
       "       0.08301532, 0.07752827, 0.08248117, 0.06699005, 0.08525018,\n",
       "       0.08035188, 0.08265113, 0.09287683, 0.083227  , 0.06881071,\n",
       "       0.0644009 , 0.11035165, 0.09268481, 0.06864696, 0.09274379,\n",
       "       0.07632719, 0.0940868 , 0.08419805, 0.09821013, 0.08475601,\n",
       "       0.08563336, 0.07382223, 0.06261299, 0.08596756, 0.08384172,\n",
       "       0.07279549, 0.08966823, 0.08605595, 0.06743557, 0.06521616,\n",
       "       0.07322113, 0.05847486, 0.079849  , 0.07280056, 0.09937649,\n",
       "       0.05985961, 0.06072174, 0.08981198, 0.08029049, 0.06903693,\n",
       "       0.06454051, 0.06055887, 0.08665021, 0.09469391, 0.08003419,\n",
       "       0.08083289, 0.09594229, 0.08695497, 0.09388202, 0.07838732,\n",
       "       0.07727531, 0.08528099, 0.0863009 , 0.10500406, 0.07517349,\n",
       "       0.07826322, 0.08348332, 0.07476601, 0.08314627, 0.07792212,\n",
       "       0.06733835, 0.09077878, 0.09020534, 0.07180941, 0.08263179,\n",
       "       0.0883528 , 0.08313624, 0.07502586, 0.06316342, 0.08042431,\n",
       "       0.06349073, 0.08525085, 0.08615207, 0.07878043, 0.06271624,\n",
       "       0.06911247, 0.09712628, 0.07694889, 0.09306856, 0.09564266,\n",
       "       0.10327742, 0.09515132, 0.09810557, 0.06487534, 0.07420476,\n",
       "       0.07501054, 0.055524  , 0.07168633, 0.06990599, 0.07503075,\n",
       "       0.07585187, 0.08123916, 0.09280321, 0.09128803, 0.08063443,\n",
       "       0.08144655, 0.0648859 , 0.08429803, 0.08065453, 0.0823005 ,\n",
       "       0.08840353, 0.09658912, 0.11534641, 0.09535901, 0.06705195,\n",
       "       0.08760605, 0.11179467, 0.09765623, 0.08677519, 0.06460526,\n",
       "       0.08385215, 0.08018793, 0.06828313, 0.06666473, 0.08294257,\n",
       "       0.08039313, 0.08281976, 0.0901566 , 0.0711187 , 0.08125058,\n",
       "       0.06288291, 0.10139896, 0.08836727, 0.07584121, 0.07465569,\n",
       "       0.08972322, 0.09012948, 0.07478834, 0.07637863, 0.09189616,\n",
       "       0.09608576, 0.06989217, 0.07406682, 0.09516097, 0.07964899,\n",
       "       0.08548089, 0.07539771, 0.05663947, 0.08680147, 0.09860997,\n",
       "       0.07166574, 0.0804364 , 0.10449667, 0.07931506, 0.07850162,\n",
       "       0.09674828, 0.07847244, 0.07973369, 0.08103342, 0.08297382,\n",
       "       0.09375118, 0.0929531 , 0.09023373, 0.08646529, 0.09810435,\n",
       "       0.07121139, 0.06555247, 0.0882645 , 0.07482902, 0.08602846,\n",
       "       0.08566086, 0.10286298, 0.08276303, 0.08653228, 0.09367119,\n",
       "       0.06856357, 0.09701262, 0.08411936, 0.06880866, 0.07223845,\n",
       "       0.09114275, 0.0722413 , 0.09390372, 0.08191685, 0.06432999,\n",
       "       0.0944926 , 0.08946259, 0.07587306, 0.07150286, 0.06894938,\n",
       "       0.07359282, 0.08538824, 0.06957821, 0.08495753, 0.07267697,\n",
       "       0.06865778, 0.07582423, 0.07935553, 0.08143501, 0.09176026,\n",
       "       0.08347387, 0.09370417, 0.09246446, 0.09767249, 0.08288807,\n",
       "       0.08284625, 0.07842394, 0.08737846, 0.0842639 , 0.08772448,\n",
       "       0.07040943, 0.08912267, 0.06884588, 0.09318252, 0.06957057,\n",
       "       0.08882248, 0.07849844, 0.08354643, 0.07395482, 0.08294621,\n",
       "       0.08496567, 0.06972694, 0.09301652, 0.07726809, 0.09570067,\n",
       "       0.07105198, 0.08436109, 0.08640881, 0.08349124, 0.07475659,\n",
       "       0.06574344, 0.08263593, 0.07959859, 0.09381997, 0.08895857,\n",
       "       0.0852373 , 0.06973792, 0.09427568, 0.07726947, 0.08566785,\n",
       "       0.0791996 , 0.08397227, 0.09442039, 0.08524809, 0.08069264,\n",
       "       0.09258998, 0.07977118, 0.07847831, 0.08531078, 0.08149759,\n",
       "       0.09305118, 0.05995812, 0.0816005 , 0.07884662, 0.07810322,\n",
       "       0.07942068, 0.08496826, 0.08043379, 0.06694158, 0.08790676,\n",
       "       0.07522862, 0.06703201, 0.06846111, 0.09334277, 0.061868  ,\n",
       "       0.07445822, 0.07628792, 0.10207929, 0.10503134, 0.07311665,\n",
       "       0.10883247, 0.07398705, 0.08349998, 0.08801338, 0.07449374,\n",
       "       0.06588328, 0.0890041 , 0.08549243, 0.09646341, 0.0871022 ,\n",
       "       0.07961914, 0.08723304, 0.06652879, 0.07507743, 0.08266103,\n",
       "       0.07592611, 0.0781918 , 0.06770133, 0.09550714, 0.10163416,\n",
       "       0.07683798, 0.10017714, 0.07191805, 0.07700182, 0.06290309,\n",
       "       0.08113613, 0.08205676, 0.07569607, 0.08502787, 0.08535212,\n",
       "       0.08320828, 0.09048213, 0.08592877, 0.10506659, 0.07879208,\n",
       "       0.05571964, 0.08221718, 0.08274791, 0.07996077, 0.07608945,\n",
       "       0.09242911, 0.08272656, 0.08799772, 0.06942463, 0.09037275,\n",
       "       0.0808861 , 0.06981484, 0.08073671, 0.09919559, 0.06894013,\n",
       "       0.10490269, 0.09082556, 0.0799373 , 0.08024448, 0.10041285,\n",
       "       0.07853665, 0.07702822, 0.0693979 , 0.08454542, 0.07508437,\n",
       "       0.080971  , 0.08683626, 0.09644378, 0.07113193, 0.08280524,\n",
       "       0.07044226, 0.08284437, 0.0805996 , 0.08008535, 0.10651528,\n",
       "       0.08106039, 0.08238243, 0.08485231, 0.05576151, 0.07423529,\n",
       "       0.083234  , 0.08371495, 0.08404144, 0.09141268, 0.09123681,\n",
       "       0.08904967, 0.07451386, 0.0754363 , 0.08424746, 0.08493247,\n",
       "       0.07846614, 0.08054565, 0.07387232, 0.08938032, 0.08666092,\n",
       "       0.08878163, 0.07276748, 0.07939752, 0.07346617, 0.09703653,\n",
       "       0.07073987, 0.08405865, 0.09198782, 0.09175047, 0.08453416,\n",
       "       0.07487313, 0.09146726, 0.10350152, 0.0892647 , 0.08966987,\n",
       "       0.08298069, 0.08864034, 0.10258381, 0.08469905, 0.08347396,\n",
       "       0.07010192, 0.08234669, 0.06175813, 0.07995983, 0.0999334 ,\n",
       "       0.10090511, 0.08304824, 0.09608054, 0.08745183, 0.08322305,\n",
       "       0.07639839, 0.10102429, 0.08805687, 0.06622729, 0.06766501,\n",
       "       0.07925026, 0.07187631, 0.08540846, 0.07263444, 0.09438557,\n",
       "       0.07942604, 0.07267965, 0.07729739, 0.08788294, 0.10425008,\n",
       "       0.06376694, 0.08670107, 0.06891171, 0.08339195, 0.09165349,\n",
       "       0.08410799, 0.09184279, 0.08050104, 0.07097669, 0.07155845,\n",
       "       0.06283675, 0.09286258, 0.07270636, 0.07894789, 0.08539851,\n",
       "       0.07550818, 0.08860662, 0.08935586, 0.07243351, 0.07157786,\n",
       "       0.09598067, 0.09139522, 0.07073568, 0.08187906, 0.08513979,\n",
       "       0.09438734, 0.09018412, 0.07647164, 0.06907235, 0.06387241,\n",
       "       0.08128653, 0.07064041, 0.07776443, 0.09620304, 0.08233473,\n",
       "       0.10151877, 0.09417675, 0.07417576, 0.08571004, 0.08466898,\n",
       "       0.09342066, 0.07303178, 0.07641631, 0.07450851, 0.07575528,\n",
       "       0.06880676, 0.08788361, 0.08442814, 0.08344922, 0.08182958,\n",
       "       0.09541392, 0.07165362, 0.07459161, 0.08056181, 0.09557675,\n",
       "       0.08337943, 0.07304609, 0.09184433, 0.06962107, 0.10084739,\n",
       "       0.08282785, 0.06833354, 0.07807921, 0.08067962, 0.06878298,\n",
       "       0.05180931, 0.08564704, 0.08229135, 0.07154814, 0.09503311,\n",
       "       0.0820545 , 0.08270838, 0.09341549, 0.07962093, 0.07928217,\n",
       "       0.06124922, 0.0790163 , 0.09338465, 0.08527274, 0.05443826,\n",
       "       0.06820654, 0.07962221, 0.08686006, 0.06190551, 0.08828865,\n",
       "       0.10109715, 0.10286786, 0.09134662, 0.08073819, 0.06865974,\n",
       "       0.07015017, 0.08575313, 0.06785641, 0.08457995, 0.09230096,\n",
       "       0.07839001, 0.08552491, 0.09542499, 0.08703679, 0.09336993,\n",
       "       0.07808997, 0.09158993, 0.06596315, 0.07940804, 0.06710449,\n",
       "       0.08376767, 0.10336223, 0.08867395, 0.07993838, 0.07562969,\n",
       "       0.08200514, 0.09422948, 0.07323704, 0.08956837, 0.06663384,\n",
       "       0.09349057, 0.06400667, 0.08623673, 0.09119116, 0.07649757,\n",
       "       0.09071541, 0.06938277, 0.0950944 , 0.07215779, 0.08281059,\n",
       "       0.08512731, 0.08591359, 0.07047755, 0.10099663, 0.08584796,\n",
       "       0.10726678, 0.09181671, 0.08542473, 0.08488874, 0.05303782,\n",
       "       0.07788212, 0.09366364, 0.07839577, 0.09461696, 0.07765585,\n",
       "       0.08573025, 0.07331569, 0.07208801, 0.07020028, 0.0768161 ,\n",
       "       0.09620973, 0.07751248, 0.09419644, 0.08763314, 0.0791025 ,\n",
       "       0.09514778, 0.07960727, 0.07165609, 0.08732965, 0.07127864,\n",
       "       0.08094332, 0.08293925, 0.09128337, 0.06052916, 0.08431509,\n",
       "       0.08857883, 0.07904402, 0.08639752, 0.06122098, 0.0697358 ,\n",
       "       0.08202988, 0.07277721, 0.07751682, 0.09690312, 0.08510191,\n",
       "       0.08500371, 0.09883097, 0.086223  , 0.08966703, 0.08571401,\n",
       "       0.06014482, 0.08192354, 0.09434186, 0.07999385, 0.1041665 ,\n",
       "       0.08704881, 0.09263309, 0.08226272, 0.0795388 , 0.07736337,\n",
       "       0.07676997, 0.08855115, 0.07728524, 0.07675801, 0.07175894,\n",
       "       0.09350106, 0.05991529, 0.06595917, 0.08335289, 0.07595384,\n",
       "       0.06589859, 0.08210959, 0.08651545, 0.08261014, 0.08793661,\n",
       "       0.07232369, 0.06445669, 0.08263521, 0.09717196, 0.07937429,\n",
       "       0.05855689, 0.06025751, 0.09318551, 0.09466389, 0.0987565 ,\n",
       "       0.0809627 , 0.08703865, 0.05875909, 0.09678295, 0.07238024,\n",
       "       0.08491118, 0.08259682, 0.08947719, 0.07352951, 0.08518002,\n",
       "       0.08211768, 0.08717674, 0.06903958, 0.08823513, 0.07098581,\n",
       "       0.07686081, 0.07546164, 0.08419462, 0.0886693 , 0.08118536,\n",
       "       0.12235783, 0.08114396, 0.08747868, 0.07037993, 0.0709467 ,\n",
       "       0.0705234 , 0.08181938, 0.10080393, 0.07764658, 0.08337857,\n",
       "       0.09647989, 0.07985507, 0.09574361, 0.07961817, 0.08268589,\n",
       "       0.065904  , 0.06944272, 0.07764342, 0.08818167, 0.08658068,\n",
       "       0.07758308, 0.07256659, 0.08603473, 0.07360094, 0.09594413,\n",
       "       0.07466754, 0.08829215, 0.07815925, 0.08677094, 0.08418765,\n",
       "       0.07019097, 0.07790394, 0.07582809, 0.09406507, 0.07897373,\n",
       "       0.09264169, 0.09502167, 0.06979502, 0.08054196, 0.11862379,\n",
       "       0.06616831, 0.06379433, 0.07339717, 0.09492782, 0.07299889,\n",
       "       0.07875375, 0.08317413, 0.06744844, 0.07906487, 0.05767056,\n",
       "       0.08349124, 0.06964493, 0.07283436, 0.07968088, 0.07933677,\n",
       "       0.08517557, 0.07304023, 0.0843224 , 0.07684526, 0.08728403,\n",
       "       0.05468393, 0.09800743, 0.08121098, 0.0843036 , 0.08119032,\n",
       "       0.08547381, 0.08736109, 0.07153596, 0.09278691, 0.07063397,\n",
       "       0.10643243, 0.08324524, 0.08094583, 0.08171806, 0.07119792,\n",
       "       0.06826968, 0.08564838, 0.07463993, 0.07171347, 0.08130827,\n",
       "       0.07785758, 0.07400769, 0.07367276, 0.07244396, 0.08251284,\n",
       "       0.09469377, 0.09834603, 0.08868046, 0.10234026, 0.08042965,\n",
       "       0.09508291, 0.08829053, 0.09869704, 0.08035274, 0.08596188,\n",
       "       0.06528339, 0.08398623, 0.09027293, 0.07254645, 0.06968767,\n",
       "       0.09845457, 0.09593373, 0.09204622, 0.06650856, 0.07741181,\n",
       "       0.09108006, 0.08528083, 0.08940988, 0.09747975, 0.07545401,\n",
       "       0.08295206, 0.08499297, 0.08772833, 0.07483293, 0.07766852,\n",
       "       0.08014086, 0.06999154, 0.08493652, 0.10201157, 0.09498545,\n",
       "       0.08558403, 0.0661019 , 0.05968245, 0.08334924, 0.07091402,\n",
       "       0.07870843, 0.08576179, 0.05983771, 0.08413577, 0.08725881,\n",
       "       0.07615848, 0.10104848, 0.08872145, 0.07603959, 0.08428393])"
      ]
     },
     "execution_count": 132,
     "metadata": {},
     "output_type": "execute_result"
    }
   ],
   "source": [
    "# Generate an array of random numbers from a uniform distribution with a shape of (1000, 50)\n",
    "# Calculate the variance of each row\n",
    "M2 = np.random.rand(1000, 50)\n",
    "np.var(M2, axis=1)"
   ]
  },
  {
   "cell_type": "code",
   "execution_count": 133,
   "id": "920b3c93-8930-4c8c-a5a7-a0a891f25620",
   "metadata": {},
   "outputs": [
    {
     "data": {
      "text/plain": [
       "(np.float64(-0.045256707490195384),\n",
       " np.float64(0.9870331586690257),\n",
       " np.float64(-3.0461430547999266),\n",
       " np.float64(2.759355114021582))"
      ]
     },
     "execution_count": 133,
     "metadata": {},
     "output_type": "execute_result"
    }
   ],
   "source": [
    "# Generate an array of 1000 random numbers from a normal distribution (np.random.randn).\n",
    "# Compute its mean, standard deviation, min, and max.\n",
    "np.random.seed(0)\n",
    "M3 = np.random.randn(1000)\n",
    "\n",
    "mean = np.mean(M3)\n",
    "std = np.std(M3)\n",
    "min_ = np.min(M3)\n",
    "max_= np.max(M3)\n",
    "\n",
    "mean, std, min_, max_"
   ]
  },
  {
   "cell_type": "code",
   "execution_count": 136,
   "id": "ca43c910-8eea-431c-8fde-02b518755246",
   "metadata": {},
   "outputs": [
    {
     "data": {
      "text/plain": [
       "699"
      ]
     },
     "execution_count": 136,
     "metadata": {},
     "output_type": "execute_result"
    }
   ],
   "source": [
    "# Count how many numbers are between -1 and 1.\n",
    "M3[(M3 > -1) & (M3 < 1)].shape[0]"
   ]
  },
  {
   "cell_type": "code",
   "execution_count": 137,
   "id": "e5e5051c-88f6-40dd-87c9-99aa932ce69d",
   "metadata": {},
   "outputs": [
    {
     "name": "stdout",
     "output_type": "stream",
     "text": [
      "Average age: 39.52472914435385\n",
      "Average height: 178.26868051742613\n",
      "Average weight: 76.14055986958195\n",
      "Selected rows:\n",
      " [[ 43.82033522 151.85648019  50.71257576]\n",
      " [ 58.35412621 153.25607343  52.22855555]\n",
      " [ 47.15166975 189.0596422   58.44630579]\n",
      " [ 30.42746301 165.16459607  67.79445773]\n",
      " [ 52.03268742 178.8795045   53.76386399]\n",
      " [ 49.06456505 197.84352846  63.89949724]\n",
      " [ 50.54495073 197.20162332  51.83457089]\n",
      " [ 39.67719543 160.99303883  63.71478519]\n",
      " [ 45.11286037 167.24282933  55.05537453]\n",
      " [ 55.26589235 188.25349746  65.67953059]\n",
      " [ 59.59547793 195.60754765  55.9174717 ]\n",
      " [ 46.78962013 152.47498721  55.09273076]\n",
      " [ 40.42707279 197.2101359   69.83050561]\n",
      " [ 38.56676632 156.58436409  69.85068334]\n",
      " [ 47.58486465 164.24427603  55.19940388]\n",
      " [ 55.00990656 195.82095054  63.57755477]\n",
      " [ 50.29997376 183.89474848  65.99169447]\n",
      " [ 52.8800065  152.89546384  64.56944103]\n",
      " [ 33.72538732 167.69095163  68.91339086]\n",
      " [ 59.29754433 151.52132577  59.68116452]\n",
      " [ 36.76531946 191.84951826  61.09120153]\n",
      " [ 42.7238105  152.2755357   59.89914   ]\n",
      " [ 50.36285059 195.41241896  57.51748784]\n",
      " [ 44.90371293 184.43241585  52.12272444]\n",
      " [ 39.60817433 177.34340894  67.00503731]\n",
      " [ 31.34053868 166.447688    50.98458214]\n",
      " [ 49.09458226 191.05075976  68.65272647]\n",
      " [ 35.52799197 169.15331798  69.65612076]]\n"
     ]
    }
   ],
   "source": [
    "# Generate a fake dataset with shape (100, 3) using np.random.rand (values between 0 and 1).\n",
    "# -> Column 1 = Age (scale to 18–60).\n",
    "# -> Column 2 = Height (scale to 150–200).\n",
    "# -> Column 3 = Weight (scale to 50–100).\n",
    "# Compute the average age, height, and weight.\n",
    "# Select all rows where age > 30 and weight < 70.\n",
    "\n",
    "\n",
    "# 1. Generate raw random values in [0,1)\n",
    "data = np.random.rand(100, 3)\n",
    "\n",
    "# 2. Scale each column to the desired range\n",
    "# Age: 18–60  -> 18 + (rand * 42)\n",
    "# Height: 150–200 -> 150 + (rand * 50)\n",
    "# Weight: 50–100 -> 50 + (rand * 50)\n",
    "data[:, 0] = 18 + data[:, 0] * (60 - 18)   # Age\n",
    "data[:, 1] = 150 + data[:, 1] * (200 - 150)  # Height\n",
    "data[:, 2] = 50 + data[:, 2] * (100 - 50)    # Weight\n",
    "\n",
    "# 3. Compute averages\n",
    "avg_age, avg_height, avg_weight = np.mean(data, axis=0)\n",
    "\n",
    "print(\"Average age:\", avg_age)\n",
    "print(\"Average height:\", avg_height)\n",
    "print(\"Average weight:\", avg_weight)\n",
    "\n",
    "# 4. Select rows where age > 30 and weight < 70\n",
    "mask = (data[:, 0] > 30) & (data[:, 2] < 70)\n",
    "selected_rows = data[mask]\n",
    "\n",
    "print(\"Selected rows:\\n\", selected_rows)"
   ]
  },
  {
   "cell_type": "markdown",
   "id": "58ea22d8-b587-40ec-a155-70b4c626dc9d",
   "metadata": {},
   "source": [
    "# Pandas\n",
    "\n",
    "What is Pandas?\n",
    "- Library for working with tabular data (like spreadsheets or SQL tables).\n",
    "- Provides `Series` (1D) and `DataFrame` (2D)."
   ]
  },
  {
   "cell_type": "code",
   "execution_count": 141,
   "id": "518880ac-e4d9-40cc-ab18-17ba3f77f0df",
   "metadata": {},
   "outputs": [],
   "source": [
    "import pandas as pd"
   ]
  },
  {
   "cell_type": "markdown",
   "id": "81649b37-2592-4978-8ec5-c4a40b3e6909",
   "metadata": {},
   "source": [
    "## DataFrame Creation"
   ]
  },
  {
   "cell_type": "code",
   "execution_count": 142,
   "id": "d68d5742-0114-45ec-8222-e8c63e4c355d",
   "metadata": {},
   "outputs": [
    {
     "data": {
      "text/html": [
       "<div>\n",
       "<style scoped>\n",
       "    .dataframe tbody tr th:only-of-type {\n",
       "        vertical-align: middle;\n",
       "    }\n",
       "\n",
       "    .dataframe tbody tr th {\n",
       "        vertical-align: top;\n",
       "    }\n",
       "\n",
       "    .dataframe thead th {\n",
       "        text-align: right;\n",
       "    }\n",
       "</style>\n",
       "<table border=\"1\" class=\"dataframe\">\n",
       "  <thead>\n",
       "    <tr style=\"text-align: right;\">\n",
       "      <th></th>\n",
       "      <th>names</th>\n",
       "      <th>age</th>\n",
       "      <th>height</th>\n",
       "      <th>salery</th>\n",
       "    </tr>\n",
       "  </thead>\n",
       "  <tbody>\n",
       "    <tr>\n",
       "      <th>0</th>\n",
       "      <td>John</td>\n",
       "      <td>51</td>\n",
       "      <td>171</td>\n",
       "      <td>500</td>\n",
       "    </tr>\n",
       "    <tr>\n",
       "      <th>1</th>\n",
       "      <td>Angela</td>\n",
       "      <td>22</td>\n",
       "      <td>165</td>\n",
       "      <td>600</td>\n",
       "    </tr>\n",
       "    <tr>\n",
       "      <th>2</th>\n",
       "      <td>Mike</td>\n",
       "      <td>30</td>\n",
       "      <td>188</td>\n",
       "      <td>700</td>\n",
       "    </tr>\n",
       "    <tr>\n",
       "      <th>3</th>\n",
       "      <td>Gustave</td>\n",
       "      <td>17</td>\n",
       "      <td>155</td>\n",
       "      <td>150</td>\n",
       "    </tr>\n",
       "    <tr>\n",
       "      <th>4</th>\n",
       "      <td>Emili</td>\n",
       "      <td>25</td>\n",
       "      <td>160</td>\n",
       "      <td>650</td>\n",
       "    </tr>\n",
       "  </tbody>\n",
       "</table>\n",
       "</div>"
      ],
      "text/plain": [
       "     names  age  height  salery\n",
       "0     John   51     171     500\n",
       "1   Angela   22     165     600\n",
       "2     Mike   30     188     700\n",
       "3  Gustave   17     155     150\n",
       "4    Emili   25     160     650"
      ]
     },
     "execution_count": 142,
     "metadata": {},
     "output_type": "execute_result"
    }
   ],
   "source": [
    "# from dictionary\n",
    "input_data = {\n",
    "    \"names\": [\"John\", \"Angela\", \"Mike\", \"Gustave\", \"Emili\"],\n",
    "    \"age\": [51, 22, 30, 17, 25],\n",
    "    \"height\": [171, 165, 188, 155, 160],\n",
    "    \"salery\": [500, 600, 700, 150, 650]\n",
    "}\n",
    "# the keys will be the column names and the lists will be the values for each row\n",
    "df = pd.DataFrame(data=input_data)\n",
    "df"
   ]
  },
  {
   "cell_type": "code",
   "execution_count": 143,
   "id": "468a52e7-6fca-4648-bacf-6a9591896e57",
   "metadata": {},
   "outputs": [
    {
     "data": {
      "text/html": [
       "<div>\n",
       "<style scoped>\n",
       "    .dataframe tbody tr th:only-of-type {\n",
       "        vertical-align: middle;\n",
       "    }\n",
       "\n",
       "    .dataframe tbody tr th {\n",
       "        vertical-align: top;\n",
       "    }\n",
       "\n",
       "    .dataframe thead th {\n",
       "        text-align: right;\n",
       "    }\n",
       "</style>\n",
       "<table border=\"1\" class=\"dataframe\">\n",
       "  <thead>\n",
       "    <tr style=\"text-align: right;\">\n",
       "      <th></th>\n",
       "      <th>names</th>\n",
       "      <th>age</th>\n",
       "      <th>height</th>\n",
       "      <th>salery</th>\n",
       "    </tr>\n",
       "  </thead>\n",
       "  <tbody>\n",
       "    <tr>\n",
       "      <th>0</th>\n",
       "      <td>John</td>\n",
       "      <td>51</td>\n",
       "      <td>171</td>\n",
       "      <td>500</td>\n",
       "    </tr>\n",
       "    <tr>\n",
       "      <th>1</th>\n",
       "      <td>Angela</td>\n",
       "      <td>22</td>\n",
       "      <td>165</td>\n",
       "      <td>600</td>\n",
       "    </tr>\n",
       "    <tr>\n",
       "      <th>2</th>\n",
       "      <td>Mike</td>\n",
       "      <td>30</td>\n",
       "      <td>188</td>\n",
       "      <td>700</td>\n",
       "    </tr>\n",
       "    <tr>\n",
       "      <th>3</th>\n",
       "      <td>Gustave</td>\n",
       "      <td>17</td>\n",
       "      <td>155</td>\n",
       "      <td>150</td>\n",
       "    </tr>\n",
       "    <tr>\n",
       "      <th>4</th>\n",
       "      <td>Emili</td>\n",
       "      <td>25</td>\n",
       "      <td>160</td>\n",
       "      <td>650</td>\n",
       "    </tr>\n",
       "  </tbody>\n",
       "</table>\n",
       "</div>"
      ],
      "text/plain": [
       "     names age height salery\n",
       "0     John  51    171    500\n",
       "1   Angela  22    165    600\n",
       "2     Mike  30    188    700\n",
       "3  Gustave  17    155    150\n",
       "4    Emili  25    160    650"
      ]
     },
     "execution_count": 143,
     "metadata": {},
     "output_type": "execute_result"
    }
   ],
   "source": [
    "# from numpy\n",
    "input_data = np.array(\n",
    "    [\n",
    "        [\"John\", \"Angela\", \"Mike\", \"Gustave\", \"Emili\"],\n",
    "        [51, 22, 30, 17, 25],\n",
    "        [171, 165, 188, 155, 160],\n",
    "        [500, 600, 700, 150, 650]\n",
    "    ]\n",
    ")\n",
    "\n",
    "column_names = [\"names\", \"age\", \"height\", \"salery\"]\n",
    "\n",
    "# we have to provide the column names explicitly\n",
    "# note that, I used a transposition so that each feature align with the columns\n",
    "df = pd.DataFrame(data=input_data.T, columns=column_names)\n",
    "df"
   ]
  },
  {
   "cell_type": "code",
   "execution_count": 144,
   "id": "b24f178b-b09d-458f-abe2-76d1b7becc03",
   "metadata": {},
   "outputs": [
    {
     "data": {
      "text/html": [
       "<div>\n",
       "<style scoped>\n",
       "    .dataframe tbody tr th:only-of-type {\n",
       "        vertical-align: middle;\n",
       "    }\n",
       "\n",
       "    .dataframe tbody tr th {\n",
       "        vertical-align: top;\n",
       "    }\n",
       "\n",
       "    .dataframe thead th {\n",
       "        text-align: right;\n",
       "    }\n",
       "</style>\n",
       "<table border=\"1\" class=\"dataframe\">\n",
       "  <thead>\n",
       "    <tr style=\"text-align: right;\">\n",
       "      <th></th>\n",
       "      <th>season</th>\n",
       "      <th>yr</th>\n",
       "      <th>mnth</th>\n",
       "      <th>holiday</th>\n",
       "      <th>weekday</th>\n",
       "      <th>workingday</th>\n",
       "      <th>weathersit</th>\n",
       "      <th>temp</th>\n",
       "      <th>atemp</th>\n",
       "      <th>hum</th>\n",
       "      <th>windspeed</th>\n",
       "      <th>cnt</th>\n",
       "    </tr>\n",
       "  </thead>\n",
       "  <tbody>\n",
       "    <tr>\n",
       "      <th>0</th>\n",
       "      <td>spring</td>\n",
       "      <td>2011</td>\n",
       "      <td>january</td>\n",
       "      <td>0.0</td>\n",
       "      <td>6.0</td>\n",
       "      <td>0.0</td>\n",
       "      <td>2.0</td>\n",
       "      <td>24.175849</td>\n",
       "      <td>39.999250</td>\n",
       "      <td>80.5833</td>\n",
       "      <td>10.749882</td>\n",
       "      <td>985.0</td>\n",
       "    </tr>\n",
       "    <tr>\n",
       "      <th>1</th>\n",
       "      <td>spring</td>\n",
       "      <td>2011</td>\n",
       "      <td>january</td>\n",
       "      <td>0.0</td>\n",
       "      <td>0.0</td>\n",
       "      <td>0.0</td>\n",
       "      <td>2.0</td>\n",
       "      <td>25.083466</td>\n",
       "      <td>39.346774</td>\n",
       "      <td>69.6087</td>\n",
       "      <td>16.652113</td>\n",
       "      <td>801.0</td>\n",
       "    </tr>\n",
       "    <tr>\n",
       "      <th>2</th>\n",
       "      <td>spring</td>\n",
       "      <td>2011</td>\n",
       "      <td>january</td>\n",
       "      <td>0.0</td>\n",
       "      <td>1.0</td>\n",
       "      <td>1.0</td>\n",
       "      <td>1.0</td>\n",
       "      <td>17.229108</td>\n",
       "      <td>28.500730</td>\n",
       "      <td>43.7273</td>\n",
       "      <td>16.636703</td>\n",
       "      <td>1349.0</td>\n",
       "    </tr>\n",
       "    <tr>\n",
       "      <th>3</th>\n",
       "      <td>spring</td>\n",
       "      <td>2011</td>\n",
       "      <td>january</td>\n",
       "      <td>0.0</td>\n",
       "      <td>2.0</td>\n",
       "      <td>1.0</td>\n",
       "      <td>1.0</td>\n",
       "      <td>17.400000</td>\n",
       "      <td>30.000052</td>\n",
       "      <td>59.0435</td>\n",
       "      <td>10.739832</td>\n",
       "      <td>1562.0</td>\n",
       "    </tr>\n",
       "    <tr>\n",
       "      <th>4</th>\n",
       "      <td>spring</td>\n",
       "      <td>2011</td>\n",
       "      <td>january</td>\n",
       "      <td>0.0</td>\n",
       "      <td>3.0</td>\n",
       "      <td>1.0</td>\n",
       "      <td>1.0</td>\n",
       "      <td>18.666979</td>\n",
       "      <td>31.131820</td>\n",
       "      <td>43.6957</td>\n",
       "      <td>12.522300</td>\n",
       "      <td>1600.0</td>\n",
       "    </tr>\n",
       "    <tr>\n",
       "      <th>...</th>\n",
       "      <td>...</td>\n",
       "      <td>...</td>\n",
       "      <td>...</td>\n",
       "      <td>...</td>\n",
       "      <td>...</td>\n",
       "      <td>...</td>\n",
       "      <td>...</td>\n",
       "      <td>...</td>\n",
       "      <td>...</td>\n",
       "      <td>...</td>\n",
       "      <td>...</td>\n",
       "      <td>...</td>\n",
       "    </tr>\n",
       "    <tr>\n",
       "      <th>726</th>\n",
       "      <td>spring</td>\n",
       "      <td>2012</td>\n",
       "      <td>december</td>\n",
       "      <td>0.0</td>\n",
       "      <td>4.0</td>\n",
       "      <td>1.0</td>\n",
       "      <td>2.0</td>\n",
       "      <td>19.945849</td>\n",
       "      <td>30.958372</td>\n",
       "      <td>65.2917</td>\n",
       "      <td>23.458911</td>\n",
       "      <td>2114.0</td>\n",
       "    </tr>\n",
       "    <tr>\n",
       "      <th>727</th>\n",
       "      <td>spring</td>\n",
       "      <td>2012</td>\n",
       "      <td>december</td>\n",
       "      <td>0.0</td>\n",
       "      <td>5.0</td>\n",
       "      <td>1.0</td>\n",
       "      <td>2.0</td>\n",
       "      <td>19.906651</td>\n",
       "      <td>32.833036</td>\n",
       "      <td>59.0000</td>\n",
       "      <td>10.416557</td>\n",
       "      <td>3095.0</td>\n",
       "    </tr>\n",
       "    <tr>\n",
       "      <th>728</th>\n",
       "      <td>spring</td>\n",
       "      <td>2012</td>\n",
       "      <td>december</td>\n",
       "      <td>0.0</td>\n",
       "      <td>6.0</td>\n",
       "      <td>0.0</td>\n",
       "      <td>2.0</td>\n",
       "      <td>19.906651</td>\n",
       "      <td>31.998400</td>\n",
       "      <td>75.2917</td>\n",
       "      <td>8.333661</td>\n",
       "      <td>1341.0</td>\n",
       "    </tr>\n",
       "    <tr>\n",
       "      <th>729</th>\n",
       "      <td>spring</td>\n",
       "      <td>2012</td>\n",
       "      <td>december</td>\n",
       "      <td>0.0</td>\n",
       "      <td>0.0</td>\n",
       "      <td>0.0</td>\n",
       "      <td>1.0</td>\n",
       "      <td>20.024151</td>\n",
       "      <td>31.292200</td>\n",
       "      <td>48.3333</td>\n",
       "      <td>23.500518</td>\n",
       "      <td>1796.0</td>\n",
       "    </tr>\n",
       "    <tr>\n",
       "      <th>730</th>\n",
       "      <td>spring</td>\n",
       "      <td>2012</td>\n",
       "      <td>december</td>\n",
       "      <td>0.0</td>\n",
       "      <td>1.0</td>\n",
       "      <td>1.0</td>\n",
       "      <td>2.0</td>\n",
       "      <td>18.144151</td>\n",
       "      <td>30.750142</td>\n",
       "      <td>57.7500</td>\n",
       "      <td>10.374682</td>\n",
       "      <td>2729.0</td>\n",
       "    </tr>\n",
       "  </tbody>\n",
       "</table>\n",
       "<p>731 rows × 12 columns</p>\n",
       "</div>"
      ],
      "text/plain": [
       "     season    yr      mnth  holiday  weekday  workingday  weathersit  \\\n",
       "0    spring  2011   january      0.0      6.0         0.0         2.0   \n",
       "1    spring  2011   january      0.0      0.0         0.0         2.0   \n",
       "2    spring  2011   january      0.0      1.0         1.0         1.0   \n",
       "3    spring  2011   january      0.0      2.0         1.0         1.0   \n",
       "4    spring  2011   january      0.0      3.0         1.0         1.0   \n",
       "..      ...   ...       ...      ...      ...         ...         ...   \n",
       "726  spring  2012  december      0.0      4.0         1.0         2.0   \n",
       "727  spring  2012  december      0.0      5.0         1.0         2.0   \n",
       "728  spring  2012  december      0.0      6.0         0.0         2.0   \n",
       "729  spring  2012  december      0.0      0.0         0.0         1.0   \n",
       "730  spring  2012  december      0.0      1.0         1.0         2.0   \n",
       "\n",
       "          temp      atemp      hum  windspeed     cnt  \n",
       "0    24.175849  39.999250  80.5833  10.749882   985.0  \n",
       "1    25.083466  39.346774  69.6087  16.652113   801.0  \n",
       "2    17.229108  28.500730  43.7273  16.636703  1349.0  \n",
       "3    17.400000  30.000052  59.0435  10.739832  1562.0  \n",
       "4    18.666979  31.131820  43.6957  12.522300  1600.0  \n",
       "..         ...        ...      ...        ...     ...  \n",
       "726  19.945849  30.958372  65.2917  23.458911  2114.0  \n",
       "727  19.906651  32.833036  59.0000  10.416557  3095.0  \n",
       "728  19.906651  31.998400  75.2917   8.333661  1341.0  \n",
       "729  20.024151  31.292200  48.3333  23.500518  1796.0  \n",
       "730  18.144151  30.750142  57.7500  10.374682  2729.0  \n",
       "\n",
       "[731 rows x 12 columns]"
      ]
     },
     "execution_count": 144,
     "metadata": {},
     "output_type": "execute_result"
    }
   ],
   "source": [
    "# we can simply read different file formats where we only have to provide a path or a link\n",
    "# CSV: read_csv, if we provide sep='\\t' then it can read TSV files\n",
    "# Excel: read_excel\n",
    "# JSON: read_json\n",
    "# XML: read_xml\n",
    "# ...\n",
    "# check the API references for more\n",
    "\n",
    "# for now we are going to read the bike rental dataset\n",
    "df = pd.read_csv(\"https://github.com/ficstamas/data-mining/raw/b76d5b7913c446878fa47de8861c83e26780828f/data/rental.csv\", index_col=0)\n",
    "df"
   ]
  },
  {
   "cell_type": "code",
   "execution_count": 145,
   "id": "84298f73-943e-49fb-a375-ce2147f27873",
   "metadata": {},
   "outputs": [
    {
     "data": {
      "text/plain": [
       "Index(['season', 'yr', 'mnth', 'holiday', 'weekday', 'workingday',\n",
       "       'weathersit', 'temp', 'atemp', 'hum', 'windspeed', 'cnt'],\n",
       "      dtype='object')"
      ]
     },
     "execution_count": 145,
     "metadata": {},
     "output_type": "execute_result"
    }
   ],
   "source": [
    "# we can access the names of columns sa\n",
    "df.columns"
   ]
  },
  {
   "cell_type": "code",
   "execution_count": 146,
   "id": "1753636a-c774-40da-a14e-8038d42afca2",
   "metadata": {},
   "outputs": [
    {
     "data": {
      "text/plain": [
       "0      24.175849\n",
       "1      25.083466\n",
       "2      17.229108\n",
       "3      17.400000\n",
       "4      18.666979\n",
       "         ...    \n",
       "726    19.945849\n",
       "727    19.906651\n",
       "728    19.906651\n",
       "729    20.024151\n",
       "730    18.144151\n",
       "Name: temp, Length: 731, dtype: float64"
      ]
     },
     "execution_count": 146,
     "metadata": {},
     "output_type": "execute_result"
    }
   ],
   "source": [
    "# to access a column\n",
    "df[\"temp\"]  # or df.temp"
   ]
  },
  {
   "cell_type": "code",
   "execution_count": 147,
   "id": "eafcd7a4-7c6f-435c-acdd-e9d4e034d47f",
   "metadata": {},
   "outputs": [
    {
     "data": {
      "text/plain": [
       "season           spring\n",
       "yr                 2011\n",
       "mnth            january\n",
       "holiday             0.0\n",
       "weekday             6.0\n",
       "workingday          0.0\n",
       "weathersit          2.0\n",
       "temp          24.175849\n",
       "atemp          39.99925\n",
       "hum             80.5833\n",
       "windspeed     10.749882\n",
       "cnt               985.0\n",
       "Name: 0, dtype: object"
      ]
     },
     "execution_count": 147,
     "metadata": {},
     "output_type": "execute_result"
    }
   ],
   "source": [
    "# there are two ways select a row from a dataframe\n",
    "df.iloc[0]  # selects the row that is the 0th in order"
   ]
  },
  {
   "cell_type": "code",
   "execution_count": 148,
   "id": "78bf0be9-d01c-4787-ad4d-f28418a00d99",
   "metadata": {},
   "outputs": [
    {
     "data": {
      "text/plain": [
       "season           spring\n",
       "yr                 2011\n",
       "mnth            january\n",
       "holiday             0.0\n",
       "weekday             6.0\n",
       "workingday          0.0\n",
       "weathersit          2.0\n",
       "temp          24.175849\n",
       "atemp          39.99925\n",
       "hum             80.5833\n",
       "windspeed     10.749882\n",
       "cnt               985.0\n",
       "Name: 0, dtype: object"
      ]
     },
     "execution_count": 148,
     "metadata": {},
     "output_type": "execute_result"
    }
   ],
   "source": [
    "df.loc[0]  # selects the row that has the index of 0 (left column of the dataframe), this will be the same in this case"
   ]
  },
  {
   "cell_type": "code",
   "execution_count": 149,
   "id": "d4bd8bf7-494b-49df-afc2-8a32d15b3f59",
   "metadata": {},
   "outputs": [
    {
     "data": {
      "text/html": [
       "<div>\n",
       "<style scoped>\n",
       "    .dataframe tbody tr th:only-of-type {\n",
       "        vertical-align: middle;\n",
       "    }\n",
       "\n",
       "    .dataframe tbody tr th {\n",
       "        vertical-align: top;\n",
       "    }\n",
       "\n",
       "    .dataframe thead th {\n",
       "        text-align: right;\n",
       "    }\n",
       "</style>\n",
       "<table border=\"1\" class=\"dataframe\">\n",
       "  <thead>\n",
       "    <tr style=\"text-align: right;\">\n",
       "      <th></th>\n",
       "      <th>season</th>\n",
       "      <th>yr</th>\n",
       "      <th>mnth</th>\n",
       "      <th>holiday</th>\n",
       "      <th>weekday</th>\n",
       "      <th>workingday</th>\n",
       "      <th>weathersit</th>\n",
       "      <th>temp</th>\n",
       "      <th>atemp</th>\n",
       "      <th>hum</th>\n",
       "      <th>windspeed</th>\n",
       "      <th>cnt</th>\n",
       "    </tr>\n",
       "  </thead>\n",
       "  <tbody>\n",
       "    <tr>\n",
       "      <th>196</th>\n",
       "      <td>fall</td>\n",
       "      <td>2011</td>\n",
       "      <td>july</td>\n",
       "      <td>0.0</td>\n",
       "      <td>6.0</td>\n",
       "      <td>0.0</td>\n",
       "      <td>1.0</td>\n",
       "      <td>40.273349</td>\n",
       "      <td>58.125358</td>\n",
       "      <td>58.5000</td>\n",
       "      <td>13.958914</td>\n",
       "      <td>5923.0</td>\n",
       "    </tr>\n",
       "    <tr>\n",
       "      <th>187</th>\n",
       "      <td>fall</td>\n",
       "      <td>2011</td>\n",
       "      <td>july</td>\n",
       "      <td>0.0</td>\n",
       "      <td>4.0</td>\n",
       "      <td>1.0</td>\n",
       "      <td>1.0</td>\n",
       "      <td>43.250000</td>\n",
       "      <td>61.333486</td>\n",
       "      <td>65.1250</td>\n",
       "      <td>10.666400</td>\n",
       "      <td>4592.0</td>\n",
       "    </tr>\n",
       "    <tr>\n",
       "      <th>14</th>\n",
       "      <td>spring</td>\n",
       "      <td>2011</td>\n",
       "      <td>january</td>\n",
       "      <td>0.0</td>\n",
       "      <td>6.0</td>\n",
       "      <td>0.0</td>\n",
       "      <td>2.0</td>\n",
       "      <td>18.966651</td>\n",
       "      <td>32.375392</td>\n",
       "      <td>49.8750</td>\n",
       "      <td>10.583521</td>\n",
       "      <td>1248.0</td>\n",
       "    </tr>\n",
       "    <tr>\n",
       "      <th>31</th>\n",
       "      <td>spring</td>\n",
       "      <td>2011</td>\n",
       "      <td>february</td>\n",
       "      <td>0.0</td>\n",
       "      <td>2.0</td>\n",
       "      <td>1.0</td>\n",
       "      <td>2.0</td>\n",
       "      <td>17.032178</td>\n",
       "      <td>31.478980</td>\n",
       "      <td>82.9565</td>\n",
       "      <td>3.565271</td>\n",
       "      <td>1360.0</td>\n",
       "    </tr>\n",
       "    <tr>\n",
       "      <th>390</th>\n",
       "      <td>spring</td>\n",
       "      <td>2012</td>\n",
       "      <td>january</td>\n",
       "      <td>0.0</td>\n",
       "      <td>4.0</td>\n",
       "      <td>1.0</td>\n",
       "      <td>2.0</td>\n",
       "      <td>24.058349</td>\n",
       "      <td>39.499300</td>\n",
       "      <td>76.9583</td>\n",
       "      <td>4.917519</td>\n",
       "      <td>4075.0</td>\n",
       "    </tr>\n",
       "    <tr>\n",
       "      <th>319</th>\n",
       "      <td>winter</td>\n",
       "      <td>2011</td>\n",
       "      <td>november</td>\n",
       "      <td>0.0</td>\n",
       "      <td>3.0</td>\n",
       "      <td>1.0</td>\n",
       "      <td>3.0</td>\n",
       "      <td>29.463349</td>\n",
       "      <td>45.831208</td>\n",
       "      <td>93.0000</td>\n",
       "      <td>9.167543</td>\n",
       "      <td>1817.0</td>\n",
       "    </tr>\n",
       "    <tr>\n",
       "      <th>299</th>\n",
       "      <td>winter</td>\n",
       "      <td>2011</td>\n",
       "      <td>october</td>\n",
       "      <td>0.0</td>\n",
       "      <td>4.0</td>\n",
       "      <td>1.0</td>\n",
       "      <td>2.0</td>\n",
       "      <td>30.090000</td>\n",
       "      <td>46.165036</td>\n",
       "      <td>81.2917</td>\n",
       "      <td>13.250121</td>\n",
       "      <td>2659.0</td>\n",
       "    </tr>\n",
       "    <tr>\n",
       "      <th>702</th>\n",
       "      <td>winter</td>\n",
       "      <td>2012</td>\n",
       "      <td>december</td>\n",
       "      <td>0.0</td>\n",
       "      <td>1.0</td>\n",
       "      <td>1.0</td>\n",
       "      <td>1.0</td>\n",
       "      <td>29.267500</td>\n",
       "      <td>46.082536</td>\n",
       "      <td>76.7500</td>\n",
       "      <td>5.542294</td>\n",
       "      <td>6234.0</td>\n",
       "    </tr>\n",
       "    <tr>\n",
       "      <th>462</th>\n",
       "      <td>summer</td>\n",
       "      <td>2012</td>\n",
       "      <td>april</td>\n",
       "      <td>0.0</td>\n",
       "      <td>6.0</td>\n",
       "      <td>0.0</td>\n",
       "      <td>1.0</td>\n",
       "      <td>28.562500</td>\n",
       "      <td>44.124514</td>\n",
       "      <td>25.4167</td>\n",
       "      <td>18.416357</td>\n",
       "      <td>6857.0</td>\n",
       "    </tr>\n",
       "    <tr>\n",
       "      <th>27</th>\n",
       "      <td>spring</td>\n",
       "      <td>2011</td>\n",
       "      <td>january</td>\n",
       "      <td>0.0</td>\n",
       "      <td>5.0</td>\n",
       "      <td>1.0</td>\n",
       "      <td>2.0</td>\n",
       "      <td>17.563466</td>\n",
       "      <td>30.738922</td>\n",
       "      <td>79.3043</td>\n",
       "      <td>8.261100</td>\n",
       "      <td>1167.0</td>\n",
       "    </tr>\n",
       "  </tbody>\n",
       "</table>\n",
       "</div>"
      ],
      "text/plain": [
       "     season    yr      mnth  holiday  weekday  workingday  weathersit  \\\n",
       "196    fall  2011      july      0.0      6.0         0.0         1.0   \n",
       "187    fall  2011      july      0.0      4.0         1.0         1.0   \n",
       "14   spring  2011   january      0.0      6.0         0.0         2.0   \n",
       "31   spring  2011  february      0.0      2.0         1.0         2.0   \n",
       "390  spring  2012   january      0.0      4.0         1.0         2.0   \n",
       "319  winter  2011  november      0.0      3.0         1.0         3.0   \n",
       "299  winter  2011   october      0.0      4.0         1.0         2.0   \n",
       "702  winter  2012  december      0.0      1.0         1.0         1.0   \n",
       "462  summer  2012     april      0.0      6.0         0.0         1.0   \n",
       "27   spring  2011   january      0.0      5.0         1.0         2.0   \n",
       "\n",
       "          temp      atemp      hum  windspeed     cnt  \n",
       "196  40.273349  58.125358  58.5000  13.958914  5923.0  \n",
       "187  43.250000  61.333486  65.1250  10.666400  4592.0  \n",
       "14   18.966651  32.375392  49.8750  10.583521  1248.0  \n",
       "31   17.032178  31.478980  82.9565   3.565271  1360.0  \n",
       "390  24.058349  39.499300  76.9583   4.917519  4075.0  \n",
       "319  29.463349  45.831208  93.0000   9.167543  1817.0  \n",
       "299  30.090000  46.165036  81.2917  13.250121  2659.0  \n",
       "702  29.267500  46.082536  76.7500   5.542294  6234.0  \n",
       "462  28.562500  44.124514  25.4167  18.416357  6857.0  \n",
       "27   17.563466  30.738922  79.3043   8.261100  1167.0  "
      ]
     },
     "execution_count": 149,
     "metadata": {},
     "output_type": "execute_result"
    }
   ],
   "source": [
    "# it can be better demonstrated if we permute the rows\n",
    "# for demonstration purposes, I'm going to select the first 10 rows and then permute them\n",
    "sub_df = df.sample(n=10, random_state=0)  # .sample will randomly resample the dataframe, n defines the number of samples, random_state defines the random state\n",
    "sub_df"
   ]
  },
  {
   "cell_type": "markdown",
   "id": "3f4b85c1-2788-41d7-bc7a-74dc1cf59e72",
   "metadata": {},
   "source": [
    "## Indexing and Slicing"
   ]
  },
  {
   "cell_type": "code",
   "execution_count": 150,
   "id": "a9e408b2-8a8f-411d-9b4e-ed20aae648d7",
   "metadata": {},
   "outputs": [
    {
     "data": {
      "text/plain": [
       "season             fall\n",
       "yr                 2011\n",
       "mnth               july\n",
       "holiday             0.0\n",
       "weekday             6.0\n",
       "workingday          0.0\n",
       "weathersit          1.0\n",
       "temp          40.273349\n",
       "atemp         58.125358\n",
       "hum                58.5\n",
       "windspeed     13.958914\n",
       "cnt              5923.0\n",
       "Name: 196, dtype: object"
      ]
     },
     "execution_count": 150,
     "metadata": {},
     "output_type": "execute_result"
    }
   ],
   "source": [
    "# sub_df.iloc[0] will return the first row\n",
    "sub_df.iloc[0]"
   ]
  },
  {
   "cell_type": "code",
   "execution_count": 151,
   "id": "34d4c264-b529-4594-910b-588667d91d41",
   "metadata": {},
   "outputs": [
    {
     "data": {
      "text/plain": [
       "season             fall\n",
       "yr                 2011\n",
       "mnth               july\n",
       "holiday             0.0\n",
       "weekday             6.0\n",
       "workingday          0.0\n",
       "weathersit          1.0\n",
       "temp          40.273349\n",
       "atemp         58.125358\n",
       "hum                58.5\n",
       "windspeed     13.958914\n",
       "cnt              5923.0\n",
       "Name: 196, dtype: object"
      ]
     },
     "execution_count": 151,
     "metadata": {},
     "output_type": "execute_result"
    }
   ],
   "source": [
    "# but sub_df.loc[0] will return an error\n",
    "# to get the same element you have to provide the index of the first row\n",
    "sub_df.loc[196]"
   ]
  },
  {
   "cell_type": "code",
   "execution_count": 152,
   "id": "ad8aece1-b81f-4960-bb02-c3e717b89520",
   "metadata": {},
   "outputs": [
    {
     "data": {
      "text/html": [
       "<div>\n",
       "<style scoped>\n",
       "    .dataframe tbody tr th:only-of-type {\n",
       "        vertical-align: middle;\n",
       "    }\n",
       "\n",
       "    .dataframe tbody tr th {\n",
       "        vertical-align: top;\n",
       "    }\n",
       "\n",
       "    .dataframe thead th {\n",
       "        text-align: right;\n",
       "    }\n",
       "</style>\n",
       "<table border=\"1\" class=\"dataframe\">\n",
       "  <thead>\n",
       "    <tr style=\"text-align: right;\">\n",
       "      <th></th>\n",
       "      <th>season</th>\n",
       "      <th>yr</th>\n",
       "      <th>mnth</th>\n",
       "      <th>holiday</th>\n",
       "      <th>weekday</th>\n",
       "      <th>workingday</th>\n",
       "      <th>weathersit</th>\n",
       "      <th>temp</th>\n",
       "      <th>atemp</th>\n",
       "      <th>hum</th>\n",
       "      <th>windspeed</th>\n",
       "      <th>cnt</th>\n",
       "    </tr>\n",
       "  </thead>\n",
       "  <tbody>\n",
       "    <tr>\n",
       "      <th>0</th>\n",
       "      <td>spring</td>\n",
       "      <td>2011</td>\n",
       "      <td>january</td>\n",
       "      <td>0.0</td>\n",
       "      <td>6.0</td>\n",
       "      <td>0.0</td>\n",
       "      <td>2.0</td>\n",
       "      <td>24.175849</td>\n",
       "      <td>39.999250</td>\n",
       "      <td>80.5833</td>\n",
       "      <td>10.749882</td>\n",
       "      <td>985.0</td>\n",
       "    </tr>\n",
       "    <tr>\n",
       "      <th>1</th>\n",
       "      <td>spring</td>\n",
       "      <td>2011</td>\n",
       "      <td>january</td>\n",
       "      <td>0.0</td>\n",
       "      <td>0.0</td>\n",
       "      <td>0.0</td>\n",
       "      <td>2.0</td>\n",
       "      <td>25.083466</td>\n",
       "      <td>39.346774</td>\n",
       "      <td>69.6087</td>\n",
       "      <td>16.652113</td>\n",
       "      <td>801.0</td>\n",
       "    </tr>\n",
       "    <tr>\n",
       "      <th>2</th>\n",
       "      <td>spring</td>\n",
       "      <td>2011</td>\n",
       "      <td>january</td>\n",
       "      <td>0.0</td>\n",
       "      <td>1.0</td>\n",
       "      <td>1.0</td>\n",
       "      <td>1.0</td>\n",
       "      <td>17.229108</td>\n",
       "      <td>28.500730</td>\n",
       "      <td>43.7273</td>\n",
       "      <td>16.636703</td>\n",
       "      <td>1349.0</td>\n",
       "    </tr>\n",
       "    <tr>\n",
       "      <th>3</th>\n",
       "      <td>spring</td>\n",
       "      <td>2011</td>\n",
       "      <td>january</td>\n",
       "      <td>0.0</td>\n",
       "      <td>2.0</td>\n",
       "      <td>1.0</td>\n",
       "      <td>1.0</td>\n",
       "      <td>17.400000</td>\n",
       "      <td>30.000052</td>\n",
       "      <td>59.0435</td>\n",
       "      <td>10.739832</td>\n",
       "      <td>1562.0</td>\n",
       "    </tr>\n",
       "    <tr>\n",
       "      <th>4</th>\n",
       "      <td>spring</td>\n",
       "      <td>2011</td>\n",
       "      <td>january</td>\n",
       "      <td>0.0</td>\n",
       "      <td>3.0</td>\n",
       "      <td>1.0</td>\n",
       "      <td>1.0</td>\n",
       "      <td>18.666979</td>\n",
       "      <td>31.131820</td>\n",
       "      <td>43.6957</td>\n",
       "      <td>12.522300</td>\n",
       "      <td>1600.0</td>\n",
       "    </tr>\n",
       "    <tr>\n",
       "      <th>5</th>\n",
       "      <td>spring</td>\n",
       "      <td>2011</td>\n",
       "      <td>january</td>\n",
       "      <td>0.0</td>\n",
       "      <td>4.0</td>\n",
       "      <td>1.0</td>\n",
       "      <td>1.0</td>\n",
       "      <td>17.604356</td>\n",
       "      <td>31.391794</td>\n",
       "      <td>51.8261</td>\n",
       "      <td>6.000868</td>\n",
       "      <td>1606.0</td>\n",
       "    </tr>\n",
       "    <tr>\n",
       "      <th>6</th>\n",
       "      <td>spring</td>\n",
       "      <td>2011</td>\n",
       "      <td>january</td>\n",
       "      <td>0.0</td>\n",
       "      <td>5.0</td>\n",
       "      <td>1.0</td>\n",
       "      <td>2.0</td>\n",
       "      <td>17.236534</td>\n",
       "      <td>29.783374</td>\n",
       "      <td>49.8696</td>\n",
       "      <td>11.304642</td>\n",
       "      <td>1510.0</td>\n",
       "    </tr>\n",
       "    <tr>\n",
       "      <th>7</th>\n",
       "      <td>spring</td>\n",
       "      <td>2011</td>\n",
       "      <td>january</td>\n",
       "      <td>0.0</td>\n",
       "      <td>6.0</td>\n",
       "      <td>0.0</td>\n",
       "      <td>2.0</td>\n",
       "      <td>15.755000</td>\n",
       "      <td>26.708764</td>\n",
       "      <td>53.5833</td>\n",
       "      <td>17.875868</td>\n",
       "      <td>959.0</td>\n",
       "    </tr>\n",
       "    <tr>\n",
       "      <th>8</th>\n",
       "      <td>spring</td>\n",
       "      <td>2011</td>\n",
       "      <td>january</td>\n",
       "      <td>0.0</td>\n",
       "      <td>0.0</td>\n",
       "      <td>0.0</td>\n",
       "      <td>1.0</td>\n",
       "      <td>14.501651</td>\n",
       "      <td>23.667550</td>\n",
       "      <td>43.4167</td>\n",
       "      <td>24.250650</td>\n",
       "      <td>822.0</td>\n",
       "    </tr>\n",
       "    <tr>\n",
       "      <th>9</th>\n",
       "      <td>spring</td>\n",
       "      <td>2011</td>\n",
       "      <td>january</td>\n",
       "      <td>0.0</td>\n",
       "      <td>1.0</td>\n",
       "      <td>1.0</td>\n",
       "      <td>1.0</td>\n",
       "      <td>15.089151</td>\n",
       "      <td>25.958608</td>\n",
       "      <td>48.2917</td>\n",
       "      <td>14.958889</td>\n",
       "      <td>1321.0</td>\n",
       "    </tr>\n",
       "  </tbody>\n",
       "</table>\n",
       "</div>"
      ],
      "text/plain": [
       "   season    yr     mnth  holiday  weekday  workingday  weathersit       temp  \\\n",
       "0  spring  2011  january      0.0      6.0         0.0         2.0  24.175849   \n",
       "1  spring  2011  january      0.0      0.0         0.0         2.0  25.083466   \n",
       "2  spring  2011  january      0.0      1.0         1.0         1.0  17.229108   \n",
       "3  spring  2011  january      0.0      2.0         1.0         1.0  17.400000   \n",
       "4  spring  2011  january      0.0      3.0         1.0         1.0  18.666979   \n",
       "5  spring  2011  january      0.0      4.0         1.0         1.0  17.604356   \n",
       "6  spring  2011  january      0.0      5.0         1.0         2.0  17.236534   \n",
       "7  spring  2011  january      0.0      6.0         0.0         2.0  15.755000   \n",
       "8  spring  2011  january      0.0      0.0         0.0         1.0  14.501651   \n",
       "9  spring  2011  january      0.0      1.0         1.0         1.0  15.089151   \n",
       "\n",
       "       atemp      hum  windspeed     cnt  \n",
       "0  39.999250  80.5833  10.749882   985.0  \n",
       "1  39.346774  69.6087  16.652113   801.0  \n",
       "2  28.500730  43.7273  16.636703  1349.0  \n",
       "3  30.000052  59.0435  10.739832  1562.0  \n",
       "4  31.131820  43.6957  12.522300  1600.0  \n",
       "5  31.391794  51.8261   6.000868  1606.0  \n",
       "6  29.783374  49.8696  11.304642  1510.0  \n",
       "7  26.708764  53.5833  17.875868   959.0  \n",
       "8  23.667550  43.4167  24.250650   822.0  \n",
       "9  25.958608  48.2917  14.958889  1321.0  "
      ]
     },
     "execution_count": 152,
     "metadata": {},
     "output_type": "execute_result"
    }
   ],
   "source": [
    "# we can slice just like as we would do in other libraries\n",
    "df.iloc[:10]"
   ]
  },
  {
   "cell_type": "markdown",
   "id": "67ee51f4-d975-431f-b6d2-fbffc4119f6c",
   "metadata": {},
   "source": [
    "## Inspecting Data"
   ]
  },
  {
   "cell_type": "code",
   "execution_count": 153,
   "id": "9bb7765d-d541-4d9b-be54-f38b38b85bca",
   "metadata": {},
   "outputs": [
    {
     "data": {
      "text/html": [
       "<div>\n",
       "<style scoped>\n",
       "    .dataframe tbody tr th:only-of-type {\n",
       "        vertical-align: middle;\n",
       "    }\n",
       "\n",
       "    .dataframe tbody tr th {\n",
       "        vertical-align: top;\n",
       "    }\n",
       "\n",
       "    .dataframe thead th {\n",
       "        text-align: right;\n",
       "    }\n",
       "</style>\n",
       "<table border=\"1\" class=\"dataframe\">\n",
       "  <thead>\n",
       "    <tr style=\"text-align: right;\">\n",
       "      <th></th>\n",
       "      <th>season</th>\n",
       "      <th>yr</th>\n",
       "      <th>mnth</th>\n",
       "      <th>holiday</th>\n",
       "      <th>weekday</th>\n",
       "      <th>workingday</th>\n",
       "      <th>weathersit</th>\n",
       "      <th>temp</th>\n",
       "      <th>atemp</th>\n",
       "      <th>hum</th>\n",
       "      <th>windspeed</th>\n",
       "      <th>cnt</th>\n",
       "    </tr>\n",
       "  </thead>\n",
       "  <tbody>\n",
       "    <tr>\n",
       "      <th>0</th>\n",
       "      <td>spring</td>\n",
       "      <td>2011</td>\n",
       "      <td>january</td>\n",
       "      <td>0.0</td>\n",
       "      <td>6.0</td>\n",
       "      <td>0.0</td>\n",
       "      <td>2.0</td>\n",
       "      <td>24.175849</td>\n",
       "      <td>39.999250</td>\n",
       "      <td>80.5833</td>\n",
       "      <td>10.749882</td>\n",
       "      <td>985.0</td>\n",
       "    </tr>\n",
       "    <tr>\n",
       "      <th>1</th>\n",
       "      <td>spring</td>\n",
       "      <td>2011</td>\n",
       "      <td>january</td>\n",
       "      <td>0.0</td>\n",
       "      <td>0.0</td>\n",
       "      <td>0.0</td>\n",
       "      <td>2.0</td>\n",
       "      <td>25.083466</td>\n",
       "      <td>39.346774</td>\n",
       "      <td>69.6087</td>\n",
       "      <td>16.652113</td>\n",
       "      <td>801.0</td>\n",
       "    </tr>\n",
       "    <tr>\n",
       "      <th>2</th>\n",
       "      <td>spring</td>\n",
       "      <td>2011</td>\n",
       "      <td>january</td>\n",
       "      <td>0.0</td>\n",
       "      <td>1.0</td>\n",
       "      <td>1.0</td>\n",
       "      <td>1.0</td>\n",
       "      <td>17.229108</td>\n",
       "      <td>28.500730</td>\n",
       "      <td>43.7273</td>\n",
       "      <td>16.636703</td>\n",
       "      <td>1349.0</td>\n",
       "    </tr>\n",
       "    <tr>\n",
       "      <th>3</th>\n",
       "      <td>spring</td>\n",
       "      <td>2011</td>\n",
       "      <td>january</td>\n",
       "      <td>0.0</td>\n",
       "      <td>2.0</td>\n",
       "      <td>1.0</td>\n",
       "      <td>1.0</td>\n",
       "      <td>17.400000</td>\n",
       "      <td>30.000052</td>\n",
       "      <td>59.0435</td>\n",
       "      <td>10.739832</td>\n",
       "      <td>1562.0</td>\n",
       "    </tr>\n",
       "    <tr>\n",
       "      <th>4</th>\n",
       "      <td>spring</td>\n",
       "      <td>2011</td>\n",
       "      <td>january</td>\n",
       "      <td>0.0</td>\n",
       "      <td>3.0</td>\n",
       "      <td>1.0</td>\n",
       "      <td>1.0</td>\n",
       "      <td>18.666979</td>\n",
       "      <td>31.131820</td>\n",
       "      <td>43.6957</td>\n",
       "      <td>12.522300</td>\n",
       "      <td>1600.0</td>\n",
       "    </tr>\n",
       "  </tbody>\n",
       "</table>\n",
       "</div>"
      ],
      "text/plain": [
       "   season    yr     mnth  holiday  weekday  workingday  weathersit       temp  \\\n",
       "0  spring  2011  january      0.0      6.0         0.0         2.0  24.175849   \n",
       "1  spring  2011  january      0.0      0.0         0.0         2.0  25.083466   \n",
       "2  spring  2011  january      0.0      1.0         1.0         1.0  17.229108   \n",
       "3  spring  2011  january      0.0      2.0         1.0         1.0  17.400000   \n",
       "4  spring  2011  january      0.0      3.0         1.0         1.0  18.666979   \n",
       "\n",
       "       atemp      hum  windspeed     cnt  \n",
       "0  39.999250  80.5833  10.749882   985.0  \n",
       "1  39.346774  69.6087  16.652113   801.0  \n",
       "2  28.500730  43.7273  16.636703  1349.0  \n",
       "3  30.000052  59.0435  10.739832  1562.0  \n",
       "4  31.131820  43.6957  12.522300  1600.0  "
      ]
     },
     "execution_count": 153,
     "metadata": {},
     "output_type": "execute_result"
    }
   ],
   "source": [
    "# displays the first 5 rows\n",
    "df.head(5)"
   ]
  },
  {
   "cell_type": "code",
   "execution_count": 154,
   "id": "1ab5ad63-b6c1-4e25-9682-618b5a240f17",
   "metadata": {},
   "outputs": [
    {
     "data": {
      "text/html": [
       "<div>\n",
       "<style scoped>\n",
       "    .dataframe tbody tr th:only-of-type {\n",
       "        vertical-align: middle;\n",
       "    }\n",
       "\n",
       "    .dataframe tbody tr th {\n",
       "        vertical-align: top;\n",
       "    }\n",
       "\n",
       "    .dataframe thead th {\n",
       "        text-align: right;\n",
       "    }\n",
       "</style>\n",
       "<table border=\"1\" class=\"dataframe\">\n",
       "  <thead>\n",
       "    <tr style=\"text-align: right;\">\n",
       "      <th></th>\n",
       "      <th>season</th>\n",
       "      <th>yr</th>\n",
       "      <th>mnth</th>\n",
       "      <th>holiday</th>\n",
       "      <th>weekday</th>\n",
       "      <th>workingday</th>\n",
       "      <th>weathersit</th>\n",
       "      <th>temp</th>\n",
       "      <th>atemp</th>\n",
       "      <th>hum</th>\n",
       "      <th>windspeed</th>\n",
       "      <th>cnt</th>\n",
       "    </tr>\n",
       "  </thead>\n",
       "  <tbody>\n",
       "    <tr>\n",
       "      <th>726</th>\n",
       "      <td>spring</td>\n",
       "      <td>2012</td>\n",
       "      <td>december</td>\n",
       "      <td>0.0</td>\n",
       "      <td>4.0</td>\n",
       "      <td>1.0</td>\n",
       "      <td>2.0</td>\n",
       "      <td>19.945849</td>\n",
       "      <td>30.958372</td>\n",
       "      <td>65.2917</td>\n",
       "      <td>23.458911</td>\n",
       "      <td>2114.0</td>\n",
       "    </tr>\n",
       "    <tr>\n",
       "      <th>727</th>\n",
       "      <td>spring</td>\n",
       "      <td>2012</td>\n",
       "      <td>december</td>\n",
       "      <td>0.0</td>\n",
       "      <td>5.0</td>\n",
       "      <td>1.0</td>\n",
       "      <td>2.0</td>\n",
       "      <td>19.906651</td>\n",
       "      <td>32.833036</td>\n",
       "      <td>59.0000</td>\n",
       "      <td>10.416557</td>\n",
       "      <td>3095.0</td>\n",
       "    </tr>\n",
       "    <tr>\n",
       "      <th>728</th>\n",
       "      <td>spring</td>\n",
       "      <td>2012</td>\n",
       "      <td>december</td>\n",
       "      <td>0.0</td>\n",
       "      <td>6.0</td>\n",
       "      <td>0.0</td>\n",
       "      <td>2.0</td>\n",
       "      <td>19.906651</td>\n",
       "      <td>31.998400</td>\n",
       "      <td>75.2917</td>\n",
       "      <td>8.333661</td>\n",
       "      <td>1341.0</td>\n",
       "    </tr>\n",
       "    <tr>\n",
       "      <th>729</th>\n",
       "      <td>spring</td>\n",
       "      <td>2012</td>\n",
       "      <td>december</td>\n",
       "      <td>0.0</td>\n",
       "      <td>0.0</td>\n",
       "      <td>0.0</td>\n",
       "      <td>1.0</td>\n",
       "      <td>20.024151</td>\n",
       "      <td>31.292200</td>\n",
       "      <td>48.3333</td>\n",
       "      <td>23.500518</td>\n",
       "      <td>1796.0</td>\n",
       "    </tr>\n",
       "    <tr>\n",
       "      <th>730</th>\n",
       "      <td>spring</td>\n",
       "      <td>2012</td>\n",
       "      <td>december</td>\n",
       "      <td>0.0</td>\n",
       "      <td>1.0</td>\n",
       "      <td>1.0</td>\n",
       "      <td>2.0</td>\n",
       "      <td>18.144151</td>\n",
       "      <td>30.750142</td>\n",
       "      <td>57.7500</td>\n",
       "      <td>10.374682</td>\n",
       "      <td>2729.0</td>\n",
       "    </tr>\n",
       "  </tbody>\n",
       "</table>\n",
       "</div>"
      ],
      "text/plain": [
       "     season    yr      mnth  holiday  weekday  workingday  weathersit  \\\n",
       "726  spring  2012  december      0.0      4.0         1.0         2.0   \n",
       "727  spring  2012  december      0.0      5.0         1.0         2.0   \n",
       "728  spring  2012  december      0.0      6.0         0.0         2.0   \n",
       "729  spring  2012  december      0.0      0.0         0.0         1.0   \n",
       "730  spring  2012  december      0.0      1.0         1.0         2.0   \n",
       "\n",
       "          temp      atemp      hum  windspeed     cnt  \n",
       "726  19.945849  30.958372  65.2917  23.458911  2114.0  \n",
       "727  19.906651  32.833036  59.0000  10.416557  3095.0  \n",
       "728  19.906651  31.998400  75.2917   8.333661  1341.0  \n",
       "729  20.024151  31.292200  48.3333  23.500518  1796.0  \n",
       "730  18.144151  30.750142  57.7500  10.374682  2729.0  "
      ]
     },
     "execution_count": 154,
     "metadata": {},
     "output_type": "execute_result"
    }
   ],
   "source": [
    "# displays the last 5 rows\n",
    "df.tail(5)"
   ]
  },
  {
   "cell_type": "code",
   "execution_count": 155,
   "id": "565d7b05-3d41-45ba-a5c3-19a0729896d2",
   "metadata": {},
   "outputs": [
    {
     "name": "stdout",
     "output_type": "stream",
     "text": [
      "<class 'pandas.core.frame.DataFrame'>\n",
      "Index: 731 entries, 0 to 730\n",
      "Data columns (total 12 columns):\n",
      " #   Column      Non-Null Count  Dtype  \n",
      "---  ------      --------------  -----  \n",
      " 0   season      731 non-null    object \n",
      " 1   yr          731 non-null    int64  \n",
      " 2   mnth        731 non-null    object \n",
      " 3   holiday     731 non-null    float64\n",
      " 4   weekday     731 non-null    float64\n",
      " 5   workingday  731 non-null    float64\n",
      " 6   weathersit  731 non-null    float64\n",
      " 7   temp        731 non-null    float64\n",
      " 8   atemp       731 non-null    float64\n",
      " 9   hum         731 non-null    float64\n",
      " 10  windspeed   731 non-null    float64\n",
      " 11  cnt         731 non-null    float64\n",
      "dtypes: float64(9), int64(1), object(2)\n",
      "memory usage: 90.4+ KB\n"
     ]
    }
   ],
   "source": [
    "# displays meta informations, sizes, data types\n",
    "df.info()"
   ]
  },
  {
   "cell_type": "code",
   "execution_count": 156,
   "id": "6f0dca01-7922-40ea-bba2-bb8381d0d19b",
   "metadata": {},
   "outputs": [
    {
     "data": {
      "text/html": [
       "<div>\n",
       "<style scoped>\n",
       "    .dataframe tbody tr th:only-of-type {\n",
       "        vertical-align: middle;\n",
       "    }\n",
       "\n",
       "    .dataframe tbody tr th {\n",
       "        vertical-align: top;\n",
       "    }\n",
       "\n",
       "    .dataframe thead th {\n",
       "        text-align: right;\n",
       "    }\n",
       "</style>\n",
       "<table border=\"1\" class=\"dataframe\">\n",
       "  <thead>\n",
       "    <tr style=\"text-align: right;\">\n",
       "      <th></th>\n",
       "      <th>yr</th>\n",
       "      <th>holiday</th>\n",
       "      <th>weekday</th>\n",
       "      <th>workingday</th>\n",
       "      <th>weathersit</th>\n",
       "      <th>temp</th>\n",
       "      <th>atemp</th>\n",
       "      <th>hum</th>\n",
       "      <th>windspeed</th>\n",
       "      <th>cnt</th>\n",
       "    </tr>\n",
       "  </thead>\n",
       "  <tbody>\n",
       "    <tr>\n",
       "      <th>count</th>\n",
       "      <td>731.000000</td>\n",
       "      <td>731.000000</td>\n",
       "      <td>731.000000</td>\n",
       "      <td>731.000000</td>\n",
       "      <td>731.000000</td>\n",
       "      <td>731.000000</td>\n",
       "      <td>731.000000</td>\n",
       "      <td>731.000000</td>\n",
       "      <td>731.000000</td>\n",
       "      <td>731.000000</td>\n",
       "    </tr>\n",
       "    <tr>\n",
       "      <th>mean</th>\n",
       "      <td>2011.500684</td>\n",
       "      <td>0.028728</td>\n",
       "      <td>2.997264</td>\n",
       "      <td>0.683995</td>\n",
       "      <td>1.395349</td>\n",
       "      <td>31.283085</td>\n",
       "      <td>47.307363</td>\n",
       "      <td>62.789406</td>\n",
       "      <td>12.762576</td>\n",
       "      <td>4504.348837</td>\n",
       "    </tr>\n",
       "    <tr>\n",
       "      <th>std</th>\n",
       "      <td>0.500342</td>\n",
       "      <td>0.167155</td>\n",
       "      <td>2.004787</td>\n",
       "      <td>0.465233</td>\n",
       "      <td>0.544894</td>\n",
       "      <td>8.603397</td>\n",
       "      <td>10.755438</td>\n",
       "      <td>14.242910</td>\n",
       "      <td>5.192357</td>\n",
       "      <td>1937.211452</td>\n",
       "    </tr>\n",
       "    <tr>\n",
       "      <th>min</th>\n",
       "      <td>2011.000000</td>\n",
       "      <td>0.000000</td>\n",
       "      <td>0.000000</td>\n",
       "      <td>0.000000</td>\n",
       "      <td>1.000000</td>\n",
       "      <td>10.779129</td>\n",
       "      <td>21.218594</td>\n",
       "      <td>0.000000</td>\n",
       "      <td>1.500244</td>\n",
       "      <td>22.000000</td>\n",
       "    </tr>\n",
       "    <tr>\n",
       "      <th>25%</th>\n",
       "      <td>2011.000000</td>\n",
       "      <td>0.000000</td>\n",
       "      <td>1.000000</td>\n",
       "      <td>0.000000</td>\n",
       "      <td>1.000000</td>\n",
       "      <td>23.842925</td>\n",
       "      <td>38.297605</td>\n",
       "      <td>52.000000</td>\n",
       "      <td>9.041650</td>\n",
       "      <td>3152.000000</td>\n",
       "    </tr>\n",
       "    <tr>\n",
       "      <th>50%</th>\n",
       "      <td>2012.000000</td>\n",
       "      <td>0.000000</td>\n",
       "      <td>3.000000</td>\n",
       "      <td>1.000000</td>\n",
       "      <td>1.000000</td>\n",
       "      <td>31.421651</td>\n",
       "      <td>48.124378</td>\n",
       "      <td>62.666700</td>\n",
       "      <td>12.125325</td>\n",
       "      <td>4548.000000</td>\n",
       "    </tr>\n",
       "    <tr>\n",
       "      <th>75%</th>\n",
       "      <td>2012.000000</td>\n",
       "      <td>0.000000</td>\n",
       "      <td>5.000000</td>\n",
       "      <td>1.000000</td>\n",
       "      <td>2.000000</td>\n",
       "      <td>38.804575</td>\n",
       "      <td>56.167732</td>\n",
       "      <td>73.020850</td>\n",
       "      <td>15.625371</td>\n",
       "      <td>5956.000000</td>\n",
       "    </tr>\n",
       "    <tr>\n",
       "      <th>max</th>\n",
       "      <td>2012.000000</td>\n",
       "      <td>1.000000</td>\n",
       "      <td>6.000000</td>\n",
       "      <td>1.000000</td>\n",
       "      <td>3.000000</td>\n",
       "      <td>48.498349</td>\n",
       "      <td>71.499136</td>\n",
       "      <td>97.250000</td>\n",
       "      <td>34.000021</td>\n",
       "      <td>8714.000000</td>\n",
       "    </tr>\n",
       "  </tbody>\n",
       "</table>\n",
       "</div>"
      ],
      "text/plain": [
       "                yr     holiday     weekday  workingday  weathersit  \\\n",
       "count   731.000000  731.000000  731.000000  731.000000  731.000000   \n",
       "mean   2011.500684    0.028728    2.997264    0.683995    1.395349   \n",
       "std       0.500342    0.167155    2.004787    0.465233    0.544894   \n",
       "min    2011.000000    0.000000    0.000000    0.000000    1.000000   \n",
       "25%    2011.000000    0.000000    1.000000    0.000000    1.000000   \n",
       "50%    2012.000000    0.000000    3.000000    1.000000    1.000000   \n",
       "75%    2012.000000    0.000000    5.000000    1.000000    2.000000   \n",
       "max    2012.000000    1.000000    6.000000    1.000000    3.000000   \n",
       "\n",
       "             temp       atemp         hum   windspeed          cnt  \n",
       "count  731.000000  731.000000  731.000000  731.000000   731.000000  \n",
       "mean    31.283085   47.307363   62.789406   12.762576  4504.348837  \n",
       "std      8.603397   10.755438   14.242910    5.192357  1937.211452  \n",
       "min     10.779129   21.218594    0.000000    1.500244    22.000000  \n",
       "25%     23.842925   38.297605   52.000000    9.041650  3152.000000  \n",
       "50%     31.421651   48.124378   62.666700   12.125325  4548.000000  \n",
       "75%     38.804575   56.167732   73.020850   15.625371  5956.000000  \n",
       "max     48.498349   71.499136   97.250000   34.000021  8714.000000  "
      ]
     },
     "execution_count": 156,
     "metadata": {},
     "output_type": "execute_result"
    }
   ],
   "source": [
    "# caclulates percentiles, averages, and standard deviations for each column\n",
    "# it is good for a fast, first inspection\n",
    "df.describe()"
   ]
  },
  {
   "cell_type": "markdown",
   "id": "33928ebe-b7ec-4719-b300-024a6693b333",
   "metadata": {},
   "source": [
    "## Filtering"
   ]
  },
  {
   "cell_type": "code",
   "execution_count": 157,
   "id": "60679418-6ece-46d0-a021-8857d1bd7a5b",
   "metadata": {},
   "outputs": [
    {
     "data": {
      "text/html": [
       "<div>\n",
       "<style scoped>\n",
       "    .dataframe tbody tr th:only-of-type {\n",
       "        vertical-align: middle;\n",
       "    }\n",
       "\n",
       "    .dataframe tbody tr th {\n",
       "        vertical-align: top;\n",
       "    }\n",
       "\n",
       "    .dataframe thead th {\n",
       "        text-align: right;\n",
       "    }\n",
       "</style>\n",
       "<table border=\"1\" class=\"dataframe\">\n",
       "  <thead>\n",
       "    <tr style=\"text-align: right;\">\n",
       "      <th></th>\n",
       "      <th>season</th>\n",
       "      <th>yr</th>\n",
       "      <th>mnth</th>\n",
       "      <th>holiday</th>\n",
       "      <th>weekday</th>\n",
       "      <th>workingday</th>\n",
       "      <th>weathersit</th>\n",
       "      <th>temp</th>\n",
       "      <th>atemp</th>\n",
       "      <th>hum</th>\n",
       "      <th>windspeed</th>\n",
       "      <th>cnt</th>\n",
       "    </tr>\n",
       "  </thead>\n",
       "  <tbody>\n",
       "    <tr>\n",
       "      <th>365</th>\n",
       "      <td>spring</td>\n",
       "      <td>2012</td>\n",
       "      <td>january</td>\n",
       "      <td>0.0</td>\n",
       "      <td>0.0</td>\n",
       "      <td>0.0</td>\n",
       "      <td>1.0</td>\n",
       "      <td>25.390000</td>\n",
       "      <td>40.790986</td>\n",
       "      <td>69.2500</td>\n",
       "      <td>12.875189</td>\n",
       "      <td>2294.0</td>\n",
       "    </tr>\n",
       "    <tr>\n",
       "      <th>366</th>\n",
       "      <td>spring</td>\n",
       "      <td>2012</td>\n",
       "      <td>january</td>\n",
       "      <td>1.0</td>\n",
       "      <td>1.0</td>\n",
       "      <td>0.0</td>\n",
       "      <td>1.0</td>\n",
       "      <td>20.833021</td>\n",
       "      <td>32.652064</td>\n",
       "      <td>38.1304</td>\n",
       "      <td>22.087555</td>\n",
       "      <td>1951.0</td>\n",
       "    </tr>\n",
       "    <tr>\n",
       "      <th>367</th>\n",
       "      <td>spring</td>\n",
       "      <td>2012</td>\n",
       "      <td>january</td>\n",
       "      <td>0.0</td>\n",
       "      <td>2.0</td>\n",
       "      <td>1.0</td>\n",
       "      <td>1.0</td>\n",
       "      <td>15.050000</td>\n",
       "      <td>24.334150</td>\n",
       "      <td>44.1250</td>\n",
       "      <td>24.499957</td>\n",
       "      <td>2236.0</td>\n",
       "    </tr>\n",
       "    <tr>\n",
       "      <th>368</th>\n",
       "      <td>spring</td>\n",
       "      <td>2012</td>\n",
       "      <td>january</td>\n",
       "      <td>0.0</td>\n",
       "      <td>3.0</td>\n",
       "      <td>1.0</td>\n",
       "      <td>2.0</td>\n",
       "      <td>13.052500</td>\n",
       "      <td>23.876242</td>\n",
       "      <td>41.4583</td>\n",
       "      <td>12.374900</td>\n",
       "      <td>2368.0</td>\n",
       "    </tr>\n",
       "    <tr>\n",
       "      <th>369</th>\n",
       "      <td>spring</td>\n",
       "      <td>2012</td>\n",
       "      <td>january</td>\n",
       "      <td>0.0</td>\n",
       "      <td>4.0</td>\n",
       "      <td>1.0</td>\n",
       "      <td>1.0</td>\n",
       "      <td>20.494151</td>\n",
       "      <td>34.375192</td>\n",
       "      <td>52.4167</td>\n",
       "      <td>8.709129</td>\n",
       "      <td>3272.0</td>\n",
       "    </tr>\n",
       "    <tr>\n",
       "      <th>...</th>\n",
       "      <td>...</td>\n",
       "      <td>...</td>\n",
       "      <td>...</td>\n",
       "      <td>...</td>\n",
       "      <td>...</td>\n",
       "      <td>...</td>\n",
       "      <td>...</td>\n",
       "      <td>...</td>\n",
       "      <td>...</td>\n",
       "      <td>...</td>\n",
       "      <td>...</td>\n",
       "      <td>...</td>\n",
       "    </tr>\n",
       "    <tr>\n",
       "      <th>726</th>\n",
       "      <td>spring</td>\n",
       "      <td>2012</td>\n",
       "      <td>december</td>\n",
       "      <td>0.0</td>\n",
       "      <td>4.0</td>\n",
       "      <td>1.0</td>\n",
       "      <td>2.0</td>\n",
       "      <td>19.945849</td>\n",
       "      <td>30.958372</td>\n",
       "      <td>65.2917</td>\n",
       "      <td>23.458911</td>\n",
       "      <td>2114.0</td>\n",
       "    </tr>\n",
       "    <tr>\n",
       "      <th>727</th>\n",
       "      <td>spring</td>\n",
       "      <td>2012</td>\n",
       "      <td>december</td>\n",
       "      <td>0.0</td>\n",
       "      <td>5.0</td>\n",
       "      <td>1.0</td>\n",
       "      <td>2.0</td>\n",
       "      <td>19.906651</td>\n",
       "      <td>32.833036</td>\n",
       "      <td>59.0000</td>\n",
       "      <td>10.416557</td>\n",
       "      <td>3095.0</td>\n",
       "    </tr>\n",
       "    <tr>\n",
       "      <th>728</th>\n",
       "      <td>spring</td>\n",
       "      <td>2012</td>\n",
       "      <td>december</td>\n",
       "      <td>0.0</td>\n",
       "      <td>6.0</td>\n",
       "      <td>0.0</td>\n",
       "      <td>2.0</td>\n",
       "      <td>19.906651</td>\n",
       "      <td>31.998400</td>\n",
       "      <td>75.2917</td>\n",
       "      <td>8.333661</td>\n",
       "      <td>1341.0</td>\n",
       "    </tr>\n",
       "    <tr>\n",
       "      <th>729</th>\n",
       "      <td>spring</td>\n",
       "      <td>2012</td>\n",
       "      <td>december</td>\n",
       "      <td>0.0</td>\n",
       "      <td>0.0</td>\n",
       "      <td>0.0</td>\n",
       "      <td>1.0</td>\n",
       "      <td>20.024151</td>\n",
       "      <td>31.292200</td>\n",
       "      <td>48.3333</td>\n",
       "      <td>23.500518</td>\n",
       "      <td>1796.0</td>\n",
       "    </tr>\n",
       "    <tr>\n",
       "      <th>730</th>\n",
       "      <td>spring</td>\n",
       "      <td>2012</td>\n",
       "      <td>december</td>\n",
       "      <td>0.0</td>\n",
       "      <td>1.0</td>\n",
       "      <td>1.0</td>\n",
       "      <td>2.0</td>\n",
       "      <td>18.144151</td>\n",
       "      <td>30.750142</td>\n",
       "      <td>57.7500</td>\n",
       "      <td>10.374682</td>\n",
       "      <td>2729.0</td>\n",
       "    </tr>\n",
       "  </tbody>\n",
       "</table>\n",
       "<p>366 rows × 12 columns</p>\n",
       "</div>"
      ],
      "text/plain": [
       "     season    yr      mnth  holiday  weekday  workingday  weathersit  \\\n",
       "365  spring  2012   january      0.0      0.0         0.0         1.0   \n",
       "366  spring  2012   january      1.0      1.0         0.0         1.0   \n",
       "367  spring  2012   january      0.0      2.0         1.0         1.0   \n",
       "368  spring  2012   january      0.0      3.0         1.0         2.0   \n",
       "369  spring  2012   january      0.0      4.0         1.0         1.0   \n",
       "..      ...   ...       ...      ...      ...         ...         ...   \n",
       "726  spring  2012  december      0.0      4.0         1.0         2.0   \n",
       "727  spring  2012  december      0.0      5.0         1.0         2.0   \n",
       "728  spring  2012  december      0.0      6.0         0.0         2.0   \n",
       "729  spring  2012  december      0.0      0.0         0.0         1.0   \n",
       "730  spring  2012  december      0.0      1.0         1.0         2.0   \n",
       "\n",
       "          temp      atemp      hum  windspeed     cnt  \n",
       "365  25.390000  40.790986  69.2500  12.875189  2294.0  \n",
       "366  20.833021  32.652064  38.1304  22.087555  1951.0  \n",
       "367  15.050000  24.334150  44.1250  24.499957  2236.0  \n",
       "368  13.052500  23.876242  41.4583  12.374900  2368.0  \n",
       "369  20.494151  34.375192  52.4167   8.709129  3272.0  \n",
       "..         ...        ...      ...        ...     ...  \n",
       "726  19.945849  30.958372  65.2917  23.458911  2114.0  \n",
       "727  19.906651  32.833036  59.0000  10.416557  3095.0  \n",
       "728  19.906651  31.998400  75.2917   8.333661  1341.0  \n",
       "729  20.024151  31.292200  48.3333  23.500518  1796.0  \n",
       "730  18.144151  30.750142  57.7500  10.374682  2729.0  \n",
       "\n",
       "[366 rows x 12 columns]"
      ]
     },
     "execution_count": 157,
     "metadata": {},
     "output_type": "execute_result"
    }
   ],
   "source": [
    "# just like in numpy, we can use boolean masks to filter the dataset\n",
    "# lets filter for the datapoints that was recorded in 2012\n",
    "df[df.yr == 2012]"
   ]
  },
  {
   "cell_type": "code",
   "execution_count": 158,
   "id": "3112f459-e71d-4362-9636-872f5313aaa0",
   "metadata": {},
   "outputs": [
    {
     "data": {
      "text/html": [
       "<div>\n",
       "<style scoped>\n",
       "    .dataframe tbody tr th:only-of-type {\n",
       "        vertical-align: middle;\n",
       "    }\n",
       "\n",
       "    .dataframe tbody tr th {\n",
       "        vertical-align: top;\n",
       "    }\n",
       "\n",
       "    .dataframe thead th {\n",
       "        text-align: right;\n",
       "    }\n",
       "</style>\n",
       "<table border=\"1\" class=\"dataframe\">\n",
       "  <thead>\n",
       "    <tr style=\"text-align: right;\">\n",
       "      <th></th>\n",
       "      <th>season</th>\n",
       "      <th>yr</th>\n",
       "      <th>mnth</th>\n",
       "      <th>holiday</th>\n",
       "      <th>weekday</th>\n",
       "      <th>workingday</th>\n",
       "      <th>weathersit</th>\n",
       "      <th>temp</th>\n",
       "      <th>atemp</th>\n",
       "      <th>hum</th>\n",
       "      <th>windspeed</th>\n",
       "      <th>cnt</th>\n",
       "    </tr>\n",
       "  </thead>\n",
       "  <tbody>\n",
       "    <tr>\n",
       "      <th>445</th>\n",
       "      <td>summer</td>\n",
       "      <td>2012</td>\n",
       "      <td>march</td>\n",
       "      <td>0.0</td>\n",
       "      <td>3.0</td>\n",
       "      <td>1.0</td>\n",
       "      <td>2.0</td>\n",
       "      <td>32.988349</td>\n",
       "      <td>49.875028</td>\n",
       "      <td>82.1250</td>\n",
       "      <td>6.000406</td>\n",
       "      <td>6230.0</td>\n",
       "    </tr>\n",
       "    <tr>\n",
       "      <th>446</th>\n",
       "      <td>summer</td>\n",
       "      <td>2012</td>\n",
       "      <td>march</td>\n",
       "      <td>0.0</td>\n",
       "      <td>4.0</td>\n",
       "      <td>1.0</td>\n",
       "      <td>1.0</td>\n",
       "      <td>34.045849</td>\n",
       "      <td>51.083422</td>\n",
       "      <td>83.1250</td>\n",
       "      <td>7.876654</td>\n",
       "      <td>6871.0</td>\n",
       "    </tr>\n",
       "    <tr>\n",
       "      <th>447</th>\n",
       "      <td>summer</td>\n",
       "      <td>2012</td>\n",
       "      <td>march</td>\n",
       "      <td>0.0</td>\n",
       "      <td>5.0</td>\n",
       "      <td>1.0</td>\n",
       "      <td>2.0</td>\n",
       "      <td>36.278349</td>\n",
       "      <td>53.624422</td>\n",
       "      <td>69.4167</td>\n",
       "      <td>7.792100</td>\n",
       "      <td>8362.0</td>\n",
       "    </tr>\n",
       "    <tr>\n",
       "      <th>448</th>\n",
       "      <td>summer</td>\n",
       "      <td>2012</td>\n",
       "      <td>march</td>\n",
       "      <td>0.0</td>\n",
       "      <td>6.0</td>\n",
       "      <td>0.0</td>\n",
       "      <td>2.0</td>\n",
       "      <td>31.617500</td>\n",
       "      <td>48.124378</td>\n",
       "      <td>88.5417</td>\n",
       "      <td>12.916461</td>\n",
       "      <td>3372.0</td>\n",
       "    </tr>\n",
       "    <tr>\n",
       "      <th>449</th>\n",
       "      <td>summer</td>\n",
       "      <td>2012</td>\n",
       "      <td>march</td>\n",
       "      <td>0.0</td>\n",
       "      <td>0.0</td>\n",
       "      <td>0.0</td>\n",
       "      <td>2.0</td>\n",
       "      <td>28.562500</td>\n",
       "      <td>44.874208</td>\n",
       "      <td>88.0833</td>\n",
       "      <td>14.791925</td>\n",
       "      <td>4996.0</td>\n",
       "    </tr>\n",
       "    <tr>\n",
       "      <th>...</th>\n",
       "      <td>...</td>\n",
       "      <td>...</td>\n",
       "      <td>...</td>\n",
       "      <td>...</td>\n",
       "      <td>...</td>\n",
       "      <td>...</td>\n",
       "      <td>...</td>\n",
       "      <td>...</td>\n",
       "      <td>...</td>\n",
       "      <td>...</td>\n",
       "      <td>...</td>\n",
       "      <td>...</td>\n",
       "    </tr>\n",
       "    <tr>\n",
       "      <th>532</th>\n",
       "      <td>summer</td>\n",
       "      <td>2012</td>\n",
       "      <td>june</td>\n",
       "      <td>0.0</td>\n",
       "      <td>6.0</td>\n",
       "      <td>0.0</td>\n",
       "      <td>1.0</td>\n",
       "      <td>37.688349</td>\n",
       "      <td>55.250728</td>\n",
       "      <td>50.4167</td>\n",
       "      <td>11.166689</td>\n",
       "      <td>7702.0</td>\n",
       "    </tr>\n",
       "    <tr>\n",
       "      <th>533</th>\n",
       "      <td>summer</td>\n",
       "      <td>2012</td>\n",
       "      <td>june</td>\n",
       "      <td>0.0</td>\n",
       "      <td>0.0</td>\n",
       "      <td>0.0</td>\n",
       "      <td>1.0</td>\n",
       "      <td>35.847500</td>\n",
       "      <td>53.750350</td>\n",
       "      <td>59.8750</td>\n",
       "      <td>9.708568</td>\n",
       "      <td>6978.0</td>\n",
       "    </tr>\n",
       "    <tr>\n",
       "      <th>534</th>\n",
       "      <td>summer</td>\n",
       "      <td>2012</td>\n",
       "      <td>june</td>\n",
       "      <td>0.0</td>\n",
       "      <td>1.0</td>\n",
       "      <td>1.0</td>\n",
       "      <td>2.0</td>\n",
       "      <td>34.711651</td>\n",
       "      <td>51.959572</td>\n",
       "      <td>77.7917</td>\n",
       "      <td>11.707982</td>\n",
       "      <td>5099.0</td>\n",
       "    </tr>\n",
       "    <tr>\n",
       "      <th>535</th>\n",
       "      <td>summer</td>\n",
       "      <td>2012</td>\n",
       "      <td>june</td>\n",
       "      <td>0.0</td>\n",
       "      <td>2.0</td>\n",
       "      <td>1.0</td>\n",
       "      <td>1.0</td>\n",
       "      <td>40.351651</td>\n",
       "      <td>59.209672</td>\n",
       "      <td>69.0000</td>\n",
       "      <td>9.917139</td>\n",
       "      <td>6825.0</td>\n",
       "    </tr>\n",
       "    <tr>\n",
       "      <th>536</th>\n",
       "      <td>summer</td>\n",
       "      <td>2012</td>\n",
       "      <td>june</td>\n",
       "      <td>0.0</td>\n",
       "      <td>3.0</td>\n",
       "      <td>1.0</td>\n",
       "      <td>1.0</td>\n",
       "      <td>44.777500</td>\n",
       "      <td>63.584350</td>\n",
       "      <td>59.2083</td>\n",
       "      <td>7.625404</td>\n",
       "      <td>6211.0</td>\n",
       "    </tr>\n",
       "  </tbody>\n",
       "</table>\n",
       "<p>92 rows × 12 columns</p>\n",
       "</div>"
      ],
      "text/plain": [
       "     season    yr   mnth  holiday  weekday  workingday  weathersit       temp  \\\n",
       "445  summer  2012  march      0.0      3.0         1.0         2.0  32.988349   \n",
       "446  summer  2012  march      0.0      4.0         1.0         1.0  34.045849   \n",
       "447  summer  2012  march      0.0      5.0         1.0         2.0  36.278349   \n",
       "448  summer  2012  march      0.0      6.0         0.0         2.0  31.617500   \n",
       "449  summer  2012  march      0.0      0.0         0.0         2.0  28.562500   \n",
       "..      ...   ...    ...      ...      ...         ...         ...        ...   \n",
       "532  summer  2012   june      0.0      6.0         0.0         1.0  37.688349   \n",
       "533  summer  2012   june      0.0      0.0         0.0         1.0  35.847500   \n",
       "534  summer  2012   june      0.0      1.0         1.0         2.0  34.711651   \n",
       "535  summer  2012   june      0.0      2.0         1.0         1.0  40.351651   \n",
       "536  summer  2012   june      0.0      3.0         1.0         1.0  44.777500   \n",
       "\n",
       "         atemp      hum  windspeed     cnt  \n",
       "445  49.875028  82.1250   6.000406  6230.0  \n",
       "446  51.083422  83.1250   7.876654  6871.0  \n",
       "447  53.624422  69.4167   7.792100  8362.0  \n",
       "448  48.124378  88.5417  12.916461  3372.0  \n",
       "449  44.874208  88.0833  14.791925  4996.0  \n",
       "..         ...      ...        ...     ...  \n",
       "532  55.250728  50.4167  11.166689  7702.0  \n",
       "533  53.750350  59.8750   9.708568  6978.0  \n",
       "534  51.959572  77.7917  11.707982  5099.0  \n",
       "535  59.209672  69.0000   9.917139  6825.0  \n",
       "536  63.584350  59.2083   7.625404  6211.0  \n",
       "\n",
       "[92 rows x 12 columns]"
      ]
     },
     "execution_count": 158,
     "metadata": {},
     "output_type": "execute_result"
    }
   ],
   "source": [
    "# now lets filter for the datapoints that was recorded in the summer of 2012\n",
    "# here \"&\" performs a logical and operation between the two boolean mask\n",
    "# when we merge two masks in this manner parenthasis are important\n",
    "# because \"&\" would execute before \"==\"\n",
    "# so we just ensure the order of operations\n",
    "df[(df.yr == 2012) & (df.season == \"summer\")]"
   ]
  },
  {
   "cell_type": "code",
   "execution_count": 159,
   "id": "b2db8a96-ab64-4b27-9884-1e376fc63c41",
   "metadata": {},
   "outputs": [
    {
     "data": {
      "text/html": [
       "<div>\n",
       "<style scoped>\n",
       "    .dataframe tbody tr th:only-of-type {\n",
       "        vertical-align: middle;\n",
       "    }\n",
       "\n",
       "    .dataframe tbody tr th {\n",
       "        vertical-align: top;\n",
       "    }\n",
       "\n",
       "    .dataframe thead th {\n",
       "        text-align: right;\n",
       "    }\n",
       "</style>\n",
       "<table border=\"1\" class=\"dataframe\">\n",
       "  <thead>\n",
       "    <tr style=\"text-align: right;\">\n",
       "      <th></th>\n",
       "      <th>season</th>\n",
       "      <th>yr</th>\n",
       "      <th>mnth</th>\n",
       "      <th>holiday</th>\n",
       "      <th>weekday</th>\n",
       "      <th>workingday</th>\n",
       "      <th>weathersit</th>\n",
       "      <th>temp</th>\n",
       "      <th>atemp</th>\n",
       "      <th>hum</th>\n",
       "      <th>windspeed</th>\n",
       "      <th>cnt</th>\n",
       "    </tr>\n",
       "  </thead>\n",
       "  <tbody>\n",
       "    <tr>\n",
       "      <th>0</th>\n",
       "      <td>spring</td>\n",
       "      <td>2011</td>\n",
       "      <td>january</td>\n",
       "      <td>0.0</td>\n",
       "      <td>6.0</td>\n",
       "      <td>0.0</td>\n",
       "      <td>2.0</td>\n",
       "      <td>24.175849</td>\n",
       "      <td>39.999250</td>\n",
       "      <td>80.5833</td>\n",
       "      <td>10.749882</td>\n",
       "      <td>985.0</td>\n",
       "    </tr>\n",
       "    <tr>\n",
       "      <th>1</th>\n",
       "      <td>spring</td>\n",
       "      <td>2011</td>\n",
       "      <td>january</td>\n",
       "      <td>0.0</td>\n",
       "      <td>0.0</td>\n",
       "      <td>0.0</td>\n",
       "      <td>2.0</td>\n",
       "      <td>25.083466</td>\n",
       "      <td>39.346774</td>\n",
       "      <td>69.6087</td>\n",
       "      <td>16.652113</td>\n",
       "      <td>801.0</td>\n",
       "    </tr>\n",
       "    <tr>\n",
       "      <th>18</th>\n",
       "      <td>spring</td>\n",
       "      <td>2011</td>\n",
       "      <td>january</td>\n",
       "      <td>0.0</td>\n",
       "      <td>3.0</td>\n",
       "      <td>1.0</td>\n",
       "      <td>2.0</td>\n",
       "      <td>21.732178</td>\n",
       "      <td>35.695852</td>\n",
       "      <td>74.1739</td>\n",
       "      <td>13.957239</td>\n",
       "      <td>1650.0</td>\n",
       "    </tr>\n",
       "    <tr>\n",
       "      <th>19</th>\n",
       "      <td>spring</td>\n",
       "      <td>2011</td>\n",
       "      <td>january</td>\n",
       "      <td>0.0</td>\n",
       "      <td>4.0</td>\n",
       "      <td>1.0</td>\n",
       "      <td>2.0</td>\n",
       "      <td>20.298349</td>\n",
       "      <td>32.833300</td>\n",
       "      <td>53.8333</td>\n",
       "      <td>13.125568</td>\n",
       "      <td>1927.0</td>\n",
       "    </tr>\n",
       "    <tr>\n",
       "      <th>32</th>\n",
       "      <td>spring</td>\n",
       "      <td>2011</td>\n",
       "      <td>february</td>\n",
       "      <td>0.0</td>\n",
       "      <td>3.0</td>\n",
       "      <td>1.0</td>\n",
       "      <td>2.0</td>\n",
       "      <td>20.220000</td>\n",
       "      <td>32.791522</td>\n",
       "      <td>77.5417</td>\n",
       "      <td>17.708636</td>\n",
       "      <td>1526.0</td>\n",
       "    </tr>\n",
       "    <tr>\n",
       "      <th>...</th>\n",
       "      <td>...</td>\n",
       "      <td>...</td>\n",
       "      <td>...</td>\n",
       "      <td>...</td>\n",
       "      <td>...</td>\n",
       "      <td>...</td>\n",
       "      <td>...</td>\n",
       "      <td>...</td>\n",
       "      <td>...</td>\n",
       "      <td>...</td>\n",
       "      <td>...</td>\n",
       "      <td>...</td>\n",
       "    </tr>\n",
       "    <tr>\n",
       "      <th>719</th>\n",
       "      <td>winter</td>\n",
       "      <td>2012</td>\n",
       "      <td>december</td>\n",
       "      <td>0.0</td>\n",
       "      <td>4.0</td>\n",
       "      <td>1.0</td>\n",
       "      <td>2.0</td>\n",
       "      <td>23.510000</td>\n",
       "      <td>38.124322</td>\n",
       "      <td>66.7917</td>\n",
       "      <td>8.875021</td>\n",
       "      <td>4128.0</td>\n",
       "    </tr>\n",
       "    <tr>\n",
       "      <th>720</th>\n",
       "      <td>spring</td>\n",
       "      <td>2012</td>\n",
       "      <td>december</td>\n",
       "      <td>0.0</td>\n",
       "      <td>5.0</td>\n",
       "      <td>1.0</td>\n",
       "      <td>2.0</td>\n",
       "      <td>23.353349</td>\n",
       "      <td>35.916622</td>\n",
       "      <td>55.6667</td>\n",
       "      <td>25.083661</td>\n",
       "      <td>3623.0</td>\n",
       "    </tr>\n",
       "    <tr>\n",
       "      <th>721</th>\n",
       "      <td>spring</td>\n",
       "      <td>2012</td>\n",
       "      <td>december</td>\n",
       "      <td>0.0</td>\n",
       "      <td>6.0</td>\n",
       "      <td>0.0</td>\n",
       "      <td>1.0</td>\n",
       "      <td>20.494151</td>\n",
       "      <td>31.583458</td>\n",
       "      <td>44.1250</td>\n",
       "      <td>27.292182</td>\n",
       "      <td>1749.0</td>\n",
       "    </tr>\n",
       "    <tr>\n",
       "      <th>724</th>\n",
       "      <td>spring</td>\n",
       "      <td>2012</td>\n",
       "      <td>december</td>\n",
       "      <td>1.0</td>\n",
       "      <td>2.0</td>\n",
       "      <td>0.0</td>\n",
       "      <td>2.0</td>\n",
       "      <td>21.691288</td>\n",
       "      <td>35.434690</td>\n",
       "      <td>73.4783</td>\n",
       "      <td>11.304642</td>\n",
       "      <td>1013.0</td>\n",
       "    </tr>\n",
       "    <tr>\n",
       "      <th>729</th>\n",
       "      <td>spring</td>\n",
       "      <td>2012</td>\n",
       "      <td>december</td>\n",
       "      <td>0.0</td>\n",
       "      <td>0.0</td>\n",
       "      <td>0.0</td>\n",
       "      <td>1.0</td>\n",
       "      <td>20.024151</td>\n",
       "      <td>31.292200</td>\n",
       "      <td>48.3333</td>\n",
       "      <td>23.500518</td>\n",
       "      <td>1796.0</td>\n",
       "    </tr>\n",
       "  </tbody>\n",
       "</table>\n",
       "<p>271 rows × 12 columns</p>\n",
       "</div>"
      ],
      "text/plain": [
       "     season    yr      mnth  holiday  weekday  workingday  weathersit  \\\n",
       "0    spring  2011   january      0.0      6.0         0.0         2.0   \n",
       "1    spring  2011   january      0.0      0.0         0.0         2.0   \n",
       "18   spring  2011   january      0.0      3.0         1.0         2.0   \n",
       "19   spring  2011   january      0.0      4.0         1.0         2.0   \n",
       "32   spring  2011  february      0.0      3.0         1.0         2.0   \n",
       "..      ...   ...       ...      ...      ...         ...         ...   \n",
       "719  winter  2012  december      0.0      4.0         1.0         2.0   \n",
       "720  spring  2012  december      0.0      5.0         1.0         2.0   \n",
       "721  spring  2012  december      0.0      6.0         0.0         1.0   \n",
       "724  spring  2012  december      1.0      2.0         0.0         2.0   \n",
       "729  spring  2012  december      0.0      0.0         0.0         1.0   \n",
       "\n",
       "          temp      atemp      hum  windspeed     cnt  \n",
       "0    24.175849  39.999250  80.5833  10.749882   985.0  \n",
       "1    25.083466  39.346774  69.6087  16.652113   801.0  \n",
       "18   21.732178  35.695852  74.1739  13.957239  1650.0  \n",
       "19   20.298349  32.833300  53.8333  13.125568  1927.0  \n",
       "32   20.220000  32.791522  77.5417  17.708636  1526.0  \n",
       "..         ...        ...      ...        ...     ...  \n",
       "719  23.510000  38.124322  66.7917   8.875021  4128.0  \n",
       "720  23.353349  35.916622  55.6667  25.083661  3623.0  \n",
       "721  20.494151  31.583458  44.1250  27.292182  1749.0  \n",
       "724  21.691288  35.434690  73.4783  11.304642  1013.0  \n",
       "729  20.024151  31.292200  48.3333  23.500518  1796.0  \n",
       "\n",
       "[271 rows x 12 columns]"
      ]
     },
     "execution_count": 159,
     "metadata": {},
     "output_type": "execute_result"
    }
   ],
   "source": [
    "# temperature between 20 and 30\n",
    "df[(df.temp >= 20) & (df.temp <= 30)]"
   ]
  },
  {
   "cell_type": "markdown",
   "id": "d67efcf2-1f52-49b3-a4a8-7f75a96dbfb7",
   "metadata": {},
   "source": [
    "## Adding & Modifying Columns"
   ]
  },
  {
   "cell_type": "code",
   "execution_count": 160,
   "id": "b7508b5a-8bf4-4683-ac41-b717007c6b5f",
   "metadata": {},
   "outputs": [
    {
     "data": {
      "text/html": [
       "<div>\n",
       "<style scoped>\n",
       "    .dataframe tbody tr th:only-of-type {\n",
       "        vertical-align: middle;\n",
       "    }\n",
       "\n",
       "    .dataframe tbody tr th {\n",
       "        vertical-align: top;\n",
       "    }\n",
       "\n",
       "    .dataframe thead th {\n",
       "        text-align: right;\n",
       "    }\n",
       "</style>\n",
       "<table border=\"1\" class=\"dataframe\">\n",
       "  <thead>\n",
       "    <tr style=\"text-align: right;\">\n",
       "      <th></th>\n",
       "      <th>season</th>\n",
       "      <th>yr</th>\n",
       "      <th>mnth</th>\n",
       "      <th>holiday</th>\n",
       "      <th>weekday</th>\n",
       "      <th>workingday</th>\n",
       "      <th>weathersit</th>\n",
       "      <th>temp</th>\n",
       "      <th>atemp</th>\n",
       "      <th>hum</th>\n",
       "      <th>windspeed</th>\n",
       "      <th>cnt</th>\n",
       "      <th>extra_column</th>\n",
       "    </tr>\n",
       "  </thead>\n",
       "  <tbody>\n",
       "    <tr>\n",
       "      <th>0</th>\n",
       "      <td>spring</td>\n",
       "      <td>2011</td>\n",
       "      <td>january</td>\n",
       "      <td>0.0</td>\n",
       "      <td>6.0</td>\n",
       "      <td>0.0</td>\n",
       "      <td>2.0</td>\n",
       "      <td>24.175849</td>\n",
       "      <td>39.999250</td>\n",
       "      <td>80.5833</td>\n",
       "      <td>10.749882</td>\n",
       "      <td>985.0</td>\n",
       "      <td>0</td>\n",
       "    </tr>\n",
       "    <tr>\n",
       "      <th>1</th>\n",
       "      <td>spring</td>\n",
       "      <td>2011</td>\n",
       "      <td>january</td>\n",
       "      <td>0.0</td>\n",
       "      <td>0.0</td>\n",
       "      <td>0.0</td>\n",
       "      <td>2.0</td>\n",
       "      <td>25.083466</td>\n",
       "      <td>39.346774</td>\n",
       "      <td>69.6087</td>\n",
       "      <td>16.652113</td>\n",
       "      <td>801.0</td>\n",
       "      <td>0</td>\n",
       "    </tr>\n",
       "    <tr>\n",
       "      <th>2</th>\n",
       "      <td>spring</td>\n",
       "      <td>2011</td>\n",
       "      <td>january</td>\n",
       "      <td>0.0</td>\n",
       "      <td>1.0</td>\n",
       "      <td>1.0</td>\n",
       "      <td>1.0</td>\n",
       "      <td>17.229108</td>\n",
       "      <td>28.500730</td>\n",
       "      <td>43.7273</td>\n",
       "      <td>16.636703</td>\n",
       "      <td>1349.0</td>\n",
       "      <td>0</td>\n",
       "    </tr>\n",
       "    <tr>\n",
       "      <th>3</th>\n",
       "      <td>spring</td>\n",
       "      <td>2011</td>\n",
       "      <td>january</td>\n",
       "      <td>0.0</td>\n",
       "      <td>2.0</td>\n",
       "      <td>1.0</td>\n",
       "      <td>1.0</td>\n",
       "      <td>17.400000</td>\n",
       "      <td>30.000052</td>\n",
       "      <td>59.0435</td>\n",
       "      <td>10.739832</td>\n",
       "      <td>1562.0</td>\n",
       "      <td>0</td>\n",
       "    </tr>\n",
       "    <tr>\n",
       "      <th>4</th>\n",
       "      <td>spring</td>\n",
       "      <td>2011</td>\n",
       "      <td>january</td>\n",
       "      <td>0.0</td>\n",
       "      <td>3.0</td>\n",
       "      <td>1.0</td>\n",
       "      <td>1.0</td>\n",
       "      <td>18.666979</td>\n",
       "      <td>31.131820</td>\n",
       "      <td>43.6957</td>\n",
       "      <td>12.522300</td>\n",
       "      <td>1600.0</td>\n",
       "      <td>0</td>\n",
       "    </tr>\n",
       "    <tr>\n",
       "      <th>...</th>\n",
       "      <td>...</td>\n",
       "      <td>...</td>\n",
       "      <td>...</td>\n",
       "      <td>...</td>\n",
       "      <td>...</td>\n",
       "      <td>...</td>\n",
       "      <td>...</td>\n",
       "      <td>...</td>\n",
       "      <td>...</td>\n",
       "      <td>...</td>\n",
       "      <td>...</td>\n",
       "      <td>...</td>\n",
       "      <td>...</td>\n",
       "    </tr>\n",
       "    <tr>\n",
       "      <th>726</th>\n",
       "      <td>spring</td>\n",
       "      <td>2012</td>\n",
       "      <td>december</td>\n",
       "      <td>0.0</td>\n",
       "      <td>4.0</td>\n",
       "      <td>1.0</td>\n",
       "      <td>2.0</td>\n",
       "      <td>19.945849</td>\n",
       "      <td>30.958372</td>\n",
       "      <td>65.2917</td>\n",
       "      <td>23.458911</td>\n",
       "      <td>2114.0</td>\n",
       "      <td>0</td>\n",
       "    </tr>\n",
       "    <tr>\n",
       "      <th>727</th>\n",
       "      <td>spring</td>\n",
       "      <td>2012</td>\n",
       "      <td>december</td>\n",
       "      <td>0.0</td>\n",
       "      <td>5.0</td>\n",
       "      <td>1.0</td>\n",
       "      <td>2.0</td>\n",
       "      <td>19.906651</td>\n",
       "      <td>32.833036</td>\n",
       "      <td>59.0000</td>\n",
       "      <td>10.416557</td>\n",
       "      <td>3095.0</td>\n",
       "      <td>0</td>\n",
       "    </tr>\n",
       "    <tr>\n",
       "      <th>728</th>\n",
       "      <td>spring</td>\n",
       "      <td>2012</td>\n",
       "      <td>december</td>\n",
       "      <td>0.0</td>\n",
       "      <td>6.0</td>\n",
       "      <td>0.0</td>\n",
       "      <td>2.0</td>\n",
       "      <td>19.906651</td>\n",
       "      <td>31.998400</td>\n",
       "      <td>75.2917</td>\n",
       "      <td>8.333661</td>\n",
       "      <td>1341.0</td>\n",
       "      <td>0</td>\n",
       "    </tr>\n",
       "    <tr>\n",
       "      <th>729</th>\n",
       "      <td>spring</td>\n",
       "      <td>2012</td>\n",
       "      <td>december</td>\n",
       "      <td>0.0</td>\n",
       "      <td>0.0</td>\n",
       "      <td>0.0</td>\n",
       "      <td>1.0</td>\n",
       "      <td>20.024151</td>\n",
       "      <td>31.292200</td>\n",
       "      <td>48.3333</td>\n",
       "      <td>23.500518</td>\n",
       "      <td>1796.0</td>\n",
       "      <td>0</td>\n",
       "    </tr>\n",
       "    <tr>\n",
       "      <th>730</th>\n",
       "      <td>spring</td>\n",
       "      <td>2012</td>\n",
       "      <td>december</td>\n",
       "      <td>0.0</td>\n",
       "      <td>1.0</td>\n",
       "      <td>1.0</td>\n",
       "      <td>2.0</td>\n",
       "      <td>18.144151</td>\n",
       "      <td>30.750142</td>\n",
       "      <td>57.7500</td>\n",
       "      <td>10.374682</td>\n",
       "      <td>2729.0</td>\n",
       "      <td>0</td>\n",
       "    </tr>\n",
       "  </tbody>\n",
       "</table>\n",
       "<p>731 rows × 13 columns</p>\n",
       "</div>"
      ],
      "text/plain": [
       "     season    yr      mnth  holiday  weekday  workingday  weathersit  \\\n",
       "0    spring  2011   january      0.0      6.0         0.0         2.0   \n",
       "1    spring  2011   january      0.0      0.0         0.0         2.0   \n",
       "2    spring  2011   january      0.0      1.0         1.0         1.0   \n",
       "3    spring  2011   january      0.0      2.0         1.0         1.0   \n",
       "4    spring  2011   january      0.0      3.0         1.0         1.0   \n",
       "..      ...   ...       ...      ...      ...         ...         ...   \n",
       "726  spring  2012  december      0.0      4.0         1.0         2.0   \n",
       "727  spring  2012  december      0.0      5.0         1.0         2.0   \n",
       "728  spring  2012  december      0.0      6.0         0.0         2.0   \n",
       "729  spring  2012  december      0.0      0.0         0.0         1.0   \n",
       "730  spring  2012  december      0.0      1.0         1.0         2.0   \n",
       "\n",
       "          temp      atemp      hum  windspeed     cnt  extra_column  \n",
       "0    24.175849  39.999250  80.5833  10.749882   985.0             0  \n",
       "1    25.083466  39.346774  69.6087  16.652113   801.0             0  \n",
       "2    17.229108  28.500730  43.7273  16.636703  1349.0             0  \n",
       "3    17.400000  30.000052  59.0435  10.739832  1562.0             0  \n",
       "4    18.666979  31.131820  43.6957  12.522300  1600.0             0  \n",
       "..         ...        ...      ...        ...     ...           ...  \n",
       "726  19.945849  30.958372  65.2917  23.458911  2114.0             0  \n",
       "727  19.906651  32.833036  59.0000  10.416557  3095.0             0  \n",
       "728  19.906651  31.998400  75.2917   8.333661  1341.0             0  \n",
       "729  20.024151  31.292200  48.3333  23.500518  1796.0             0  \n",
       "730  18.144151  30.750142  57.7500  10.374682  2729.0             0  \n",
       "\n",
       "[731 rows x 13 columns]"
      ]
     },
     "execution_count": 160,
     "metadata": {},
     "output_type": "execute_result"
    }
   ],
   "source": [
    "# we can add columns easily, we can assign constant values (and broadcast it), or vectors with the same length as your dataframe\n",
    "df[\"extra_column\"] = 0\n",
    "df"
   ]
  },
  {
   "cell_type": "code",
   "execution_count": 161,
   "id": "74de04b6-054b-43b0-ad39-cde06de1f5a4",
   "metadata": {},
   "outputs": [
    {
     "data": {
      "text/html": [
       "<div>\n",
       "<style scoped>\n",
       "    .dataframe tbody tr th:only-of-type {\n",
       "        vertical-align: middle;\n",
       "    }\n",
       "\n",
       "    .dataframe tbody tr th {\n",
       "        vertical-align: top;\n",
       "    }\n",
       "\n",
       "    .dataframe thead th {\n",
       "        text-align: right;\n",
       "    }\n",
       "</style>\n",
       "<table border=\"1\" class=\"dataframe\">\n",
       "  <thead>\n",
       "    <tr style=\"text-align: right;\">\n",
       "      <th></th>\n",
       "      <th>season</th>\n",
       "      <th>yr</th>\n",
       "      <th>mnth</th>\n",
       "      <th>holiday</th>\n",
       "      <th>weekday</th>\n",
       "      <th>workingday</th>\n",
       "      <th>weathersit</th>\n",
       "      <th>temp</th>\n",
       "      <th>atemp</th>\n",
       "      <th>hum</th>\n",
       "      <th>windspeed</th>\n",
       "      <th>cnt</th>\n",
       "      <th>extra_column</th>\n",
       "      <th>temp_diff</th>\n",
       "    </tr>\n",
       "  </thead>\n",
       "  <tbody>\n",
       "    <tr>\n",
       "      <th>0</th>\n",
       "      <td>spring</td>\n",
       "      <td>2011</td>\n",
       "      <td>january</td>\n",
       "      <td>0.0</td>\n",
       "      <td>6.0</td>\n",
       "      <td>0.0</td>\n",
       "      <td>2.0</td>\n",
       "      <td>24.175849</td>\n",
       "      <td>39.999250</td>\n",
       "      <td>80.5833</td>\n",
       "      <td>10.749882</td>\n",
       "      <td>985.0</td>\n",
       "      <td>0</td>\n",
       "      <td>-15.823401</td>\n",
       "    </tr>\n",
       "    <tr>\n",
       "      <th>1</th>\n",
       "      <td>spring</td>\n",
       "      <td>2011</td>\n",
       "      <td>january</td>\n",
       "      <td>0.0</td>\n",
       "      <td>0.0</td>\n",
       "      <td>0.0</td>\n",
       "      <td>2.0</td>\n",
       "      <td>25.083466</td>\n",
       "      <td>39.346774</td>\n",
       "      <td>69.6087</td>\n",
       "      <td>16.652113</td>\n",
       "      <td>801.0</td>\n",
       "      <td>0</td>\n",
       "      <td>-14.263308</td>\n",
       "    </tr>\n",
       "    <tr>\n",
       "      <th>2</th>\n",
       "      <td>spring</td>\n",
       "      <td>2011</td>\n",
       "      <td>january</td>\n",
       "      <td>0.0</td>\n",
       "      <td>1.0</td>\n",
       "      <td>1.0</td>\n",
       "      <td>1.0</td>\n",
       "      <td>17.229108</td>\n",
       "      <td>28.500730</td>\n",
       "      <td>43.7273</td>\n",
       "      <td>16.636703</td>\n",
       "      <td>1349.0</td>\n",
       "      <td>0</td>\n",
       "      <td>-11.271622</td>\n",
       "    </tr>\n",
       "    <tr>\n",
       "      <th>3</th>\n",
       "      <td>spring</td>\n",
       "      <td>2011</td>\n",
       "      <td>january</td>\n",
       "      <td>0.0</td>\n",
       "      <td>2.0</td>\n",
       "      <td>1.0</td>\n",
       "      <td>1.0</td>\n",
       "      <td>17.400000</td>\n",
       "      <td>30.000052</td>\n",
       "      <td>59.0435</td>\n",
       "      <td>10.739832</td>\n",
       "      <td>1562.0</td>\n",
       "      <td>0</td>\n",
       "      <td>-12.600052</td>\n",
       "    </tr>\n",
       "    <tr>\n",
       "      <th>4</th>\n",
       "      <td>spring</td>\n",
       "      <td>2011</td>\n",
       "      <td>january</td>\n",
       "      <td>0.0</td>\n",
       "      <td>3.0</td>\n",
       "      <td>1.0</td>\n",
       "      <td>1.0</td>\n",
       "      <td>18.666979</td>\n",
       "      <td>31.131820</td>\n",
       "      <td>43.6957</td>\n",
       "      <td>12.522300</td>\n",
       "      <td>1600.0</td>\n",
       "      <td>0</td>\n",
       "      <td>-12.464841</td>\n",
       "    </tr>\n",
       "    <tr>\n",
       "      <th>...</th>\n",
       "      <td>...</td>\n",
       "      <td>...</td>\n",
       "      <td>...</td>\n",
       "      <td>...</td>\n",
       "      <td>...</td>\n",
       "      <td>...</td>\n",
       "      <td>...</td>\n",
       "      <td>...</td>\n",
       "      <td>...</td>\n",
       "      <td>...</td>\n",
       "      <td>...</td>\n",
       "      <td>...</td>\n",
       "      <td>...</td>\n",
       "      <td>...</td>\n",
       "    </tr>\n",
       "    <tr>\n",
       "      <th>726</th>\n",
       "      <td>spring</td>\n",
       "      <td>2012</td>\n",
       "      <td>december</td>\n",
       "      <td>0.0</td>\n",
       "      <td>4.0</td>\n",
       "      <td>1.0</td>\n",
       "      <td>2.0</td>\n",
       "      <td>19.945849</td>\n",
       "      <td>30.958372</td>\n",
       "      <td>65.2917</td>\n",
       "      <td>23.458911</td>\n",
       "      <td>2114.0</td>\n",
       "      <td>0</td>\n",
       "      <td>-11.012523</td>\n",
       "    </tr>\n",
       "    <tr>\n",
       "      <th>727</th>\n",
       "      <td>spring</td>\n",
       "      <td>2012</td>\n",
       "      <td>december</td>\n",
       "      <td>0.0</td>\n",
       "      <td>5.0</td>\n",
       "      <td>1.0</td>\n",
       "      <td>2.0</td>\n",
       "      <td>19.906651</td>\n",
       "      <td>32.833036</td>\n",
       "      <td>59.0000</td>\n",
       "      <td>10.416557</td>\n",
       "      <td>3095.0</td>\n",
       "      <td>0</td>\n",
       "      <td>-12.926385</td>\n",
       "    </tr>\n",
       "    <tr>\n",
       "      <th>728</th>\n",
       "      <td>spring</td>\n",
       "      <td>2012</td>\n",
       "      <td>december</td>\n",
       "      <td>0.0</td>\n",
       "      <td>6.0</td>\n",
       "      <td>0.0</td>\n",
       "      <td>2.0</td>\n",
       "      <td>19.906651</td>\n",
       "      <td>31.998400</td>\n",
       "      <td>75.2917</td>\n",
       "      <td>8.333661</td>\n",
       "      <td>1341.0</td>\n",
       "      <td>0</td>\n",
       "      <td>-12.091749</td>\n",
       "    </tr>\n",
       "    <tr>\n",
       "      <th>729</th>\n",
       "      <td>spring</td>\n",
       "      <td>2012</td>\n",
       "      <td>december</td>\n",
       "      <td>0.0</td>\n",
       "      <td>0.0</td>\n",
       "      <td>0.0</td>\n",
       "      <td>1.0</td>\n",
       "      <td>20.024151</td>\n",
       "      <td>31.292200</td>\n",
       "      <td>48.3333</td>\n",
       "      <td>23.500518</td>\n",
       "      <td>1796.0</td>\n",
       "      <td>0</td>\n",
       "      <td>-11.268049</td>\n",
       "    </tr>\n",
       "    <tr>\n",
       "      <th>730</th>\n",
       "      <td>spring</td>\n",
       "      <td>2012</td>\n",
       "      <td>december</td>\n",
       "      <td>0.0</td>\n",
       "      <td>1.0</td>\n",
       "      <td>1.0</td>\n",
       "      <td>2.0</td>\n",
       "      <td>18.144151</td>\n",
       "      <td>30.750142</td>\n",
       "      <td>57.7500</td>\n",
       "      <td>10.374682</td>\n",
       "      <td>2729.0</td>\n",
       "      <td>0</td>\n",
       "      <td>-12.605991</td>\n",
       "    </tr>\n",
       "  </tbody>\n",
       "</table>\n",
       "<p>731 rows × 14 columns</p>\n",
       "</div>"
      ],
      "text/plain": [
       "     season    yr      mnth  holiday  weekday  workingday  weathersit  \\\n",
       "0    spring  2011   january      0.0      6.0         0.0         2.0   \n",
       "1    spring  2011   january      0.0      0.0         0.0         2.0   \n",
       "2    spring  2011   january      0.0      1.0         1.0         1.0   \n",
       "3    spring  2011   january      0.0      2.0         1.0         1.0   \n",
       "4    spring  2011   january      0.0      3.0         1.0         1.0   \n",
       "..      ...   ...       ...      ...      ...         ...         ...   \n",
       "726  spring  2012  december      0.0      4.0         1.0         2.0   \n",
       "727  spring  2012  december      0.0      5.0         1.0         2.0   \n",
       "728  spring  2012  december      0.0      6.0         0.0         2.0   \n",
       "729  spring  2012  december      0.0      0.0         0.0         1.0   \n",
       "730  spring  2012  december      0.0      1.0         1.0         2.0   \n",
       "\n",
       "          temp      atemp      hum  windspeed     cnt  extra_column  temp_diff  \n",
       "0    24.175849  39.999250  80.5833  10.749882   985.0             0 -15.823401  \n",
       "1    25.083466  39.346774  69.6087  16.652113   801.0             0 -14.263308  \n",
       "2    17.229108  28.500730  43.7273  16.636703  1349.0             0 -11.271622  \n",
       "3    17.400000  30.000052  59.0435  10.739832  1562.0             0 -12.600052  \n",
       "4    18.666979  31.131820  43.6957  12.522300  1600.0             0 -12.464841  \n",
       "..         ...        ...      ...        ...     ...           ...        ...  \n",
       "726  19.945849  30.958372  65.2917  23.458911  2114.0             0 -11.012523  \n",
       "727  19.906651  32.833036  59.0000  10.416557  3095.0             0 -12.926385  \n",
       "728  19.906651  31.998400  75.2917   8.333661  1341.0             0 -12.091749  \n",
       "729  20.024151  31.292200  48.3333  23.500518  1796.0             0 -11.268049  \n",
       "730  18.144151  30.750142  57.7500  10.374682  2729.0             0 -12.605991  \n",
       "\n",
       "[731 rows x 14 columns]"
      ]
     },
     "execution_count": 161,
     "metadata": {},
     "output_type": "execute_result"
    }
   ],
   "source": [
    "# we can assign the result of vector arithmetics, \n",
    "# for example: lets calculate the difference of atemp and temp, and assign it to the temp_diff column\n",
    "df[\"temp_diff\"] = df.temp - df.atemp\n",
    "df"
   ]
  },
  {
   "cell_type": "code",
   "execution_count": 162,
   "id": "17c9bdb1-25ad-4478-8691-91e04d8a1236",
   "metadata": {},
   "outputs": [
    {
     "data": {
      "text/html": [
       "<div>\n",
       "<style scoped>\n",
       "    .dataframe tbody tr th:only-of-type {\n",
       "        vertical-align: middle;\n",
       "    }\n",
       "\n",
       "    .dataframe tbody tr th {\n",
       "        vertical-align: top;\n",
       "    }\n",
       "\n",
       "    .dataframe thead th {\n",
       "        text-align: right;\n",
       "    }\n",
       "</style>\n",
       "<table border=\"1\" class=\"dataframe\">\n",
       "  <thead>\n",
       "    <tr style=\"text-align: right;\">\n",
       "      <th></th>\n",
       "      <th>season</th>\n",
       "      <th>yr</th>\n",
       "      <th>mnth</th>\n",
       "      <th>holiday</th>\n",
       "      <th>weekday</th>\n",
       "      <th>workingday</th>\n",
       "      <th>weathersit</th>\n",
       "      <th>temp</th>\n",
       "      <th>atemp</th>\n",
       "      <th>hum</th>\n",
       "      <th>windspeed</th>\n",
       "      <th>cnt</th>\n",
       "      <th>extra_column</th>\n",
       "      <th>temp_diff</th>\n",
       "    </tr>\n",
       "  </thead>\n",
       "  <tbody>\n",
       "    <tr>\n",
       "      <th>0</th>\n",
       "      <td>spring</td>\n",
       "      <td>2011</td>\n",
       "      <td>january</td>\n",
       "      <td>0.0</td>\n",
       "      <td>6.0</td>\n",
       "      <td>0.0</td>\n",
       "      <td>2.0</td>\n",
       "      <td>24.175849</td>\n",
       "      <td>39.999250</td>\n",
       "      <td>80.5833</td>\n",
       "      <td>10.749882</td>\n",
       "      <td>985.0</td>\n",
       "      <td>0</td>\n",
       "      <td>15.823401</td>\n",
       "    </tr>\n",
       "    <tr>\n",
       "      <th>1</th>\n",
       "      <td>spring</td>\n",
       "      <td>2011</td>\n",
       "      <td>january</td>\n",
       "      <td>0.0</td>\n",
       "      <td>0.0</td>\n",
       "      <td>0.0</td>\n",
       "      <td>2.0</td>\n",
       "      <td>25.083466</td>\n",
       "      <td>39.346774</td>\n",
       "      <td>69.6087</td>\n",
       "      <td>16.652113</td>\n",
       "      <td>801.0</td>\n",
       "      <td>0</td>\n",
       "      <td>14.263308</td>\n",
       "    </tr>\n",
       "    <tr>\n",
       "      <th>2</th>\n",
       "      <td>spring</td>\n",
       "      <td>2011</td>\n",
       "      <td>january</td>\n",
       "      <td>0.0</td>\n",
       "      <td>1.0</td>\n",
       "      <td>1.0</td>\n",
       "      <td>1.0</td>\n",
       "      <td>17.229108</td>\n",
       "      <td>28.500730</td>\n",
       "      <td>43.7273</td>\n",
       "      <td>16.636703</td>\n",
       "      <td>1349.0</td>\n",
       "      <td>0</td>\n",
       "      <td>11.271622</td>\n",
       "    </tr>\n",
       "    <tr>\n",
       "      <th>3</th>\n",
       "      <td>spring</td>\n",
       "      <td>2011</td>\n",
       "      <td>january</td>\n",
       "      <td>0.0</td>\n",
       "      <td>2.0</td>\n",
       "      <td>1.0</td>\n",
       "      <td>1.0</td>\n",
       "      <td>17.400000</td>\n",
       "      <td>30.000052</td>\n",
       "      <td>59.0435</td>\n",
       "      <td>10.739832</td>\n",
       "      <td>1562.0</td>\n",
       "      <td>0</td>\n",
       "      <td>12.600052</td>\n",
       "    </tr>\n",
       "    <tr>\n",
       "      <th>4</th>\n",
       "      <td>spring</td>\n",
       "      <td>2011</td>\n",
       "      <td>january</td>\n",
       "      <td>0.0</td>\n",
       "      <td>3.0</td>\n",
       "      <td>1.0</td>\n",
       "      <td>1.0</td>\n",
       "      <td>18.666979</td>\n",
       "      <td>31.131820</td>\n",
       "      <td>43.6957</td>\n",
       "      <td>12.522300</td>\n",
       "      <td>1600.0</td>\n",
       "      <td>0</td>\n",
       "      <td>12.464841</td>\n",
       "    </tr>\n",
       "    <tr>\n",
       "      <th>...</th>\n",
       "      <td>...</td>\n",
       "      <td>...</td>\n",
       "      <td>...</td>\n",
       "      <td>...</td>\n",
       "      <td>...</td>\n",
       "      <td>...</td>\n",
       "      <td>...</td>\n",
       "      <td>...</td>\n",
       "      <td>...</td>\n",
       "      <td>...</td>\n",
       "      <td>...</td>\n",
       "      <td>...</td>\n",
       "      <td>...</td>\n",
       "      <td>...</td>\n",
       "    </tr>\n",
       "    <tr>\n",
       "      <th>726</th>\n",
       "      <td>spring</td>\n",
       "      <td>2012</td>\n",
       "      <td>december</td>\n",
       "      <td>0.0</td>\n",
       "      <td>4.0</td>\n",
       "      <td>1.0</td>\n",
       "      <td>2.0</td>\n",
       "      <td>19.945849</td>\n",
       "      <td>30.958372</td>\n",
       "      <td>65.2917</td>\n",
       "      <td>23.458911</td>\n",
       "      <td>2114.0</td>\n",
       "      <td>0</td>\n",
       "      <td>11.012523</td>\n",
       "    </tr>\n",
       "    <tr>\n",
       "      <th>727</th>\n",
       "      <td>spring</td>\n",
       "      <td>2012</td>\n",
       "      <td>december</td>\n",
       "      <td>0.0</td>\n",
       "      <td>5.0</td>\n",
       "      <td>1.0</td>\n",
       "      <td>2.0</td>\n",
       "      <td>19.906651</td>\n",
       "      <td>32.833036</td>\n",
       "      <td>59.0000</td>\n",
       "      <td>10.416557</td>\n",
       "      <td>3095.0</td>\n",
       "      <td>0</td>\n",
       "      <td>12.926385</td>\n",
       "    </tr>\n",
       "    <tr>\n",
       "      <th>728</th>\n",
       "      <td>spring</td>\n",
       "      <td>2012</td>\n",
       "      <td>december</td>\n",
       "      <td>0.0</td>\n",
       "      <td>6.0</td>\n",
       "      <td>0.0</td>\n",
       "      <td>2.0</td>\n",
       "      <td>19.906651</td>\n",
       "      <td>31.998400</td>\n",
       "      <td>75.2917</td>\n",
       "      <td>8.333661</td>\n",
       "      <td>1341.0</td>\n",
       "      <td>0</td>\n",
       "      <td>12.091749</td>\n",
       "    </tr>\n",
       "    <tr>\n",
       "      <th>729</th>\n",
       "      <td>spring</td>\n",
       "      <td>2012</td>\n",
       "      <td>december</td>\n",
       "      <td>0.0</td>\n",
       "      <td>0.0</td>\n",
       "      <td>0.0</td>\n",
       "      <td>1.0</td>\n",
       "      <td>20.024151</td>\n",
       "      <td>31.292200</td>\n",
       "      <td>48.3333</td>\n",
       "      <td>23.500518</td>\n",
       "      <td>1796.0</td>\n",
       "      <td>0</td>\n",
       "      <td>11.268049</td>\n",
       "    </tr>\n",
       "    <tr>\n",
       "      <th>730</th>\n",
       "      <td>spring</td>\n",
       "      <td>2012</td>\n",
       "      <td>december</td>\n",
       "      <td>0.0</td>\n",
       "      <td>1.0</td>\n",
       "      <td>1.0</td>\n",
       "      <td>2.0</td>\n",
       "      <td>18.144151</td>\n",
       "      <td>30.750142</td>\n",
       "      <td>57.7500</td>\n",
       "      <td>10.374682</td>\n",
       "      <td>2729.0</td>\n",
       "      <td>0</td>\n",
       "      <td>12.605991</td>\n",
       "    </tr>\n",
       "  </tbody>\n",
       "</table>\n",
       "<p>731 rows × 14 columns</p>\n",
       "</div>"
      ],
      "text/plain": [
       "     season    yr      mnth  holiday  weekday  workingday  weathersit  \\\n",
       "0    spring  2011   january      0.0      6.0         0.0         2.0   \n",
       "1    spring  2011   january      0.0      0.0         0.0         2.0   \n",
       "2    spring  2011   january      0.0      1.0         1.0         1.0   \n",
       "3    spring  2011   january      0.0      2.0         1.0         1.0   \n",
       "4    spring  2011   january      0.0      3.0         1.0         1.0   \n",
       "..      ...   ...       ...      ...      ...         ...         ...   \n",
       "726  spring  2012  december      0.0      4.0         1.0         2.0   \n",
       "727  spring  2012  december      0.0      5.0         1.0         2.0   \n",
       "728  spring  2012  december      0.0      6.0         0.0         2.0   \n",
       "729  spring  2012  december      0.0      0.0         0.0         1.0   \n",
       "730  spring  2012  december      0.0      1.0         1.0         2.0   \n",
       "\n",
       "          temp      atemp      hum  windspeed     cnt  extra_column  temp_diff  \n",
       "0    24.175849  39.999250  80.5833  10.749882   985.0             0  15.823401  \n",
       "1    25.083466  39.346774  69.6087  16.652113   801.0             0  14.263308  \n",
       "2    17.229108  28.500730  43.7273  16.636703  1349.0             0  11.271622  \n",
       "3    17.400000  30.000052  59.0435  10.739832  1562.0             0  12.600052  \n",
       "4    18.666979  31.131820  43.6957  12.522300  1600.0             0  12.464841  \n",
       "..         ...        ...      ...        ...     ...           ...        ...  \n",
       "726  19.945849  30.958372  65.2917  23.458911  2114.0             0  11.012523  \n",
       "727  19.906651  32.833036  59.0000  10.416557  3095.0             0  12.926385  \n",
       "728  19.906651  31.998400  75.2917   8.333661  1341.0             0  12.091749  \n",
       "729  20.024151  31.292200  48.3333  23.500518  1796.0             0  11.268049  \n",
       "730  18.144151  30.750142  57.7500  10.374682  2729.0             0  12.605991  \n",
       "\n",
       "[731 rows x 14 columns]"
      ]
     },
     "execution_count": 162,
     "metadata": {},
     "output_type": "execute_result"
    }
   ],
   "source": [
    "# we can also apply any operation to rows or columns\n",
    "# lets take the absolute value of temp_diff\n",
    "# we can pass any function to apply, in this case we are going to pass np.abs, but we can provide any lambda function or function names too\n",
    "df[\"temp_diff\"] = df[\"temp_diff\"].apply(np.abs)\n",
    "df"
   ]
  },
  {
   "cell_type": "code",
   "execution_count": 163,
   "id": "90f5df37-937e-4b88-aeb9-e97baf2d793b",
   "metadata": {},
   "outputs": [
    {
     "data": {
      "text/html": [
       "<div>\n",
       "<style scoped>\n",
       "    .dataframe tbody tr th:only-of-type {\n",
       "        vertical-align: middle;\n",
       "    }\n",
       "\n",
       "    .dataframe tbody tr th {\n",
       "        vertical-align: top;\n",
       "    }\n",
       "\n",
       "    .dataframe thead th {\n",
       "        text-align: right;\n",
       "    }\n",
       "</style>\n",
       "<table border=\"1\" class=\"dataframe\">\n",
       "  <thead>\n",
       "    <tr style=\"text-align: right;\">\n",
       "      <th></th>\n",
       "      <th>season</th>\n",
       "      <th>yr</th>\n",
       "      <th>mnth</th>\n",
       "      <th>holiday</th>\n",
       "      <th>weekday</th>\n",
       "      <th>workingday</th>\n",
       "      <th>weathersit</th>\n",
       "      <th>temp</th>\n",
       "      <th>atemp</th>\n",
       "      <th>hum</th>\n",
       "      <th>windspeed</th>\n",
       "      <th>cnt</th>\n",
       "      <th>extra_column</th>\n",
       "      <th>temp_diff</th>\n",
       "    </tr>\n",
       "  </thead>\n",
       "  <tbody>\n",
       "    <tr>\n",
       "      <th>0</th>\n",
       "      <td>spring</td>\n",
       "      <td>2011</td>\n",
       "      <td>january</td>\n",
       "      <td>0.0</td>\n",
       "      <td>6.0</td>\n",
       "      <td>0.0</td>\n",
       "      <td>2.0</td>\n",
       "      <td>24.175849</td>\n",
       "      <td>39.999250</td>\n",
       "      <td>80.5833</td>\n",
       "      <td>10.749882</td>\n",
       "      <td>985.0</td>\n",
       "      <td>0</td>\n",
       "      <td>1.582340</td>\n",
       "    </tr>\n",
       "    <tr>\n",
       "      <th>1</th>\n",
       "      <td>spring</td>\n",
       "      <td>2011</td>\n",
       "      <td>january</td>\n",
       "      <td>0.0</td>\n",
       "      <td>0.0</td>\n",
       "      <td>0.0</td>\n",
       "      <td>2.0</td>\n",
       "      <td>25.083466</td>\n",
       "      <td>39.346774</td>\n",
       "      <td>69.6087</td>\n",
       "      <td>16.652113</td>\n",
       "      <td>801.0</td>\n",
       "      <td>0</td>\n",
       "      <td>1.426331</td>\n",
       "    </tr>\n",
       "    <tr>\n",
       "      <th>2</th>\n",
       "      <td>spring</td>\n",
       "      <td>2011</td>\n",
       "      <td>january</td>\n",
       "      <td>0.0</td>\n",
       "      <td>1.0</td>\n",
       "      <td>1.0</td>\n",
       "      <td>1.0</td>\n",
       "      <td>17.229108</td>\n",
       "      <td>28.500730</td>\n",
       "      <td>43.7273</td>\n",
       "      <td>16.636703</td>\n",
       "      <td>1349.0</td>\n",
       "      <td>0</td>\n",
       "      <td>1.127162</td>\n",
       "    </tr>\n",
       "    <tr>\n",
       "      <th>3</th>\n",
       "      <td>spring</td>\n",
       "      <td>2011</td>\n",
       "      <td>january</td>\n",
       "      <td>0.0</td>\n",
       "      <td>2.0</td>\n",
       "      <td>1.0</td>\n",
       "      <td>1.0</td>\n",
       "      <td>17.400000</td>\n",
       "      <td>30.000052</td>\n",
       "      <td>59.0435</td>\n",
       "      <td>10.739832</td>\n",
       "      <td>1562.0</td>\n",
       "      <td>0</td>\n",
       "      <td>1.260005</td>\n",
       "    </tr>\n",
       "    <tr>\n",
       "      <th>4</th>\n",
       "      <td>spring</td>\n",
       "      <td>2011</td>\n",
       "      <td>january</td>\n",
       "      <td>0.0</td>\n",
       "      <td>3.0</td>\n",
       "      <td>1.0</td>\n",
       "      <td>1.0</td>\n",
       "      <td>18.666979</td>\n",
       "      <td>31.131820</td>\n",
       "      <td>43.6957</td>\n",
       "      <td>12.522300</td>\n",
       "      <td>1600.0</td>\n",
       "      <td>0</td>\n",
       "      <td>1.246484</td>\n",
       "    </tr>\n",
       "    <tr>\n",
       "      <th>...</th>\n",
       "      <td>...</td>\n",
       "      <td>...</td>\n",
       "      <td>...</td>\n",
       "      <td>...</td>\n",
       "      <td>...</td>\n",
       "      <td>...</td>\n",
       "      <td>...</td>\n",
       "      <td>...</td>\n",
       "      <td>...</td>\n",
       "      <td>...</td>\n",
       "      <td>...</td>\n",
       "      <td>...</td>\n",
       "      <td>...</td>\n",
       "      <td>...</td>\n",
       "    </tr>\n",
       "    <tr>\n",
       "      <th>726</th>\n",
       "      <td>spring</td>\n",
       "      <td>2012</td>\n",
       "      <td>december</td>\n",
       "      <td>0.0</td>\n",
       "      <td>4.0</td>\n",
       "      <td>1.0</td>\n",
       "      <td>2.0</td>\n",
       "      <td>19.945849</td>\n",
       "      <td>30.958372</td>\n",
       "      <td>65.2917</td>\n",
       "      <td>23.458911</td>\n",
       "      <td>2114.0</td>\n",
       "      <td>0</td>\n",
       "      <td>1.101252</td>\n",
       "    </tr>\n",
       "    <tr>\n",
       "      <th>727</th>\n",
       "      <td>spring</td>\n",
       "      <td>2012</td>\n",
       "      <td>december</td>\n",
       "      <td>0.0</td>\n",
       "      <td>5.0</td>\n",
       "      <td>1.0</td>\n",
       "      <td>2.0</td>\n",
       "      <td>19.906651</td>\n",
       "      <td>32.833036</td>\n",
       "      <td>59.0000</td>\n",
       "      <td>10.416557</td>\n",
       "      <td>3095.0</td>\n",
       "      <td>0</td>\n",
       "      <td>1.292639</td>\n",
       "    </tr>\n",
       "    <tr>\n",
       "      <th>728</th>\n",
       "      <td>spring</td>\n",
       "      <td>2012</td>\n",
       "      <td>december</td>\n",
       "      <td>0.0</td>\n",
       "      <td>6.0</td>\n",
       "      <td>0.0</td>\n",
       "      <td>2.0</td>\n",
       "      <td>19.906651</td>\n",
       "      <td>31.998400</td>\n",
       "      <td>75.2917</td>\n",
       "      <td>8.333661</td>\n",
       "      <td>1341.0</td>\n",
       "      <td>0</td>\n",
       "      <td>1.209175</td>\n",
       "    </tr>\n",
       "    <tr>\n",
       "      <th>729</th>\n",
       "      <td>spring</td>\n",
       "      <td>2012</td>\n",
       "      <td>december</td>\n",
       "      <td>0.0</td>\n",
       "      <td>0.0</td>\n",
       "      <td>0.0</td>\n",
       "      <td>1.0</td>\n",
       "      <td>20.024151</td>\n",
       "      <td>31.292200</td>\n",
       "      <td>48.3333</td>\n",
       "      <td>23.500518</td>\n",
       "      <td>1796.0</td>\n",
       "      <td>0</td>\n",
       "      <td>1.126805</td>\n",
       "    </tr>\n",
       "    <tr>\n",
       "      <th>730</th>\n",
       "      <td>spring</td>\n",
       "      <td>2012</td>\n",
       "      <td>december</td>\n",
       "      <td>0.0</td>\n",
       "      <td>1.0</td>\n",
       "      <td>1.0</td>\n",
       "      <td>2.0</td>\n",
       "      <td>18.144151</td>\n",
       "      <td>30.750142</td>\n",
       "      <td>57.7500</td>\n",
       "      <td>10.374682</td>\n",
       "      <td>2729.0</td>\n",
       "      <td>0</td>\n",
       "      <td>1.260599</td>\n",
       "    </tr>\n",
       "  </tbody>\n",
       "</table>\n",
       "<p>731 rows × 14 columns</p>\n",
       "</div>"
      ],
      "text/plain": [
       "     season    yr      mnth  holiday  weekday  workingday  weathersit  \\\n",
       "0    spring  2011   january      0.0      6.0         0.0         2.0   \n",
       "1    spring  2011   january      0.0      0.0         0.0         2.0   \n",
       "2    spring  2011   january      0.0      1.0         1.0         1.0   \n",
       "3    spring  2011   january      0.0      2.0         1.0         1.0   \n",
       "4    spring  2011   january      0.0      3.0         1.0         1.0   \n",
       "..      ...   ...       ...      ...      ...         ...         ...   \n",
       "726  spring  2012  december      0.0      4.0         1.0         2.0   \n",
       "727  spring  2012  december      0.0      5.0         1.0         2.0   \n",
       "728  spring  2012  december      0.0      6.0         0.0         2.0   \n",
       "729  spring  2012  december      0.0      0.0         0.0         1.0   \n",
       "730  spring  2012  december      0.0      1.0         1.0         2.0   \n",
       "\n",
       "          temp      atemp      hum  windspeed     cnt  extra_column  temp_diff  \n",
       "0    24.175849  39.999250  80.5833  10.749882   985.0             0   1.582340  \n",
       "1    25.083466  39.346774  69.6087  16.652113   801.0             0   1.426331  \n",
       "2    17.229108  28.500730  43.7273  16.636703  1349.0             0   1.127162  \n",
       "3    17.400000  30.000052  59.0435  10.739832  1562.0             0   1.260005  \n",
       "4    18.666979  31.131820  43.6957  12.522300  1600.0             0   1.246484  \n",
       "..         ...        ...      ...        ...     ...           ...        ...  \n",
       "726  19.945849  30.958372  65.2917  23.458911  2114.0             0   1.101252  \n",
       "727  19.906651  32.833036  59.0000  10.416557  3095.0             0   1.292639  \n",
       "728  19.906651  31.998400  75.2917   8.333661  1341.0             0   1.209175  \n",
       "729  20.024151  31.292200  48.3333  23.500518  1796.0             0   1.126805  \n",
       "730  18.144151  30.750142  57.7500  10.374682  2729.0             0   1.260599  \n",
       "\n",
       "[731 rows x 14 columns]"
      ]
     },
     "execution_count": 163,
     "metadata": {},
     "output_type": "execute_result"
    }
   ],
   "source": [
    "# example for lambda function\n",
    "# it will just divide the value with 10\n",
    "df[\"temp_diff\"] = df[\"temp_diff\"].apply(lambda x: x/10)\n",
    "df"
   ]
  },
  {
   "cell_type": "markdown",
   "id": "9960f520-2eb9-4c86-8ea6-355f157d3758",
   "metadata": {},
   "source": [
    "[More examples can be found at the API reference page](https://pandas.pydata.org/docs/reference/api/pandas.DataFrame.apply.html)"
   ]
  },
  {
   "cell_type": "markdown",
   "id": "78ded341-df68-4589-afd4-d669d7784a9e",
   "metadata": {},
   "source": [
    "## Aggregations & GroupBy"
   ]
  },
  {
   "cell_type": "code",
   "execution_count": 164,
   "id": "7ee49ce0-302b-4c6f-bb2e-aceec9aefd72",
   "metadata": {},
   "outputs": [
    {
     "data": {
      "text/plain": [
       "np.float64(31.28308505991792)"
      ]
     },
     "execution_count": 164,
     "metadata": {},
     "output_type": "execute_result"
    }
   ],
   "source": [
    "# we can aggrage (reduce) the data with the usual functions like\n",
    "df.temp.mean()"
   ]
  },
  {
   "cell_type": "code",
   "execution_count": 165,
   "id": "ce53f770-71c3-40f5-9f1a-7bb75b0e8bc3",
   "metadata": {},
   "outputs": [
    {
     "data": {
      "text/plain": [
       "np.float64(8.603396817239974)"
      ]
     },
     "execution_count": 165,
     "metadata": {},
     "output_type": "execute_result"
    }
   ],
   "source": [
    "df.temp.std()"
   ]
  },
  {
   "cell_type": "code",
   "execution_count": 166,
   "id": "201e51e6-2e85-46a4-8e10-047b3765baed",
   "metadata": {},
   "outputs": [
    {
     "data": {
      "text/html": [
       "<div>\n",
       "<style scoped>\n",
       "    .dataframe tbody tr th:only-of-type {\n",
       "        vertical-align: middle;\n",
       "    }\n",
       "\n",
       "    .dataframe tbody tr th {\n",
       "        vertical-align: top;\n",
       "    }\n",
       "\n",
       "    .dataframe thead th {\n",
       "        text-align: right;\n",
       "    }\n",
       "</style>\n",
       "<table border=\"1\" class=\"dataframe\">\n",
       "  <thead>\n",
       "    <tr style=\"text-align: right;\">\n",
       "      <th></th>\n",
       "      <th>temp</th>\n",
       "    </tr>\n",
       "    <tr>\n",
       "      <th>season</th>\n",
       "      <th></th>\n",
       "    </tr>\n",
       "  </thead>\n",
       "  <tbody>\n",
       "    <tr>\n",
       "      <th>fall</th>\n",
       "      <td>41.196537</td>\n",
       "    </tr>\n",
       "    <tr>\n",
       "      <th>spring</th>\n",
       "      <td>21.994135</td>\n",
       "    </tr>\n",
       "    <tr>\n",
       "      <th>summer</th>\n",
       "      <td>33.587042</td>\n",
       "    </tr>\n",
       "    <tr>\n",
       "      <th>winter</th>\n",
       "      <td>27.876584</td>\n",
       "    </tr>\n",
       "  </tbody>\n",
       "</table>\n",
       "</div>"
      ],
      "text/plain": [
       "             temp\n",
       "season           \n",
       "fall    41.196537\n",
       "spring  21.994135\n",
       "summer  33.587042\n",
       "winter  27.876584"
      ]
     },
     "execution_count": 166,
     "metadata": {},
     "output_type": "execute_result"
    }
   ],
   "source": [
    "# we can perform aggregation operations as well\n",
    "# for example we can calculate the average temperature by seasons\n",
    "\n",
    "# first we select the temp and season columns\n",
    "# then we are going to groupby the values by season\n",
    "# then we are going to reduce each group with the mean function\n",
    "df[[\"season\", \"temp\"]].groupby([\"season\"]).mean()"
   ]
  },
  {
   "cell_type": "code",
   "execution_count": 167,
   "id": "3940449a-3da9-4fdf-966e-da9c39d542a4",
   "metadata": {},
   "outputs": [
    {
     "data": {
      "text/html": [
       "<div>\n",
       "<style scoped>\n",
       "    .dataframe tbody tr th:only-of-type {\n",
       "        vertical-align: middle;\n",
       "    }\n",
       "\n",
       "    .dataframe tbody tr th {\n",
       "        vertical-align: top;\n",
       "    }\n",
       "\n",
       "    .dataframe thead th {\n",
       "        text-align: right;\n",
       "    }\n",
       "</style>\n",
       "<table border=\"1\" class=\"dataframe\">\n",
       "  <thead>\n",
       "    <tr style=\"text-align: right;\">\n",
       "      <th></th>\n",
       "      <th></th>\n",
       "      <th>temp</th>\n",
       "    </tr>\n",
       "    <tr>\n",
       "      <th>yr</th>\n",
       "      <th>season</th>\n",
       "      <th></th>\n",
       "    </tr>\n",
       "  </thead>\n",
       "  <tbody>\n",
       "    <tr>\n",
       "      <th rowspan=\"4\" valign=\"top\">2011</th>\n",
       "      <th>fall</th>\n",
       "      <td>40.955161</td>\n",
       "    </tr>\n",
       "    <tr>\n",
       "      <th>spring</th>\n",
       "      <td>20.855838</td>\n",
       "    </tr>\n",
       "    <tr>\n",
       "      <th>summer</th>\n",
       "      <td>33.109888</td>\n",
       "    </tr>\n",
       "    <tr>\n",
       "      <th>winter</th>\n",
       "      <td>28.042887</td>\n",
       "    </tr>\n",
       "    <tr>\n",
       "      <th rowspan=\"4\" valign=\"top\">2012</th>\n",
       "      <th>fall</th>\n",
       "      <td>41.437914</td>\n",
       "    </tr>\n",
       "    <tr>\n",
       "      <th>spring</th>\n",
       "      <td>23.119923</td>\n",
       "    </tr>\n",
       "    <tr>\n",
       "      <th>summer</th>\n",
       "      <td>34.064196</td>\n",
       "    </tr>\n",
       "    <tr>\n",
       "      <th>winter</th>\n",
       "      <td>27.710281</td>\n",
       "    </tr>\n",
       "  </tbody>\n",
       "</table>\n",
       "</div>"
      ],
      "text/plain": [
       "                  temp\n",
       "yr   season           \n",
       "2011 fall    40.955161\n",
       "     spring  20.855838\n",
       "     summer  33.109888\n",
       "     winter  28.042887\n",
       "2012 fall    41.437914\n",
       "     spring  23.119923\n",
       "     summer  34.064196\n",
       "     winter  27.710281"
      ]
     },
     "execution_count": 167,
     "metadata": {},
     "output_type": "execute_result"
    }
   ],
   "source": [
    "# we can groupby on multiple levels, so lets include the year too\n",
    "df[[\"yr\", \"season\", \"temp\"]].groupby([\"yr\", \"season\"]).mean()"
   ]
  },
  {
   "cell_type": "markdown",
   "id": "b5150a78-790c-4ce3-97a5-3da99d3a36ed",
   "metadata": {},
   "source": [
    "## Exercise"
   ]
  },
  {
   "cell_type": "code",
   "execution_count": 170,
   "id": "f0a6d480-1842-406f-b71c-135f98c0d263",
   "metadata": {},
   "outputs": [
    {
     "data": {
      "text/html": [
       "<div>\n",
       "<style scoped>\n",
       "    .dataframe tbody tr th:only-of-type {\n",
       "        vertical-align: middle;\n",
       "    }\n",
       "\n",
       "    .dataframe tbody tr th {\n",
       "        vertical-align: top;\n",
       "    }\n",
       "\n",
       "    .dataframe thead th {\n",
       "        text-align: right;\n",
       "    }\n",
       "</style>\n",
       "<table border=\"1\" class=\"dataframe\">\n",
       "  <thead>\n",
       "    <tr style=\"text-align: right;\">\n",
       "      <th></th>\n",
       "      <th>Name</th>\n",
       "      <th>Age</th>\n",
       "      <th>Grade</th>\n",
       "      <th>Major</th>\n",
       "    </tr>\n",
       "  </thead>\n",
       "  <tbody>\n",
       "    <tr>\n",
       "      <th>0</th>\n",
       "      <td>Jordan Cohen</td>\n",
       "      <td>22</td>\n",
       "      <td>21</td>\n",
       "      <td>Physics</td>\n",
       "    </tr>\n",
       "    <tr>\n",
       "      <th>1</th>\n",
       "      <td>Bryce Owens</td>\n",
       "      <td>25</td>\n",
       "      <td>36</td>\n",
       "      <td>CS</td>\n",
       "    </tr>\n",
       "    <tr>\n",
       "      <th>2</th>\n",
       "      <td>Lexi Spence</td>\n",
       "      <td>23</td>\n",
       "      <td>87</td>\n",
       "      <td>Math</td>\n",
       "    </tr>\n",
       "    <tr>\n",
       "      <th>3</th>\n",
       "      <td>Maximus Ramos</td>\n",
       "      <td>18</td>\n",
       "      <td>70</td>\n",
       "      <td>Math</td>\n",
       "    </tr>\n",
       "    <tr>\n",
       "      <th>4</th>\n",
       "      <td>Mckayla Gross</td>\n",
       "      <td>21</td>\n",
       "      <td>88</td>\n",
       "      <td>Math</td>\n",
       "    </tr>\n",
       "    <tr>\n",
       "      <th>5</th>\n",
       "      <td>Wesley Choi</td>\n",
       "      <td>21</td>\n",
       "      <td>88</td>\n",
       "      <td>Math</td>\n",
       "    </tr>\n",
       "    <tr>\n",
       "      <th>6</th>\n",
       "      <td>Talon Fischer</td>\n",
       "      <td>21</td>\n",
       "      <td>12</td>\n",
       "      <td>CS</td>\n",
       "    </tr>\n",
       "    <tr>\n",
       "      <th>7</th>\n",
       "      <td>Bronson Dunlap</td>\n",
       "      <td>25</td>\n",
       "      <td>58</td>\n",
       "      <td>Math</td>\n",
       "    </tr>\n",
       "    <tr>\n",
       "      <th>8</th>\n",
       "      <td>Dana Sullivan</td>\n",
       "      <td>19</td>\n",
       "      <td>65</td>\n",
       "      <td>CS</td>\n",
       "    </tr>\n",
       "    <tr>\n",
       "      <th>9</th>\n",
       "      <td>Isis Chase</td>\n",
       "      <td>21</td>\n",
       "      <td>39</td>\n",
       "      <td>CS</td>\n",
       "    </tr>\n",
       "  </tbody>\n",
       "</table>\n",
       "</div>"
      ],
      "text/plain": [
       "             Name  Age  Grade    Major\n",
       "0    Jordan Cohen   22     21  Physics\n",
       "1     Bryce Owens   25     36       CS\n",
       "2     Lexi Spence   23     87     Math\n",
       "3   Maximus Ramos   18     70     Math\n",
       "4   Mckayla Gross   21     88     Math\n",
       "5     Wesley Choi   21     88     Math\n",
       "6   Talon Fischer   21     12       CS\n",
       "7  Bronson Dunlap   25     58     Math\n",
       "8   Dana Sullivan   19     65       CS\n",
       "9      Isis Chase   21     39       CS"
      ]
     },
     "execution_count": 170,
     "metadata": {},
     "output_type": "execute_result"
    }
   ],
   "source": [
    "# Exercise 1: Create & Inspect\n",
    "# Create a DataFrame of 10 students with columns (you can use random data if you wish):\n",
    "# -> \"Name\" (string)\n",
    "# -> \"Age\" (18–25)\n",
    "# -> \"Grade\" (0–100)\n",
    "# -> \"Major\" (for example: \"CS\", \"Math\", \"Physics\")\n",
    "# Inspect: show first 5 rows, summary stats, and column names.\n",
    "np.random.seed(0)\n",
    "majors = [\"CS\", \"Math\", \"Physics\"]\n",
    "\n",
    "\n",
    "data = {\n",
    "    \"Name\": [\"Jordan Cohen\", \"Bryce Owens\", \"Lexi Spence\", \"Maximus Ramos\", \"Mckayla Gross\", \"Wesley Choi\", \"Talon Fischer\", \"Bronson Dunlap\", \"Dana Sullivan\", \"Isis Chase\"],\n",
    "    \"Age\": np.random.randint(low=18, high=26, size=10),\n",
    "    \"Grade\": np.random.randint(low=0, high=101, size=10),\n",
    "    \"Major\": np.random.choice(majors, size=10, replace=True)\n",
    "}\n",
    "df = pd.DataFrame(data=data)\n",
    "df"
   ]
  },
  {
   "cell_type": "code",
   "execution_count": 171,
   "id": "9246d481-1299-4925-86b5-ff5c739af50d",
   "metadata": {},
   "outputs": [
    {
     "data": {
      "text/html": [
       "<div>\n",
       "<style scoped>\n",
       "    .dataframe tbody tr th:only-of-type {\n",
       "        vertical-align: middle;\n",
       "    }\n",
       "\n",
       "    .dataframe tbody tr th {\n",
       "        vertical-align: top;\n",
       "    }\n",
       "\n",
       "    .dataframe thead th {\n",
       "        text-align: right;\n",
       "    }\n",
       "</style>\n",
       "<table border=\"1\" class=\"dataframe\">\n",
       "  <thead>\n",
       "    <tr style=\"text-align: right;\">\n",
       "      <th></th>\n",
       "      <th>Name</th>\n",
       "      <th>Age</th>\n",
       "      <th>Grade</th>\n",
       "      <th>Major</th>\n",
       "    </tr>\n",
       "  </thead>\n",
       "  <tbody>\n",
       "    <tr>\n",
       "      <th>0</th>\n",
       "      <td>Jordan Cohen</td>\n",
       "      <td>22</td>\n",
       "      <td>21</td>\n",
       "      <td>Physics</td>\n",
       "    </tr>\n",
       "    <tr>\n",
       "      <th>1</th>\n",
       "      <td>Bryce Owens</td>\n",
       "      <td>25</td>\n",
       "      <td>36</td>\n",
       "      <td>CS</td>\n",
       "    </tr>\n",
       "    <tr>\n",
       "      <th>2</th>\n",
       "      <td>Lexi Spence</td>\n",
       "      <td>23</td>\n",
       "      <td>87</td>\n",
       "      <td>Math</td>\n",
       "    </tr>\n",
       "    <tr>\n",
       "      <th>3</th>\n",
       "      <td>Maximus Ramos</td>\n",
       "      <td>18</td>\n",
       "      <td>70</td>\n",
       "      <td>Math</td>\n",
       "    </tr>\n",
       "    <tr>\n",
       "      <th>4</th>\n",
       "      <td>Mckayla Gross</td>\n",
       "      <td>21</td>\n",
       "      <td>88</td>\n",
       "      <td>Math</td>\n",
       "    </tr>\n",
       "  </tbody>\n",
       "</table>\n",
       "</div>"
      ],
      "text/plain": [
       "            Name  Age  Grade    Major\n",
       "0   Jordan Cohen   22     21  Physics\n",
       "1    Bryce Owens   25     36       CS\n",
       "2    Lexi Spence   23     87     Math\n",
       "3  Maximus Ramos   18     70     Math\n",
       "4  Mckayla Gross   21     88     Math"
      ]
     },
     "execution_count": 171,
     "metadata": {},
     "output_type": "execute_result"
    }
   ],
   "source": [
    "df.head(5)"
   ]
  },
  {
   "cell_type": "code",
   "execution_count": 173,
   "id": "cd1fda10-07dc-4729-8b05-aa40dedaba5c",
   "metadata": {},
   "outputs": [
    {
     "data": {
      "text/html": [
       "<div>\n",
       "<style scoped>\n",
       "    .dataframe tbody tr th:only-of-type {\n",
       "        vertical-align: middle;\n",
       "    }\n",
       "\n",
       "    .dataframe tbody tr th {\n",
       "        vertical-align: top;\n",
       "    }\n",
       "\n",
       "    .dataframe thead th {\n",
       "        text-align: right;\n",
       "    }\n",
       "</style>\n",
       "<table border=\"1\" class=\"dataframe\">\n",
       "  <thead>\n",
       "    <tr style=\"text-align: right;\">\n",
       "      <th></th>\n",
       "      <th>Age</th>\n",
       "      <th>Grade</th>\n",
       "    </tr>\n",
       "  </thead>\n",
       "  <tbody>\n",
       "    <tr>\n",
       "      <th>count</th>\n",
       "      <td>10.000000</td>\n",
       "      <td>10.000000</td>\n",
       "    </tr>\n",
       "    <tr>\n",
       "      <th>mean</th>\n",
       "      <td>21.600000</td>\n",
       "      <td>56.400000</td>\n",
       "    </tr>\n",
       "    <tr>\n",
       "      <th>std</th>\n",
       "      <td>2.270585</td>\n",
       "      <td>28.163018</td>\n",
       "    </tr>\n",
       "    <tr>\n",
       "      <th>min</th>\n",
       "      <td>18.000000</td>\n",
       "      <td>12.000000</td>\n",
       "    </tr>\n",
       "    <tr>\n",
       "      <th>25%</th>\n",
       "      <td>21.000000</td>\n",
       "      <td>36.750000</td>\n",
       "    </tr>\n",
       "    <tr>\n",
       "      <th>50%</th>\n",
       "      <td>21.000000</td>\n",
       "      <td>61.500000</td>\n",
       "    </tr>\n",
       "    <tr>\n",
       "      <th>75%</th>\n",
       "      <td>22.750000</td>\n",
       "      <td>82.750000</td>\n",
       "    </tr>\n",
       "    <tr>\n",
       "      <th>max</th>\n",
       "      <td>25.000000</td>\n",
       "      <td>88.000000</td>\n",
       "    </tr>\n",
       "  </tbody>\n",
       "</table>\n",
       "</div>"
      ],
      "text/plain": [
       "             Age      Grade\n",
       "count  10.000000  10.000000\n",
       "mean   21.600000  56.400000\n",
       "std     2.270585  28.163018\n",
       "min    18.000000  12.000000\n",
       "25%    21.000000  36.750000\n",
       "50%    21.000000  61.500000\n",
       "75%    22.750000  82.750000\n",
       "max    25.000000  88.000000"
      ]
     },
     "execution_count": 173,
     "metadata": {},
     "output_type": "execute_result"
    }
   ],
   "source": [
    "df.describe()"
   ]
  },
  {
   "cell_type": "code",
   "execution_count": 174,
   "id": "976001d8-4a3b-4a4e-a29b-bfaa344638e0",
   "metadata": {},
   "outputs": [
    {
     "data": {
      "text/plain": [
       "Index(['Name', 'Age', 'Grade', 'Major'], dtype='object')"
      ]
     },
     "execution_count": 174,
     "metadata": {},
     "output_type": "execute_result"
    }
   ],
   "source": [
    "df.columns"
   ]
  },
  {
   "cell_type": "code",
   "execution_count": 175,
   "id": "647732fc-b4a3-40ac-9713-6104eadf5ee3",
   "metadata": {},
   "outputs": [
    {
     "data": {
      "text/html": [
       "<div>\n",
       "<style scoped>\n",
       "    .dataframe tbody tr th:only-of-type {\n",
       "        vertical-align: middle;\n",
       "    }\n",
       "\n",
       "    .dataframe tbody tr th {\n",
       "        vertical-align: top;\n",
       "    }\n",
       "\n",
       "    .dataframe thead th {\n",
       "        text-align: right;\n",
       "    }\n",
       "</style>\n",
       "<table border=\"1\" class=\"dataframe\">\n",
       "  <thead>\n",
       "    <tr style=\"text-align: right;\">\n",
       "      <th></th>\n",
       "      <th>Name</th>\n",
       "      <th>Grade</th>\n",
       "    </tr>\n",
       "  </thead>\n",
       "  <tbody>\n",
       "    <tr>\n",
       "      <th>0</th>\n",
       "      <td>Jordan Cohen</td>\n",
       "      <td>21</td>\n",
       "    </tr>\n",
       "    <tr>\n",
       "      <th>1</th>\n",
       "      <td>Bryce Owens</td>\n",
       "      <td>36</td>\n",
       "    </tr>\n",
       "    <tr>\n",
       "      <th>2</th>\n",
       "      <td>Lexi Spence</td>\n",
       "      <td>87</td>\n",
       "    </tr>\n",
       "    <tr>\n",
       "      <th>3</th>\n",
       "      <td>Maximus Ramos</td>\n",
       "      <td>70</td>\n",
       "    </tr>\n",
       "    <tr>\n",
       "      <th>4</th>\n",
       "      <td>Mckayla Gross</td>\n",
       "      <td>88</td>\n",
       "    </tr>\n",
       "    <tr>\n",
       "      <th>5</th>\n",
       "      <td>Wesley Choi</td>\n",
       "      <td>88</td>\n",
       "    </tr>\n",
       "    <tr>\n",
       "      <th>6</th>\n",
       "      <td>Talon Fischer</td>\n",
       "      <td>12</td>\n",
       "    </tr>\n",
       "    <tr>\n",
       "      <th>7</th>\n",
       "      <td>Bronson Dunlap</td>\n",
       "      <td>58</td>\n",
       "    </tr>\n",
       "    <tr>\n",
       "      <th>8</th>\n",
       "      <td>Dana Sullivan</td>\n",
       "      <td>65</td>\n",
       "    </tr>\n",
       "    <tr>\n",
       "      <th>9</th>\n",
       "      <td>Isis Chase</td>\n",
       "      <td>39</td>\n",
       "    </tr>\n",
       "  </tbody>\n",
       "</table>\n",
       "</div>"
      ],
      "text/plain": [
       "             Name  Grade\n",
       "0    Jordan Cohen     21\n",
       "1     Bryce Owens     36\n",
       "2     Lexi Spence     87\n",
       "3   Maximus Ramos     70\n",
       "4   Mckayla Gross     88\n",
       "5     Wesley Choi     88\n",
       "6   Talon Fischer     12\n",
       "7  Bronson Dunlap     58\n",
       "8   Dana Sullivan     65\n",
       "9      Isis Chase     39"
      ]
     },
     "execution_count": 175,
     "metadata": {},
     "output_type": "execute_result"
    }
   ],
   "source": [
    "# Select the \"Name\" and \"Grade\" columns.\n",
    "df[[\"Name\", \"Grade\"]]"
   ]
  },
  {
   "cell_type": "code",
   "execution_count": 176,
   "id": "1cc9aaab-8f87-4a43-89ee-d05cb877635d",
   "metadata": {},
   "outputs": [
    {
     "data": {
      "text/html": [
       "<div>\n",
       "<style scoped>\n",
       "    .dataframe tbody tr th:only-of-type {\n",
       "        vertical-align: middle;\n",
       "    }\n",
       "\n",
       "    .dataframe tbody tr th {\n",
       "        vertical-align: top;\n",
       "    }\n",
       "\n",
       "    .dataframe thead th {\n",
       "        text-align: right;\n",
       "    }\n",
       "</style>\n",
       "<table border=\"1\" class=\"dataframe\">\n",
       "  <thead>\n",
       "    <tr style=\"text-align: right;\">\n",
       "      <th></th>\n",
       "      <th>Name</th>\n",
       "      <th>Age</th>\n",
       "      <th>Grade</th>\n",
       "      <th>Major</th>\n",
       "    </tr>\n",
       "  </thead>\n",
       "  <tbody>\n",
       "    <tr>\n",
       "      <th>0</th>\n",
       "      <td>Jordan Cohen</td>\n",
       "      <td>22</td>\n",
       "      <td>21</td>\n",
       "      <td>Physics</td>\n",
       "    </tr>\n",
       "    <tr>\n",
       "      <th>1</th>\n",
       "      <td>Bryce Owens</td>\n",
       "      <td>25</td>\n",
       "      <td>36</td>\n",
       "      <td>CS</td>\n",
       "    </tr>\n",
       "    <tr>\n",
       "      <th>2</th>\n",
       "      <td>Lexi Spence</td>\n",
       "      <td>23</td>\n",
       "      <td>87</td>\n",
       "      <td>Math</td>\n",
       "    </tr>\n",
       "    <tr>\n",
       "      <th>7</th>\n",
       "      <td>Bronson Dunlap</td>\n",
       "      <td>25</td>\n",
       "      <td>58</td>\n",
       "      <td>Math</td>\n",
       "    </tr>\n",
       "  </tbody>\n",
       "</table>\n",
       "</div>"
      ],
      "text/plain": [
       "             Name  Age  Grade    Major\n",
       "0    Jordan Cohen   22     21  Physics\n",
       "1     Bryce Owens   25     36       CS\n",
       "2     Lexi Spence   23     87     Math\n",
       "7  Bronson Dunlap   25     58     Math"
      ]
     },
     "execution_count": 176,
     "metadata": {},
     "output_type": "execute_result"
    }
   ],
   "source": [
    "# Select all students older than 21.\n",
    "df[df.Age > 21]"
   ]
  },
  {
   "cell_type": "code",
   "execution_count": 177,
   "id": "2cd12183-a724-4985-b104-1680bdee3c9c",
   "metadata": {},
   "outputs": [
    {
     "data": {
      "text/html": [
       "<div>\n",
       "<style scoped>\n",
       "    .dataframe tbody tr th:only-of-type {\n",
       "        vertical-align: middle;\n",
       "    }\n",
       "\n",
       "    .dataframe tbody tr th {\n",
       "        vertical-align: top;\n",
       "    }\n",
       "\n",
       "    .dataframe thead th {\n",
       "        text-align: right;\n",
       "    }\n",
       "</style>\n",
       "<table border=\"1\" class=\"dataframe\">\n",
       "  <thead>\n",
       "    <tr style=\"text-align: right;\">\n",
       "      <th></th>\n",
       "      <th>Name</th>\n",
       "      <th>Age</th>\n",
       "      <th>Grade</th>\n",
       "      <th>Major</th>\n",
       "    </tr>\n",
       "  </thead>\n",
       "  <tbody>\n",
       "    <tr>\n",
       "      <th>2</th>\n",
       "      <td>Lexi Spence</td>\n",
       "      <td>23</td>\n",
       "      <td>87</td>\n",
       "      <td>Math</td>\n",
       "    </tr>\n",
       "    <tr>\n",
       "      <th>4</th>\n",
       "      <td>Mckayla Gross</td>\n",
       "      <td>21</td>\n",
       "      <td>88</td>\n",
       "      <td>Math</td>\n",
       "    </tr>\n",
       "    <tr>\n",
       "      <th>5</th>\n",
       "      <td>Wesley Choi</td>\n",
       "      <td>21</td>\n",
       "      <td>88</td>\n",
       "      <td>Math</td>\n",
       "    </tr>\n",
       "  </tbody>\n",
       "</table>\n",
       "</div>"
      ],
      "text/plain": [
       "            Name  Age  Grade Major\n",
       "2    Lexi Spence   23     87  Math\n",
       "4  Mckayla Gross   21     88  Math\n",
       "5    Wesley Choi   21     88  Math"
      ]
     },
     "execution_count": 177,
     "metadata": {},
     "output_type": "execute_result"
    }
   ],
   "source": [
    "# Select all \"Math\" majors with grade > 70.\n",
    "df[(df.Major == \"Math\") & (df.Grade > 70)]"
   ]
  },
  {
   "cell_type": "code",
   "execution_count": 181,
   "id": "86df155f-7b90-49d1-80fd-110631d1cdda",
   "metadata": {},
   "outputs": [
    {
     "data": {
      "text/html": [
       "<div>\n",
       "<style scoped>\n",
       "    .dataframe tbody tr th:only-of-type {\n",
       "        vertical-align: middle;\n",
       "    }\n",
       "\n",
       "    .dataframe tbody tr th {\n",
       "        vertical-align: top;\n",
       "    }\n",
       "\n",
       "    .dataframe thead th {\n",
       "        text-align: right;\n",
       "    }\n",
       "</style>\n",
       "<table border=\"1\" class=\"dataframe\">\n",
       "  <thead>\n",
       "    <tr style=\"text-align: right;\">\n",
       "      <th></th>\n",
       "      <th>Name</th>\n",
       "      <th>Age</th>\n",
       "      <th>Grade</th>\n",
       "      <th>Major</th>\n",
       "      <th>Pass</th>\n",
       "    </tr>\n",
       "  </thead>\n",
       "  <tbody>\n",
       "    <tr>\n",
       "      <th>0</th>\n",
       "      <td>Jordan Cohen</td>\n",
       "      <td>22</td>\n",
       "      <td>21</td>\n",
       "      <td>Physics</td>\n",
       "      <td>No</td>\n",
       "    </tr>\n",
       "    <tr>\n",
       "      <th>1</th>\n",
       "      <td>Bryce Owens</td>\n",
       "      <td>25</td>\n",
       "      <td>36</td>\n",
       "      <td>CS</td>\n",
       "      <td>No</td>\n",
       "    </tr>\n",
       "    <tr>\n",
       "      <th>2</th>\n",
       "      <td>Lexi Spence</td>\n",
       "      <td>23</td>\n",
       "      <td>87</td>\n",
       "      <td>Math</td>\n",
       "      <td>Yes</td>\n",
       "    </tr>\n",
       "    <tr>\n",
       "      <th>3</th>\n",
       "      <td>Maximus Ramos</td>\n",
       "      <td>18</td>\n",
       "      <td>70</td>\n",
       "      <td>Math</td>\n",
       "      <td>Yes</td>\n",
       "    </tr>\n",
       "    <tr>\n",
       "      <th>4</th>\n",
       "      <td>Mckayla Gross</td>\n",
       "      <td>21</td>\n",
       "      <td>88</td>\n",
       "      <td>Math</td>\n",
       "      <td>Yes</td>\n",
       "    </tr>\n",
       "    <tr>\n",
       "      <th>5</th>\n",
       "      <td>Wesley Choi</td>\n",
       "      <td>21</td>\n",
       "      <td>88</td>\n",
       "      <td>Math</td>\n",
       "      <td>Yes</td>\n",
       "    </tr>\n",
       "    <tr>\n",
       "      <th>6</th>\n",
       "      <td>Talon Fischer</td>\n",
       "      <td>21</td>\n",
       "      <td>12</td>\n",
       "      <td>CS</td>\n",
       "      <td>No</td>\n",
       "    </tr>\n",
       "    <tr>\n",
       "      <th>7</th>\n",
       "      <td>Bronson Dunlap</td>\n",
       "      <td>25</td>\n",
       "      <td>58</td>\n",
       "      <td>Math</td>\n",
       "      <td>Yes</td>\n",
       "    </tr>\n",
       "    <tr>\n",
       "      <th>8</th>\n",
       "      <td>Dana Sullivan</td>\n",
       "      <td>19</td>\n",
       "      <td>65</td>\n",
       "      <td>CS</td>\n",
       "      <td>Yes</td>\n",
       "    </tr>\n",
       "    <tr>\n",
       "      <th>9</th>\n",
       "      <td>Isis Chase</td>\n",
       "      <td>21</td>\n",
       "      <td>39</td>\n",
       "      <td>CS</td>\n",
       "      <td>No</td>\n",
       "    </tr>\n",
       "  </tbody>\n",
       "</table>\n",
       "</div>"
      ],
      "text/plain": [
       "             Name  Age  Grade    Major Pass\n",
       "0    Jordan Cohen   22     21  Physics   No\n",
       "1     Bryce Owens   25     36       CS   No\n",
       "2     Lexi Spence   23     87     Math  Yes\n",
       "3   Maximus Ramos   18     70     Math  Yes\n",
       "4   Mckayla Gross   21     88     Math  Yes\n",
       "5     Wesley Choi   21     88     Math  Yes\n",
       "6   Talon Fischer   21     12       CS   No\n",
       "7  Bronson Dunlap   25     58     Math  Yes\n",
       "8   Dana Sullivan   19     65       CS  Yes\n",
       "9      Isis Chase   21     39       CS   No"
      ]
     },
     "execution_count": 181,
     "metadata": {},
     "output_type": "execute_result"
    }
   ],
   "source": [
    "# Add a column \"Pass\" where grade ≥ 50 → \"Yes\", else \"No\".\n",
    "def passed(row):\n",
    "    row[\"Pass\"] = \"Yes\" if row[\"Grade\"] >= 50 else \"No\"\n",
    "    return row\n",
    "\n",
    "df = df.apply(passed, axis=1)\n",
    "df"
   ]
  },
  {
   "cell_type": "code",
   "execution_count": 182,
   "id": "9ff40e4c-7360-4fbb-9ebc-905096621542",
   "metadata": {},
   "outputs": [
    {
     "data": {
      "text/html": [
       "<div>\n",
       "<style scoped>\n",
       "    .dataframe tbody tr th:only-of-type {\n",
       "        vertical-align: middle;\n",
       "    }\n",
       "\n",
       "    .dataframe tbody tr th {\n",
       "        vertical-align: top;\n",
       "    }\n",
       "\n",
       "    .dataframe thead th {\n",
       "        text-align: right;\n",
       "    }\n",
       "</style>\n",
       "<table border=\"1\" class=\"dataframe\">\n",
       "  <thead>\n",
       "    <tr style=\"text-align: right;\">\n",
       "      <th></th>\n",
       "      <th>Name</th>\n",
       "      <th>Age</th>\n",
       "      <th>Grade</th>\n",
       "      <th>Major</th>\n",
       "      <th>Pass</th>\n",
       "      <th>AgeGroup</th>\n",
       "    </tr>\n",
       "  </thead>\n",
       "  <tbody>\n",
       "    <tr>\n",
       "      <th>0</th>\n",
       "      <td>Jordan Cohen</td>\n",
       "      <td>22</td>\n",
       "      <td>21</td>\n",
       "      <td>Physics</td>\n",
       "      <td>No</td>\n",
       "      <td>Adult</td>\n",
       "    </tr>\n",
       "    <tr>\n",
       "      <th>1</th>\n",
       "      <td>Bryce Owens</td>\n",
       "      <td>25</td>\n",
       "      <td>36</td>\n",
       "      <td>CS</td>\n",
       "      <td>No</td>\n",
       "      <td>Adult</td>\n",
       "    </tr>\n",
       "    <tr>\n",
       "      <th>2</th>\n",
       "      <td>Lexi Spence</td>\n",
       "      <td>23</td>\n",
       "      <td>87</td>\n",
       "      <td>Math</td>\n",
       "      <td>Yes</td>\n",
       "      <td>Adult</td>\n",
       "    </tr>\n",
       "    <tr>\n",
       "      <th>3</th>\n",
       "      <td>Maximus Ramos</td>\n",
       "      <td>18</td>\n",
       "      <td>70</td>\n",
       "      <td>Math</td>\n",
       "      <td>Yes</td>\n",
       "      <td>Teen</td>\n",
       "    </tr>\n",
       "    <tr>\n",
       "      <th>4</th>\n",
       "      <td>Mckayla Gross</td>\n",
       "      <td>21</td>\n",
       "      <td>88</td>\n",
       "      <td>Math</td>\n",
       "      <td>Yes</td>\n",
       "      <td>Adult</td>\n",
       "    </tr>\n",
       "    <tr>\n",
       "      <th>5</th>\n",
       "      <td>Wesley Choi</td>\n",
       "      <td>21</td>\n",
       "      <td>88</td>\n",
       "      <td>Math</td>\n",
       "      <td>Yes</td>\n",
       "      <td>Adult</td>\n",
       "    </tr>\n",
       "    <tr>\n",
       "      <th>6</th>\n",
       "      <td>Talon Fischer</td>\n",
       "      <td>21</td>\n",
       "      <td>12</td>\n",
       "      <td>CS</td>\n",
       "      <td>No</td>\n",
       "      <td>Adult</td>\n",
       "    </tr>\n",
       "    <tr>\n",
       "      <th>7</th>\n",
       "      <td>Bronson Dunlap</td>\n",
       "      <td>25</td>\n",
       "      <td>58</td>\n",
       "      <td>Math</td>\n",
       "      <td>Yes</td>\n",
       "      <td>Adult</td>\n",
       "    </tr>\n",
       "    <tr>\n",
       "      <th>8</th>\n",
       "      <td>Dana Sullivan</td>\n",
       "      <td>19</td>\n",
       "      <td>65</td>\n",
       "      <td>CS</td>\n",
       "      <td>Yes</td>\n",
       "      <td>Teen</td>\n",
       "    </tr>\n",
       "    <tr>\n",
       "      <th>9</th>\n",
       "      <td>Isis Chase</td>\n",
       "      <td>21</td>\n",
       "      <td>39</td>\n",
       "      <td>CS</td>\n",
       "      <td>No</td>\n",
       "      <td>Adult</td>\n",
       "    </tr>\n",
       "  </tbody>\n",
       "</table>\n",
       "</div>"
      ],
      "text/plain": [
       "             Name  Age  Grade    Major Pass AgeGroup\n",
       "0    Jordan Cohen   22     21  Physics   No    Adult\n",
       "1     Bryce Owens   25     36       CS   No    Adult\n",
       "2     Lexi Spence   23     87     Math  Yes    Adult\n",
       "3   Maximus Ramos   18     70     Math  Yes     Teen\n",
       "4   Mckayla Gross   21     88     Math  Yes    Adult\n",
       "5     Wesley Choi   21     88     Math  Yes    Adult\n",
       "6   Talon Fischer   21     12       CS   No    Adult\n",
       "7  Bronson Dunlap   25     58     Math  Yes    Adult\n",
       "8   Dana Sullivan   19     65       CS  Yes     Teen\n",
       "9      Isis Chase   21     39       CS   No    Adult"
      ]
     },
     "execution_count": 182,
     "metadata": {},
     "output_type": "execute_result"
    }
   ],
   "source": [
    "# Add a column \"AgeGroup\": \"Teen\" if <20, \"Adult\" otherwise.\n",
    "def age_group(row):\n",
    "    row[\"AgeGroup\"] = \"Teen\" if row[\"Age\"] < 20 else \"Adult\"\n",
    "    return row\n",
    "\n",
    "df = df.apply(age_group, axis=1)\n",
    "df"
   ]
  },
  {
   "cell_type": "code",
   "execution_count": 183,
   "id": "33a06ba9-32fb-44c2-b790-4f8138139c38",
   "metadata": {},
   "outputs": [
    {
     "data": {
      "text/html": [
       "<div>\n",
       "<style scoped>\n",
       "    .dataframe tbody tr th:only-of-type {\n",
       "        vertical-align: middle;\n",
       "    }\n",
       "\n",
       "    .dataframe tbody tr th {\n",
       "        vertical-align: top;\n",
       "    }\n",
       "\n",
       "    .dataframe thead th {\n",
       "        text-align: right;\n",
       "    }\n",
       "</style>\n",
       "<table border=\"1\" class=\"dataframe\">\n",
       "  <thead>\n",
       "    <tr style=\"text-align: right;\">\n",
       "      <th></th>\n",
       "      <th>Grade</th>\n",
       "    </tr>\n",
       "    <tr>\n",
       "      <th>Major</th>\n",
       "      <th></th>\n",
       "    </tr>\n",
       "  </thead>\n",
       "  <tbody>\n",
       "    <tr>\n",
       "      <th>CS</th>\n",
       "      <td>38.0</td>\n",
       "    </tr>\n",
       "    <tr>\n",
       "      <th>Math</th>\n",
       "      <td>78.2</td>\n",
       "    </tr>\n",
       "    <tr>\n",
       "      <th>Physics</th>\n",
       "      <td>21.0</td>\n",
       "    </tr>\n",
       "  </tbody>\n",
       "</table>\n",
       "</div>"
      ],
      "text/plain": [
       "         Grade\n",
       "Major         \n",
       "CS        38.0\n",
       "Math      78.2\n",
       "Physics   21.0"
      ]
     },
     "execution_count": 183,
     "metadata": {},
     "output_type": "execute_result"
    }
   ],
   "source": [
    "# Group by \"Major\" and compute the average grade per major.\n",
    "df[[\"Grade\", \"Major\"]].groupby([\"Major\"]).mean()"
   ]
  },
  {
   "cell_type": "code",
   "execution_count": 184,
   "id": "fe9b2448-0912-46dd-a50a-dacdac657894",
   "metadata": {},
   "outputs": [
    {
     "data": {
      "text/html": [
       "<div>\n",
       "<style scoped>\n",
       "    .dataframe tbody tr th:only-of-type {\n",
       "        vertical-align: middle;\n",
       "    }\n",
       "\n",
       "    .dataframe tbody tr th {\n",
       "        vertical-align: top;\n",
       "    }\n",
       "\n",
       "    .dataframe thead th {\n",
       "        text-align: right;\n",
       "    }\n",
       "</style>\n",
       "<table border=\"1\" class=\"dataframe\">\n",
       "  <thead>\n",
       "    <tr style=\"text-align: right;\">\n",
       "      <th></th>\n",
       "      <th>Grade</th>\n",
       "    </tr>\n",
       "    <tr>\n",
       "      <th>Major</th>\n",
       "      <th></th>\n",
       "    </tr>\n",
       "  </thead>\n",
       "  <tbody>\n",
       "    <tr>\n",
       "      <th>CS</th>\n",
       "      <td>1</td>\n",
       "    </tr>\n",
       "    <tr>\n",
       "      <th>Math</th>\n",
       "      <td>5</td>\n",
       "    </tr>\n",
       "  </tbody>\n",
       "</table>\n",
       "</div>"
      ],
      "text/plain": [
       "       Grade\n",
       "Major       \n",
       "CS         1\n",
       "Math       5"
      ]
     },
     "execution_count": 184,
     "metadata": {},
     "output_type": "execute_result"
    }
   ],
   "source": [
    "# Count how many students passed in each major.\n",
    "df[df[\"Pass\"] == \"Yes\"][[\"Grade\", \"Major\"]].groupby([\"Major\"]).count()\n"
   ]
  },
  {
   "cell_type": "code",
   "execution_count": 188,
   "id": "a088f158-865b-4b65-8353-d9a1778a4e49",
   "metadata": {},
   "outputs": [
    {
     "data": {
      "text/html": [
       "<div>\n",
       "<style scoped>\n",
       "    .dataframe tbody tr th:only-of-type {\n",
       "        vertical-align: middle;\n",
       "    }\n",
       "\n",
       "    .dataframe tbody tr th {\n",
       "        vertical-align: top;\n",
       "    }\n",
       "\n",
       "    .dataframe thead th {\n",
       "        text-align: right;\n",
       "    }\n",
       "</style>\n",
       "<table border=\"1\" class=\"dataframe\">\n",
       "  <thead>\n",
       "    <tr style=\"text-align: right;\">\n",
       "      <th></th>\n",
       "      <th>Name</th>\n",
       "      <th>Age</th>\n",
       "      <th>Grade</th>\n",
       "      <th>Major</th>\n",
       "      <th>Pass</th>\n",
       "      <th>AgeGroup</th>\n",
       "    </tr>\n",
       "  </thead>\n",
       "  <tbody>\n",
       "    <tr>\n",
       "      <th>4</th>\n",
       "      <td>Mckayla Gross</td>\n",
       "      <td>21</td>\n",
       "      <td>88</td>\n",
       "      <td>Math</td>\n",
       "      <td>Yes</td>\n",
       "      <td>Adult</td>\n",
       "    </tr>\n",
       "    <tr>\n",
       "      <th>5</th>\n",
       "      <td>Wesley Choi</td>\n",
       "      <td>21</td>\n",
       "      <td>88</td>\n",
       "      <td>Math</td>\n",
       "      <td>Yes</td>\n",
       "      <td>Adult</td>\n",
       "    </tr>\n",
       "    <tr>\n",
       "      <th>2</th>\n",
       "      <td>Lexi Spence</td>\n",
       "      <td>23</td>\n",
       "      <td>87</td>\n",
       "      <td>Math</td>\n",
       "      <td>Yes</td>\n",
       "      <td>Adult</td>\n",
       "    </tr>\n",
       "  </tbody>\n",
       "</table>\n",
       "</div>"
      ],
      "text/plain": [
       "            Name  Age  Grade Major Pass AgeGroup\n",
       "4  Mckayla Gross   21     88  Math  Yes    Adult\n",
       "5    Wesley Choi   21     88  Math  Yes    Adult\n",
       "2    Lexi Spence   23     87  Math  Yes    Adult"
      ]
     },
     "execution_count": 188,
     "metadata": {},
     "output_type": "execute_result"
    }
   ],
   "source": [
    "# Sort the DataFrame by grade (descending). Hint: .sort_values, .nlargest, .nsmallest\n",
    "# Get the top 3 students overall.\n",
    "df.sort_values(\"Grade\", ascending=False).iloc[:3]"
   ]
  }
 ],
 "metadata": {
  "kernelspec": {
   "display_name": "Python 3 (ipykernel)",
   "language": "python",
   "name": "python3"
  },
  "language_info": {
   "codemirror_mode": {
    "name": "ipython",
    "version": 3
   },
   "file_extension": ".py",
   "mimetype": "text/x-python",
   "name": "python",
   "nbconvert_exporter": "python",
   "pygments_lexer": "ipython3",
   "version": "3.10.11"
  }
 },
 "nbformat": 4,
 "nbformat_minor": 5
}
